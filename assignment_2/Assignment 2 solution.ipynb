{
 "cells": [
  {
   "cell_type": "code",
   "execution_count": 3,
   "metadata": {
    "collapsed": false
   },
   "outputs": [],
   "source": [
    "import numpy as np\n",
    "import random as r\n",
    "from mpl_toolkits.mplot3d import Axes3D\n",
    "import matplotlib.pyplot as plt\n",
    "%matplotlib notebook\n",
    "# %matplotlib\n",
    "r.seed(0)\n",
    "from sklearn.preprocessing import PolynomialFeatures, StandardScaler, MinMaxScaler\n",
    "from ipywidgets import interact, interactive, fixed\n",
    "import ipywidgets as widgets\n",
    "from sklearn.linear_model import LinearRegression\n",
    "from sklearn.metrics import mean_squared_error\n",
    "from sklearn.datasets import load_boston\n",
    "from sklearn.model_selection import train_test_split, ShuffleSplit\n",
    "import pandas as pd\n",
    "import seaborn as sns"
   ]
  },
  {
   "cell_type": "code",
   "execution_count": 4,
   "metadata": {
    "collapsed": false
   },
   "outputs": [
    {
     "name": "stdout",
     "output_type": "stream",
     "text": [
      "dict_keys(['DESCR', 'data', 'feature_names', 'target'])\n",
      "Boston House Prices dataset\n",
      "===========================\n",
      "\n",
      "Notes\n",
      "------\n",
      "Data Set Characteristics:  \n",
      "\n",
      "    :Number of Instances: 506 \n",
      "\n",
      "    :Number of Attributes: 13 numeric/categorical predictive\n",
      "    \n",
      "    :Median Value (attribute 14) is usually the target\n",
      "\n",
      "    :Attribute Information (in order):\n",
      "        - CRIM     per capita crime rate by town\n",
      "        - ZN       proportion of residential land zoned for lots over 25,000 sq.ft.\n",
      "        - INDUS    proportion of non-retail business acres per town\n",
      "        - CHAS     Charles River dummy variable (= 1 if tract bounds river; 0 otherwise)\n",
      "        - NOX      nitric oxides concentration (parts per 10 million)\n",
      "        - RM       average number of rooms per dwelling\n",
      "        - AGE      proportion of owner-occupied units built prior to 1940\n",
      "        - DIS      weighted distances to five Boston employment centres\n",
      "        - RAD      index of accessibility to radial highways\n",
      "        - TAX      full-value property-tax rate per $10,000\n",
      "        - PTRATIO  pupil-teacher ratio by town\n",
      "        - B        1000(Bk - 0.63)^2 where Bk is the proportion of blacks by town\n",
      "        - LSTAT    % lower status of the population\n",
      "        - MEDV     Median value of owner-occupied homes in $1000's\n",
      "\n",
      "    :Missing Attribute Values: None\n",
      "\n",
      "    :Creator: Harrison, D. and Rubinfeld, D.L.\n",
      "\n",
      "This is a copy of UCI ML housing dataset.\n",
      "http://archive.ics.uci.edu/ml/datasets/Housing\n",
      "\n",
      "\n",
      "This dataset was taken from the StatLib library which is maintained at Carnegie Mellon University.\n",
      "\n",
      "The Boston house-price data of Harrison, D. and Rubinfeld, D.L. 'Hedonic\n",
      "prices and the demand for clean air', J. Environ. Economics & Management,\n",
      "vol.5, 81-102, 1978.   Used in Belsley, Kuh & Welsch, 'Regression diagnostics\n",
      "...', Wiley, 1980.   N.B. Various transformations are used in the table on\n",
      "pages 244-261 of the latter.\n",
      "\n",
      "The Boston house-price data has been used in many machine learning papers that address regression\n",
      "problems.   \n",
      "     \n",
      "**References**\n",
      "\n",
      "   - Belsley, Kuh & Welsch, 'Regression diagnostics: Identifying Influential Data and Sources of Collinearity', Wiley, 1980. 244-261.\n",
      "   - Quinlan,R. (1993). Combining Instance-Based and Model-Based Learning. In Proceedings on the Tenth International Conference of Machine Learning, 236-243, University of Massachusetts, Amherst. Morgan Kaufmann.\n",
      "   - many more! (see http://archive.ics.uci.edu/ml/datasets/Housing)\n",
      "\n"
     ]
    }
   ],
   "source": [
    "boston_data = load_boston()\n",
    "print(boston_data.keys())\n",
    "print(boston_data['DESCR'])"
   ]
  },
  {
   "cell_type": "markdown",
   "metadata": {},
   "source": [
    "# 1. Load the data into pandas DataFrame"
   ]
  },
  {
   "cell_type": "code",
   "execution_count": 5,
   "metadata": {
    "collapsed": false
   },
   "outputs": [],
   "source": [
    "data_with_target = np.hstack((boston_data['data'], boston_data['target'].reshape(-1, 1)))\n",
    "feature_names_with_target = np.append(boston_data['feature_names'], 'MEDV')\n",
    "df_with_target = pd.DataFrame(data_with_target, columns=feature_names_with_target)\n",
    "df = df_with_target.drop('MEDV', axis=1)"
   ]
  },
  {
   "cell_type": "code",
   "execution_count": 6,
   "metadata": {
    "collapsed": false
   },
   "outputs": [
    {
     "name": "stdout",
     "output_type": "stream",
     "text": [
      "             CRIM          ZN       INDUS        CHAS         NOX          RM  \\\n",
      "count  506.000000  506.000000  506.000000  506.000000  506.000000  506.000000   \n",
      "mean     3.593761   11.363636   11.136779    0.069170    0.554695    6.284634   \n",
      "std      8.596783   23.322453    6.860353    0.253994    0.115878    0.702617   \n",
      "min      0.006320    0.000000    0.460000    0.000000    0.385000    3.561000   \n",
      "25%      0.082045    0.000000    5.190000    0.000000    0.449000    5.885500   \n",
      "50%      0.256510    0.000000    9.690000    0.000000    0.538000    6.208500   \n",
      "75%      3.647423   12.500000   18.100000    0.000000    0.624000    6.623500   \n",
      "max     88.976200  100.000000   27.740000    1.000000    0.871000    8.780000   \n",
      "\n",
      "              AGE         DIS         RAD         TAX     PTRATIO           B  \\\n",
      "count  506.000000  506.000000  506.000000  506.000000  506.000000  506.000000   \n",
      "mean    68.574901    3.795043    9.549407  408.237154   18.455534  356.674032   \n",
      "std     28.148861    2.105710    8.707259  168.537116    2.164946   91.294864   \n",
      "min      2.900000    1.129600    1.000000  187.000000   12.600000    0.320000   \n",
      "25%     45.025000    2.100175    4.000000  279.000000   17.400000  375.377500   \n",
      "50%     77.500000    3.207450    5.000000  330.000000   19.050000  391.440000   \n",
      "75%     94.075000    5.188425   24.000000  666.000000   20.200000  396.225000   \n",
      "max    100.000000   12.126500   24.000000  711.000000   22.000000  396.900000   \n",
      "\n",
      "            LSTAT  \n",
      "count  506.000000  \n",
      "mean    12.653063  \n",
      "std      7.141062  \n",
      "min      1.730000  \n",
      "25%      6.950000  \n",
      "50%     11.360000  \n",
      "75%     16.955000  \n",
      "max     37.970000  \n"
     ]
    }
   ],
   "source": [
    "df_descr = df.describe()\n",
    "print(df_descr)"
   ]
  },
  {
   "cell_type": "markdown",
   "metadata": {},
   "source": [
    "# 2, 3. Dataset has 13 features, 506 examples"
   ]
  },
  {
   "cell_type": "markdown",
   "metadata": {},
   "source": [
    "# 4. Plot each feature against ‘Median Value’ (housing price)"
   ]
  },
  {
   "cell_type": "code",
   "execution_count": 7,
   "metadata": {
    "collapsed": false,
    "scrolled": true
   },
   "outputs": [
    {
     "data": {
      "application/javascript": [
       "/* Put everything inside the global mpl namespace */\n",
       "window.mpl = {};\n",
       "\n",
       "mpl.get_websocket_type = function() {\n",
       "    if (typeof(WebSocket) !== 'undefined') {\n",
       "        return WebSocket;\n",
       "    } else if (typeof(MozWebSocket) !== 'undefined') {\n",
       "        return MozWebSocket;\n",
       "    } else {\n",
       "        alert('Your browser does not have WebSocket support.' +\n",
       "              'Please try Chrome, Safari or Firefox ≥ 6. ' +\n",
       "              'Firefox 4 and 5 are also supported but you ' +\n",
       "              'have to enable WebSockets in about:config.');\n",
       "    };\n",
       "}\n",
       "\n",
       "mpl.figure = function(figure_id, websocket, ondownload, parent_element) {\n",
       "    this.id = figure_id;\n",
       "\n",
       "    this.ws = websocket;\n",
       "\n",
       "    this.supports_binary = (this.ws.binaryType != undefined);\n",
       "\n",
       "    if (!this.supports_binary) {\n",
       "        var warnings = document.getElementById(\"mpl-warnings\");\n",
       "        if (warnings) {\n",
       "            warnings.style.display = 'block';\n",
       "            warnings.textContent = (\n",
       "                \"This browser does not support binary websocket messages. \" +\n",
       "                    \"Performance may be slow.\");\n",
       "        }\n",
       "    }\n",
       "\n",
       "    this.imageObj = new Image();\n",
       "\n",
       "    this.context = undefined;\n",
       "    this.message = undefined;\n",
       "    this.canvas = undefined;\n",
       "    this.rubberband_canvas = undefined;\n",
       "    this.rubberband_context = undefined;\n",
       "    this.format_dropdown = undefined;\n",
       "\n",
       "    this.image_mode = 'full';\n",
       "\n",
       "    this.root = $('<div/>');\n",
       "    this._root_extra_style(this.root)\n",
       "    this.root.attr('style', 'display: inline-block');\n",
       "\n",
       "    $(parent_element).append(this.root);\n",
       "\n",
       "    this._init_header(this);\n",
       "    this._init_canvas(this);\n",
       "    this._init_toolbar(this);\n",
       "\n",
       "    var fig = this;\n",
       "\n",
       "    this.waiting = false;\n",
       "\n",
       "    this.ws.onopen =  function () {\n",
       "            fig.send_message(\"supports_binary\", {value: fig.supports_binary});\n",
       "            fig.send_message(\"send_image_mode\", {});\n",
       "            fig.send_message(\"refresh\", {});\n",
       "        }\n",
       "\n",
       "    this.imageObj.onload = function() {\n",
       "            if (fig.image_mode == 'full') {\n",
       "                // Full images could contain transparency (where diff images\n",
       "                // almost always do), so we need to clear the canvas so that\n",
       "                // there is no ghosting.\n",
       "                fig.context.clearRect(0, 0, fig.canvas.width, fig.canvas.height);\n",
       "            }\n",
       "            fig.context.drawImage(fig.imageObj, 0, 0);\n",
       "        };\n",
       "\n",
       "    this.imageObj.onunload = function() {\n",
       "        this.ws.close();\n",
       "    }\n",
       "\n",
       "    this.ws.onmessage = this._make_on_message_function(this);\n",
       "\n",
       "    this.ondownload = ondownload;\n",
       "}\n",
       "\n",
       "mpl.figure.prototype._init_header = function() {\n",
       "    var titlebar = $(\n",
       "        '<div class=\"ui-dialog-titlebar ui-widget-header ui-corner-all ' +\n",
       "        'ui-helper-clearfix\"/>');\n",
       "    var titletext = $(\n",
       "        '<div class=\"ui-dialog-title\" style=\"width: 100%; ' +\n",
       "        'text-align: center; padding: 3px;\"/>');\n",
       "    titlebar.append(titletext)\n",
       "    this.root.append(titlebar);\n",
       "    this.header = titletext[0];\n",
       "}\n",
       "\n",
       "\n",
       "\n",
       "mpl.figure.prototype._canvas_extra_style = function(canvas_div) {\n",
       "\n",
       "}\n",
       "\n",
       "\n",
       "mpl.figure.prototype._root_extra_style = function(canvas_div) {\n",
       "\n",
       "}\n",
       "\n",
       "mpl.figure.prototype._init_canvas = function() {\n",
       "    var fig = this;\n",
       "\n",
       "    var canvas_div = $('<div/>');\n",
       "\n",
       "    canvas_div.attr('style', 'position: relative; clear: both; outline: 0');\n",
       "\n",
       "    function canvas_keyboard_event(event) {\n",
       "        return fig.key_event(event, event['data']);\n",
       "    }\n",
       "\n",
       "    canvas_div.keydown('key_press', canvas_keyboard_event);\n",
       "    canvas_div.keyup('key_release', canvas_keyboard_event);\n",
       "    this.canvas_div = canvas_div\n",
       "    this._canvas_extra_style(canvas_div)\n",
       "    this.root.append(canvas_div);\n",
       "\n",
       "    var canvas = $('<canvas/>');\n",
       "    canvas.addClass('mpl-canvas');\n",
       "    canvas.attr('style', \"left: 0; top: 0; z-index: 0; outline: 0\")\n",
       "\n",
       "    this.canvas = canvas[0];\n",
       "    this.context = canvas[0].getContext(\"2d\");\n",
       "\n",
       "    var rubberband = $('<canvas/>');\n",
       "    rubberband.attr('style', \"position: absolute; left: 0; top: 0; z-index: 1;\")\n",
       "\n",
       "    var pass_mouse_events = true;\n",
       "\n",
       "    canvas_div.resizable({\n",
       "        start: function(event, ui) {\n",
       "            pass_mouse_events = false;\n",
       "        },\n",
       "        resize: function(event, ui) {\n",
       "            fig.request_resize(ui.size.width, ui.size.height);\n",
       "        },\n",
       "        stop: function(event, ui) {\n",
       "            pass_mouse_events = true;\n",
       "            fig.request_resize(ui.size.width, ui.size.height);\n",
       "        },\n",
       "    });\n",
       "\n",
       "    function mouse_event_fn(event) {\n",
       "        if (pass_mouse_events)\n",
       "            return fig.mouse_event(event, event['data']);\n",
       "    }\n",
       "\n",
       "    rubberband.mousedown('button_press', mouse_event_fn);\n",
       "    rubberband.mouseup('button_release', mouse_event_fn);\n",
       "    // Throttle sequential mouse events to 1 every 20ms.\n",
       "    rubberband.mousemove('motion_notify', mouse_event_fn);\n",
       "\n",
       "    rubberband.mouseenter('figure_enter', mouse_event_fn);\n",
       "    rubberband.mouseleave('figure_leave', mouse_event_fn);\n",
       "\n",
       "    canvas_div.on(\"wheel\", function (event) {\n",
       "        event = event.originalEvent;\n",
       "        event['data'] = 'scroll'\n",
       "        if (event.deltaY < 0) {\n",
       "            event.step = 1;\n",
       "        } else {\n",
       "            event.step = -1;\n",
       "        }\n",
       "        mouse_event_fn(event);\n",
       "    });\n",
       "\n",
       "    canvas_div.append(canvas);\n",
       "    canvas_div.append(rubberband);\n",
       "\n",
       "    this.rubberband = rubberband;\n",
       "    this.rubberband_canvas = rubberband[0];\n",
       "    this.rubberband_context = rubberband[0].getContext(\"2d\");\n",
       "    this.rubberband_context.strokeStyle = \"#000000\";\n",
       "\n",
       "    this._resize_canvas = function(width, height) {\n",
       "        // Keep the size of the canvas, canvas container, and rubber band\n",
       "        // canvas in synch.\n",
       "        canvas_div.css('width', width)\n",
       "        canvas_div.css('height', height)\n",
       "\n",
       "        canvas.attr('width', width);\n",
       "        canvas.attr('height', height);\n",
       "\n",
       "        rubberband.attr('width', width);\n",
       "        rubberband.attr('height', height);\n",
       "    }\n",
       "\n",
       "    // Set the figure to an initial 600x600px, this will subsequently be updated\n",
       "    // upon first draw.\n",
       "    this._resize_canvas(600, 600);\n",
       "\n",
       "    // Disable right mouse context menu.\n",
       "    $(this.rubberband_canvas).bind(\"contextmenu\",function(e){\n",
       "        return false;\n",
       "    });\n",
       "\n",
       "    function set_focus () {\n",
       "        canvas.focus();\n",
       "        canvas_div.focus();\n",
       "    }\n",
       "\n",
       "    window.setTimeout(set_focus, 100);\n",
       "}\n",
       "\n",
       "mpl.figure.prototype._init_toolbar = function() {\n",
       "    var fig = this;\n",
       "\n",
       "    var nav_element = $('<div/>')\n",
       "    nav_element.attr('style', 'width: 100%');\n",
       "    this.root.append(nav_element);\n",
       "\n",
       "    // Define a callback function for later on.\n",
       "    function toolbar_event(event) {\n",
       "        return fig.toolbar_button_onclick(event['data']);\n",
       "    }\n",
       "    function toolbar_mouse_event(event) {\n",
       "        return fig.toolbar_button_onmouseover(event['data']);\n",
       "    }\n",
       "\n",
       "    for(var toolbar_ind in mpl.toolbar_items) {\n",
       "        var name = mpl.toolbar_items[toolbar_ind][0];\n",
       "        var tooltip = mpl.toolbar_items[toolbar_ind][1];\n",
       "        var image = mpl.toolbar_items[toolbar_ind][2];\n",
       "        var method_name = mpl.toolbar_items[toolbar_ind][3];\n",
       "\n",
       "        if (!name) {\n",
       "            // put a spacer in here.\n",
       "            continue;\n",
       "        }\n",
       "        var button = $('<button/>');\n",
       "        button.addClass('ui-button ui-widget ui-state-default ui-corner-all ' +\n",
       "                        'ui-button-icon-only');\n",
       "        button.attr('role', 'button');\n",
       "        button.attr('aria-disabled', 'false');\n",
       "        button.click(method_name, toolbar_event);\n",
       "        button.mouseover(tooltip, toolbar_mouse_event);\n",
       "\n",
       "        var icon_img = $('<span/>');\n",
       "        icon_img.addClass('ui-button-icon-primary ui-icon');\n",
       "        icon_img.addClass(image);\n",
       "        icon_img.addClass('ui-corner-all');\n",
       "\n",
       "        var tooltip_span = $('<span/>');\n",
       "        tooltip_span.addClass('ui-button-text');\n",
       "        tooltip_span.html(tooltip);\n",
       "\n",
       "        button.append(icon_img);\n",
       "        button.append(tooltip_span);\n",
       "\n",
       "        nav_element.append(button);\n",
       "    }\n",
       "\n",
       "    var fmt_picker_span = $('<span/>');\n",
       "\n",
       "    var fmt_picker = $('<select/>');\n",
       "    fmt_picker.addClass('mpl-toolbar-option ui-widget ui-widget-content');\n",
       "    fmt_picker_span.append(fmt_picker);\n",
       "    nav_element.append(fmt_picker_span);\n",
       "    this.format_dropdown = fmt_picker[0];\n",
       "\n",
       "    for (var ind in mpl.extensions) {\n",
       "        var fmt = mpl.extensions[ind];\n",
       "        var option = $(\n",
       "            '<option/>', {selected: fmt === mpl.default_extension}).html(fmt);\n",
       "        fmt_picker.append(option)\n",
       "    }\n",
       "\n",
       "    // Add hover states to the ui-buttons\n",
       "    $( \".ui-button\" ).hover(\n",
       "        function() { $(this).addClass(\"ui-state-hover\");},\n",
       "        function() { $(this).removeClass(\"ui-state-hover\");}\n",
       "    );\n",
       "\n",
       "    var status_bar = $('<span class=\"mpl-message\"/>');\n",
       "    nav_element.append(status_bar);\n",
       "    this.message = status_bar[0];\n",
       "}\n",
       "\n",
       "mpl.figure.prototype.request_resize = function(x_pixels, y_pixels) {\n",
       "    // Request matplotlib to resize the figure. Matplotlib will then trigger a resize in the client,\n",
       "    // which will in turn request a refresh of the image.\n",
       "    this.send_message('resize', {'width': x_pixels, 'height': y_pixels});\n",
       "}\n",
       "\n",
       "mpl.figure.prototype.send_message = function(type, properties) {\n",
       "    properties['type'] = type;\n",
       "    properties['figure_id'] = this.id;\n",
       "    this.ws.send(JSON.stringify(properties));\n",
       "}\n",
       "\n",
       "mpl.figure.prototype.send_draw_message = function() {\n",
       "    if (!this.waiting) {\n",
       "        this.waiting = true;\n",
       "        this.ws.send(JSON.stringify({type: \"draw\", figure_id: this.id}));\n",
       "    }\n",
       "}\n",
       "\n",
       "\n",
       "mpl.figure.prototype.handle_save = function(fig, msg) {\n",
       "    var format_dropdown = fig.format_dropdown;\n",
       "    var format = format_dropdown.options[format_dropdown.selectedIndex].value;\n",
       "    fig.ondownload(fig, format);\n",
       "}\n",
       "\n",
       "\n",
       "mpl.figure.prototype.handle_resize = function(fig, msg) {\n",
       "    var size = msg['size'];\n",
       "    if (size[0] != fig.canvas.width || size[1] != fig.canvas.height) {\n",
       "        fig._resize_canvas(size[0], size[1]);\n",
       "        fig.send_message(\"refresh\", {});\n",
       "    };\n",
       "}\n",
       "\n",
       "mpl.figure.prototype.handle_rubberband = function(fig, msg) {\n",
       "    var x0 = msg['x0'];\n",
       "    var y0 = fig.canvas.height - msg['y0'];\n",
       "    var x1 = msg['x1'];\n",
       "    var y1 = fig.canvas.height - msg['y1'];\n",
       "    x0 = Math.floor(x0) + 0.5;\n",
       "    y0 = Math.floor(y0) + 0.5;\n",
       "    x1 = Math.floor(x1) + 0.5;\n",
       "    y1 = Math.floor(y1) + 0.5;\n",
       "    var min_x = Math.min(x0, x1);\n",
       "    var min_y = Math.min(y0, y1);\n",
       "    var width = Math.abs(x1 - x0);\n",
       "    var height = Math.abs(y1 - y0);\n",
       "\n",
       "    fig.rubberband_context.clearRect(\n",
       "        0, 0, fig.canvas.width, fig.canvas.height);\n",
       "\n",
       "    fig.rubberband_context.strokeRect(min_x, min_y, width, height);\n",
       "}\n",
       "\n",
       "mpl.figure.prototype.handle_figure_label = function(fig, msg) {\n",
       "    // Updates the figure title.\n",
       "    fig.header.textContent = msg['label'];\n",
       "}\n",
       "\n",
       "mpl.figure.prototype.handle_cursor = function(fig, msg) {\n",
       "    var cursor = msg['cursor'];\n",
       "    switch(cursor)\n",
       "    {\n",
       "    case 0:\n",
       "        cursor = 'pointer';\n",
       "        break;\n",
       "    case 1:\n",
       "        cursor = 'default';\n",
       "        break;\n",
       "    case 2:\n",
       "        cursor = 'crosshair';\n",
       "        break;\n",
       "    case 3:\n",
       "        cursor = 'move';\n",
       "        break;\n",
       "    }\n",
       "    fig.rubberband_canvas.style.cursor = cursor;\n",
       "}\n",
       "\n",
       "mpl.figure.prototype.handle_message = function(fig, msg) {\n",
       "    fig.message.textContent = msg['message'];\n",
       "}\n",
       "\n",
       "mpl.figure.prototype.handle_draw = function(fig, msg) {\n",
       "    // Request the server to send over a new figure.\n",
       "    fig.send_draw_message();\n",
       "}\n",
       "\n",
       "mpl.figure.prototype.handle_image_mode = function(fig, msg) {\n",
       "    fig.image_mode = msg['mode'];\n",
       "}\n",
       "\n",
       "mpl.figure.prototype.updated_canvas_event = function() {\n",
       "    // Called whenever the canvas gets updated.\n",
       "    this.send_message(\"ack\", {});\n",
       "}\n",
       "\n",
       "// A function to construct a web socket function for onmessage handling.\n",
       "// Called in the figure constructor.\n",
       "mpl.figure.prototype._make_on_message_function = function(fig) {\n",
       "    return function socket_on_message(evt) {\n",
       "        if (evt.data instanceof Blob) {\n",
       "            /* FIXME: We get \"Resource interpreted as Image but\n",
       "             * transferred with MIME type text/plain:\" errors on\n",
       "             * Chrome.  But how to set the MIME type?  It doesn't seem\n",
       "             * to be part of the websocket stream */\n",
       "            evt.data.type = \"image/png\";\n",
       "\n",
       "            /* Free the memory for the previous frames */\n",
       "            if (fig.imageObj.src) {\n",
       "                (window.URL || window.webkitURL).revokeObjectURL(\n",
       "                    fig.imageObj.src);\n",
       "            }\n",
       "\n",
       "            fig.imageObj.src = (window.URL || window.webkitURL).createObjectURL(\n",
       "                evt.data);\n",
       "            fig.updated_canvas_event();\n",
       "            fig.waiting = false;\n",
       "            return;\n",
       "        }\n",
       "        else if (typeof evt.data === 'string' && evt.data.slice(0, 21) == \"data:image/png;base64\") {\n",
       "            fig.imageObj.src = evt.data;\n",
       "            fig.updated_canvas_event();\n",
       "            fig.waiting = false;\n",
       "            return;\n",
       "        }\n",
       "\n",
       "        var msg = JSON.parse(evt.data);\n",
       "        var msg_type = msg['type'];\n",
       "\n",
       "        // Call the  \"handle_{type}\" callback, which takes\n",
       "        // the figure and JSON message as its only arguments.\n",
       "        try {\n",
       "            var callback = fig[\"handle_\" + msg_type];\n",
       "        } catch (e) {\n",
       "            console.log(\"No handler for the '\" + msg_type + \"' message type: \", msg);\n",
       "            return;\n",
       "        }\n",
       "\n",
       "        if (callback) {\n",
       "            try {\n",
       "                // console.log(\"Handling '\" + msg_type + \"' message: \", msg);\n",
       "                callback(fig, msg);\n",
       "            } catch (e) {\n",
       "                console.log(\"Exception inside the 'handler_\" + msg_type + \"' callback:\", e, e.stack, msg);\n",
       "            }\n",
       "        }\n",
       "    };\n",
       "}\n",
       "\n",
       "// from http://stackoverflow.com/questions/1114465/getting-mouse-location-in-canvas\n",
       "mpl.findpos = function(e) {\n",
       "    //this section is from http://www.quirksmode.org/js/events_properties.html\n",
       "    var targ;\n",
       "    if (!e)\n",
       "        e = window.event;\n",
       "    if (e.target)\n",
       "        targ = e.target;\n",
       "    else if (e.srcElement)\n",
       "        targ = e.srcElement;\n",
       "    if (targ.nodeType == 3) // defeat Safari bug\n",
       "        targ = targ.parentNode;\n",
       "\n",
       "    // jQuery normalizes the pageX and pageY\n",
       "    // pageX,Y are the mouse positions relative to the document\n",
       "    // offset() returns the position of the element relative to the document\n",
       "    var x = e.pageX - $(targ).offset().left;\n",
       "    var y = e.pageY - $(targ).offset().top;\n",
       "\n",
       "    return {\"x\": x, \"y\": y};\n",
       "};\n",
       "\n",
       "/*\n",
       " * return a copy of an object with only non-object keys\n",
       " * we need this to avoid circular references\n",
       " * http://stackoverflow.com/a/24161582/3208463\n",
       " */\n",
       "function simpleKeys (original) {\n",
       "  return Object.keys(original).reduce(function (obj, key) {\n",
       "    if (typeof original[key] !== 'object')\n",
       "        obj[key] = original[key]\n",
       "    return obj;\n",
       "  }, {});\n",
       "}\n",
       "\n",
       "mpl.figure.prototype.mouse_event = function(event, name) {\n",
       "    var canvas_pos = mpl.findpos(event)\n",
       "\n",
       "    if (name === 'button_press')\n",
       "    {\n",
       "        this.canvas.focus();\n",
       "        this.canvas_div.focus();\n",
       "    }\n",
       "\n",
       "    var x = canvas_pos.x;\n",
       "    var y = canvas_pos.y;\n",
       "\n",
       "    this.send_message(name, {x: x, y: y, button: event.button,\n",
       "                             step: event.step,\n",
       "                             guiEvent: simpleKeys(event)});\n",
       "\n",
       "    /* This prevents the web browser from automatically changing to\n",
       "     * the text insertion cursor when the button is pressed.  We want\n",
       "     * to control all of the cursor setting manually through the\n",
       "     * 'cursor' event from matplotlib */\n",
       "    event.preventDefault();\n",
       "    return false;\n",
       "}\n",
       "\n",
       "mpl.figure.prototype._key_event_extra = function(event, name) {\n",
       "    // Handle any extra behaviour associated with a key event\n",
       "}\n",
       "\n",
       "mpl.figure.prototype.key_event = function(event, name) {\n",
       "\n",
       "    // Prevent repeat events\n",
       "    if (name == 'key_press')\n",
       "    {\n",
       "        if (event.which === this._key)\n",
       "            return;\n",
       "        else\n",
       "            this._key = event.which;\n",
       "    }\n",
       "    if (name == 'key_release')\n",
       "        this._key = null;\n",
       "\n",
       "    var value = '';\n",
       "    if (event.ctrlKey && event.which != 17)\n",
       "        value += \"ctrl+\";\n",
       "    if (event.altKey && event.which != 18)\n",
       "        value += \"alt+\";\n",
       "    if (event.shiftKey && event.which != 16)\n",
       "        value += \"shift+\";\n",
       "\n",
       "    value += 'k';\n",
       "    value += event.which.toString();\n",
       "\n",
       "    this._key_event_extra(event, name);\n",
       "\n",
       "    this.send_message(name, {key: value,\n",
       "                             guiEvent: simpleKeys(event)});\n",
       "    return false;\n",
       "}\n",
       "\n",
       "mpl.figure.prototype.toolbar_button_onclick = function(name) {\n",
       "    if (name == 'download') {\n",
       "        this.handle_save(this, null);\n",
       "    } else {\n",
       "        this.send_message(\"toolbar_button\", {name: name});\n",
       "    }\n",
       "};\n",
       "\n",
       "mpl.figure.prototype.toolbar_button_onmouseover = function(tooltip) {\n",
       "    this.message.textContent = tooltip;\n",
       "};\n",
       "mpl.toolbar_items = [[\"Home\", \"Reset original view\", \"fa fa-home icon-home\", \"home\"], [\"Back\", \"Back to  previous view\", \"fa fa-arrow-left icon-arrow-left\", \"back\"], [\"Forward\", \"Forward to next view\", \"fa fa-arrow-right icon-arrow-right\", \"forward\"], [\"\", \"\", \"\", \"\"], [\"Pan\", \"Pan axes with left mouse, zoom with right\", \"fa fa-arrows icon-move\", \"pan\"], [\"Zoom\", \"Zoom to rectangle\", \"fa fa-square-o icon-check-empty\", \"zoom\"], [\"\", \"\", \"\", \"\"], [\"Download\", \"Download plot\", \"fa fa-floppy-o icon-save\", \"download\"]];\n",
       "\n",
       "mpl.extensions = [\"eps\", \"jpeg\", \"pdf\", \"png\", \"ps\", \"raw\", \"svg\", \"tif\"];\n",
       "\n",
       "mpl.default_extension = \"png\";var comm_websocket_adapter = function(comm) {\n",
       "    // Create a \"websocket\"-like object which calls the given IPython comm\n",
       "    // object with the appropriate methods. Currently this is a non binary\n",
       "    // socket, so there is still some room for performance tuning.\n",
       "    var ws = {};\n",
       "\n",
       "    ws.close = function() {\n",
       "        comm.close()\n",
       "    };\n",
       "    ws.send = function(m) {\n",
       "        //console.log('sending', m);\n",
       "        comm.send(m);\n",
       "    };\n",
       "    // Register the callback with on_msg.\n",
       "    comm.on_msg(function(msg) {\n",
       "        //console.log('receiving', msg['content']['data'], msg);\n",
       "        // Pass the mpl event to the overriden (by mpl) onmessage function.\n",
       "        ws.onmessage(msg['content']['data'])\n",
       "    });\n",
       "    return ws;\n",
       "}\n",
       "\n",
       "mpl.mpl_figure_comm = function(comm, msg) {\n",
       "    // This is the function which gets called when the mpl process\n",
       "    // starts-up an IPython Comm through the \"matplotlib\" channel.\n",
       "\n",
       "    var id = msg.content.data.id;\n",
       "    // Get hold of the div created by the display call when the Comm\n",
       "    // socket was opened in Python.\n",
       "    var element = $(\"#\" + id);\n",
       "    var ws_proxy = comm_websocket_adapter(comm)\n",
       "\n",
       "    function ondownload(figure, format) {\n",
       "        window.open(figure.imageObj.src);\n",
       "    }\n",
       "\n",
       "    var fig = new mpl.figure(id, ws_proxy,\n",
       "                           ondownload,\n",
       "                           element.get(0));\n",
       "\n",
       "    // Call onopen now - mpl needs it, as it is assuming we've passed it a real\n",
       "    // web socket which is closed, not our websocket->open comm proxy.\n",
       "    ws_proxy.onopen();\n",
       "\n",
       "    fig.parent_element = element.get(0);\n",
       "    fig.cell_info = mpl.find_output_cell(\"<div id='\" + id + \"'></div>\");\n",
       "    if (!fig.cell_info) {\n",
       "        console.error(\"Failed to find cell for figure\", id, fig);\n",
       "        return;\n",
       "    }\n",
       "\n",
       "    var output_index = fig.cell_info[2]\n",
       "    var cell = fig.cell_info[0];\n",
       "\n",
       "};\n",
       "\n",
       "mpl.figure.prototype.handle_close = function(fig, msg) {\n",
       "    fig.root.unbind('remove')\n",
       "\n",
       "    // Update the output cell to use the data from the current canvas.\n",
       "    fig.push_to_output();\n",
       "    var dataURL = fig.canvas.toDataURL();\n",
       "    // Re-enable the keyboard manager in IPython - without this line, in FF,\n",
       "    // the notebook keyboard shortcuts fail.\n",
       "    IPython.keyboard_manager.enable()\n",
       "    $(fig.parent_element).html('<img src=\"' + dataURL + '\">');\n",
       "    fig.close_ws(fig, msg);\n",
       "}\n",
       "\n",
       "mpl.figure.prototype.close_ws = function(fig, msg){\n",
       "    fig.send_message('closing', msg);\n",
       "    // fig.ws.close()\n",
       "}\n",
       "\n",
       "mpl.figure.prototype.push_to_output = function(remove_interactive) {\n",
       "    // Turn the data on the canvas into data in the output cell.\n",
       "    var dataURL = this.canvas.toDataURL();\n",
       "    this.cell_info[1]['text/html'] = '<img src=\"' + dataURL + '\">';\n",
       "}\n",
       "\n",
       "mpl.figure.prototype.updated_canvas_event = function() {\n",
       "    // Tell IPython that the notebook contents must change.\n",
       "    IPython.notebook.set_dirty(true);\n",
       "    this.send_message(\"ack\", {});\n",
       "    var fig = this;\n",
       "    // Wait a second, then push the new image to the DOM so\n",
       "    // that it is saved nicely (might be nice to debounce this).\n",
       "    setTimeout(function () { fig.push_to_output() }, 1000);\n",
       "}\n",
       "\n",
       "mpl.figure.prototype._init_toolbar = function() {\n",
       "    var fig = this;\n",
       "\n",
       "    var nav_element = $('<div/>')\n",
       "    nav_element.attr('style', 'width: 100%');\n",
       "    this.root.append(nav_element);\n",
       "\n",
       "    // Define a callback function for later on.\n",
       "    function toolbar_event(event) {\n",
       "        return fig.toolbar_button_onclick(event['data']);\n",
       "    }\n",
       "    function toolbar_mouse_event(event) {\n",
       "        return fig.toolbar_button_onmouseover(event['data']);\n",
       "    }\n",
       "\n",
       "    for(var toolbar_ind in mpl.toolbar_items){\n",
       "        var name = mpl.toolbar_items[toolbar_ind][0];\n",
       "        var tooltip = mpl.toolbar_items[toolbar_ind][1];\n",
       "        var image = mpl.toolbar_items[toolbar_ind][2];\n",
       "        var method_name = mpl.toolbar_items[toolbar_ind][3];\n",
       "\n",
       "        if (!name) { continue; };\n",
       "\n",
       "        var button = $('<button class=\"btn btn-default\" href=\"#\" title=\"' + name + '\"><i class=\"fa ' + image + ' fa-lg\"></i></button>');\n",
       "        button.click(method_name, toolbar_event);\n",
       "        button.mouseover(tooltip, toolbar_mouse_event);\n",
       "        nav_element.append(button);\n",
       "    }\n",
       "\n",
       "    // Add the status bar.\n",
       "    var status_bar = $('<span class=\"mpl-message\" style=\"text-align:right; float: right;\"/>');\n",
       "    nav_element.append(status_bar);\n",
       "    this.message = status_bar[0];\n",
       "\n",
       "    // Add the close button to the window.\n",
       "    var buttongrp = $('<div class=\"btn-group inline pull-right\"></div>');\n",
       "    var button = $('<button class=\"btn btn-mini btn-primary\" href=\"#\" title=\"Stop Interaction\"><i class=\"fa fa-power-off icon-remove icon-large\"></i></button>');\n",
       "    button.click(function (evt) { fig.handle_close(fig, {}); } );\n",
       "    button.mouseover('Stop Interaction', toolbar_mouse_event);\n",
       "    buttongrp.append(button);\n",
       "    var titlebar = this.root.find($('.ui-dialog-titlebar'));\n",
       "    titlebar.prepend(buttongrp);\n",
       "}\n",
       "\n",
       "mpl.figure.prototype._root_extra_style = function(el){\n",
       "    var fig = this\n",
       "    el.on(\"remove\", function(){\n",
       "\tfig.close_ws(fig, {});\n",
       "    });\n",
       "}\n",
       "\n",
       "mpl.figure.prototype._canvas_extra_style = function(el){\n",
       "    // this is important to make the div 'focusable\n",
       "    el.attr('tabindex', 0)\n",
       "    // reach out to IPython and tell the keyboard manager to turn it's self\n",
       "    // off when our div gets focus\n",
       "\n",
       "    // location in version 3\n",
       "    if (IPython.notebook.keyboard_manager) {\n",
       "        IPython.notebook.keyboard_manager.register_events(el);\n",
       "    }\n",
       "    else {\n",
       "        // location in version 2\n",
       "        IPython.keyboard_manager.register_events(el);\n",
       "    }\n",
       "\n",
       "}\n",
       "\n",
       "mpl.figure.prototype._key_event_extra = function(event, name) {\n",
       "    var manager = IPython.notebook.keyboard_manager;\n",
       "    if (!manager)\n",
       "        manager = IPython.keyboard_manager;\n",
       "\n",
       "    // Check for shift+enter\n",
       "    if (event.shiftKey && event.which == 13) {\n",
       "        this.canvas_div.blur();\n",
       "        // select the cell after this one\n",
       "        var index = IPython.notebook.find_cell_index(this.cell_info[0]);\n",
       "        IPython.notebook.select(index + 1);\n",
       "    }\n",
       "}\n",
       "\n",
       "mpl.figure.prototype.handle_save = function(fig, msg) {\n",
       "    fig.ondownload(fig, null);\n",
       "}\n",
       "\n",
       "\n",
       "mpl.find_output_cell = function(html_output) {\n",
       "    // Return the cell and output element which can be found *uniquely* in the notebook.\n",
       "    // Note - this is a bit hacky, but it is done because the \"notebook_saving.Notebook\"\n",
       "    // IPython event is triggered only after the cells have been serialised, which for\n",
       "    // our purposes (turning an active figure into a static one), is too late.\n",
       "    var cells = IPython.notebook.get_cells();\n",
       "    var ncells = cells.length;\n",
       "    for (var i=0; i<ncells; i++) {\n",
       "        var cell = cells[i];\n",
       "        if (cell.cell_type === 'code'){\n",
       "            for (var j=0; j<cell.output_area.outputs.length; j++) {\n",
       "                var data = cell.output_area.outputs[j];\n",
       "                if (data.data) {\n",
       "                    // IPython >= 3 moved mimebundle to data attribute of output\n",
       "                    data = data.data;\n",
       "                }\n",
       "                if (data['text/html'] == html_output) {\n",
       "                    return [cell, data, j];\n",
       "                }\n",
       "            }\n",
       "        }\n",
       "    }\n",
       "}\n",
       "\n",
       "// Register the function which deals with the matplotlib target/channel.\n",
       "// The kernel may be null if the page has been refreshed.\n",
       "if (IPython.notebook.kernel != null) {\n",
       "    IPython.notebook.kernel.comm_manager.register_target('matplotlib', mpl.mpl_figure_comm);\n",
       "}\n"
      ],
      "text/plain": [
       "<IPython.core.display.Javascript object>"
      ]
     },
     "metadata": {},
     "output_type": "display_data"
    },
    {
     "data": {
      "text/html": [
       "<img src=\"data:image/png;base64,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\">"
      ],
      "text/plain": [
       "<IPython.core.display.HTML object>"
      ]
     },
     "metadata": {},
     "output_type": "display_data"
    },
    {
     "data": {
      "text/plain": [
       "<seaborn.axisgrid.PairGrid at 0x7fecf6719518>"
      ]
     },
     "execution_count": 7,
     "metadata": {},
     "output_type": "execute_result"
    }
   ],
   "source": [
    "sns.pairplot(data=df_with_target, x_vars=df.columns, y_vars=['MEDV'])"
   ]
  },
  {
   "cell_type": "markdown",
   "metadata": {},
   "source": [
    "I will choose 'RM', 'AGE' and 'LSTAT' attributes, because their values look spread out across 'x' axis and they seem to be easily described with a linear model. Also, it is a common sense that number of rooms and age are  relevant to housing price."
   ]
  },
  {
   "cell_type": "code",
   "execution_count": 8,
   "metadata": {
    "collapsed": true
   },
   "outputs": [],
   "source": [
    "df_chosen = df[['RM', 'AGE', 'LSTAT']]"
   ]
  },
  {
   "cell_type": "markdown",
   "metadata": {},
   "source": [
    "# 5. What are the statistics for the chosen variables"
   ]
  },
  {
   "cell_type": "code",
   "execution_count": 9,
   "metadata": {
    "collapsed": false
   },
   "outputs": [
    {
     "data": {
      "text/html": [
       "<div>\n",
       "<table border=\"1\" class=\"dataframe\">\n",
       "  <thead>\n",
       "    <tr style=\"text-align: right;\">\n",
       "      <th></th>\n",
       "      <th>RM</th>\n",
       "      <th>AGE</th>\n",
       "      <th>LSTAT</th>\n",
       "    </tr>\n",
       "  </thead>\n",
       "  <tbody>\n",
       "    <tr>\n",
       "      <th>count</th>\n",
       "      <td>506.000000</td>\n",
       "      <td>506.000000</td>\n",
       "      <td>506.000000</td>\n",
       "    </tr>\n",
       "    <tr>\n",
       "      <th>mean</th>\n",
       "      <td>6.284634</td>\n",
       "      <td>68.574901</td>\n",
       "      <td>12.653063</td>\n",
       "    </tr>\n",
       "    <tr>\n",
       "      <th>std</th>\n",
       "      <td>0.702617</td>\n",
       "      <td>28.148861</td>\n",
       "      <td>7.141062</td>\n",
       "    </tr>\n",
       "    <tr>\n",
       "      <th>min</th>\n",
       "      <td>3.561000</td>\n",
       "      <td>2.900000</td>\n",
       "      <td>1.730000</td>\n",
       "    </tr>\n",
       "    <tr>\n",
       "      <th>25%</th>\n",
       "      <td>5.885500</td>\n",
       "      <td>45.025000</td>\n",
       "      <td>6.950000</td>\n",
       "    </tr>\n",
       "    <tr>\n",
       "      <th>50%</th>\n",
       "      <td>6.208500</td>\n",
       "      <td>77.500000</td>\n",
       "      <td>11.360000</td>\n",
       "    </tr>\n",
       "    <tr>\n",
       "      <th>75%</th>\n",
       "      <td>6.623500</td>\n",
       "      <td>94.075000</td>\n",
       "      <td>16.955000</td>\n",
       "    </tr>\n",
       "    <tr>\n",
       "      <th>max</th>\n",
       "      <td>8.780000</td>\n",
       "      <td>100.000000</td>\n",
       "      <td>37.970000</td>\n",
       "    </tr>\n",
       "  </tbody>\n",
       "</table>\n",
       "</div>"
      ],
      "text/plain": [
       "               RM         AGE       LSTAT\n",
       "count  506.000000  506.000000  506.000000\n",
       "mean     6.284634   68.574901   12.653063\n",
       "std      0.702617   28.148861    7.141062\n",
       "min      3.561000    2.900000    1.730000\n",
       "25%      5.885500   45.025000    6.950000\n",
       "50%      6.208500   77.500000   11.360000\n",
       "75%      6.623500   94.075000   16.955000\n",
       "max      8.780000  100.000000   37.970000"
      ]
     },
     "execution_count": 9,
     "metadata": {},
     "output_type": "execute_result"
    }
   ],
   "source": [
    "df_chosen.describe()"
   ]
  },
  {
   "cell_type": "markdown",
   "metadata": {},
   "source": [
    "# 6. Split the data into the training and testing sets with train_test_split (testing set should contain 10% of all data)"
   ]
  },
  {
   "cell_type": "code",
   "execution_count": 10,
   "metadata": {
    "collapsed": false
   },
   "outputs": [
    {
     "name": "stdout",
     "output_type": "stream",
     "text": [
      "455 51\n"
     ]
    }
   ],
   "source": [
    "ss = ShuffleSplit(n_splits=1, test_size=0.1, random_state=42)\n",
    "train_idx, test_idx = next(ss.split(df))\n",
    "print(len(train_idx), len(test_idx))"
   ]
  },
  {
   "cell_type": "code",
   "execution_count": 11,
   "metadata": {
    "collapsed": true
   },
   "outputs": [],
   "source": [
    "def get_linear_regression_quality_metrics(clf, data, target):\n",
    "    return mean_squared_error(target, clf.predict(data)), clf.score(data, target)"
   ]
  },
  {
   "cell_type": "code",
   "execution_count": 12,
   "metadata": {
    "collapsed": true
   },
   "outputs": [],
   "source": [
    "def fit_linear_regression_and_report_quality_metrics(data, target, polynomial_features_degree=1, normalize=True):\n",
    "    mses_train, mses_val, r2s_train, r2s_val = [], [], [], []\n",
    "    # Prepare splits for cross-validation.\n",
    "    ss = ShuffleSplit(n_splits=3, test_size=0.1, random_state=42)\n",
    "    # Evaluate each train-val split.\n",
    "    for train_idx, val_idx in ss.split(data):\n",
    "        X_train, X_val, y_train, y_val = data[train_idx], data[val_idx], target[train_idx], target[val_idx]\n",
    "\n",
    "        feat = PolynomialFeatures(degree=polynomial_features_degree)\n",
    "\n",
    "        X_train = feat.fit_transform(X_train)\n",
    "        X_val = feat.fit_transform(X_val)\n",
    "\n",
    "        if normalize:\n",
    "            scaler = StandardScaler()\n",
    "            X_train = scaler.fit_transform(X_train)\n",
    "            X_val = scaler.transform(X_val)\n",
    "\n",
    "        clf = LinearRegression()\n",
    "        clf.fit(X_train, y_train)\n",
    "        \n",
    "        mse_train_, r2_train_ = get_linear_regression_quality_metrics(clf, X_train, y_train)\n",
    "        mse_val_, r2_val_ = get_linear_regression_quality_metrics(clf, X_val, y_val)\n",
    "        \n",
    "        mses_train.append(mse_train_)\n",
    "        mses_val.append(mse_val_)\n",
    "        r2s_train.append(r2_train_)\n",
    "        r2s_val.append(r2_val_)\n",
    "    \n",
    "    print('MSE train: {:.2f} (+/- {:.2f})'.format(np.mean(mses_train), np.std(mses_train) * 2))\n",
    "    print('MSE val: {:.2f} (+/- {:.2f})'.format(np.mean(mses_val), np.std(mses_val) * 2))\n",
    "    print('R^2 train: {:.2f} (+/- {:.2f})'.format(np.mean(r2s_train), np.std(r2s_train) * 2))\n",
    "    print('R^2 val: {:.2f} (+/- {:.2f})'.format(np.mean(r2s_val), np.std(r2s_val) * 2))\n",
    "    \n",
    "    # Fit classifier on all training data.\n",
    "    feat = PolynomialFeatures(degree=polynomial_features_degree)\n",
    "    X = feat.fit_transform(data)\n",
    "    \n",
    "    scaler = None\n",
    "    if normalize:\n",
    "        scaler = StandardScaler()\n",
    "        X = scaler.fit_transform(X)\n",
    "        \n",
    "    clf = LinearRegression()\n",
    "    clf.fit(X, target)\n",
    "    \n",
    "    return clf, scaler, feat"
   ]
  },
  {
   "cell_type": "markdown",
   "metadata": {},
   "source": [
    "# 8. Fit the linear regression model on the training set. Report mean squared error and coefficient of determination R^2 on the training and testing sets"
   ]
  },
  {
   "cell_type": "code",
   "execution_count": 13,
   "metadata": {
    "collapsed": false
   },
   "outputs": [],
   "source": [
    "# Split dataframe and target to train-test using idx.\n",
    "def train_test_split_df_and_target(df, target, train_idx, test_idx):\n",
    "    return df.ix[train_idx], df.ix[test_idx], target[train_idx], target[test_idx]"
   ]
  },
  {
   "cell_type": "code",
   "execution_count": 14,
   "metadata": {
    "collapsed": false
   },
   "outputs": [],
   "source": [
    "def evaluate_df_features(df, train_idx, test_idx, polynomial_features_degree=1, normalize=True):\n",
    "    print('features:', list(df.columns))\n",
    "    df_train, df_test, target_train, target_test = \\\n",
    "      train_test_split_df_and_target(df, boston_data['target'], train_idx, test_idx)\n",
    "\n",
    "    clf, scaler, feat = fit_linear_regression_and_report_quality_metrics(df_train.values, target_train, polynomial_features_degree, normalize)\n",
    "    \n",
    "    df_test = feat.fit_transform(df_test)\n",
    "    print('Num input features:', df_test.shape[1])\n",
    "    \n",
    "    if normalize:\n",
    "        df_test = scaler.transform(df_test)\n",
    "    mse, r2 = get_linear_regression_quality_metrics(clf, df_test, target_test)\n",
    "    print('MSE test: {:.2f}, R^2 test: {:.2f}'.format(mse, r2)) "
   ]
  },
  {
   "cell_type": "code",
   "execution_count": 15,
   "metadata": {
    "collapsed": false
   },
   "outputs": [
    {
     "name": "stdout",
     "output_type": "stream",
     "text": [
      "features: ['RM', 'AGE', 'LSTAT']\n",
      "MSE train: 32.57 (+/- 0.47)\n",
      "MSE val: 23.04 (+/- 4.20)\n",
      "R^2 train: 0.63 (+/- 0.01)\n",
      "R^2 val: 0.68 (+/- 0.14)\n",
      "Num input features: 4\n",
      "MSE test: 20.88, R^2 test: 0.67\n"
     ]
    }
   ],
   "source": [
    "evaluate_df_features(df[['RM', 'AGE', 'LSTAT']], train_idx, test_idx)"
   ]
  },
  {
   "cell_type": "markdown",
   "metadata": {},
   "source": [
    "# 9. Try to add more features, report which features you added and what influence it had on the model performance.\n"
   ]
  },
  {
   "cell_type": "code",
   "execution_count": 16,
   "metadata": {
    "collapsed": false
   },
   "outputs": [
    {
     "name": "stdout",
     "output_type": "stream",
     "text": [
      "features: ['RM', 'AGE', 'LSTAT', 'PTRATIO']\n",
      "MSE train: 28.79 (+/- 0.86)\n",
      "MSE val: 22.93 (+/- 8.52)\n",
      "R^2 train: 0.67 (+/- 0.01)\n",
      "R^2 val: 0.69 (+/- 0.14)\n",
      "Num input features: 5\n",
      "MSE test: 17.12, R^2 test: 0.73\n"
     ]
    }
   ],
   "source": [
    "evaluate_df_features(df[['RM', 'AGE', 'LSTAT', 'PTRATIO']], train_idx, test_idx)"
   ]
  },
  {
   "cell_type": "markdown",
   "metadata": {},
   "source": [
    "Adding PTRATIO increases model performance."
   ]
  },
  {
   "cell_type": "code",
   "execution_count": 17,
   "metadata": {
    "collapsed": false
   },
   "outputs": [
    {
     "name": "stdout",
     "output_type": "stream",
     "text": [
      "features: ['RM', 'AGE', 'LSTAT', 'PTRATIO', 'NOX']\n",
      "MSE train: 28.53 (+/- 0.87)\n",
      "MSE val: 22.48 (+/- 8.51)\n",
      "R^2 train: 0.68 (+/- 0.01)\n",
      "R^2 val: 0.69 (+/- 0.14)\n",
      "Num input features: 6\n",
      "MSE test: 16.79, R^2 test: 0.73\n"
     ]
    }
   ],
   "source": [
    "evaluate_df_features(df[['RM', 'AGE', 'LSTAT', 'PTRATIO', 'NOX']], train_idx, test_idx)"
   ]
  },
  {
   "cell_type": "markdown",
   "metadata": {},
   "source": [
    "Adding NOX doesn't affect performance."
   ]
  },
  {
   "cell_type": "markdown",
   "metadata": {},
   "source": [
    "# 10. Polynomial features with normalization."
   ]
  },
  {
   "cell_type": "code",
   "execution_count": 18,
   "metadata": {
    "collapsed": false
   },
   "outputs": [
    {
     "name": "stdout",
     "output_type": "stream",
     "text": [
      "features: ['RM', 'AGE', 'LSTAT']\n",
      "MSE train: 19.16 (+/- 0.16)\n",
      "MSE val: 13.75 (+/- 1.35)\n",
      "R^2 train: 0.78 (+/- 0.00)\n",
      "R^2 val: 0.81 (+/- 0.03)\n",
      "Num input features: 10\n",
      "MSE test: 10.88, R^2 test: 0.83\n"
     ]
    }
   ],
   "source": [
    "evaluate_df_features(df_chosen, train_idx, test_idx, polynomial_features_degree=2)"
   ]
  },
  {
   "cell_type": "code",
   "execution_count": 19,
   "metadata": {
    "collapsed": false
   },
   "outputs": [
    {
     "name": "stdout",
     "output_type": "stream",
     "text": [
      "features: ['RM', 'AGE', 'LSTAT']\n",
      "MSE train: 17.22 (+/- 0.32)\n",
      "MSE val: 12.63 (+/- 2.94)\n",
      "R^2 train: 0.80 (+/- 0.00)\n",
      "R^2 val: 0.83 (+/- 0.03)\n",
      "Num input features: 20\n",
      "MSE test: 8.87, R^2 test: 0.86\n"
     ]
    }
   ],
   "source": [
    "evaluate_df_features(df_chosen, train_idx, test_idx, polynomial_features_degree=3)"
   ]
  },
  {
   "cell_type": "code",
   "execution_count": 20,
   "metadata": {
    "collapsed": false
   },
   "outputs": [
    {
     "name": "stdout",
     "output_type": "stream",
     "text": [
      "features: ['RM', 'AGE', 'LSTAT']\n",
      "MSE train: 16.85 (+/- 8.01)\n",
      "MSE val: 25.92 (+/- 31.48)\n",
      "R^2 train: 0.81 (+/- 0.09)\n",
      "R^2 val: 0.62 (+/- 0.57)\n",
      "Num input features: 56\n",
      "MSE test: 10.97, R^2 test: 0.82\n"
     ]
    }
   ],
   "source": [
    "evaluate_df_features(df_chosen, train_idx, test_idx, polynomial_features_degree=5)"
   ]
  },
  {
   "cell_type": "code",
   "execution_count": 21,
   "metadata": {
    "collapsed": false
   },
   "outputs": [
    {
     "name": "stdout",
     "output_type": "stream",
     "text": [
      "features: ['RM', 'AGE', 'LSTAT']\n",
      "MSE train: 15.33 (+/- 9.85)\n",
      "MSE val: 219.26 (+/- 485.68)\n",
      "R^2 train: 0.83 (+/- 0.11)\n",
      "R^2 val: -2.43 (+/- 8.07)\n",
      "Num input features: 120\n",
      "MSE test: 82.35, R^2 test: -0.32\n"
     ]
    }
   ],
   "source": [
    "evaluate_df_features(df_chosen, train_idx, test_idx, polynomial_features_degree=7)"
   ]
  },
  {
   "cell_type": "markdown",
   "metadata": {},
   "source": [
    "Increasing polynomial features degree impoves model perfomance on the training set. For degree=3 performance on the validation set is the best."
   ]
  },
  {
   "cell_type": "markdown",
   "metadata": {},
   "source": [
    "# 11. Polynomial features without normalization."
   ]
  },
  {
   "cell_type": "code",
   "execution_count": 22,
   "metadata": {
    "collapsed": false
   },
   "outputs": [
    {
     "name": "stdout",
     "output_type": "stream",
     "text": [
      "features: ['RM', 'AGE', 'LSTAT']\n",
      "MSE train: 19.16 (+/- 0.16)\n",
      "MSE val: 13.75 (+/- 1.35)\n",
      "R^2 train: 0.78 (+/- 0.00)\n",
      "R^2 val: 0.81 (+/- 0.03)\n",
      "Num input features: 10\n",
      "MSE test: 10.88, R^2 test: 0.83\n"
     ]
    }
   ],
   "source": [
    "evaluate_df_features(df_chosen, train_idx, test_idx, polynomial_features_degree=2, normalize=False)"
   ]
  },
  {
   "cell_type": "code",
   "execution_count": 23,
   "metadata": {
    "collapsed": false
   },
   "outputs": [
    {
     "name": "stdout",
     "output_type": "stream",
     "text": [
      "features: ['RM', 'AGE', 'LSTAT']\n",
      "MSE train: 14.15 (+/- 0.53)\n",
      "MSE val: 18.96 (+/- 11.77)\n",
      "R^2 train: 0.84 (+/- 0.00)\n",
      "R^2 val: 0.73 (+/- 0.24)\n",
      "Num input features: 56\n",
      "MSE test: 10.95, R^2 test: 0.82\n"
     ]
    }
   ],
   "source": [
    "evaluate_df_features(df_chosen, train_idx, test_idx, polynomial_features_degree=5, normalize=False)"
   ]
  },
  {
   "cell_type": "code",
   "execution_count": 24,
   "metadata": {
    "collapsed": false
   },
   "outputs": [
    {
     "name": "stdout",
     "output_type": "stream",
     "text": [
      "features: ['RM', 'AGE', 'LSTAT']\n",
      "MSE train: 12.84 (+/- 1.75)\n",
      "MSE val: 122.46 (+/- 271.41)\n",
      "R^2 train: 0.85 (+/- 0.02)\n",
      "R^2 val: -0.92 (+/- 4.51)\n",
      "Num input features: 120\n",
      "MSE test: 11.14, R^2 test: 0.82\n"
     ]
    }
   ],
   "source": [
    "evaluate_df_features(df_chosen, train_idx, test_idx, polynomial_features_degree=7, normalize=False)"
   ]
  },
  {
   "cell_type": "markdown",
   "metadata": {},
   "source": [
    "# 12. Make some more features from existing features"
   ]
  },
  {
   "cell_type": "code",
   "execution_count": 25,
   "metadata": {
    "collapsed": false
   },
   "outputs": [],
   "source": [
    "df['LSTAT_SQ'] = df['LSTAT'] * df['LSTAT']\n",
    "df['DIS_LOG'] = np.log(df['DIS'])\n",
    "df['CRIM_LOG'] = np.log(df['CRIM'])"
   ]
  },
  {
   "cell_type": "code",
   "execution_count": 26,
   "metadata": {
    "collapsed": false
   },
   "outputs": [
    {
     "name": "stdout",
     "output_type": "stream",
     "text": [
      "features: ['RM', 'AGE', 'LSTAT', 'LSTAT_SQ']\n",
      "MSE train: 25.94 (+/- 0.39)\n",
      "MSE val: 16.29 (+/- 3.44)\n",
      "R^2 train: 0.70 (+/- 0.00)\n",
      "R^2 val: 0.78 (+/- 0.02)\n",
      "Num input features: 5\n",
      "MSE test: 17.51, R^2 test: 0.72\n"
     ]
    }
   ],
   "source": [
    "evaluate_df_features(df[['RM', 'AGE', 'LSTAT', 'LSTAT_SQ']], train_idx, test_idx)"
   ]
  },
  {
   "cell_type": "code",
   "execution_count": 27,
   "metadata": {
    "collapsed": false
   },
   "outputs": [
    {
     "name": "stdout",
     "output_type": "stream",
     "text": [
      "features: ['RM', 'AGE', 'LSTAT', 'LSTAT_SQ', 'DIS']\n",
      "MSE train: 25.09 (+/- 0.27)\n",
      "MSE val: 15.74 (+/- 2.28)\n",
      "R^2 train: 0.71 (+/- 0.00)\n",
      "R^2 val: 0.79 (+/- 0.03)\n",
      "Num input features: 6\n",
      "MSE test: 18.74, R^2 test: 0.70\n"
     ]
    }
   ],
   "source": [
    "evaluate_df_features(df[['RM', 'AGE', 'LSTAT', 'LSTAT_SQ', 'DIS']], train_idx, test_idx)"
   ]
  },
  {
   "cell_type": "code",
   "execution_count": 28,
   "metadata": {
    "collapsed": false
   },
   "outputs": [
    {
     "name": "stdout",
     "output_type": "stream",
     "text": [
      "features: ['RM', 'AGE', 'LSTAT', 'LSTAT_SQ', 'DIS', 'DIS_LOG']\n",
      "MSE train: 25.03 (+/- 0.23)\n",
      "MSE val: 15.92 (+/- 1.83)\n",
      "R^2 train: 0.71 (+/- 0.01)\n",
      "R^2 val: 0.79 (+/- 0.04)\n",
      "Num input features: 7\n",
      "MSE test: 19.19, R^2 test: 0.69\n"
     ]
    }
   ],
   "source": [
    "evaluate_df_features(df[['RM', 'AGE', 'LSTAT', 'LSTAT_SQ', 'DIS', 'DIS_LOG']], train_idx, test_idx)"
   ]
  },
  {
   "cell_type": "code",
   "execution_count": 29,
   "metadata": {
    "collapsed": false
   },
   "outputs": [
    {
     "name": "stdout",
     "output_type": "stream",
     "text": [
      "features: ['RM', 'AGE', 'LSTAT', 'LSTAT_SQ', 'DIS', 'DIS_LOG', 'CRIM']\n",
      "MSE train: 23.19 (+/- 0.14)\n",
      "MSE val: 14.94 (+/- 1.07)\n",
      "R^2 train: 0.74 (+/- 0.01)\n",
      "R^2 val: 0.80 (+/- 0.06)\n",
      "Num input features: 8\n",
      "MSE test: 17.59, R^2 test: 0.72\n"
     ]
    }
   ],
   "source": [
    "evaluate_df_features(df[['RM', 'AGE', 'LSTAT', 'LSTAT_SQ', 'DIS', 'DIS_LOG', 'CRIM']], train_idx, test_idx)"
   ]
  },
  {
   "cell_type": "code",
   "execution_count": 30,
   "metadata": {
    "collapsed": false
   },
   "outputs": [
    {
     "name": "stdout",
     "output_type": "stream",
     "text": [
      "features: ['RM', 'AGE', 'LSTAT', 'LSTAT_SQ', 'DIS', 'DIS_LOG', 'CRIM_LOG']\n",
      "MSE train: 24.26 (+/- 0.32)\n",
      "MSE val: 16.07 (+/- 2.89)\n",
      "R^2 train: 0.72 (+/- 0.01)\n",
      "R^2 val: 0.78 (+/- 0.08)\n",
      "Num input features: 8\n",
      "MSE test: 18.79, R^2 test: 0.70\n"
     ]
    }
   ],
   "source": [
    "evaluate_df_features(df[['RM', 'AGE', 'LSTAT', 'LSTAT_SQ', 'DIS', 'DIS_LOG', 'CRIM_LOG']], train_idx, test_idx)"
   ]
  },
  {
   "cell_type": "code",
   "execution_count": 76,
   "metadata": {
    "collapsed": false
   },
   "outputs": [
    {
     "name": "stdout",
     "output_type": "stream",
     "text": [
      "MSE train: 19.8371147973 MSE test: 11.3877087187\n",
      "R^2 train: 0.770998614497 R^2 test: 0.817604686102\n",
      "['RM^4', 'RM^2 PTRATIO LSTAT', 'INDUS AGE DIS_LOG CRIM_LOG^2', 'INDUS DIS LSTAT CRIM_LOG^2', 'CHAS TAX^2 CRIM_LOG^2', 'NOX^3 DIS PTRATIO', 'NOX^2 DIS PTRATIO LSTAT', 'NOX RM DIS TAX LSTAT', 'NOX B LSTAT CRIM_LOG^2', 'RM^5', 'RM^4 B', 'RM^2 TAX B LSTAT', 'RM^2 PTRATIO^2 LSTAT']\n"
     ]
    }
   ],
   "source": [
    "from sklearn.linear_model import Lasso\n",
    "from sklearn.feature_selection import SelectFromModel\n",
    "\n",
    "df_train, df_test, target_train, target_test = \\\n",
    "      train_test_split_df_and_target(df, boston_data['target'], train_idx, test_idx)\n",
    "\n",
    "X_train = df_train.values\n",
    "X_test = df_test.values\n",
    "\n",
    "feat = PolynomialFeatures(degree=5)\n",
    "X_poly_train = feat.fit_transform(X_train)\n",
    "X_poly_test = feat.fit_transform(X_test)\n",
    "\n",
    "poly_feature_names = feat.get_feature_names(df.columns)\n",
    "\n",
    "scaler = StandardScaler()\n",
    "X_poly_train = scaler.fit_transform(X_poly_train)\n",
    "X_poly_test = scaler.transform(X_poly_test)\n",
    "        \n",
    "lasso_reg = Lasso()\n",
    "lasso_reg.fit(X_poly_train, target_train)\n",
    "mse_train, r2_train = get_linear_regression_quality_metrics(lasso_reg, X_poly_train, target_train)\n",
    "mse_test, r2_test = get_linear_regression_quality_metrics(lasso_reg, X_poly_test, target_test)\n",
    "print('MSE train:', mse_train, 'MSE test:', mse_test)\n",
    "print('R^2 train:', r2_train, 'R^2 test:', r2_test)\n",
    "\n",
    "model = SelectFromModel(lasso_reg, prefit=True)\n",
    "selected_features_indices = model.get_support(indices=True)\n",
    "selected_features = [poly_feature_names[i] for i in selected_features_indices]\n",
    "print(selected_features)"
   ]
  },
  {
   "cell_type": "code",
   "execution_count": 74,
   "metadata": {
    "collapsed": false
   },
   "outputs": [
    {
     "name": "stdout",
     "output_type": "stream",
     "text": [
      "features: ['CHAS', 'RM', 'PTRATIO', 'B', 'LSTAT']\n",
      "MSE train: 27.45 (+/- 0.79)\n",
      "MSE val: 21.47 (+/- 7.97)\n",
      "R^2 train: 0.69 (+/- 0.01)\n",
      "R^2 val: 0.71 (+/- 0.10)\n",
      "Num input features: 6\n",
      "MSE test: 15.80, R^2 test: 0.75\n"
     ]
    }
   ],
   "source": [
    "evaluate_df_features(df[['CHAS', 'RM', 'PTRATIO', 'B', 'LSTAT']], train_idx, test_idx)"
   ]
  }
 ],
 "metadata": {
  "kernelspec": {
   "display_name": "Python 3",
   "language": "python",
   "name": "python3"
  },
  "language_info": {
   "codemirror_mode": {
    "name": "ipython",
    "version": 3
   },
   "file_extension": ".py",
   "mimetype": "text/x-python",
   "name": "python",
   "nbconvert_exporter": "python",
   "pygments_lexer": "ipython3",
   "version": "3.5.1"
  },
  "widgets": {
   "state": {},
   "version": "1.1.2"
  }
 },
 "nbformat": 4,
 "nbformat_minor": 0
}
