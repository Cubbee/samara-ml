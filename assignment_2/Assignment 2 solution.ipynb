{
 "cells": [
  {
   "cell_type": "code",
   "execution_count": 59,
   "metadata": {
    "collapsed": false
   },
   "outputs": [],
   "source": [
    "import numpy as np\n",
    "import random as r\n",
    "from mpl_toolkits.mplot3d import Axes3D\n",
    "import matplotlib.pyplot as plt\n",
    "%matplotlib notebook\n",
    "# %matplotlib\n",
    "r.seed(0)\n",
    "from sklearn.preprocessing import PolynomialFeatures, StandardScaler, MinMaxScaler\n",
    "from ipywidgets import interact, interactive, fixed\n",
    "import ipywidgets as widgets\n",
    "from sklearn.linear_model import LinearRegression\n",
    "from sklearn.metrics import mean_squared_error\n",
    "from sklearn.datasets import load_boston\n",
    "from sklearn.model_selection import train_test_split, ShuffleSplit\n",
    "import pandas as pd\n",
    "import seaborn as sns"
   ]
  },
  {
   "cell_type": "code",
   "execution_count": 3,
   "metadata": {
    "collapsed": false
   },
   "outputs": [
    {
     "name": "stdout",
     "output_type": "stream",
     "text": [
      "dict_keys(['DESCR', 'feature_names', 'data', 'target'])\n",
      "Boston House Prices dataset\n",
      "===========================\n",
      "\n",
      "Notes\n",
      "------\n",
      "Data Set Characteristics:  \n",
      "\n",
      "    :Number of Instances: 506 \n",
      "\n",
      "    :Number of Attributes: 13 numeric/categorical predictive\n",
      "    \n",
      "    :Median Value (attribute 14) is usually the target\n",
      "\n",
      "    :Attribute Information (in order):\n",
      "        - CRIM     per capita crime rate by town\n",
      "        - ZN       proportion of residential land zoned for lots over 25,000 sq.ft.\n",
      "        - INDUS    proportion of non-retail business acres per town\n",
      "        - CHAS     Charles River dummy variable (= 1 if tract bounds river; 0 otherwise)\n",
      "        - NOX      nitric oxides concentration (parts per 10 million)\n",
      "        - RM       average number of rooms per dwelling\n",
      "        - AGE      proportion of owner-occupied units built prior to 1940\n",
      "        - DIS      weighted distances to five Boston employment centres\n",
      "        - RAD      index of accessibility to radial highways\n",
      "        - TAX      full-value property-tax rate per $10,000\n",
      "        - PTRATIO  pupil-teacher ratio by town\n",
      "        - B        1000(Bk - 0.63)^2 where Bk is the proportion of blacks by town\n",
      "        - LSTAT    % lower status of the population\n",
      "        - MEDV     Median value of owner-occupied homes in $1000's\n",
      "\n",
      "    :Missing Attribute Values: None\n",
      "\n",
      "    :Creator: Harrison, D. and Rubinfeld, D.L.\n",
      "\n",
      "This is a copy of UCI ML housing dataset.\n",
      "http://archive.ics.uci.edu/ml/datasets/Housing\n",
      "\n",
      "\n",
      "This dataset was taken from the StatLib library which is maintained at Carnegie Mellon University.\n",
      "\n",
      "The Boston house-price data of Harrison, D. and Rubinfeld, D.L. 'Hedonic\n",
      "prices and the demand for clean air', J. Environ. Economics & Management,\n",
      "vol.5, 81-102, 1978.   Used in Belsley, Kuh & Welsch, 'Regression diagnostics\n",
      "...', Wiley, 1980.   N.B. Various transformations are used in the table on\n",
      "pages 244-261 of the latter.\n",
      "\n",
      "The Boston house-price data has been used in many machine learning papers that address regression\n",
      "problems.   \n",
      "     \n",
      "**References**\n",
      "\n",
      "   - Belsley, Kuh & Welsch, 'Regression diagnostics: Identifying Influential Data and Sources of Collinearity', Wiley, 1980. 244-261.\n",
      "   - Quinlan,R. (1993). Combining Instance-Based and Model-Based Learning. In Proceedings on the Tenth International Conference of Machine Learning, 236-243, University of Massachusetts, Amherst. Morgan Kaufmann.\n",
      "   - many more! (see http://archive.ics.uci.edu/ml/datasets/Housing)\n",
      "\n"
     ]
    }
   ],
   "source": [
    "boston_data = load_boston()\n",
    "print(boston_data.keys())\n",
    "print(boston_data['DESCR'])"
   ]
  },
  {
   "cell_type": "markdown",
   "metadata": {},
   "source": [
    "# 1. Load the data into pandas DataFrame"
   ]
  },
  {
   "cell_type": "code",
   "execution_count": 4,
   "metadata": {
    "collapsed": false
   },
   "outputs": [],
   "source": [
    "data_with_target = np.hstack((boston_data['data'], boston_data['target'].reshape(-1, 1)))\n",
    "feature_names_with_target = np.append(boston_data['feature_names'], 'MEDV')\n",
    "df_with_target = pd.DataFrame(data_with_target, columns=feature_names_with_target)\n",
    "df = df_with_target.drop('MEDV', axis=1)"
   ]
  },
  {
   "cell_type": "code",
   "execution_count": 5,
   "metadata": {
    "collapsed": false
   },
   "outputs": [
    {
     "name": "stdout",
     "output_type": "stream",
     "text": [
      "             CRIM          ZN       INDUS        CHAS         NOX          RM  \\\n",
      "count  506.000000  506.000000  506.000000  506.000000  506.000000  506.000000   \n",
      "mean     3.593761   11.363636   11.136779    0.069170    0.554695    6.284634   \n",
      "std      8.596783   23.322453    6.860353    0.253994    0.115878    0.702617   \n",
      "min      0.006320    0.000000    0.460000    0.000000    0.385000    3.561000   \n",
      "25%      0.082045    0.000000    5.190000    0.000000    0.449000    5.885500   \n",
      "50%      0.256510    0.000000    9.690000    0.000000    0.538000    6.208500   \n",
      "75%      3.647423   12.500000   18.100000    0.000000    0.624000    6.623500   \n",
      "max     88.976200  100.000000   27.740000    1.000000    0.871000    8.780000   \n",
      "\n",
      "              AGE         DIS         RAD         TAX     PTRATIO           B  \\\n",
      "count  506.000000  506.000000  506.000000  506.000000  506.000000  506.000000   \n",
      "mean    68.574901    3.795043    9.549407  408.237154   18.455534  356.674032   \n",
      "std     28.148861    2.105710    8.707259  168.537116    2.164946   91.294864   \n",
      "min      2.900000    1.129600    1.000000  187.000000   12.600000    0.320000   \n",
      "25%     45.025000    2.100175    4.000000  279.000000   17.400000  375.377500   \n",
      "50%     77.500000    3.207450    5.000000  330.000000   19.050000  391.440000   \n",
      "75%     94.075000    5.188425   24.000000  666.000000   20.200000  396.225000   \n",
      "max    100.000000   12.126500   24.000000  711.000000   22.000000  396.900000   \n",
      "\n",
      "            LSTAT  \n",
      "count  506.000000  \n",
      "mean    12.653063  \n",
      "std      7.141062  \n",
      "min      1.730000  \n",
      "25%      6.950000  \n",
      "50%     11.360000  \n",
      "75%     16.955000  \n",
      "max     37.970000  \n"
     ]
    }
   ],
   "source": [
    "df_descr = df.describe()\n",
    "print(df_descr)"
   ]
  },
  {
   "cell_type": "markdown",
   "metadata": {},
   "source": [
    "# 2, 3. Dataset has 13 features, 506 examples"
   ]
  },
  {
   "cell_type": "markdown",
   "metadata": {},
   "source": [
    "# 4. Plot each feature against ‘Median Value’ (housing price)"
   ]
  },
  {
   "cell_type": "code",
   "execution_count": 22,
   "metadata": {
    "collapsed": false,
    "scrolled": true
   },
   "outputs": [
    {
     "data": {
      "application/javascript": [
       "/* Put everything inside the global mpl namespace */\n",
       "window.mpl = {};\n",
       "\n",
       "mpl.get_websocket_type = function() {\n",
       "    if (typeof(WebSocket) !== 'undefined') {\n",
       "        return WebSocket;\n",
       "    } else if (typeof(MozWebSocket) !== 'undefined') {\n",
       "        return MozWebSocket;\n",
       "    } else {\n",
       "        alert('Your browser does not have WebSocket support.' +\n",
       "              'Please try Chrome, Safari or Firefox ≥ 6. ' +\n",
       "              'Firefox 4 and 5 are also supported but you ' +\n",
       "              'have to enable WebSockets in about:config.');\n",
       "    };\n",
       "}\n",
       "\n",
       "mpl.figure = function(figure_id, websocket, ondownload, parent_element) {\n",
       "    this.id = figure_id;\n",
       "\n",
       "    this.ws = websocket;\n",
       "\n",
       "    this.supports_binary = (this.ws.binaryType != undefined);\n",
       "\n",
       "    if (!this.supports_binary) {\n",
       "        var warnings = document.getElementById(\"mpl-warnings\");\n",
       "        if (warnings) {\n",
       "            warnings.style.display = 'block';\n",
       "            warnings.textContent = (\n",
       "                \"This browser does not support binary websocket messages. \" +\n",
       "                    \"Performance may be slow.\");\n",
       "        }\n",
       "    }\n",
       "\n",
       "    this.imageObj = new Image();\n",
       "\n",
       "    this.context = undefined;\n",
       "    this.message = undefined;\n",
       "    this.canvas = undefined;\n",
       "    this.rubberband_canvas = undefined;\n",
       "    this.rubberband_context = undefined;\n",
       "    this.format_dropdown = undefined;\n",
       "\n",
       "    this.image_mode = 'full';\n",
       "\n",
       "    this.root = $('<div/>');\n",
       "    this._root_extra_style(this.root)\n",
       "    this.root.attr('style', 'display: inline-block');\n",
       "\n",
       "    $(parent_element).append(this.root);\n",
       "\n",
       "    this._init_header(this);\n",
       "    this._init_canvas(this);\n",
       "    this._init_toolbar(this);\n",
       "\n",
       "    var fig = this;\n",
       "\n",
       "    this.waiting = false;\n",
       "\n",
       "    this.ws.onopen =  function () {\n",
       "            fig.send_message(\"supports_binary\", {value: fig.supports_binary});\n",
       "            fig.send_message(\"send_image_mode\", {});\n",
       "            fig.send_message(\"refresh\", {});\n",
       "        }\n",
       "\n",
       "    this.imageObj.onload = function() {\n",
       "            if (fig.image_mode == 'full') {\n",
       "                // Full images could contain transparency (where diff images\n",
       "                // almost always do), so we need to clear the canvas so that\n",
       "                // there is no ghosting.\n",
       "                fig.context.clearRect(0, 0, fig.canvas.width, fig.canvas.height);\n",
       "            }\n",
       "            fig.context.drawImage(fig.imageObj, 0, 0);\n",
       "        };\n",
       "\n",
       "    this.imageObj.onunload = function() {\n",
       "        this.ws.close();\n",
       "    }\n",
       "\n",
       "    this.ws.onmessage = this._make_on_message_function(this);\n",
       "\n",
       "    this.ondownload = ondownload;\n",
       "}\n",
       "\n",
       "mpl.figure.prototype._init_header = function() {\n",
       "    var titlebar = $(\n",
       "        '<div class=\"ui-dialog-titlebar ui-widget-header ui-corner-all ' +\n",
       "        'ui-helper-clearfix\"/>');\n",
       "    var titletext = $(\n",
       "        '<div class=\"ui-dialog-title\" style=\"width: 100%; ' +\n",
       "        'text-align: center; padding: 3px;\"/>');\n",
       "    titlebar.append(titletext)\n",
       "    this.root.append(titlebar);\n",
       "    this.header = titletext[0];\n",
       "}\n",
       "\n",
       "\n",
       "\n",
       "mpl.figure.prototype._canvas_extra_style = function(canvas_div) {\n",
       "\n",
       "}\n",
       "\n",
       "\n",
       "mpl.figure.prototype._root_extra_style = function(canvas_div) {\n",
       "\n",
       "}\n",
       "\n",
       "mpl.figure.prototype._init_canvas = function() {\n",
       "    var fig = this;\n",
       "\n",
       "    var canvas_div = $('<div/>');\n",
       "\n",
       "    canvas_div.attr('style', 'position: relative; clear: both; outline: 0');\n",
       "\n",
       "    function canvas_keyboard_event(event) {\n",
       "        return fig.key_event(event, event['data']);\n",
       "    }\n",
       "\n",
       "    canvas_div.keydown('key_press', canvas_keyboard_event);\n",
       "    canvas_div.keyup('key_release', canvas_keyboard_event);\n",
       "    this.canvas_div = canvas_div\n",
       "    this._canvas_extra_style(canvas_div)\n",
       "    this.root.append(canvas_div);\n",
       "\n",
       "    var canvas = $('<canvas/>');\n",
       "    canvas.addClass('mpl-canvas');\n",
       "    canvas.attr('style', \"left: 0; top: 0; z-index: 0; outline: 0\")\n",
       "\n",
       "    this.canvas = canvas[0];\n",
       "    this.context = canvas[0].getContext(\"2d\");\n",
       "\n",
       "    var rubberband = $('<canvas/>');\n",
       "    rubberband.attr('style', \"position: absolute; left: 0; top: 0; z-index: 1;\")\n",
       "\n",
       "    var pass_mouse_events = true;\n",
       "\n",
       "    canvas_div.resizable({\n",
       "        start: function(event, ui) {\n",
       "            pass_mouse_events = false;\n",
       "        },\n",
       "        resize: function(event, ui) {\n",
       "            fig.request_resize(ui.size.width, ui.size.height);\n",
       "        },\n",
       "        stop: function(event, ui) {\n",
       "            pass_mouse_events = true;\n",
       "            fig.request_resize(ui.size.width, ui.size.height);\n",
       "        },\n",
       "    });\n",
       "\n",
       "    function mouse_event_fn(event) {\n",
       "        if (pass_mouse_events)\n",
       "            return fig.mouse_event(event, event['data']);\n",
       "    }\n",
       "\n",
       "    rubberband.mousedown('button_press', mouse_event_fn);\n",
       "    rubberband.mouseup('button_release', mouse_event_fn);\n",
       "    // Throttle sequential mouse events to 1 every 20ms.\n",
       "    rubberband.mousemove('motion_notify', mouse_event_fn);\n",
       "\n",
       "    rubberband.mouseenter('figure_enter', mouse_event_fn);\n",
       "    rubberband.mouseleave('figure_leave', mouse_event_fn);\n",
       "\n",
       "    canvas_div.on(\"wheel\", function (event) {\n",
       "        event = event.originalEvent;\n",
       "        event['data'] = 'scroll'\n",
       "        if (event.deltaY < 0) {\n",
       "            event.step = 1;\n",
       "        } else {\n",
       "            event.step = -1;\n",
       "        }\n",
       "        mouse_event_fn(event);\n",
       "    });\n",
       "\n",
       "    canvas_div.append(canvas);\n",
       "    canvas_div.append(rubberband);\n",
       "\n",
       "    this.rubberband = rubberband;\n",
       "    this.rubberband_canvas = rubberband[0];\n",
       "    this.rubberband_context = rubberband[0].getContext(\"2d\");\n",
       "    this.rubberband_context.strokeStyle = \"#000000\";\n",
       "\n",
       "    this._resize_canvas = function(width, height) {\n",
       "        // Keep the size of the canvas, canvas container, and rubber band\n",
       "        // canvas in synch.\n",
       "        canvas_div.css('width', width)\n",
       "        canvas_div.css('height', height)\n",
       "\n",
       "        canvas.attr('width', width);\n",
       "        canvas.attr('height', height);\n",
       "\n",
       "        rubberband.attr('width', width);\n",
       "        rubberband.attr('height', height);\n",
       "    }\n",
       "\n",
       "    // Set the figure to an initial 600x600px, this will subsequently be updated\n",
       "    // upon first draw.\n",
       "    this._resize_canvas(600, 600);\n",
       "\n",
       "    // Disable right mouse context menu.\n",
       "    $(this.rubberband_canvas).bind(\"contextmenu\",function(e){\n",
       "        return false;\n",
       "    });\n",
       "\n",
       "    function set_focus () {\n",
       "        canvas.focus();\n",
       "        canvas_div.focus();\n",
       "    }\n",
       "\n",
       "    window.setTimeout(set_focus, 100);\n",
       "}\n",
       "\n",
       "mpl.figure.prototype._init_toolbar = function() {\n",
       "    var fig = this;\n",
       "\n",
       "    var nav_element = $('<div/>')\n",
       "    nav_element.attr('style', 'width: 100%');\n",
       "    this.root.append(nav_element);\n",
       "\n",
       "    // Define a callback function for later on.\n",
       "    function toolbar_event(event) {\n",
       "        return fig.toolbar_button_onclick(event['data']);\n",
       "    }\n",
       "    function toolbar_mouse_event(event) {\n",
       "        return fig.toolbar_button_onmouseover(event['data']);\n",
       "    }\n",
       "\n",
       "    for(var toolbar_ind in mpl.toolbar_items) {\n",
       "        var name = mpl.toolbar_items[toolbar_ind][0];\n",
       "        var tooltip = mpl.toolbar_items[toolbar_ind][1];\n",
       "        var image = mpl.toolbar_items[toolbar_ind][2];\n",
       "        var method_name = mpl.toolbar_items[toolbar_ind][3];\n",
       "\n",
       "        if (!name) {\n",
       "            // put a spacer in here.\n",
       "            continue;\n",
       "        }\n",
       "        var button = $('<button/>');\n",
       "        button.addClass('ui-button ui-widget ui-state-default ui-corner-all ' +\n",
       "                        'ui-button-icon-only');\n",
       "        button.attr('role', 'button');\n",
       "        button.attr('aria-disabled', 'false');\n",
       "        button.click(method_name, toolbar_event);\n",
       "        button.mouseover(tooltip, toolbar_mouse_event);\n",
       "\n",
       "        var icon_img = $('<span/>');\n",
       "        icon_img.addClass('ui-button-icon-primary ui-icon');\n",
       "        icon_img.addClass(image);\n",
       "        icon_img.addClass('ui-corner-all');\n",
       "\n",
       "        var tooltip_span = $('<span/>');\n",
       "        tooltip_span.addClass('ui-button-text');\n",
       "        tooltip_span.html(tooltip);\n",
       "\n",
       "        button.append(icon_img);\n",
       "        button.append(tooltip_span);\n",
       "\n",
       "        nav_element.append(button);\n",
       "    }\n",
       "\n",
       "    var fmt_picker_span = $('<span/>');\n",
       "\n",
       "    var fmt_picker = $('<select/>');\n",
       "    fmt_picker.addClass('mpl-toolbar-option ui-widget ui-widget-content');\n",
       "    fmt_picker_span.append(fmt_picker);\n",
       "    nav_element.append(fmt_picker_span);\n",
       "    this.format_dropdown = fmt_picker[0];\n",
       "\n",
       "    for (var ind in mpl.extensions) {\n",
       "        var fmt = mpl.extensions[ind];\n",
       "        var option = $(\n",
       "            '<option/>', {selected: fmt === mpl.default_extension}).html(fmt);\n",
       "        fmt_picker.append(option)\n",
       "    }\n",
       "\n",
       "    // Add hover states to the ui-buttons\n",
       "    $( \".ui-button\" ).hover(\n",
       "        function() { $(this).addClass(\"ui-state-hover\");},\n",
       "        function() { $(this).removeClass(\"ui-state-hover\");}\n",
       "    );\n",
       "\n",
       "    var status_bar = $('<span class=\"mpl-message\"/>');\n",
       "    nav_element.append(status_bar);\n",
       "    this.message = status_bar[0];\n",
       "}\n",
       "\n",
       "mpl.figure.prototype.request_resize = function(x_pixels, y_pixels) {\n",
       "    // Request matplotlib to resize the figure. Matplotlib will then trigger a resize in the client,\n",
       "    // which will in turn request a refresh of the image.\n",
       "    this.send_message('resize', {'width': x_pixels, 'height': y_pixels});\n",
       "}\n",
       "\n",
       "mpl.figure.prototype.send_message = function(type, properties) {\n",
       "    properties['type'] = type;\n",
       "    properties['figure_id'] = this.id;\n",
       "    this.ws.send(JSON.stringify(properties));\n",
       "}\n",
       "\n",
       "mpl.figure.prototype.send_draw_message = function() {\n",
       "    if (!this.waiting) {\n",
       "        this.waiting = true;\n",
       "        this.ws.send(JSON.stringify({type: \"draw\", figure_id: this.id}));\n",
       "    }\n",
       "}\n",
       "\n",
       "\n",
       "mpl.figure.prototype.handle_save = function(fig, msg) {\n",
       "    var format_dropdown = fig.format_dropdown;\n",
       "    var format = format_dropdown.options[format_dropdown.selectedIndex].value;\n",
       "    fig.ondownload(fig, format);\n",
       "}\n",
       "\n",
       "\n",
       "mpl.figure.prototype.handle_resize = function(fig, msg) {\n",
       "    var size = msg['size'];\n",
       "    if (size[0] != fig.canvas.width || size[1] != fig.canvas.height) {\n",
       "        fig._resize_canvas(size[0], size[1]);\n",
       "        fig.send_message(\"refresh\", {});\n",
       "    };\n",
       "}\n",
       "\n",
       "mpl.figure.prototype.handle_rubberband = function(fig, msg) {\n",
       "    var x0 = msg['x0'];\n",
       "    var y0 = fig.canvas.height - msg['y0'];\n",
       "    var x1 = msg['x1'];\n",
       "    var y1 = fig.canvas.height - msg['y1'];\n",
       "    x0 = Math.floor(x0) + 0.5;\n",
       "    y0 = Math.floor(y0) + 0.5;\n",
       "    x1 = Math.floor(x1) + 0.5;\n",
       "    y1 = Math.floor(y1) + 0.5;\n",
       "    var min_x = Math.min(x0, x1);\n",
       "    var min_y = Math.min(y0, y1);\n",
       "    var width = Math.abs(x1 - x0);\n",
       "    var height = Math.abs(y1 - y0);\n",
       "\n",
       "    fig.rubberband_context.clearRect(\n",
       "        0, 0, fig.canvas.width, fig.canvas.height);\n",
       "\n",
       "    fig.rubberband_context.strokeRect(min_x, min_y, width, height);\n",
       "}\n",
       "\n",
       "mpl.figure.prototype.handle_figure_label = function(fig, msg) {\n",
       "    // Updates the figure title.\n",
       "    fig.header.textContent = msg['label'];\n",
       "}\n",
       "\n",
       "mpl.figure.prototype.handle_cursor = function(fig, msg) {\n",
       "    var cursor = msg['cursor'];\n",
       "    switch(cursor)\n",
       "    {\n",
       "    case 0:\n",
       "        cursor = 'pointer';\n",
       "        break;\n",
       "    case 1:\n",
       "        cursor = 'default';\n",
       "        break;\n",
       "    case 2:\n",
       "        cursor = 'crosshair';\n",
       "        break;\n",
       "    case 3:\n",
       "        cursor = 'move';\n",
       "        break;\n",
       "    }\n",
       "    fig.rubberband_canvas.style.cursor = cursor;\n",
       "}\n",
       "\n",
       "mpl.figure.prototype.handle_message = function(fig, msg) {\n",
       "    fig.message.textContent = msg['message'];\n",
       "}\n",
       "\n",
       "mpl.figure.prototype.handle_draw = function(fig, msg) {\n",
       "    // Request the server to send over a new figure.\n",
       "    fig.send_draw_message();\n",
       "}\n",
       "\n",
       "mpl.figure.prototype.handle_image_mode = function(fig, msg) {\n",
       "    fig.image_mode = msg['mode'];\n",
       "}\n",
       "\n",
       "mpl.figure.prototype.updated_canvas_event = function() {\n",
       "    // Called whenever the canvas gets updated.\n",
       "    this.send_message(\"ack\", {});\n",
       "}\n",
       "\n",
       "// A function to construct a web socket function for onmessage handling.\n",
       "// Called in the figure constructor.\n",
       "mpl.figure.prototype._make_on_message_function = function(fig) {\n",
       "    return function socket_on_message(evt) {\n",
       "        if (evt.data instanceof Blob) {\n",
       "            /* FIXME: We get \"Resource interpreted as Image but\n",
       "             * transferred with MIME type text/plain:\" errors on\n",
       "             * Chrome.  But how to set the MIME type?  It doesn't seem\n",
       "             * to be part of the websocket stream */\n",
       "            evt.data.type = \"image/png\";\n",
       "\n",
       "            /* Free the memory for the previous frames */\n",
       "            if (fig.imageObj.src) {\n",
       "                (window.URL || window.webkitURL).revokeObjectURL(\n",
       "                    fig.imageObj.src);\n",
       "            }\n",
       "\n",
       "            fig.imageObj.src = (window.URL || window.webkitURL).createObjectURL(\n",
       "                evt.data);\n",
       "            fig.updated_canvas_event();\n",
       "            fig.waiting = false;\n",
       "            return;\n",
       "        }\n",
       "        else if (typeof evt.data === 'string' && evt.data.slice(0, 21) == \"data:image/png;base64\") {\n",
       "            fig.imageObj.src = evt.data;\n",
       "            fig.updated_canvas_event();\n",
       "            fig.waiting = false;\n",
       "            return;\n",
       "        }\n",
       "\n",
       "        var msg = JSON.parse(evt.data);\n",
       "        var msg_type = msg['type'];\n",
       "\n",
       "        // Call the  \"handle_{type}\" callback, which takes\n",
       "        // the figure and JSON message as its only arguments.\n",
       "        try {\n",
       "            var callback = fig[\"handle_\" + msg_type];\n",
       "        } catch (e) {\n",
       "            console.log(\"No handler for the '\" + msg_type + \"' message type: \", msg);\n",
       "            return;\n",
       "        }\n",
       "\n",
       "        if (callback) {\n",
       "            try {\n",
       "                // console.log(\"Handling '\" + msg_type + \"' message: \", msg);\n",
       "                callback(fig, msg);\n",
       "            } catch (e) {\n",
       "                console.log(\"Exception inside the 'handler_\" + msg_type + \"' callback:\", e, e.stack, msg);\n",
       "            }\n",
       "        }\n",
       "    };\n",
       "}\n",
       "\n",
       "// from http://stackoverflow.com/questions/1114465/getting-mouse-location-in-canvas\n",
       "mpl.findpos = function(e) {\n",
       "    //this section is from http://www.quirksmode.org/js/events_properties.html\n",
       "    var targ;\n",
       "    if (!e)\n",
       "        e = window.event;\n",
       "    if (e.target)\n",
       "        targ = e.target;\n",
       "    else if (e.srcElement)\n",
       "        targ = e.srcElement;\n",
       "    if (targ.nodeType == 3) // defeat Safari bug\n",
       "        targ = targ.parentNode;\n",
       "\n",
       "    // jQuery normalizes the pageX and pageY\n",
       "    // pageX,Y are the mouse positions relative to the document\n",
       "    // offset() returns the position of the element relative to the document\n",
       "    var x = e.pageX - $(targ).offset().left;\n",
       "    var y = e.pageY - $(targ).offset().top;\n",
       "\n",
       "    return {\"x\": x, \"y\": y};\n",
       "};\n",
       "\n",
       "/*\n",
       " * return a copy of an object with only non-object keys\n",
       " * we need this to avoid circular references\n",
       " * http://stackoverflow.com/a/24161582/3208463\n",
       " */\n",
       "function simpleKeys (original) {\n",
       "  return Object.keys(original).reduce(function (obj, key) {\n",
       "    if (typeof original[key] !== 'object')\n",
       "        obj[key] = original[key]\n",
       "    return obj;\n",
       "  }, {});\n",
       "}\n",
       "\n",
       "mpl.figure.prototype.mouse_event = function(event, name) {\n",
       "    var canvas_pos = mpl.findpos(event)\n",
       "\n",
       "    if (name === 'button_press')\n",
       "    {\n",
       "        this.canvas.focus();\n",
       "        this.canvas_div.focus();\n",
       "    }\n",
       "\n",
       "    var x = canvas_pos.x;\n",
       "    var y = canvas_pos.y;\n",
       "\n",
       "    this.send_message(name, {x: x, y: y, button: event.button,\n",
       "                             step: event.step,\n",
       "                             guiEvent: simpleKeys(event)});\n",
       "\n",
       "    /* This prevents the web browser from automatically changing to\n",
       "     * the text insertion cursor when the button is pressed.  We want\n",
       "     * to control all of the cursor setting manually through the\n",
       "     * 'cursor' event from matplotlib */\n",
       "    event.preventDefault();\n",
       "    return false;\n",
       "}\n",
       "\n",
       "mpl.figure.prototype._key_event_extra = function(event, name) {\n",
       "    // Handle any extra behaviour associated with a key event\n",
       "}\n",
       "\n",
       "mpl.figure.prototype.key_event = function(event, name) {\n",
       "\n",
       "    // Prevent repeat events\n",
       "    if (name == 'key_press')\n",
       "    {\n",
       "        if (event.which === this._key)\n",
       "            return;\n",
       "        else\n",
       "            this._key = event.which;\n",
       "    }\n",
       "    if (name == 'key_release')\n",
       "        this._key = null;\n",
       "\n",
       "    var value = '';\n",
       "    if (event.ctrlKey && event.which != 17)\n",
       "        value += \"ctrl+\";\n",
       "    if (event.altKey && event.which != 18)\n",
       "        value += \"alt+\";\n",
       "    if (event.shiftKey && event.which != 16)\n",
       "        value += \"shift+\";\n",
       "\n",
       "    value += 'k';\n",
       "    value += event.which.toString();\n",
       "\n",
       "    this._key_event_extra(event, name);\n",
       "\n",
       "    this.send_message(name, {key: value,\n",
       "                             guiEvent: simpleKeys(event)});\n",
       "    return false;\n",
       "}\n",
       "\n",
       "mpl.figure.prototype.toolbar_button_onclick = function(name) {\n",
       "    if (name == 'download') {\n",
       "        this.handle_save(this, null);\n",
       "    } else {\n",
       "        this.send_message(\"toolbar_button\", {name: name});\n",
       "    }\n",
       "};\n",
       "\n",
       "mpl.figure.prototype.toolbar_button_onmouseover = function(tooltip) {\n",
       "    this.message.textContent = tooltip;\n",
       "};\n",
       "mpl.toolbar_items = [[\"Home\", \"Reset original view\", \"fa fa-home icon-home\", \"home\"], [\"Back\", \"Back to  previous view\", \"fa fa-arrow-left icon-arrow-left\", \"back\"], [\"Forward\", \"Forward to next view\", \"fa fa-arrow-right icon-arrow-right\", \"forward\"], [\"\", \"\", \"\", \"\"], [\"Pan\", \"Pan axes with left mouse, zoom with right\", \"fa fa-arrows icon-move\", \"pan\"], [\"Zoom\", \"Zoom to rectangle\", \"fa fa-square-o icon-check-empty\", \"zoom\"], [\"\", \"\", \"\", \"\"], [\"Download\", \"Download plot\", \"fa fa-floppy-o icon-save\", \"download\"]];\n",
       "\n",
       "mpl.extensions = [\"eps\", \"jpeg\", \"pdf\", \"png\", \"ps\", \"raw\", \"svg\", \"tif\"];\n",
       "\n",
       "mpl.default_extension = \"png\";var comm_websocket_adapter = function(comm) {\n",
       "    // Create a \"websocket\"-like object which calls the given IPython comm\n",
       "    // object with the appropriate methods. Currently this is a non binary\n",
       "    // socket, so there is still some room for performance tuning.\n",
       "    var ws = {};\n",
       "\n",
       "    ws.close = function() {\n",
       "        comm.close()\n",
       "    };\n",
       "    ws.send = function(m) {\n",
       "        //console.log('sending', m);\n",
       "        comm.send(m);\n",
       "    };\n",
       "    // Register the callback with on_msg.\n",
       "    comm.on_msg(function(msg) {\n",
       "        //console.log('receiving', msg['content']['data'], msg);\n",
       "        // Pass the mpl event to the overriden (by mpl) onmessage function.\n",
       "        ws.onmessage(msg['content']['data'])\n",
       "    });\n",
       "    return ws;\n",
       "}\n",
       "\n",
       "mpl.mpl_figure_comm = function(comm, msg) {\n",
       "    // This is the function which gets called when the mpl process\n",
       "    // starts-up an IPython Comm through the \"matplotlib\" channel.\n",
       "\n",
       "    var id = msg.content.data.id;\n",
       "    // Get hold of the div created by the display call when the Comm\n",
       "    // socket was opened in Python.\n",
       "    var element = $(\"#\" + id);\n",
       "    var ws_proxy = comm_websocket_adapter(comm)\n",
       "\n",
       "    function ondownload(figure, format) {\n",
       "        window.open(figure.imageObj.src);\n",
       "    }\n",
       "\n",
       "    var fig = new mpl.figure(id, ws_proxy,\n",
       "                           ondownload,\n",
       "                           element.get(0));\n",
       "\n",
       "    // Call onopen now - mpl needs it, as it is assuming we've passed it a real\n",
       "    // web socket which is closed, not our websocket->open comm proxy.\n",
       "    ws_proxy.onopen();\n",
       "\n",
       "    fig.parent_element = element.get(0);\n",
       "    fig.cell_info = mpl.find_output_cell(\"<div id='\" + id + \"'></div>\");\n",
       "    if (!fig.cell_info) {\n",
       "        console.error(\"Failed to find cell for figure\", id, fig);\n",
       "        return;\n",
       "    }\n",
       "\n",
       "    var output_index = fig.cell_info[2]\n",
       "    var cell = fig.cell_info[0];\n",
       "\n",
       "};\n",
       "\n",
       "mpl.figure.prototype.handle_close = function(fig, msg) {\n",
       "    fig.root.unbind('remove')\n",
       "\n",
       "    // Update the output cell to use the data from the current canvas.\n",
       "    fig.push_to_output();\n",
       "    var dataURL = fig.canvas.toDataURL();\n",
       "    // Re-enable the keyboard manager in IPython - without this line, in FF,\n",
       "    // the notebook keyboard shortcuts fail.\n",
       "    IPython.keyboard_manager.enable()\n",
       "    $(fig.parent_element).html('<img src=\"' + dataURL + '\">');\n",
       "    fig.close_ws(fig, msg);\n",
       "}\n",
       "\n",
       "mpl.figure.prototype.close_ws = function(fig, msg){\n",
       "    fig.send_message('closing', msg);\n",
       "    // fig.ws.close()\n",
       "}\n",
       "\n",
       "mpl.figure.prototype.push_to_output = function(remove_interactive) {\n",
       "    // Turn the data on the canvas into data in the output cell.\n",
       "    var dataURL = this.canvas.toDataURL();\n",
       "    this.cell_info[1]['text/html'] = '<img src=\"' + dataURL + '\">';\n",
       "}\n",
       "\n",
       "mpl.figure.prototype.updated_canvas_event = function() {\n",
       "    // Tell IPython that the notebook contents must change.\n",
       "    IPython.notebook.set_dirty(true);\n",
       "    this.send_message(\"ack\", {});\n",
       "    var fig = this;\n",
       "    // Wait a second, then push the new image to the DOM so\n",
       "    // that it is saved nicely (might be nice to debounce this).\n",
       "    setTimeout(function () { fig.push_to_output() }, 1000);\n",
       "}\n",
       "\n",
       "mpl.figure.prototype._init_toolbar = function() {\n",
       "    var fig = this;\n",
       "\n",
       "    var nav_element = $('<div/>')\n",
       "    nav_element.attr('style', 'width: 100%');\n",
       "    this.root.append(nav_element);\n",
       "\n",
       "    // Define a callback function for later on.\n",
       "    function toolbar_event(event) {\n",
       "        return fig.toolbar_button_onclick(event['data']);\n",
       "    }\n",
       "    function toolbar_mouse_event(event) {\n",
       "        return fig.toolbar_button_onmouseover(event['data']);\n",
       "    }\n",
       "\n",
       "    for(var toolbar_ind in mpl.toolbar_items){\n",
       "        var name = mpl.toolbar_items[toolbar_ind][0];\n",
       "        var tooltip = mpl.toolbar_items[toolbar_ind][1];\n",
       "        var image = mpl.toolbar_items[toolbar_ind][2];\n",
       "        var method_name = mpl.toolbar_items[toolbar_ind][3];\n",
       "\n",
       "        if (!name) { continue; };\n",
       "\n",
       "        var button = $('<button class=\"btn btn-default\" href=\"#\" title=\"' + name + '\"><i class=\"fa ' + image + ' fa-lg\"></i></button>');\n",
       "        button.click(method_name, toolbar_event);\n",
       "        button.mouseover(tooltip, toolbar_mouse_event);\n",
       "        nav_element.append(button);\n",
       "    }\n",
       "\n",
       "    // Add the status bar.\n",
       "    var status_bar = $('<span class=\"mpl-message\" style=\"text-align:right; float: right;\"/>');\n",
       "    nav_element.append(status_bar);\n",
       "    this.message = status_bar[0];\n",
       "\n",
       "    // Add the close button to the window.\n",
       "    var buttongrp = $('<div class=\"btn-group inline pull-right\"></div>');\n",
       "    var button = $('<button class=\"btn btn-mini btn-primary\" href=\"#\" title=\"Stop Interaction\"><i class=\"fa fa-power-off icon-remove icon-large\"></i></button>');\n",
       "    button.click(function (evt) { fig.handle_close(fig, {}); } );\n",
       "    button.mouseover('Stop Interaction', toolbar_mouse_event);\n",
       "    buttongrp.append(button);\n",
       "    var titlebar = this.root.find($('.ui-dialog-titlebar'));\n",
       "    titlebar.prepend(buttongrp);\n",
       "}\n",
       "\n",
       "mpl.figure.prototype._root_extra_style = function(el){\n",
       "    var fig = this\n",
       "    el.on(\"remove\", function(){\n",
       "\tfig.close_ws(fig, {});\n",
       "    });\n",
       "}\n",
       "\n",
       "mpl.figure.prototype._canvas_extra_style = function(el){\n",
       "    // this is important to make the div 'focusable\n",
       "    el.attr('tabindex', 0)\n",
       "    // reach out to IPython and tell the keyboard manager to turn it's self\n",
       "    // off when our div gets focus\n",
       "\n",
       "    // location in version 3\n",
       "    if (IPython.notebook.keyboard_manager) {\n",
       "        IPython.notebook.keyboard_manager.register_events(el);\n",
       "    }\n",
       "    else {\n",
       "        // location in version 2\n",
       "        IPython.keyboard_manager.register_events(el);\n",
       "    }\n",
       "\n",
       "}\n",
       "\n",
       "mpl.figure.prototype._key_event_extra = function(event, name) {\n",
       "    var manager = IPython.notebook.keyboard_manager;\n",
       "    if (!manager)\n",
       "        manager = IPython.keyboard_manager;\n",
       "\n",
       "    // Check for shift+enter\n",
       "    if (event.shiftKey && event.which == 13) {\n",
       "        this.canvas_div.blur();\n",
       "        // select the cell after this one\n",
       "        var index = IPython.notebook.find_cell_index(this.cell_info[0]);\n",
       "        IPython.notebook.select(index + 1);\n",
       "    }\n",
       "}\n",
       "\n",
       "mpl.figure.prototype.handle_save = function(fig, msg) {\n",
       "    fig.ondownload(fig, null);\n",
       "}\n",
       "\n",
       "\n",
       "mpl.find_output_cell = function(html_output) {\n",
       "    // Return the cell and output element which can be found *uniquely* in the notebook.\n",
       "    // Note - this is a bit hacky, but it is done because the \"notebook_saving.Notebook\"\n",
       "    // IPython event is triggered only after the cells have been serialised, which for\n",
       "    // our purposes (turning an active figure into a static one), is too late.\n",
       "    var cells = IPython.notebook.get_cells();\n",
       "    var ncells = cells.length;\n",
       "    for (var i=0; i<ncells; i++) {\n",
       "        var cell = cells[i];\n",
       "        if (cell.cell_type === 'code'){\n",
       "            for (var j=0; j<cell.output_area.outputs.length; j++) {\n",
       "                var data = cell.output_area.outputs[j];\n",
       "                if (data.data) {\n",
       "                    // IPython >= 3 moved mimebundle to data attribute of output\n",
       "                    data = data.data;\n",
       "                }\n",
       "                if (data['text/html'] == html_output) {\n",
       "                    return [cell, data, j];\n",
       "                }\n",
       "            }\n",
       "        }\n",
       "    }\n",
       "}\n",
       "\n",
       "// Register the function which deals with the matplotlib target/channel.\n",
       "// The kernel may be null if the page has been refreshed.\n",
       "if (IPython.notebook.kernel != null) {\n",
       "    IPython.notebook.kernel.comm_manager.register_target('matplotlib', mpl.mpl_figure_comm);\n",
       "}\n"
      ],
      "text/plain": [
       "<IPython.core.display.Javascript object>"
      ]
     },
     "metadata": {},
     "output_type": "display_data"
    },
    {
     "data": {
      "text/html": [
       "<img src=\"data:image/png;base64,iVBORw0KGgoAAAANSUhEUgAACigAAADICAYAAAB4FftrAAAgAElEQVR4Xuy9CXgdx3Umei42AiQBAiBBgCBWErjgIoq7zFWyKIqU5Mh7ZMti7InfTPLe92J/k8nyHE8+v8x88xy9ePImcb6ZNxMnfhmHshw7ihdJ1kbLIilSEndSJMELUiRIcAEJggA3AMR231cN9kXfRndXVXedvui6536fP4u4dauq/3P+c06dqj4VA/oQAoQAIUAIEAKEACFACBAChAAhQAgQAoQAIUAIEAKEACFACBAChAAhQAgQAoQAIUAIEAKEACFACBAChAAhQAgQAoQAIaAYgZji/qg7QoAQIAQIAUKAECAECAFCgBAgBAgBQoAQIAQIAUKAECAECAFCgBAgBAgBQoAQIAQIAUKAECAECAFCgBAgBAgBQoAQIASADiiSEhAChAAhQAgQAoQAIUAIEAKEACFACBAChAAhQAgQAoQAIUAIEAKEACFACBAChAAhQAgQAoQAIUAIEAKEACFACBAChIByBOiAonJIqUNCgBAgBAgBQoAQIAQIAUKAECAECAFCgBAgBAgBQoAQIAQIAUKAECAECAFCgBAgBAgBQoAQIAQIAUKAECAECAFCgBCgA4qkA4QAIUAIEAKEACFACBAChAAhQAgQAoQAIUAIEAKEACFACBAChAAhQAgQAoQAIUAIEAKEACFACBAChAAhQAgQAoQAIaAcATqgqBxS6pAQIAQIAUKAECAECAFCgBAgBAgBQoAQIAQIAUKAECAECAFCgBAgBAgBQoAQIAQIAUKAECAECAFCgBAgBAgBQoAQIATogCLpACFACBAChAAhQAgQAoQAIUAIEAKEACFACBAChAAhQAgQAoQAIUAIEAKEACFACBAChAAhQAgQAoQAIUAIEAKEACFACChHgA4oKoeUOiQECAFCgBAgBAgBQoAQIAQIAUKAECAECAFCgBAgBAgBQoAQIAQIAUKAECAECAFCgBAgBAgBQoAQIAQIAUKAECAECAE6oEg6QAgQAoQAIUAIEAKEACFACBAChAAhQAgQAoQAIUAIEAKEACFACBAChAAhQAgQAoQAIUAIEAKEACFACBAChAAhQAgQAsoRoAOKyiGlDgkBQoAQIAQIAUKAECAECAFCgBAgBAgBQoAQIAQIAUKAECAECAFCgBAgBAgBQoAQIAQIAUKAECAECAFCgBAgBAgBQoAOKJIOEAKEACFACBAChAAhQAgQAoQAIUAIEAKEACFACBAChAAhQAgQAoQAIUAIEAKEACFACBAChAAhQAgQAoQAIUAIEAKEgHIE6ICickipQ0KAECAECAFCgBAgBAgBQoAQIAQIAUKAECAECAFCgBAgBAgBQoAQIAQIAUKAECAECAFCgBAgBAgBQoAQIAQIAUKAEKADiqQDhAAhQAgQAoQAIUAIEAKEACFACBAChAAhQAgQAoQAIUAIEAKEACFACBAChAAhQAgQAoQAIUAIEAKEACFACBAChAAhoBwBOqCoHFLqkBAgBAgBQoAQIAQIAUKAECAECAFCgBAgBAgBQoAQIAQIAUKAECAECAFCgBAgBAgBQoAQIAQIAUKAECAECAFCgBAgBCbVAcXm5uanY7HYt2Kx2NRkMvlWW1vbv21ubn4kJyfnr5LJZBEA/Kqtre1rADBKoiMECAFCgBAgBAgBQoAQIAQIAUKAECAECAFCgBAgBAgBQoAQIAQIAUKAECAECAFCgBAgBAgBQoAQIAQIAUKAECAECIHJi8CkOaDY0tLSCAC7c3JyVre2tl5raWl5OxaL/eXo6Oh3k8nkY6dPn/6opaXlHwDg3UQi8XeTF1KaGSFACBAChAAhQAgQAoQAIUAIEAKEACFACBAChAAhQAgQAoQAIUAIEAKEACFACBAChAAhQAgQAoQAIUAIEAKEACFACEymA4r/DgCqE4nEHzKxLF68uGpoaCgOAP9nW1vbY+xv8Xh8IwD8mflvEh8hQAgQAoQAIUAIEAKEACFACBAChAAhQAgQAoQAIUAIEAKEACFACBAChAAhQAgQAoQAIUAIEAKEACFACBAChAAhQAhMTgQmzQHFeDz+3wDgHgAsiMVicwDg5WQyeQIAnmpra/syg6+5uXl+LBZ7ta2tbcHkhJNmRQgQAoQAIUAIEAKEACFACBAChAAhQAgQAoQAIUAIEAKEACFACBAChAAhQAgQAoQAIUAIEAKEACFACBAChAAhQAgQAgyBSXNAsaWl5W8BYENOTs7G4eHhOzk5OeyA4juxWKwlkUh8hU22qampKTc39+eJRGIxiY8QIAQIAUKAECAECAFCgBAgBAgBQoAQIAQIAUKAECAECAFCgBAgBAgBQoAQIAQIAUKAECAECAFCgBAgBAgBQoAQIAQmLwKT5oBiPB7/j7FYrCyRSHyNwdXS0vK/JZPJz8disdFEIvH4/b9tAIBvJRKJLV6Qjo6OJmOxSfNok1f6NLPQEYhlSDGJE6GLmgYUQID4IAASNckqBIgTWSVuelgOAsQHUhFCIB0B4gRpBCEwjgDxgbSBECAfQTpACLghQD6CdIMQIB9BOkAIkI8gHSAExBCguEkMJ2qVHQgQH7JDzvSU4ghgcWLSnOKLx+MPAcAPhoeHP3b27Nk78Xj8JQB4NRaL/WlOTs7jra2tbfF4/O9zcnKOnTp16q+9oEsmk8nu7tuQTIoD7LclOwc5c2Yx0Hh+EbRuMuiP5axZJRnhHCYnMDmA2TfTPOrfm7eY+LC+iQ/ydhNTJlHnhA7YECfkOKGDzDFjyCjjQz5Cjgtm6yjLHNsH6YAN+Qg5Xuggc/IRzjInHyHHBR18BPGZv24nHyHHC9Ipvk5F1QeRj5DjAvkIPl462AvyEXw5W1voIPOo2vAw8gI68sGu4dg6nE3jZQOWxAk5H8FrnQ06g+ljMmlfdFhHqNI/Vf2o9Os0J571GfteNU5YPiIjh6XcIIzH4/8KAP4AAPJisdiORCLx9Xg8viEWi7EDiYUAsG/OnDn/+p133hn2EgM7jHX9engHFGfNKgYaT4wYXq3GjL/eWFZUZO6AIpaOYsoNs2/TUGPqHM3fnfEMG+KDvN0knfLWqajzmTghxwniA39jMaqcIB8hxwXrxmJUZY4dl+lgL8hHyPFCB5kTn51lTj5Cjgs6+AjiMz/mIx8hxwvSKb5ORdUHkY+Q4wL5CD5eOtgL8hF8OVtb6CDzqNrwMPICOvLB6UAPpg5k03jY9mAyYEmckPMRvNbZoDO62hcd1hGq9E9VPyr9Os2JZ33GvleNE5aPmFQHFMWg5beiA4p8jERbqFRk3phhjqWapLxnM8fDIjJvfExOYMoNs+8wdIDm766ZOgR7Tk9HMs/cRocO2JOP4Hmz9O91kDnmgj7K+JCPkOOCDhuL2HFZlPlA6wjiA8bNEFHmBPmI7ONElPUV27+Rj8g+PoSlU1Fdp5CPyD5OkI/g5+Eo1yTHC9Ipvk6Rj5DTKdYac3/OPhtsHc6m8bIBSx19RCZ1NBt0BtMHZFp2UeeDKv1T1Y/KtSvNSSz2UI0TFifogKKYPF1bqRS0yFR0Hk/nZ6OksYh2T2yDrRPUf+YSDpQ0Jk6o3mzXgc9YwR5P2zCTZJhywexb5eLJDX+av7tmko/gsdb5e9Ipb53CTKCFgT35CDlehCGTqOtUVOdPPkKOC2brKHMiynMPK6YkHyHHC9KpzOWCsDlBPkKOC+Qj+HjpYC/IR/DlbG2hg8yjGueTj5DT1UzlG+3jYnMmk+Pp/Gw671mTzqixJU696MwJHdYRquSjqh+Vfp3mJMZr1ThhrSPogKKYPF1bqRS0yFR0Hk/nZ9M52MOUG2bfKh1jphaDUcZHh2AvEwF6lGWOzTkdsMEK9njxBR1QdEZIB52KalKafASPtaSzsgjpwGfyEXJS10HmUbXhYcR8xAc5PmDLBLt/4rO3vCluyi4+YPMt6v0TH+T5oIPMKWZylztxQp4TFHfw446ock5XPmTyMFYYPiSTz4dtDzL5bDrvWWcS12zQGUwfkGnZRT3XpEr/VPWj0kfQnMRiWtU4YXGCDiiKydO1lUpBi0xF5/F0fjadgz1MuWH2rdIxunGX5k8JMhG7LtOGdMpbpzAXR2FgjxXs8XSMDig6IxSGzKOus1jz1zVpTDqVuY0OHbAnH8HzZunf6yBzLBsb9XUQ+Qg5Lpito8yJKM89LL6Rj5DjBelU5mIybE6Qj5DjAvkIPl462AvyEXw5W1voIHNaR7jn+XTkQyYP9GD7dSdJYnM0THswGWRHnJDzEbzWYeqn7vwL+/l0WEeo0j9V/aiUIc2JZ33GvleNE5aPoAOKYvJ0baVS0CJT0Xk8nZ/NNApYRObpDh0+cV+U0oLdXXswOalDsJeJBTKmTFQHL2HjowM25CN43iz9ex1kTj4ou5LGpLPeHMfEB7PvsPwn+QjyEXIIZI5v2JygdYQ/TYiyHYzy3LH5QLmm7ONDWDoV1XUK+Yjs4wT5CH7MR+sIOV6QTvF1inyEnE6x1pj7c/bZYOtwNo2XDVjq6CMyqaPZoDOYPiDTsos6H1Tpn6p+VK5daU5isYdqnLA4QQcUxeTp2kqloEWmovN4Oj8bJY1FtHtiG2ydoP4zl3CgpDFxIpn0h4Hbr3TgM1awx0MaM0mGKRfMvlUunnTWWayEBPkIHmudvydOuOOmAzbkI+R4oYPMsWxs1H0c+Qg5Lpito8yJKM89LL6Rj5DjBelU5nJB2JwgHyHHBfIRfLx0sBfkI/hytrbQQea0jnDPmejIB/vTYutwNo2XDVgSJ+R8BK91NugMpo/JpH3RYR2hSv9U9aNy7Udz4lmfse9V44TlI+iAopg8XVupFLTIVHQeT+dnM40CFpF5ukOHT2gjn6cjTt9jclKHYC9szFQHF7rNH1Nfw8KefIScpdJB5pgL+ijjQz5Cjgs6bCxi29ko84HWEcQH1S91YPMNu3/yEdnHCR1sOHbMR+sIOV6QTnnjFWV8yEfIcUGHdUSU9RU7ZqJ1RPbxISydwo5rsPrX1UfYNR3bLmbTeNmApY7riEzqaDboDJaNzsR+pXVMHXyEKv1T1Y/KuITmJBbXqsYJy0fQAUUxebq2UilokanoPJ7Oz0YJARHtntgGWyeo/8wlpXUI9jIRMJPOuuusDthgBXs8C0yH2J0R0kGnMBMGmPiQj+CxlnRWFiFMfVWZbHF7LuKErMTVvjFKMd/kwp/4IC+PsOwUVtyhgw3HwoZyTdnHh6jzGXv+5COyjxPkI/i5Xco1yfGCdIqvU9hxDVb/uvoIu8SwdTibxssGLHX0EZnU0WzQGSwbnYncm3VMHXyEKv1T1Y/KtR/NSSyeVY0Tlo+gA4pi8nRtpVLQIlPReTydn42SxiLaPbENtk5Q/5lLOOgQ7GUiYCaddddZHbDBCvZ4FpgOKDojpINOYSYMMPEhH8FjLemsLEKY+qoy2eL2XMQJWYnTAUUeYlHmBPGBJ139fESU9ZV8hD99xcaNdCpzuaAwZEvranneRZkTUZ47Nh9oP0KeC2HJJKq5mqjjo+s6wq7p2HYxm8bLBix1jJsyqaPZoDOYPizTsos6H1Tpn6p+VMYNNCexuFY1TlicoAOKYvJ0baVS0CJT0Xk8nZ+NEgIi2j2xDbZOUP+ZS0rrmhAgncqsTmEujsKQLVawx7PAdEBRv418lYs/N/3B5AT5CB5rSWdlEcLU17D4Rj5CTuo6yDzqcQ3W/MlHyHHBbB1lTkR57uQj/OkrNm6kU5lbt4chW4qZ5HkXZU5Eee7YfKD9CHkuhCUTrDiZ5s/3bzr6CPtTY9vFbBovG7AkTvjzFZnIlzuNmQ06iukzrZjqkGtSpQ+q+lEZl9CcxGyVapywfAQdUBSTp2srlYIWmYrO4+n8bJQQENHuiW2wdYL65y/asYI/HYK9TCwISGfddVYHbLCCPZ4FpgOKzgjpoFNYNlzl4tLNlhIfeMyluEkGIR34TJyQkThVUOShFWVO0DqCJ1394poo6yt2zES5puzjQ1g6ResIed2K6ro66jpFPoKf26V1hByfSaf4OkU+Qk6nWGtMH2GfDbYOZ9N42YCljj4ikzqaDTqD6QMyLbuo80GV/qnqR+U6g+YkFnuoxgmLE3RAUUyerq1UClpkKjqPp/OzUdJYRLtpo10WJWzOYPZPG4uy0h5rjymTqPevAzZYwR5P2zCTZJhywew76nyI+vzJR/BY6/w9ccIdNx2wIR8hxwsdZI6Z9I0yPuQj5Lhgto66zIkP3j6OfIQcL6LMh6jH+djzJx8hxwXyEXy8dLAX5CP4cra20EHmFDe550x05IP9abF1OJvGywYsiRNyPoLXOht0BtPHZNK+6LCOUKV/qvpRufajOfGsj/ozBJicoAOKYvJ0baWSECJT0Xk8nZ/NNMI6BnuYcsPsW6VjdOMuzZ82UUTsukwb0ik6fCKjL6Jt6YCie+ISc8FNfCYfIcpR0XakU+QjRHVFph35CPIRMvpitsW0R5gJMt6zRpUPUV/7YupT1LGhXBOPtWTD/SAUZc6Rj/Aj8Wi/DBtlfQ3LB9F+hBwvSKe88YoyPrr6CLvEsGWUTeNlA5Y6+ohM6mg26AzmfkmmZRd1PqjSP1X9qIx1aU5i8axqnLA4QQcUxeTp2kqloEWmovN4Oj8bJY1FtHtiG2ydoP4zl3DQNSFAOpVZncJcHIUhW6xgj2eBo7rZHoZMoq5TUZ0/+Qgea2mzXRYhHewF+Qg5qesg86jacJUJSCepk4+Q44LZOsqciPLcsflAuabs40NYOhVVH0Q+Ivs4QT6Cn4ejdYQcL0in+DpFPkJOp1hrzNxrJg/0hBGXZPL5sO1BJp9N53VEJnHNBp3B9AGZll3UYyZV+qeqH5U+guYkFnuoxgmLE3RAUUyerq1UClpkKjqPp/Oz6RzsYcoNs2+VjtGNuzR/d6tGSWMRiz+xDemUt05hLo7CwB4r2ONpG2aSDBM3zL7JR/C0BrfKBvkIPv5OLYgT5CP8aY73r8hHOONDfMvcxiX5CH9Mj7LORnnuYcWUtI6Q4wXpVOZsODYnyEfIccFsHWVORHnu2Hyg/Yjs40NYOhXV/KuuPsKu6dh2MZvGywYsdVxHZFJHs0FnMH1ApmUXdT6o0j9V/aiMS2hOYnGtapywODGpDii2tLS8mEwml8disb77MP+HkZGRM7m5uX8HADOSyeTx/v7+r3R0dPR7iQFzEyWTxlElkcXUGHfzORuxxCIyT56YnFBp7MLWCcy5h8HXKM9f14RAlGUSdZ3VAXvyETxvlv69DjLHXNBHGR/yEXJc0GFjEdsHRZkPtLFIfEgm/WHg9asoc4J8hD99iLrMKWZylztxQp4TUeYDdswU9f6JD/J80EHm5CPIR/jTfOdfkY/wRjPK+OjqI8LeU8um8bD1fTJgqeN+RCZxzQadwYy7Mi27qPNBlf6p6kflOoPmJBbtqsYJixOT6oBiPB5vGxwcfKi9vb3XhLmlpeUwAHwtkUi8G4/H/0MsFstLJBL/3ksMmIexMmkcVRJZTI3pgKIoTiLtdF0AqTR2YfMLc+5h8DXK8yc+iFiNiW2iLHNsTuiADVawx9M2zLgJUy6YfWPrK/XPT3gTH3jMJR8hg5AO9oI4ISNx/HWsDjqFmVTGxIfWEXJcMFtjygQ7rony3LGxMfsnHyHHC9IpfixOPkJOp1jrqK6rw7JTWDpFfObzmXyEHJ9Jp/g6hcVnbHuk6zoi7D21bBoP2x5MBix19BGZxDUbdAbTB2RadlHngyr9U9WPSr9OcxKLZ1XjhMWJSXNAccmSJWWDg4NnAeDdZDJZF4vFXhodHf1+Tk7OzkQiMZ/B3tTUVJubm/uO+W83UWAmBNyM461bfTAyMlbaYHh4NNUsJ2cc4tHRse/Nv5n/FlOpsVYqFUtk3DDHC3OsTGGJRWSeLDE5gSk3zL7D0IHJOH9mf5xsj9PfMeeva0LAilkslo61F/ZMH53kkpeXk+ZTvGTi1j/PPli/x5R5UM4VFeVDf/+Q4+MUFubBvXvDgLk4CgMb8hEy2oofE4Uh86jrLNb8s8FHmBXRgqwLTMaY9t/U2Rs37qTWJXKsGm/tFRfcvt0PAwPDE7pmttj6d6c+vHwVJucw+w7q30RklE2cEMFDpA2WzO18u379NlgrHMrEY6r54NWfNS/B/ntkZNSIm9zshdkX73nssaopGyz8Tb5RzCTCgvQ2QdYRbnJWvY5w0zdRfeLpqxtqTv3b+3L6t30NZ23DMDPXd8lkEn2dEiVOMJzY/1ju1Em3TBxzc2NQXj4dmJ21rq1F4gueLojqlJPOiORUrHOnKrgTUQyCP8/6ZVvMxNN1hpdTG5lcEw9zkTlgyxxrXYoR59tzW5jY6Bo3MZ1juJk+QiYWN/XVK7bxyu3y+CDyvdm/27papA+vNmHoVBDOeeV3MThnj1ejFDOxuYvE4XY7LBP38+Qhoo+qdY4Xa6keT4ZPKvCSGU8E/yBtdI2b7JhkUmeCyEfkt2E+WxAb7baGM9fUBQW5MDg4Ytg8to5m/2b/PzQ0grqWjrqPkNF1+x6EuS5n/29iz9bo1jiLt8fAs9fse1X5EJW6rqovVf0E4ZaMDojYlLA4MWkOKMbj8YUA8GeDg4O/OzIycq+oqOgVANgRi8WeTCQSD98HJLelpeVuIpEo9AIR8zCWddzLN/rgYKILTpzrhrqqEqgsK4Ip+bnQfWsA1iyqhLOXb8GtviHj3xc6b8HGpXPhdt8gHDndBfVVJdBQVQwPzp8J06bkCeuESmUXGTTM8cIcSyXZRXDUNSFw7tpdOJS4Bm0XeiBeVwYrWmZD4+xpopB4trtx5x7sPHoZTrX3wIKGMnhkaTWUT5+ipG+zE2ydw+z/7r1h2Hu8E460dcGyeAWse6DK05aY7Q+3dcFyS3u3v2NzRNfFD3uu3IJ8eG3vOTCxXtlSYfgKJ+yPfdQN7Z234XznLVgenw0blozJ0U3/nXTKS4ayhMHUWb861dF9F/adHLczDy2aDbUzx+wM88PvnbiaskEbl1VDZcmUtIMCshi4tQ8Dm6glyXjYYvoIv/rEm7M9AA+SdOWNFYZOYc3/wvW7sL91nJerF86Gullq/L+uMZPdbzPfsP8U8w3XfK8L7PZ/1YIKOHymGw6cvJrm63m6aP3ey6dc7umD946P29y1iyuhunzqBFvM7DSL36x+j43B4ha7LwyLc1Hmm66cwLTjsnGyCEfs3Fi/pArq55YZB2fYpqhMPMZrKzt/r/7YdyzeZHkJ9rrkjfu5icWNM6GirAh2Hb7kujZoriuF/oFhqCgtmrDW4K3VMDmn8zoCy2+78Y2nizw5q7LhvHnw9In3ex7Hrf3fGRhbZ7ut5Zz8d0tdaWq99/jqWui5cw86b/QbecA1D1RB7+1BaG2/gZrXiMI6gslp97ErRk7UzKEODo3CwNCwke9h+VQT+4UN5TC1MA/2n7xq5JoGBoehcU6JYcuOnh7PadjjC7e1t10HeDrlpDMiOZWNS6tTc1y1qBLWLJwNUwvEc748XdUhl4Xp/7MpZhKxe05t7g2NTMi1MrvnZ20nMocwdNYPn0W5plJf3XJbYcw/Cj5CRCZmXGvmUVctrIR1iysNO8vTR/P7kdEk9A0MQ+KC+36DU26Xl3cXmb/Zxm1dLdOHV9swdMpPzOqV31UVU/IwjNI6QiQOd9N7kf2DlvqyNNtvzbfzcFQRV/mNtdi+ln0tLjtfmfYmlodOdbruT8j0x2uLzV8n2eniIzJpF8OyYU7PmAmdkfEBTnaKPce7H7I19zVoqSuDkmkFsO/+uo+ds+m6OQCJ8zeMNWP1rKmwrHk2lE3NQ9nzs8su6nxws//WfWh2VgkgCdd6+o14aH5NKZQXT4H9rVdhQX05FE3Jg67efphWlA+nL/Q47jGIrI2tOcUn1zXCyOBQIBmq1HVVfanqR+WaQ/WcsDgxaQ4o2g1rS0vLp5PJ5NdjsVhuIpF45P737IDirUQi4bkDyg4odnenVzLgOX4/37+0+xy88u651E8fWT4XSqZNgV1HLsAjy+rgdv+gccJ75+FLkJcbg/UPVhv/bX5Y+5qKabB5ZY3w8EyxZs4shjCezyREWOPp/GzjxqUkI5zD4sQ/7zoHr+4Z58An1jfC5x9uFNZnr4b/8u45eHn3eN9Pb2yEz25Q07c5LrbOYfb/5oGL8OJbbSkIn308DltWudsSt/Ze/WDOf8xJ6sUHk+c7Dl+G7a+dMmTDbP+T6xrSdNmU1Y6DF+Fi1900v2B+56b/TjKR1QXeYg3T5vvRKS874/Tdbz7SGCjQdcPHz9xljKGOnMD0EWHEKGHIfLLxTVRnw5Ctbj7CbqtZXPPa3nYYvl+B3c+6wNqnl78RlStr5+VT3OTu9Pf3jl+Egrx86Orphy9ubgZWSJ4Xt2ByDrPvsOyRbpzAxE1lbGTyx6nPLz2xMLUulxmT15b3vZ3TXu1ZvHm5u8/4iZmbsOYj9hy7bNghMwa197VpVS3sOXoJPvvxprS1Bm+thsk5HWMmTD54rX15usaTs1UXg8icNw9e37zf8/ygtf839o+vs+2+1cnXPraqFoqn5cPPdp6FwoIceGxVPdzpH3TNA2LlNaLgI+xyYrHP9KIC+NWB8/D4x+qhdGo+/OMb4zkO9r1pox5bXcv2UOBXBzrSciDs0poX3hz/jT2+csuT8HTKSWd4ORWnvC8vT8PTzUyuTaO6TskWHyFi9+xtfmtrHHr7htLyU595ZD4MDo/6yu2KzCGM/KsfPstwT1X/bmspVf172Yso+AgRmXjlUXn6yL7/6c4z8OjKOnjtvfbUcE5+mcnEmttljVXa8zDyKZPRhos+NyYnouQjROJwN73n7R+wmGXrmgZftt+Jq6pkxou1zLEZH61rcRH74beN+Wz//V+OKcMrk3sz9rGjxAm/Mgxjra1qXeznGVXxT3Rs2fGceG1fw5nrPjaHrR9rgFf3pp+7mTF9Cnx2YwPKnp9ddlGPmZzkY42fmNJB6AIAACAASURBVP3fuGyuUdXwnUPp55XMtTeTB6t8+OuDF1PwPLclDltW16ZuiRC116Zsv7ilBTYvrw4kQ1ndC8PWZsOcsDiRkcNSTkqxYMGClSMjI3NOnz7NKidCPB7/LAD877FYrC6RSDSzvzU3N9fEYrG329ra4l6KxQ5jiRrTIO3+4K93QtuF3lQXTTWlUFFaCBVlU+FaT59BtO6bA3DmYi9UzZxqJN7Yf5sf1r6yvAi+8ZWHgkyDfhshBGLsXpoMfLA48e/+aiec7hjX6ebaUvh//q15njjYg/7BX+2ENkvf8dpS+EtFfQeb2eT49R9/dxe0nu9JTWZhfRn8xdfNYrMT5+jWXrYflU+vGx9MbKyYMttfPLUgjSemrJ7/n/vg6o3+NL9gfiej/2y80xd7YVZpkXEQhHHFSxdUyjCMvrzsDKYNCuPZ7GPoxgnd5JMJnZisY4YhW934YPe3LGZildU77x8c8rMucPM3LNnAfMLMkkJ4/vc2SqmRV1zgJnenv//G+kZ4+d1zMLdimrE+OnH2hlTcIjXpLGmsGycwxYYR3/L65H1vfV5eW973duy82rN4kx1AzM2JGW9H2/MR7CAVs0NmDDrBVtWUwsLGcugfGIKvf3FFaugw/ICXjhAf1DCIp2t2OWOtyXnz4D1t0N+78dO+lnNa2zXXlMKDzbPg5Lkbxstp0wrz4bpHHlBlzsQ67yhwwi4nFvvMmlEIdweGYGBwBOJ1pfDqnvFDI+x7ZqPKigthUWM5HDt93Vj3mh9mt8pnFMKeY1dSf7PHV7w8CU+3RGy3+VxOeV+V48vMNdvbRoEPQWUkYvfsbT6xvsHYx7DmcZ9YWw9nL970lX/VPRcVVEb232cydtKFE155VB4n2Pfs2sh7gyNC+o6p35nUBdV6LdPfZHnuqPBBZG+Ap/eiMS5rhxWjyuiIG+9knlNmPJm2k0V/ZeYs2jYqnBB9Hmo3uRBw4q99DWeu+9jMi4sK0tZ85rmbb/72x0J5MB35YI2f2JqV3fDKblexrglMGbD8IPvvmTMK4YMTnQbm7HaDmtnT4eLV27ByUSU88bEG+L/+vw8c8/xOa35jTT99ilZ71qEo4yQZBIsTGTks5YRpU1PT2tzc3B/k5eUtB4DB4eFhdlDx7wHgT5LJ5Nfa2tp2t7S0fCuZTJa1tbX9vpdcsKrF2cd0rqBYALsPX4SHl9fA7b4hGE2OVVBkGwIblk6soMg27R6nCooGtCpPGovwNhPjYZ005j0vFidE33zjzc/p+5d2nYNXLNUZ2Ub35xRVZzTHw9YBzP55b4baMXVr//r+i/BPO8YrDnxhcxyeWD1WiRFz/rq+nWV/y5bZ/qfWO1dQfOvgRejqHYC39l1IicvE303/nWSyl11x3NELl7ruGgdB2MYhu+LEzwdT5n51iioo+pGk3G+i6CP86pMMMpORD5Nl/pj+35StbjHThAqKGxrhl3vbgV0xxT6PP1RnHOSTWRdY+zT9zZmOmzC7rMjwCQsby2Dr6lqYNkX8akFVFRR3HuwAdl0c+3zy4UaYNiWfKijKENjWVue4CaO6h2ycLCKaqFZQZPHm0NAo9N0bhnvDo7DDEneyN5nfPXrZsEOsCgW7KuuN/R1plZXMNiyetVaz51X0wPShxAcRjZ3YhldJhf3CXh3ILufND9XB7NLCCVd+B43LeJzl6ZP992xNlZsDcCgxdhUw020vX2jt31pB0b6Wc1rbmRxh+b79Jzvh0ZW1cKd/yDUPSBUU0yskTi/KN9bDW9fWQ8nUfHjBVkHx/eNXYM0DcwxbZc+pMn1lsvuhrYLiL/eMx1embdtjXCE2rg/TC/Okb6dxy52Y+ueU91VZccvKah4n/FmJ8V9Fuf9s8RE8u8mkaW/z3NY43Okfhp/vOpsS9ucenQ8Dg/4qKMrkojB1CrPvoP7NykWqoBjUMgGwuJatc603lJl21iu/bfLh57s+MiooWiszOe03MJ3a29oFifYbSnKt9icPI5+CscYyn8Mv50Sf22//IhoWJR8hsjfmt4LiWEzbCC/vHvcHT2+cB5/d0CAC44Q2qmTm5ld4a3Ffkxb8kflsVEFREDCJZlj7EU5TUKWjIo8X5lgq4xSRZ/MznhN/7Ws4c03N+n+CVXe1VVAsLZ4Cn9lAFRRFZOSkf9b4idn/h5fNhVFIwk5bBUUzP7jloToYGh6FXx+66Hg77Je2xI0CbU43JTndmsD6fXYrVVDkyU+V7VDVj8l3rD26SXNAkT1oS0sLO3j4b5LJZG4sFvtJIpH406ampsW5ubnfA4ASADgXi8W+dOrUqdtegmSO7fp1/CueT1zogdb2HjjT0Qt1c0pgxrR86Lk9CDUV02FhfSmcvXwLbvUNQfetAbjQeQvYve6sUsqR013GCeWGqmJ4cP5MqU3DsSC6GMJ4vnHlC2c8nZ/NxBLrrnaeYcPiROLSTTh+9ga0ne+BeH0ZPDCvHFrmzuBNh/s9Kx+8/a02wwmah67y83Jg2+PxVAlhbicCDbB1DrP/u/eGYe/xTjjS1gXL4hWOm0RWCMz2ZlJ+3QNjmzTvnZx4uG3torHDbZjzZ33rxgcTs9yCfHht77nUBsjKlgo4mOhK/dvEnsnkg1NXoaPzTlrCa/0DVa76zwoE233AGwcmHjLd6nHdtxc1MGXuV6c6uu/CvpPXoO1CD8TryuChRbOhduY04zEu3+iD99gBzfvfbVxWDZUlUwKVCnfDJwxsdOIEs+O7PrwCV7v7U/KpnFkEDy+Zo8yOhyETzJgryvO/cP0u7G8d5+XqhbOhbtYYL1V8dPQRdr/NKgYd+6g7Zf9rq6bDxxZUSq0L7L591YIK2HnkCvzCkmRmGzYyhx7d4gXD5vb0wXvHx23u2sWVUF0+dYItbpgzHf7rP3+YUoUF9WXwtc8tgXcthwNMX2jVF0xOYPbt17/JcEVHTmDiJhsni8jCzg124Kl+bllqXe7FHXv/vLay8/fqj33HrnNhhxHYW8/sAPOV7ruwuHEmVJQVwa7Dl4wDXIyTxtri9HWYM2sadHTehuqKaUbVxdb2G8B4/I3nVqR8+I0792Dn0ctwqr0HFjSUwSNLq6F8+pTUo2JyjvggorET2zjJhKeLppwT7T2GXpj64ORbgsicNw9e3/bfs0Nv3/vFiRQIPF9o7Z8drmdcMNfN9rUc+/eBRBccPHUNqi2YsOp/FaVFsCJeAT137kHnjX4jD7jmgSrovT04xiMHrviTZvqvosIJJqfdx64YOdG6qhKoLCuCwaFRGBgaNmzIlPzcFPbMXk0tzIOzl24aOVVW9c20YZev34VVC2Ybdot9vORl2janzRPZON8td2LVv41Lq4088NHTXbBqUSWsWTgbphaIvygiqg88Toj2k8m1ryz+os8UFT6IPo/Zzi5znt1kv3Nqc+RMt1FN2cy1Ptg0C06234BhS/6VVZn7LYH8q0wuClNnMftWGa+65bbCmL8uuSam02wN3d55G8533oJVCyuNF7SZnfXKb5t8YL/96NItGBn13m9gMnnr0CX44RuJFFXZyw9+c612vrutq2XtQtRsuFd+N8y8QBT4ILo35uYLeHE/i2cLCsbiLNMfzJ87Azbcj61kdVGVHXPzK7y1uOx8Zdqbz3boVKfr/oRMf7y2qrDkjWONL6LACdHnyZRdDMuGOT1fJnRGJo53slPsOcZyxNegpa4MSqYVwL6TV429P7ZGvNbbb5w5YOduqsqLoLAgD9YvrkTZ87PLLup8cLP/1viJnVUCSBr5ncSFHphfUwrlxVNg/8mrRt6HVUtkt8QWTsmHGzf7oYvJw3KbrFee3yrv5rpS6B8YNvIkT65rhJHBoUAyVKnrqvpS1Y/KNYfqOWFxYlIdUAzqZMzfYx3Gss6PBYl//2orFBXlw8mPrgOrfcJKn25aVQvPbW5OJe5ZO/Mzer9Civk3898yz61SsUTGDXO8MMdSSXYRHM3xsIjMmwMGJ5geP//CIbjWeweeXDMfXtn9EcypmJ62ccWbl9f37FT/T94+nbq29pnHmqU22EXGxta5ydg/k5vVFjEZsuSkeT0wK+dvbj5izj8bksbsRnernbdiz/TT5JAT/qx6jZP+22Vi9nHKct23fQNZhAvWRanMAkOm76B2l/nb/v4hxyELC/Pg3r1h1AP8mHzQ0UewTY0fvNkG7394CVYuqIJ9Jzph/bK58OUtcWPzQ8UnDJlMVj6I4BdlfHT3ETdu3IE/3+7uf0Xka1+XMH+TmxuD57cfSrtiwa9PsPssqw2/fbsfBu5XR7TOg9li9ncWw9kPApiHJJ36DcMHRZkPOvqIKMvc1GE3nfLScTu3VfPBqT97rMiuoP3Y4ir4nacXQXn5dGD2aGQkmYpLWUw5JT8HtrK31vecS1V5dTvgxfy9k1/H5JzuPgLrZVQvmXjpIvvue6+chPePd6b0wcm3qJC52zxE+zZzbWyNK7M+curfae1mXduxgxDff+VkGkdY1WKzDeOG+d9OL5nJ+nqv9lHjBMOW/Y/ZDicbYmLP4hpmp374emsqrmA27Lc/sQjMlypNXNzk5bZe/pNtK4y+RfnmtXa35lfM/zbnLtq/rD6IckK23zD8c9C8AO+ZosYH3vPwZCISd5htnPS4pb4MljbNks6/yuaiMHUWs28MfbXntsKYv077EWY+leFm2nGWf/XKb1t5JrLfoHJd7cRxU+Zu62pRu+DWLgydCpIr88rvYnDOilOUfISIrrrFQby4n/1OlDMi+qhC50T8Cm8tLjJX2Tb2Z+Ppr2z/9vYqsJSZQ5Q4IfNcmcQ1EzIMYpNlcfX7fG75Kvb3//ziYYjlxIzbGj48ewN6bg0Yh9rYdcKv7WkHdoD6G9tWGLkrzI8OfBCx/9b1a0FBLmx/MwHvHLwIJdOnQFdPP8ybOwP+7KuroaRkqpEzfH1fh3Se37r+UJUP8at7XrFY0PV6NswJax1BBxQDWLMdhy7CvaERuN47kFb9yp4oCzDEhJ+qVHaReYU5XphjYS923AweFpF5ssQ4oMjG9NqA5s2J971s5RBef5hOKKoJAZ4MMTmpQ7CnQqfcOCTzBqRKHmLKHNvuRnnuJja6+Yi3j15KqxDKKsRtMt7QUvPRQeaYCYQo45MNPsLpiguZSoduPuhXRy7D9tdOpb7mVY2SYaOoTolUdFHhQzHmLtOnta0oNkH6181HUFzgrQ0qdMpMCDrFiltW1Ux4scPajlUqa6qdAacv9KYqLMpcF69i/l5rLOKDmDWxbgIEkYnIeiNI/7ynke1bZL5BbbiMr5OdPw8P+/e6x03nL/WA9YpmpyrMbpgxDrCX/1RUUJTRqzBkTusIZ6nrzoegm2hOepyqoix4Q4uJ/GThBPGNH1NmQ9wkqo8i/pvp1GRYV8vGA2Z74oQ7clHyESK6GmRPSpQzInqoSudE56RqvDCfTWQs7ByJWx5ORx/htF7CjJ2Dri1F9SPsXGpY45nct976MWfm+A0O255cAI8tqw5UfU8E4yj5iCD23/7bn+45By/vPpf689MbG+GzGxpTOUP7LRMy63GVdk2l7VfVl6p+JjNOWD6CDiiKWCWXNixIPH2xF67fvAftV27BrNJCeNh2tVGA7h1/qlLZReYW5nhhjqWS7CI4muNhEZk3B6wDiryrvXjz4n2PrRPUv/OVL+bmIyY+OgR7KgJ0p2RDcVF+WpVLa6UOJ5mo5CGmzLHtbpTnrquPuNrbb1wHe623D2aXFsHaB6qgsrSIZ/qFv9dB5pjJkSjjkw0+gre4F6mGYidL3+AwHDvXA+cu3TSuvFoenw0bllRJXRvtRUBZnZJ9Btn+hY0FAGD2je3fdPUR2LjpIHO/PsK8/m7Ph1eMqkj2K2pZMnF6Yd6EA4q8uHSycC4bfEQyYGEAJ1k6yVxUpiIbpLKck/ERsn2LzNf67LL9W38r8hxB+heRUbZwQgRrEy+3a5fNK+398MHs89iZ67BuyRx4cP5M1xgrDJn79RGiOhXV/rOFDyJydGoj8zIsbwyZXBQmJzD7xo5Xw+pft/0IJ9zuDY/C7mOX4VCiS+jlGl4l8/7hJLz2fjucau+BBQ1l8IjCPT/SWW/rgolPFH2ETPxjIiuC4WRc+4n6FZHn4/kw0e/DHCsMn2B/7ihyQlR2qtZ7suNlg86oXCcwW/Th2W64ceseHD/XDcubK2DN4kr44OTVlE9XcT2wiBx14IOs/jEfc+VGn/FCILvumV25vX5JFVSVFU3IGfrxRyrtmuyzqdzjcOsrG+aEtY6gA4oiVsmlDTOcbx7ogNZzPVBXVQyd3XeNDYCg1U/CII3oY6skF2/MMMdSaRR5z2VdGGARmTcHrAOKMqXmeXO0f08VFPmIqeSMU3Chsv9sWfz4xYzhf7t/CPYe74TDbe7JNKf+VfLQ7/z52jrWArN/zL6x5272Tz5CVJPw9Sksmatc0DvZWaz+sX20DgkBJ212slN2/yt7qMI6jvnGKbv+cFZpEWxaWQObV9TIEcujdZTtbJTnrquPwLazOsjcjw235ijmVoy9cb6seSxHIVpNz2/S0Wo+MPHPJh/h14CLVs2U7Z+3mS+is378nF99EtVlv/2L4hdG/7qtI4L6CDsHntsSh8dXjV/B7Vcmovrrt//JpFMifBadb5jrFPIRYlKx2ke/azuZXBQmJzD7DmqLRKQRxvx19hH2KrvsBb2igjwR6F3bMJmwCoo/ejNhrKvZdYfPPNasbM8vDJlH1YZjc05XHxHEz4ruSXiRSpVOi/oVVeOJGIowx8LWf7c8pY4+IggnRPQiDD6IziPqOvreyavQ1tFr3FLKztk0zS2BNQsrjcdn9knV9cAieOrgI0T1wbquba4rhbOXbkL3zYFUzON064oIhm52RkVcIvpsIvNU1ZeqflTaf9VzwvIRdEBRRFNd2tgTXo8snwvXe/vhj55dnqp+FaB7x5+qVCyRuYU5XphjqSS7CI7meFhE5s0B44AiCw6ef+EQnDrfkxp+QX0ZfOO5FUr0X7SkO+/ZMxksYut0lPvXIdhTHWyJ6Lxd5qp5GHWdUhHoutmMMLDR0UecudibSug215Yq8xFh+PEwZB5VnRWxV0H9s058MLEQ0Sm/2Kr2B6p9nIg+iOAj0o9uc9dxHSHDiWyWuR8f4ZWjYFialbkx+Ybto2kd4c0KN3/wJ9tWQHn5dAh6PWjQWNmPn/PSV9FDiLrnBbI1bnKSq0hMJGoD7folqr+i/ZOPu638qjbyEfJaJarX1p5FeGZtj8kJzL6xY5qw+tfZR/zw9VZ48a22lLo9+3g88EHC3NwYPL/9ELQi7XmQznrbKUx8dPURdkRlMfTjB1TbeBm/Ivt88p5x/BdhjhWGT3DSFR19RFBOkM64I6CSE4z3L+w4DW/tu5AacMtDdbBtSxyGh0eNv6kcjydXHXyEKF5OuUO2j9fZ3QdsD09l/kh0TiLy8ZMnxdwnUPVsKnVd9ZywfAQdUORpvMv3TgETI+3Hl8+FtYvGTndjfFQqlsj8whwvzLFUkl0ER3M8LCLz5oBxQJGNGXTx4jZvmQUJ79m9vsfWOerfO5DVjQ9B7IqozjvplEoeRllnozx3XX2E9Q04VsUpXluqNEbSQeaqFlWYCy1736L2Kqh/zkYfERRblf4gTJ0yx8LkNGbfQfy/KE90SJKFrVM6yFzWRzjZkKaaUvjEunqjkqK1SrfX9aaT/cAX8YFvObAqKAZdW/v1c058Fq1kx0MrjKoMYdijbIybrLKVPUjIk4nbtYeiL+ny+ufpJe976p9yTTwdEf3er12WzQlj6ixm32HF+bIxn6h8dc01WeXyR9/dpbx4AtMpVkFx+2unUlCrOPgYxrpXF53F4oSu6wi7TZCxi0H8gGqdFs1pyTyfjL0MO2cxWcbTcR0RhBOkM94IqOQfsz/f3n4Q2i70pgaN15VCRWkR1FUWw7oHqsArdxVUVk56EnU+iMjHye6zfbuykkIoLMg19vDWLa6ccMWzX7xF5iTSt6p+VMZK2TAnLE7QAUURrXdp89M95+Dl3edS335ifSM8urwayqdPCdBreMZfZJIqycUbL8yxVBog3nNZA3UsIvPmgHVA8cade7Dz6GU41d4DCxrK4JGl6vTfzq+nNzbCZ9Y38h5V6ntsnaP+3cWha0IgiMxFdN6pf5U8DDJ/EfJh9o/Zdxg+Q0dOvL6/A378q9Mp1WBX4jyxulZEVYTa6CBzrKQrts6KJg2FBOnQSEc+iMpExBe44dpz9x7sPHIFWttvKI/LROfvV+bY/etgL3RbR5DMcdb9dvvM1lDTCvPhR7bKMk7Xtag68BWGbIkP3vrjJEvsxL6onfUTQzj17acfK2p2jJ5c1wgjg0PKq7lh88HsP1s54Wa3ePaMp69u+iWqd7z+g8RLYelUVNcp2byO8KtXftcfMrkoTE5g9q0L33T2EX/7s2Np+3Mq9g+YTvUPJ+G199tR9jxIZ3HWQSI2UFcfYX92WR3z6wes+54q4gZRvyL7fCK64dYmzLHC8DlOuqKjjwjKCdIZdwRUc+KNAxfhn3aMV0JmN5W+e/QyjIwmgb0coPKqYZ5cdfARovJxqqBo4v6ph+fB46tqoH5umZIbOETnJCIfFb5Gpa1V9WyTeU5YPoIOKPI03uV7dsJ4+1ttMDQ8Cpe67gKrDJSTkwNNc0uUVgfKpCNVSQgRmFUSebKOh0Vk3vNiHVBkTuwnb59OXd/JDp88vrKGNx3u9078ys/LgW2Px5VcH6168ZSpBYwfzshURPHTP1e49xvoEOw5PatfzER13m1zThUP/c5fRu6qgsiw/WMY2OjkI9zegPvmtpXK7HgYMsHS1zBiLEx8zE3fI21dsCxeYbzROG1Knqgp4LbT1Uewq6K8rtcU9QVuAGLFZTrETZh8CIvPOvmIMHRKB5nL+CAzxrcfytmwpAr+5qUPJ1SWcbquRfTgDdeII1/Do6uPwNBZ69pPVf/WPv30zzs4JrLGUlHpxa7v255cAI8tq6YDiiIEt7TByjWJ+lae3WK6wj7m9fYi/sdLv273D8He451pFWmdYmAnvsnkYnhiUMXnKOWyeJhYZZvtMZNd17x0L8j6Q2btgamzmH2L2iJR/RTxcUH6cutfZ0789Y8Ope3POe0f8Oyv/XumU6yC4o/eTCjf89BFp2TWKbI6jclpXdcRQXLkQfwAG1dlNXJRv4KpI0GwlNX1TPgEp+fT0UdkUo5h6mcYPgUbSzM/cLDtGtRVlsCla3eMF+/ZZ0F9mdKrhnkc1cFHiOqfNS9TW1kMFy24s5tYHl0xFz75SBMdUOQojSjePN1TyWXVc8LyEXRAUUQrXNq8sb8DXnrnTGqh8tiqWrjYdQf++NnlyjbfsY0/7/FVKvJkGksl2XnPpWuSTMWmgBd2ogsSUfwzEfBj80emfxUbQUGwzpbFj4xMTEyYbN470QldvQPw64MdaT6lYU4xLJk3M3Xwx96/ah76mb+MXmD2j9l3GD5DhwWQVReYbv74nY/gl3vbU39+al0DPPPx+cpiJB1kHtWkLjYndOOD1QevWlQJaxbOhqkFzgc67fHPU+sbYMuqWu4BUNX+wGkTJ8qci/LcTb5hJQR4fjzTh09483P7XgeZi/gIZl/eP9EJ7Z23ob6qGNYuHjswbuWw/Y30L2yOwxOra9Kua1FtQzDx181HWPMFIjLPFCesvmxpcwWUTM2H3Ucvw/L7LyrIVmiUOUDjpE+8g2leODnp+8L6MvjGthUwMpL0C7Hr7zD5kM0+wpTjmYu9qTV0c20pfOO5FcZ6wysHwpMJT794h12s/d8ZGBY61CijeLz5y/SlW64sm32EXedXtlTAwUQX90Ctn/yrbNyAqbOYfWOve8PqX+d1xA9fb3UtnuDlB5gOux06Zy8WPr/9ELSe70mZSHZIwvQv2Wxjw9JZrJg4ij6CF3Oo8ON+/IDqauSifgX7hWmnPSwsfVQhOxX2SEcfkUk5YsclmXw2LB/A+P93r7bCtMI8eOODC6lH/I0NjUbe4Ym1eLcdWPGMoo/wqw9mLvFi110oLZ4CP991NtUVq2LZ1dsP//fvbaQDihwjq5LvqvpS1Q92rokOKAbw4G8fvQRXu/vh/JVbUDenBGaXFQFLyq5ZWBmgV++fqlQskUmGOV6YY2E5Ui9MdXBu9ucLWv7dCy+nku6zSgqVHWwJQwewdVqmf16CPewFkY588KtTpmwWNpQbfuRK912oryqBkmn5cPR0NyxsLEsdTnGS+Xsnr8L3XzlplD1nH1b63G8lUxmdEvEhfgPkyda3X9nKPIeOnHj/1DXouHoHznT0QlNtKdRWToc1C2bLwOLZNsr6GpZOYSbRMPHXjQ8yPrh/cBjY9eit53qMCu3XevphWfMsIbsuM44buYJs5tv7lE2kY+tUVPmAnRDgGWU6oOiMEKa+yvgIFge2dfQatzrUVRUbNzrY8xHWNsyuxGtLYd3iyrQDimxMPxtTbvqDiY9uPsLEUAYzWfsqo1NuMnW6AmjPscswPBLs6iWRF+mcsBH5nZd9C1JBURZ/GdnybLLbul3HjUUTtxs37rgeHHWyb2sXjeVkveIinkyC6pe1/zcPXIQX3xq/tizIet2PvWC/mYw6ixWXZbOPsOp8Xm4MnlzXkHb1rZvuiV6padclmbUHj3N+bJ9fPsiOhTl3Ff6Z9zy6c+L8pR7Y86FzZVsnHWW3P5iVcJvrSuFMx81UpSaTIwwzVkFx+2unUvDa+SNrV61y0kGnsGw4NieixIcgsYisjvkZK0gsLbrecPJbMr7HbRwZ/spiybPJvO8zMZ6O6wg7zmHiGuZY2DbTbe2J4QN+degiDAyNwO27Q9BuOXPDzt/Mq5kBm5bi3HZg989R54Oo/jFbeuT0dWM/mt0OO7UwD9ou9ED1rPG9iC89sZB7QFHEnorOKUz7SHPioT32PWbcRAcUxWQwoVVeXg58+x8PQv2cEjh6LgKnxAAAIABJREFUugu6evqNwyHsitsnVtf67JX/M1Wk4Y80rnwYziZMx+b2rJnAMurOzYpl0PLvPB1klT5e+vX49dHsbQl2yOXBplnKrpLE1oHJ0r/oG2hhBu6Yjo2nW5Npo90uG7Zp3DCnBKYX5ae9LcQq3WxdVWMEBKZNtlZiYEm1/oFhqCgtCsSPyaKzPBlmwoeEgY1OPoLFST96+wy8+cH5VEWTrWvq4YubmmB4eNSPiCf8JgyZYMZANH93NdDJR4j6YGtCmK0v7vQNwfvHrxjrC9FqDX2Dw/B+6zU4cPJqqqKV7NXbQTbzTYn6SW5jJ9V04JtOPsLUFUy5YPaNra+i/TP78sKO0/DWvvE3zFm14k+sqYOi+1Va3SqMOV3xLHNAgefIMfHXyUfYk+G8uMOvfRXVKTe5Ovkydu3Pnf5B6OzuC3T1ksgmo5c+iSTEnZ7LT9UXv/hj8gE7aczjOubaWiSucaoQy9bNvPhLVCZ+9cvsnx2u/PPth+CU4ipcovOfzDrLs3c83fPK9WZjzGTX+aqZU6F4agGc7uhNQeW2prDnXz+/qdnIP1k/TrrEvhe58jyoD+LpgigfeP1kav8gjPlnAyecKjM//0K6/V3cWA4PzJ8F/7Rj/ND44w/VGbfZsBcuTI4kk0nILciH1/aem1CB1K9dlY35/OorNt+i3n+U1hFuMY6Ibvi1K6JxD1Y1ch6/ePEdDxte/5nYb7CP6Vd2vGfPtrgpk7hmQoZYcXWYnLg3PAov7ToLU/Jy4WDiaurMzRNr6oGVZfnk+nooyne+jciv/jvpSdRjJhH9Y7b0Oy8eNvbsdh6+ZMDAXm56ZnPcwH3WjEJYv6QK6ueWuR5QlLGnInMSkaGqflTGMtkwJyxO0AFFEa13afP2kcuw70SnUbHA/MTrSuGb21YqrfIW5gKGHHcAheD8NEoLIFEUVFbZsI7JHOS3tx+EtgsWbtWWQt/AELCSwyreOFfphCZLEstrESmy8RMm/3Xkg6xOmfKyyiY3JwbPbmlx9S0sSWYuOCZDJQZRW2G2UxmwhamvsrKVxcXsHyvY480HY2PR0Y4rjpEw9SksmWMmEKKMj24+wssHO/kCpn/sOgVrZSqRyrjWzXA/V1Tykr2iOuUn5sDmnOjcefYykzGfTj6C4gK+ponorJOvZYfGHl0xF9Y/UJXKSThxcsuq9Cue2Yz8ctfpaUTmz0fBuYVuPkKGDzIysq8Ng8rEqYLiu0cvGwfp2frcSad4Mub5HRlseGO5fc/mYF1jJT1ueJbB3zpeUOx5z6YrJ3h48/RHxUsXPOxF4oJMrtt5GIrM34sTKvBR3b+ufBCxI9Yc7Y2bA7B1bT23gqLoul1kPeOlDyLzn4z6hL1GCav/bF1H2PX2dz+1GH59+BJ3v8Gqr7FYLG2fz40Loge7wpI55ZqivY4Qtc0q/LiM7lrHw6igaPaveo/L7NdPXITpv8JeR7uNp6OPsD9rmHIMc6wwfEqYWO44fAn2nbgKZy6OnwswX4x8dEWN0O1CfuNJE8uo80FU/9hNBL8+dGkC1mseqIJNy6rTCuU4rddk7KnonHiyU9WPSt5kw5ywOEEHFHka7/H9rf4heOW987DDUrFg80N18OUtcWXVgcI0/pkOiFQSWUSsmRgPi8i858U4fMLGZKfk3z/RCe2dt6G+qhjWLq4C2Uo9TnN3qgbCuNV6rtu4vky0khAPF2wdCKt/r+ssTAxk3mgwf4M5/2xOGttlsbKlAg4mulJv5a5ZXAkv7033LeyN3uc2N6c2zzJdiYHHLRUJEtkxMPVVZdDqhY1OPoJVUPzBm22oMZIOMqekcbSTxqJ2ymr3Vy2qhDULZwNb3JsVRzYurYbdRy+nVddhLz2xqrh1lcXClXG9NlJE5xp0M593WMBrHpicxuybfISodk1shykXzL7DkrmIj3jz4EX4keXqUHa4+WpPH8wsKUzZDzZfe4Wj6YV5aVc8B+Fu2HmEbF1HiMrIbd0XlBPWfpc2V0DJ1HzDdy2PVxh+yq5TopZBJLEddO5sLl4bnSL9i+IfNh902Uix4yaKt5f+uHFB5lCqqB675W5ZrubomW4jZ3a+8xYsj8+GDUuC58100FkRH+cH/2z1EQwreyXkdYur4NhH3RMqwFlxdcq/mvmn0dGxE9s8PoocbhHRWT/ynkwx2WSev065Jpmctd0PPLy0Gv5l19m06uNsv+HevWGomT09te52W1e7ccFcz5sxEW9vBJMPxAlvJkbFR4jY5qC5FT97RdYx/VQjF7WTXn7FHPdIWxcsu78O4XFOxJe5zQ2br24x5PXrt428IfYnKpwIikOYcgxzrDBsflg6ynj/Fy8eNnLhZlU/NvamVbWw89BFaK4thW88twKtOJgu62pR/evtG4K3D12EV949lxIxyyd29fbDHz+73PMlTt7aAEtnRJ9NxF6o6ktVPyq5rHpOWOsIOqAooqkubX51+CK7gRsuXrtjHJpiV3PWVk6HTcvmBuiVH0RjJXGcRlapyDxQwhxLJdl5z2VdOGMRmTcHzAOKbLNLdkHAmy/7np3gZ9VJTW7NKi2En+08m6rQIFJJiDcOts6F1f8PX2+FFy0bk14VJkUSh1adxbI3ui5+RGQu8ratXf/jtaWwdlFl2psr9koMLIlcUVoY6KCwyPx5vPL6Hqv/MDeZsBIEOnLi7SOXoOMqXoyEpU9h2MAw4pAo46MjH5jMc3NjUF4+3bgewWrDWfXcp9Y3TKhwsnV1rVTiheHmdhWVqO32SlKbOsUOyXtVaBQ5bBL2uiPKfNAlSUYyF2XhWDurvfDamGCcffNAB7Se6zHyEdd6+mF2WRFYK9uZ6ybrOsCJE3buBoktMTmnq48QwUzEvrq1EelfREutesTTKZH+RDZHg8xdZf8i+Fuf2cQnyPxFMNSREwy7N/Z3cPMcIvI15YC5kW6XkylzM1fDrsxiV2htWlkDm1ekX50rImO3/nlrU1md1WEdpCMfRNeOIrkmJ31zyz9Z2zr1zQ6n0xXPfhic/hvyEf4wlMHNGq846bu18rjJN7d1tZ0LT29shF/uaTf2K9hH5NYn0XW1P2SAW/XIb7/kI4IhJ7s/J2Kb3WYkwg+/MYJ9TJU5eZG4TtQnOmHj55lFsAymGeH6BKeYUrc9ayd5hCnHMMcKwge/eqvq+Zz2qdnV9sfOXDdyWuxcADuUyF7yOnnuhpB/9ftMVv8WdT7w5GPa2YOJa8BePO2/Nwyn2sfzicuaZxmVKnk5SRl7ypuTqNxU9aOSN9kwJyxOTLoDii0tLf8ZAMoTicRXFy5c+MDo6Oj3AGBGMpk83t/f/5WOjo5+nrLKBnu8/py+Z8aT3dG+enEldN0YgO6b/TBzRiHUVhXD4voyJVXkMu1IVZJUBGOVRJ6s42ERmfe8WJxgAcM/7WhLDf+FzXHYuip4spV1aK3OWFtZDMVF6RUaRN6M4uGCrXNh9f9H392VVnUpChUmszVpLPp2iVt1UqtO3RkYNpLBLJicM3NsQ7q1PViwHpbO8jZSeNw1v8/EJpOqueueEGC6vvvDTujs7kvFSFUzp8HGJeNXTorKOUjCLcgYUeODk05hHTLHjhF19xFOVXA3r6413hI93NaVqkYlG+sw3H515DJsf+1USh1ENkjc1jpm1RTz+77BYXi/9RocOHnVc46iSeUwdVYHPuu2jgjDjkTRBjpVXJ1akOfpzthvWIWkPR9egbkV040XKFlMyD5u6wInTlgTlUFjS0zO6e4jvGJNnn31WmuIXmPsN3YKKvOgFQ7d5i2SOBedOw9/tzXK+iVVUD+3zHhBAaMSik6csGLMKlKxfx86dY0bG4m8iIl5FaFbTJPpXI2ozoYZk4Xh/7MxZhLNNTnZSlZ5cfexK3D1Rh/MLi+Chx+shvLpU9KaOukSy0eJviwtamf9+CDMvrH1Naz+s5ETbrokchuU17razgVWaWjH/o7UcCI5edF1tR8+hKVTUVxnmdhEhQ8iuuo3XxrEZziNqcoOi8TtQXTcT1yk6tlE+ZyJ8aLCCVEMMXVUZA6ZkCGmTVa9TvDioXkwm+0nLZk/E6ZMyYUPjl+FxuoS+PTGBijK986NicjHq40O62qe/tnt7G9uaoJ7Q6OQuNADK+IVYL3tz7wFyiknKWNPeXMSlZuqfoL4EdV8sPan6vlU9YMdN02qA4otLS2PAcCLAPAKO6DY0tJyGAC+lkgk3o3H4/8hFovlJRKJf89TVqzDWPZxzTvaL167Bc21ZZA43wN1VSXw6Iq5RqUrjI9KxRKZX5jjhTmWSgMkgiM2kXlzwOAEW8h8e/tBaLvQmxqeXUf4zW0rpar98AICa3AlknTmYYFh8P0uBmXm6hVYy1RQlBkTk5M6BHt+Fzuii23Wv13n7TJh33/vlZPw/vHO1Nu6IsmwTOusqs25TGwyqZq7UzCrU0LA9BEXOsdjpIbqElQfIWPfRNpi2sAw4pAozz8bfIS9Cq55kDBIrMPebnx++yFoPd+TUvEgPsHOExn/5eTDeLzD1FnMvsPis04+wtQFTLlg9o0pc1meWXnF7AerpvjDN8dfIHM7pOyGj6rYEhP/bPARvENsXr4Cu4JiJtYRfvVJdPNVtn+er3aSwZeeWEgHFHmBAADYsfvyUwvgseVzPSs3C3TreEXtwvoy+Ma2FYH7jkKuhqezTmtTzI1OWc6JyNgaW2RrzOQ3hmC/+8nbp40qn109/fDMY81G5RSnj6lLovaVYj6+9mLywYxZs5UTXuh72UWRdbX5ez+88/MbviaNtwhDp8hHyEhkrK3f/TlZHy66Vv3pnnNpt3iwaqCfWd8o/2DsjsEYQFCdkPErQceTwTToWLKAZmI8HX1E2LGtdbxMyDAo/2T0NOjzeVX8fv6FQ3DmYm8qJm2qKYWC/BxY1lIBm5ZWo7zsZ5dd1PngJR8nO8sw7r83BE+tbTDONcnGKCL2NKjOYKwnaE5irMfMv06aA4qLFy8uHx4efjUWi/0omUwuHR0d/VZOTs7ORCIxn8HU1NRUm5ub+475by/o/AZ7YuIYb2Vep/Tybuc72u1VR2T790pyYR2QIMetQkrOfWASmTdrDE4wx/PCjtPw1r4LqeHZNWDPbW5GO6DIe07Z71U5Ibdxw+r//KUe2PNhZ6CqS2HbG934IBMk2d8u2bCkCoo4lXG8+pcNGr14EpbOqvBhTgF1GJtMKubuxreoL4Csz8Xk8+N3PoJf7m1P/fmpdQ3wzMfnk4+4j0iU+EY+QjbCcI8FzaSRWQU3SMVEcxQzGcB0SlUFRfsTyCSL/aKFyQnMvtnzhtG/Tj5CJm6ajPqEJXMVPHN6i5lVorfnJrx0VkVsicmJbF5HiPDB7U12TJlgcUKFrRDRZydsRBLtTvJw4/F3vv4wHVDkKLCf9Z2MnDLxclsUczXYfMbuP5t9hJv99+JJkNhDxL6qsOM83xdl/4bNB7N/3dYRTG8xK0PLrKtlKggxeQThHI8LYfAtLJ3FOmyjq4+w6wbPLjI93P5WGwwNjxrXqM6tmAb5eTmw7fG4r5wtbzxR3eX5FWvuC0tHZLEUfTbRdqqwlBlPNx8Rdg47G3XGL/94PtBuA9h5g4rSQnhibSOMDA7RAUUBYvNsiBvGaxdXGbdYskOipyQLH/DW5Lw5CTyW0URVPyr7yoY5YfmISXNAMR6P/zgnJ+e/jY6O1sdisUeSyeT/iMVi30kkEg/fV87clpaWu4lEopCnrBiHsZzGZAuQD892w4Wrd+DspZtQP6fEuE7JvKOdN08/36tUdpHxwxwvzLFUGiARHHVNCBw+cx3OXLoFZzp6oam2FJrmlsDyplmikHDbYeuEbv3zAgEu4LYGmPjomhCQweze8CjsPnYZDiXEr/N06l82GealBzLzl9UnDLubiU0mOqAoLnnDR1y2+Ihq8hFW9KLGtzATLtnkI4L4brv9Z1dIlhQXwWt7zyl/aYHJn5csFrcOzi0xOYHZN4Z/c+IbVkKAJzfMtTWmXDD7xpS5Kp4x23K7fwjY9YtOB6G98FERW2Lin00+gsdPr+/t/gVTJpicCNq3iD5bsVHxAgFVUPSvuaLrOxG52mdh/82T6/A2uux8CxLvOaEZZT4H5TRPu8hHjN/EIcoTv7GHaP9hyNzvRjlPn7DnHlb/uqwjwrLjzI7kFuRLratl7Lxfzonoa1g6FVXO6eoj/OTrZKrn8nRPVVzi5leccl/1c8vQXv4JM3frR3Y8ech8T5yQQUusrSo+iI2m9tCWyJhBn8/LB1q53lxXCrk5MZg6JY8OKIoI5n4bnnx4xXNkYhTRtQBvTqKPp6oflbFSNswJax0xKQ4otrS0/GsAWJBIJP4wHo9/hR1QjMVif5dMJv88kUg8cl852QHFW4lEYhpPWdkmSnf3bfTT1ObVbHm5MaPk7NKmWTBrRiGsfaAKpk3J403T1/dM2WfOLIYwns8kaVjj6fxs4wavJCOcw+LE6/svwku/Hr8G5PObmuGJ1c7XgPhReGydoP69pYKJz5jj1osPsjbT6XrPLau8+eMlE5lkmJvkMWUui4+IzWBBsLV6KNtkGh3CeZsqDGx04wT5iMzZWAy+OSXNsGJE8hEiFhDAyY+wKyTZOiEWi/l6891r5L57w/Be6zU4cPIqLI9XADsQqXLNg2lnMfsOi2+6+Qhs3KIqc2tss2pRJaxdONtIyPr5eMWaIvgEiS1F+vfzTLquq7H5EPX+VeiTlz5b+39j/0V48a30a9J5azS7LtvXKKxift3cMrQ8nk5xk+j6zs9a2pSTWXkLK46NOt+iPn+d+GC1LX7soChPTN4daeuCZT5ifJF4wc/8ReMEzL6jzgfd4ia7Tm97cgFsXq7+ykerTtG6eiITo8w5XX2En3ydPeYKkt9RrRN2v+KV+0omRb2Fv3aqn403i0yMp2OuyQ8neLIR/T4TMsRc16jGUsT27D1xFb7/ykkYGR0jOJa/d3q2qPNBVP/c4neZnKToWkN0TjyOqepHZXyfDXPC4kRGDkvZlaylpeXNZDJZFYvFRgCgPJlMskOIP2MHFROJRDNr39zcXBOLxd5ua2uL85SUHcbitVHx/R9/dxe0Wkqdsqsl/+LrZsFHFSNQH7ohEGOr2gx8sDhBHMiAMDUaUjc+yIqG+COLmP7tdeME6bj+Oov5hLrxAQMr4hgGqpO3T+LE5JXNZJ2ZzjaC+DBZtS7684oqb7KNE1GVU/QZEo0nyDY+uEmFeBINfQ1jlrpwgnQ6DG3Rfwxd+KC/pMafkLiPK23iBC6+1Ls8ApnkPPFBXF6ZlJP4LKllUASwOJGRw1JeYJgVFBOJxFdbWlqOJJPJr7W1te1uaWn5VjKZLGtra/t9HphY1eLs42JXBnJ6TpWncXk4su/DHC/MscJ+NnM8rJPGPFlicQKbA9g6Qf17aw4mPrq+sSiDGXvD5Cdvj1cg3bSqFipKC2GdRxVemf55diETPgZz/ph9h+EzdOQE+YjM2diwdBbrDU0d+SAjE5G3SVl/dj/yzGPNYFZQxHhdK8p2Nspz13UdIcOJbItp3LARqVBkxcrrbeaoV0TVbV2NzYeo96/Shjv52OmFeambSvxUUORxU+X83dZw2cYJpxjIXunSK54KQyZYcXLU+Yw9/2xeR1h1fkVLBYyMQtqtN2yt4FYRNsqciPLcsfmg2zrCbvuf3doSqIKim58gndI3l6Wrj7BLDFuHwx7Pzv2n1jfA2Ys34cGmWcpv9gj72SbDeDquIzKJq278ywSWds5/Yn0jbF1d4/t2EdGcog4+wq/++bkFgiooqj1D5Vd2mBzF5MSkPqDY1NS0ODc393sAUAIA52Kx2JdOnTp1m2dM2GGs69fxr3g+fOY6nLl0C85duglL4xVQWVYIy+bP4k0v0PdjylAMYTzf+CI2nPF0fjYTS6y72nlKhcUJxoGzl29D981+mDmjEOZVl8DyJnUcwNYJ6p+fcMCyNwx73fggazNv3LkHO49ehlPtPdBUUwrDIyPw1r4OePbxODy+0vmqZy+d5W2M8eyE7PxF+nMKjjB1CqvvsLDRjRPkIzJnY8PSWSzOZbuPeOvgxOslnfyC1Y8saCiDjy+rhnjDLLhx4w6MjKgvKB/luCnKc9d1HYFtp3SQuWlj7wwMw97jnXC4rcu4Xt3rZRar52EJRrffMTtjfVGGHVpwiz8nY8ynW8yEzYeo96+Sz04+lh3Y4fHNaa3lxTErb1TO34mP2Rg32WOgR5ZWQ/n0KSl4mLzePNABP3wz/bpu086FIROsODnqfMaefzbywVR8u3372ucfhPart42cE1sr2Hmiyk6J5KIwOYfZN7a+htW/LnGT3fY/uaYBivJi4PflPLd1t1WnMK54Jp3NXK5MVx8RZv7dLRZVGffY/YqV+y11ZXBvaNjYQ2Efr30UP+tY3bDkYUCc4CEk/z22jc8GHb09MAS/OnARWtm+ae3YvumsGUVKc1a6rqtl9c+0t9aYaGFDOTTVzoAzF3phmUcOMux8iOyzebFXVV+q+lG5JlA9J6x1xKQ7oChv7if+AuswlnUkRtoXdpyGqzfuwvyaUjhx9gY01cyAT6ypg6KCPBWP4diHSsUSmWSY44U5lkqyi+BojodFZN4cMDjBOPDavg7o7L4Ll7ruwtyKaVA1cxo8+VAtjI6q2RTH1gk67EUJAR53ZL+X0Vl7IuyR5XNhz7HLwBba/8dzK2B4eHTC8E79iwaCIs8iM3+R/sJcMEV57jr7iGs9fdA3MGy84Ta7fKo2PsKP/ofJhzDiHEzO6Zogs2PmtJnH/va9V07C+8c7YeR+PLWgvgy+8dyKCfGV3Y/8m08uhv6hEThw8qrUISZRfcaUObbORnnuOvoIU+cw5YLZN7a+sv5zc2NQXj7deDHRqVKYzGFCu61h/97+VhsMDY+m1nH5eTmw7fF4JNZx2eIjRG2zaDvRzXaRgyZuyXyVG5PWMax88HsIgfXHnu35Fw7BqfM9qe6Zj/2TbStSfDP7N3HgHfR98S3nA3DW+Ydhj3TKNYn4CLdDJVZ51VYWw8Vrd6C1/YbRpTWeCiITEY5QrolyTaK2WbQdT2ft9i0vNwaPrqyFt/ZdSA1hPcRh12Ne/07zlMlF+elfFTai/bi1w5x7GDGlTnGT3fZve3IBPLasmntA0W3d7RQTsHV3MpmE3IJ8eG3vOekXhET0TQedwor5sDmhEx+8dE2VjonEPCpl5uZX3PZQhkeSafGdCP/MNmE/m+jcVMlOZjwd1xH25w8T1zDHUsk/GZ3B8AGMk7f7h4yXbA8mrsGcmdOg++YAXL/ZDwvry4HtMf3Rs8uV5azcchpR54Oo/lnt7cqWChgYGoGf7Txr3Kq6/sFq2Hn4ErD1xKzSIti0sgY2r3AuqGPmWbzOhIjOiaeDqvpRyZtsmBMWJ+iAIk/jXb5nxvKX+zrgbt8QJC70QF1VsXFQa2nTLNRT3CqVXeTRwxwvzLFUGiARHM3xsIjMmwPWAcXtO07DDkuya/NDdbBtc7OyIAFbJ5z6l0mw8XDHnL85zyNtXZ5vMfDmGMZiVtdgz+25RAJ0p82x5tpSmDWjEGaVFcHpC73AAsMND1bDlLwcYyg3mYtW2hLRBUydxba7UZ67rj6C6SbbFDQPsdfMnm7ESDocYhfhE6+NDjorYu94OGSjjzh/qQf2fDixGppp581EzLWefmNT3emNcNlNSD9yCJrQE034muNgcgKzb2z/pqOPIJm7M5LZgXcN+3AN6qtKYEFdKbSe70kdJmR5h9wcgOc2BztM+NM95+Dl3edSE3l6YyN8Zn2jClNh9IHJOV03FjExM2XitdkedB2MMX/rnFYtqoQ1C2fD1IAvBPMqKNoPQLqttZiP+86Lh6H71gB09fQbLxW4vVCAgY2VrLpywu1gqtNaOl5XCr//zDLYdfQyWA+Nmi8Bsg1sazzlRyYyHIlyrgnbhmP3rysfRHTWaq+qZk6FkmkF0HahN2UumI362ueW3I8zxqsyswbvn+iE9s7bUF9VDGsXV8G0KfziCzK5KJH5+w1CMPvG1tew+tdhP8LrJQO32wO87LZXpV2mU786chm2v3YqpZaqqrRFPZ8fls5SrmncIsrmVVTISCbmUTGe+bROfmXr6toJLxixPZTbfYPQ2d0nXUExU88m6uOwfZpTnk8HH8HDN0xcwxxLJf94GGLl8UxOHjtzHebVzIDX9rYbh+LKSwqNnNjpjl5oqC6BpU0zYXFdmeg0fbXTYR0hqn+mvWXVEmeXFcGV7rvGodDBoRG4fnMA8nJzjL+zfb3G6hL49IYGbnE2N38lOiee0FT1o5I32TAnLB+h5IBidXX11MuXL/fxlCes7zEOYznN/ad72o03qZixZAnJLR+rh5HRUfjSY+oOaDkFDFgButMzqiQXT/5hjqXSAPGey+q4sYjMmwMGJ5iz+fb2g2nJLpYU/ua2lUoOn6hasHst4px0TuV1Z5g6LZMI5OmH2/eY89ch2AtqM3++tx0+ONGZ2tD6jfWNkJMD8Mu97bB6YSUU5OcageHKltnGVX7s7SF7hQ6nRbrbxpiIHmDKHNvuRnnuJja6+Ygfv/MRvPnB+VSctHVNPTzz8flKfAS2PlH/fIuByTndfcQPX2+dYM/Z4V17DLJpVS3MLi2ENYuroLgoP8UdM7axHjBy24R0qrzIl65zC1GZyyZ8sZJc1qcQnTs2NkH618lH6CpzP5tHdp2wx/iPrqyBaUX58Mq7Y4cJ2RvMzzwWh7WLK4UODzjpnNsGbybshR9O6O4jWNXMIFUCvdZ2XpvtQdeXpp29ceMOuB0UEJG3lUdehwP9vvDi5KOmF+alrni2Yu/FFVbdgV0h3Hqux7hNgr1UsKzZ+YXlMHyQTj5C5GCqUyWdlrpS2HXkclqFTJajqigtgrrKYmNNbR668qOvMhxx6j8quaaor4Oy2UekcWdBBdy8OwQv348fmFw/9fCLMBF9AAAgAElEQVQ842YDe16peGo+JC70pl4sjNeWwtpFlY4m27TRsrEEph3E7DvqfNAt12R/weaTG+fBZzY0pMVNeXk5qRtpnOy2mV893NYFS5sroGRqPuw+ejntBgJ2QP757YeMl4TMT5Bcq5VMKn1BJvL5UedElHyE37yKChnJ6qkKO+zlV17afTbt5Tq2h3Kh8xYsnjczLb5zujnAvmaQiedUYCmy/gkzd2WfT5Q4IYtlpnBVwQeZZ436eCYnWV57YcNMGB0dNQ4fN9WUwsHE1dTeqeqXap0w1oEPIvpg2tszF3tT1RJNPLZ8rA6mFuRDz50Bo4qi+bG/qGG1t7wXQlhlahXnmkSeTZQ7qvpS1Y9Kf6N6Tli5JiUHFFtaWli0/nexWOy/njp1ql1UAbDaYRzGss+1oCAXvv/qKeNAolkZKCcnB+bMmgqbl8/FejTUSgRuBlmF4RABRCVpJut4WETmPS8GJ5gDemnX2bRk19MbGuFzD89TcvhEdrFgx0BkEWfXOfZMKq87w9Jp2UQgTz8ykdDQIdgLYjN7+4bg14cuQuJ8D9TNKTHeRiksyIULnbeN6hu5uTlp1UnZtZ0sYWa/joxtJL+xv8PxoIsfuWPprDkXzP4x+1YZIHrxTScfYcRJvzwFIyPjcRLT668+tQAGB0f8qOeE3+ggc8wYK8r46O4j/ui7uybY82/+1kr4wRuJCVeufu6R+UY1ILaBsnFpNdzqG4Kjp8cqnkwtzIPL1/vgTEcvsA14Fh9YNyFVVXmQteF+YzhMncXsm3yEf5OOKRfMvu0yvzMwbLxIwnjKuGk9BCODjlOM/7HFVdBze8B4Kcx8s/ly111YNK8ctqyq4b7B7Da+X56KPg8m/rr7CKwDim6b7aya1pEz3fDO4UtGdQLzI7sR3zc4DO+3XoMDJ6/64oF9/f7w0mr4658cTfOXm1fXGofNgnKNPaM1oe6lr25csf+dbZhsWVXreHAYkw+mPdJpHcGzT0xXjn3UDec6b8OFK7egfk6JUbWd4cxutXF6qc++OS2rr7I5GHv/TJ9f2vnRhDhv2+P+quGGoVNRXaeQjxizb+zzyw8uwO2+IWOt0FRbauxZ7D12ZcI6ZFm8An5kua7+qXUNE14sdMqxOr1Ey166CpIrE40zrO2ID96o6cIJ4zYzm06zw4VPrakzXoy4cece7GR50/YeWNBQBo8ur4G//fnxCfrO1tTf+8WJFGhszcxe/rb6CYYZRgVF1fsOmcjnh7X2xfJBUeIDLx7yYn4Qu+hHT4OMZ30OtwqKdu6zg/W/9dQiMNdNdh/FbqU6mOiasGaQjefC0He7HFVhKepPo8QJ0WcKOw6ZDDLEspnYWFo5OSU/BzatrjMqKK5lL5ZNLYD2y7dSLwOyPaY//cqq1EsIQfTBy39GfV0tYkOYzWQvW+4/eRWmFxUAO6hozQOtYcVyjl2BNkt+yLyxYHhkdEL+02lNYH0hhOVJn1zXCCODQ4FexhV5NlG9UNWXqn5U+hvVc8LihJIDivF4fFksFvtfAeCLyWTynZycnL8+derUr0UVQXU7jMNYTnP8l93n4JU949ciPbm2ATqu3YY//MIyJQe0sI2/CO4qFZk3XphjqSQ777nM73UM9t4+fAk6LNd31s6eDpsUHNA1A5P2KzehubbMOMQ1b+4MkKnqIbKIc9I5ldedYeq0yPM56aZMZRfM+evIB55dsWL/sz3n4BeWa/XY1VMzZxQahxPPXroJg8Ojht6bn0WN5Y6bLSz565QotlbaErVRvPnL9OMV5GMtmDD1NSxssII9nuww4iam76yCIqsIan6cNjp4c/P6XgeZY/EhLJ3Fmr/uPuLFN1rhh2+2pdTbPEhoxiCsQhqr0P7Q4kooKcqH7W+0QWFBDqx7cC68faAj9Tv21viO/eehtLjQeKP02a1xdrGq78MhPD6KcM5PwtcaK2PqFFbfYfFNJx+hm8zfPHBR2csi9moVH18xF6YWFRg3N6x/sDrtDeYn1tbDzOIpRpVVp6sYveJ+2cM5PPtg/17EXsj2qfO6Oiw7Yt9sf25LHEaTAD/+1WnYsDRdv0QOuYtUOxSRM+uHJcitvvFLW+JG8to8bMZ845PrGtKqp4jMUWR8L311W2s9/8Ihx5fH7AfhVN0MwYuJdfER94ZH4b/8+MiEa2mtuSAzF2LGSwvry2H30Uvwm5uaUzcP8A6x+qnOKZODsbfdtjUON/uG0vQ3SBUQERsrk/sJ04Zj2zvd1xEyh9jZvgVbK5h51SfW1BtVme2HeA+f7jIOMZo3RM2vmTHhdhxeJTreCxoiOitir53aYPaNra9h9a+Lj2DrZfPqR7b+/cT6xlQFRXZLzc93nU2pCLOxbC39gm3dffTMdTh57kaqndMLGUyncgvyjfib509k9VblvkMmcq9h6SzW2j0qPiJIXiWIjMzYQVZPVdlht4Ijdu4/tb4BfufTD6YOKDq9OHTo1DWjChvba7GuGWTiuSBYytqGMHIkbj5UFx/BWy9h2ZWw42jdxjM5yfJdXT19cPbyTSM38c6h8ep9bO+0ZNoUw+djfqLiI4LqOsP8yOnrUFU+FXLz0gvlMHuZlwtw8+4wvLrnnGFD2YfJoHb2NBgZHc/RsL9/8fG4UUihtT296rT9hZBtTy6Ax5ZV0wFFD+Gp8qWq+jF9IJaPUHJA0cRz8eLF04eHh7+cTCZ/l72QDAB/09/f/48dHR39mEbD3jfGRrt9jMLCPPiz7++bcL3tqoVVsHl5NdrjqlQskUmGOV6YY2UquMQiMk+WGJxgVyb8p/95wAgYUkmsuTOUvcXwfuIadFy9k3rTt7ZyOqxpmc17VON70UWcXedEfyc0CXZEIAZKShebz2Td7JDd6OBVlHRKXqucv1PgrBMfvBaRJvbHzlyHdUvmwKqWCvjLHx1JewOFlSxfu6QKrnb3wbnLtyBeX2YcVGxtH0uamRU52NsoR9q6gL3hbq/Ow2TIrhoLUsEHU+bYdjfKc8cO9ng2C8NHuMVJf/bVh2BgYJg3JaHvdZA5ZnIEEx9ZHyQkUEsjHRICTs/MDgTtO3UNbt0dNBb4py/0pqpMsYPl7LBDLBYzquqyCu2N1SUwrSgPEud7obm2FFrP3YDTlrca2d9u9w0aSVf2YZsr3/n6wxD0ek03eYnqlGwy28uHyupO0Ln7HU8UmyD9Z0vc5Bcjp1gzDBvL+Pbn28UOKvGejcVy128NpKq/MI4vaiyDI23XYeaMImCbLFYbwOLHO/2D8OiKGrBWLOLF/daYLNP2goeJ0/e6+giVdsSsnmWvBtQ/nITX3m9PVRfavLIG/t+fjlUXSlXovH4XVi2Y7Xldml3HPr6sGv7Lj9OrHYpUYLT2U1tZbFTBM9c/7PesuuO7H45VJ31kZQ3sPHhR6FCgrF6JYG9fL4tuboq2k52ztb1OnNhx6KIRA7ldJ+WUs2G28uPL58KD82emDmt7Hc5zy/uwTRTzms8NS6omVKjtHxyGXceYPl6D+qoSaKgqhmVNMye0c+p//YNzoPvmQCD9Fa36KeIDePomwgleH17fY/avEx/sPBeNa5iusP/9w2uJtJufcnNy4PMfnwe7j11JHbpiur73xFXD/po3RNXMnm7EFaYP4eVKRQ7DYstcFBs/eos5d+w8mU65Jjc9/Nrnl8CR0xMrQbNKP7/3uSXw3vGrafr++v4O7mFxq8zZ+tz+8oEfPWK/sT6Deci+vKQQ/vjZ5crGCEunosq5KPkIv3kVPzpgjx26evthx/7xl2N5cX0QO+nkQ6x/c+I+4/e3vroGhu4NGjk0+4tD8dpSKCspNG6rutbTD+x6UfNlF9k4Kciz+bEVmRhPx1xT2PkhvzGbHx3J5LP5sS+8Z2ScfP9EJ1y/OQADgyNQUVoIx850p1fvqy01rnT/zMZGqqDIAZRnQ9i5jm//40FjXcpikdULK2H61ALouHrb2KNYtaACPjh5DY6c7oJ4XRkMDA5DYUGesVe9sKEMPvyoe8K5qAX15fCL3eMvibBDjvYXQhbWl8E3tq0wql77/fCeTaZfVX2p6kclt1TPCctHKD2gaBX+ggUL1iWTyd9JJpO/0dbWNktGMYK2xdhod5qTvYIiq2IymhyFZz7epHRRkS3OTSVpRHQoE+NhEZn3vFic+Om75yZc8fyZDY286XC/ZwuPl3afg5ctTu3pjfPgcxsbhbklshHgpANvHLgI/7RjvKrRFzbHYesq5ytKeA+iQse8Fk0y/bvhoap/HhZOgbNufHALIsw3UswDJ4vmlUEMYmlv9rI3UGYUF8Avdo1X5f2NDY3G4ZWqmVMhPy8H2PVPbEHtlQSSuWrMSWYyOiUrc5VBlm5zN7HRiRPMjv/zzrNplaZZnPT5R+YJ23GejkVZX7H5gN2/iI/lyc/r+ygljWWe872TV40EC9v8Yy9esI30pfNmGpVw3zvRCbfuDsG9oRF4a9+FVLefeniecaBx1+FLE6pbPb2h0ahSar7NyBIAX3piYeotcpm5ibQV4Rzj/va32nxdYSjSv8g8yUf4Rcn5d1jrCGw7halP9rkHraBofZmFVY23XtXOqg8X5OUaL4XVVRan+VUWP7579LJxgNmpupgpUacqc2Hiw6rgqfzo6iNUyITp0tiBvvEDVOahLdY/q6D4ozcTqRcMv7C5eUKVwt/+xCJYu6jSEJnbWtEeBzy1rh7ycnPSKsSLVDe098N0es+xyzA8kl7phF1PHcvLg5+83RZ6BUU33RXZ3OQd6lHFC104YeJlf1nj0xsboCg/LwWXijjU3gdbp5y7cgtOnO02xnn8oTqYXVpoVKhlH/YSIHvhkF2T+8GJTqNyNYu/rO2slWzt/dsrgrI+eRwxN+eddG16YZ5rXkAFPirsES/Wxzrcogsf7PiJyMTc4G3vvA3z5xZD753htM3CT26cB59eP1Z5xtQvI/+66+yE3O7nHk5ftwfVK5H5+7WJmH1jx6th9a9Lrsmuh19+agHcGxyFf357YiVodtNZWXEB5MYA+gZHYGhkFLp7B2BKQR6wayLNA7lmvtX+UoeXjRI5lOumz2zfgfkTM0fMNvu3rK51rIZOnLgdqNKSW15gMvPBapv95lX82BX7fhjLQ7HKWSwmZx/e/pgfOywSS5sytM+PrRnq5hTDpqXVcGdg7KrSl203VbF1MovVWNuaimnw2Ir0/T1RHvt5Nr/c9SO7IGOZ401mTgR9PvP3YcoxzLEypTOq43hzHTglP9fIe93qG0x7YY2t1ebVlsCyhpmqVMKxHx3WEW76Z9pcdnCQVUu32kx2s8aGB6thz4eX4cbtwbQb0Rj2g8MjRp5/xvQC6Ll1L002Wx6qg0vX78KsGYWpYguf3tBg5KWsVdupgiJfdVXZDlX9YPsIlAOKzc3Ny3NyctjhxE/FYrG3EonEV/jQq2uBuYlizrKgIBe+/+qpCW8iPthUDg824hlJlYolgniY44U5VqYct27B3uEz1+HMpVupKodNc0tgeVPw88hmdUa2iW9+2JtPf/qVVcJvSIgscpx0znp4YG7FNGDjmhs0IpyxtlGh07yDhW7V9Kzz8NoYeWN/h+uVdCrm74aZDsGeW6LDGqAz7L/z4mGorpieduDkf3l6kfFWEKuGVTenBObOmgrvfdg54c2gubOnw56jl+FzjzYZb7B7ycRJzqyyzqMr5grrMKbMse1ulOeOHezxbBdG3MTs+D+8nkhL/Obm5sC/eqJF2I7z5q2DzFUv6FX7ICcZhLHZrqOPYLi5XXvOfPFP3j4Nv/XkAthz9Eq6L6grhYrSIthz7Mp4dSt2wLGqGBY3lBm+xLx2av2SKqifW5bRA4pMZ1js8tOdZ1LXyZk+LJOc1sFe6LaO0CkuYJsiQSpYm/E+eyllelEBnLFUSmVrkfVL58DZS7egID/H+P7EuW6YM3OaUQ2CVZuzHnIRtdFR5oSOPkIVH5wO/JkbcuyQ3/PbD0Hr+fSrd6xVCu1XdDqtRbeurp1QpaS5phTWLKkyNhIS7T2p6sBOV4+bvsCtGgrzeWxTwlot3jxcebD12viGfmMZbFmlZkPfygfZSkm8zc2gh3p4vlO3dYT9+uata+pg07K5aZUWRHI9PNxYVes39180rvlkeR9mT9lhEfOArLVCbU4MjCtCnWy0WyVb1v/7rdfgwMmrKT6wOYn4CuvzrWypgOFRSHuJltn8LatqHA8oivoAHj7kI3gIOX+Psa42RxKRiTWf+cD8ckO/2y5Y8qp1pROubjbyrz84MKHdn345Pf8alHci8/eHutrba0TyfH7n6ZUfxc4L6LKOsOvhJ9bPg//4/fcN/bVWgmZxBLuRcGBwCDrYgd2aUmMzPTcnZrz098GJK55rVd7mfpBrn99vvQod1+7Ca++1p1SCd2BdVucw+aYqZvV6Jsz5T9Z1hJONZTGDn7yKrIxY7PDt7Qcn+IFFjeVw/KOxOIm3P+ZHZjIxMtuDbL3QC+2Xb6XiNnZ6lVXjen1fh3FVqXnot6G6BC5ZqrKzaou//8wymJLHLnyU//h5NvlRxn+RifF08RGZsiv2cTMhQ8w4IqznYzbh+NluGLg3Aiw+tXL6bt+gcavIZzcGL47E05Oo88FN/6w2l8VMTbUz0m52Yj5n95FLMLUwf8LNf8wfHDx1FaYV5QOryG69+WlBXSn8zT8fM6oxsps2N62sgc0raoyXXVllTPbiVH1VMTyxthFGBocCvXigkluq+lLVj6zv5umxKpuAGTcpO6C4YMGC4pGRkefYwUQAmJlMJv9HMpn83unTp7uCOGQ/v8VMCJjzKSrKh79/tRXePXIxtaB5eEUNfGrjPJiW7y/YEXlWlco+2cbT+dlM4xJ152bVGTPxefHaLVi5oAr2neiE+jkladU7RHTMqY1RfWfHadhhqSC0+aE62La5WbryFgtmhllG1+Fj1znzmdimoHlttb0iicwzBdVpvwcLneYourlkLdkfdP48J6kTH8xndcLsg9ar8OtDlyYcOPnmtpUwZUoe/PefHoezV25CS335BJ3v6x+CmaWF8MjSaiifPoV7bbjTpiS7lkH0uhBMmf//7L0HlB3HeSb6T84554SZATBEHOREIjMHMYpJlr3Srt97tix7ZUuybGtXtrzHfmvL8tnzjiVLFiWKFEmLFEkwAARBIhIEBpnARGByzjnPvPPVRfVU9+14p/ti5gJ9pENybnd1ddX/15+/304lyww/W+FVM/d6Y218iSe09KQ/eGAZjY5Omllyw3u8sSd2KfO+RrNWHImGG6khn32JH/CJWk5fBP/QWqFvaJzy0mIoIjxIJguAzJOXFkU/efsqW6nQYH96fGcRvflJtaR34e9AfFgoPNEzNC61qF2aGyfJMCNacHL+To7ttHzzRTtCT28yohOzv9+KPTdKVNKye3hLKh40FVubwgYaHpmkgZFxSo2PoJbOIdbahvxm6WJVN5Xkx9O9G7JlARczZ/StWB+ze2d0n5MOMqN3O+lrmu+eaBUrpcSH0dceXM6Q2IGg+PIHFdJnKpNbRfQgK7YoR/NkNvveQpqcdLe/1fhDy0ZVtlIUkys9aYloxJtY+4DgIPrgVK2U9C8mSBrRhd7vPOBsprDQ0/f4Ek+IAXq0XMZ/o729MnmW61ZqbTeN9hvPgqb+8ZUL1DUwJqEh8mTDtu4RhrbDEWoTYkJZoYjaGa2FZMv5ua9v2I0fjOYn8gWSIqMjgmVJA/DZfOf5tRQfH6lalGJGBhjR2nzPo1s5vi/xg7iORnsCuvr14WqpMBYJJcvyEtx8TC/uK5L5SOEz/eWhKsP7+Fz0fKx6+240fyOauVVje0vPd9rv4Iu2Ne8w8+PXLkh0D1v5mb3F9Mn5JspNjWbtXZHsEBYSJBUA7d2QRUGBAVTd2EdatqqZ4D5ow2piIfj0pweuUXvPqKwgyah9rlX+cJLfFjtPLFQZoSa7UaRw9FILVdT1atKqFm1YoQGl/MCY0Omr6ntoYmqG6UlG8TEr7+M6nLItsxYfYH7/8OoFSokPZ8V5HMUaaFx712bQ3798nrUqBf8jtpKeEE4fnJ7rSmKVT5VravXbrPLrQnifr8kItT3w5j56813eOJO9RaMsoe1aG/XeRPCD3Q++RwtidA9C7sHffHU9TUxMz5fNNJ9fqDLCyger0Z+ab6ckL57+4rm1Ur4FzuTBkQlaUZBIH56ul14Je7e1e4TGxifproJEOvR5PaXGhxPwdUuXJdPe0izVIjxl4v19W+4kKBrto11nh13j8PPFKRlhS4JicXHxL2ZnZ58gorP+/v7/p6Ki4i0icu6UMNhFJ53G/NVg6FPlHawve01jH2vzkZ4QQaPjkyw72KnLTsIyM0dvvs+b77pVgtspRjbaS6d4AtW5Nc39NDI2ReEhgbQkM8Y0UpvenMFfRy42U33roNRyISctiu5ZmW70qdLvZqp71WjODmcun4QdNO1JYqHaIum15wJqE0/IfGp3IUPqc5pHfEHZM2vsjE/NsJY5n55rlNb5iV2FNDYxxSrai7PjqL5tgJbmxlNHz4hE84mxofS7ozdYOwJuTGvRFA9yTM0SvXe6lq5e75UqClcXJkp7asRAdtCs3jucHN/JsZ3mB6eVPaN9d0JGMD3pGirDhyQ9KSs5krYsT7GcaK41f1/Yc6cDEU6ND5ly5lob9QxNUGxkMG1anmp7SyJf05m40/cTQRbsWpdFL+wrog/PNNBrh6vpnrWZrPUz9B/wDgKLCJYH+BPVtg4yeYAgC4Ip6YnuVewLhSc81aWcnL+TY9+REUZSRvt3J/fFybHt3nNlJXNuWjTdaEbxShwFB/nR0OgUTUzO0JGyRqkqeVlOPGuzgupm+CTE5B1P7SDPd9L9SSfX/3ayI6zuycfnm+jjc01S4G5naSYVZsbQpmUpLIndTBKemDylZYsOjk4yJ3RZRQeTRxzNEwglf/lCqSHaXVRYENMHzdAq57fTlZ3077/7wpWML1Tm662RlfH1kjet7oPyfif5wRftCHwT6FCv24MVn4daQiD2RLnnD23PYzpWSly4RNNodxUZHkQHTtYREheLsuMY2kRlfS9Dsu3uH6Ou/lEJKYLPSw1BUQ9RlD+nDB4hKRL6oqg/wmejhaCIcczQvVGSpDdo1ik75XaVEcpiKNDO47sKqb17WPIxwc4AIikuMdHwyIVmZnvwlrew23etcd3HLzN0dccX5Jm08Aa/+ZptLeri7xytYQXh/v7+zFa+3tzHbOi89GiWxPDzA9ck1MSlOfGUEB3KdCV+wd8KdGijFs92gRocPt/EeA2IvWq+eM+oSP6UN2jKqTPcbjtLTSdbaPyglTiyckmiZtcrIzqxSgPKjmJZqZH06sEq5oPCZZTkx9/X0zMkswP05gk7QysmJT4HeXXwbAOdr5xDSUSR3pO7imhyfIIOlTXJEBTxW2JMGB2/1Ew5qdGUmxpFKwsSPPZZWl1Lo70x+v1WvG+h8YTRGnnyuzfX1ZvvcvrMVFtrJ7/PlXfTTm2dI8zun5ieYXEl+BxEPdYTGjDzjC/YEVr7o/TtPL2niMUbzld2Mn9iZFgQvXKogp7aU0ztPSN0vcnlk7ze3M/aN99o6Wd2KXw/NQ2unKio8CC6f2M206Gwd7i4PqV8350Wz8YUaBdv2TUOP1+ckhF2JSj+m7+//7+Wl5d/YbzEzt/hRKBdbdbvfd5Abx+7LhkTD27LY4flt768xrbgu5oS7aQBcCvfZyfTmKGyW/E+pxjZ6Hud4omTV9uZYOIJivkZMbS1JMVoOpq/c4dXQ/sghQQHMpQHPjYq3J/fW2Sat0QBiGqLp/YUseRJ7hTWQveZr9NN/Dg7aExrPgfLmmRtfqBQ7F9nnBytdETroRzZMX+tzfYFZc+Kgn6uppPqWoaou3+UteoMCPRjyYf8enBrHo1OTBOCde29wxQVHkyN7UOsMhAXryLkFcJdXYMMDpvTx/mqTkJrteGxKYoMC2T//uHn9bRqSaKsPZoRczq5504bTIt57k4re0b77oSMwFmDxFy0reFO1/u35NLjO/JNn+NG8/aFPXdSp3NyfTxFyDPaU/67r8qIczVdrE0rL25C8cWxC82sOjE5NpSutwwwJIWl2fEUHRlMXX0jrIXF1PQMszm2rMxgCUr84rKfy3Yn99zsGa6HuKWGcmS33qSndyxWfvNFGSHyulP7shD4QYsedfXxnDjKy4imqvo+Zmeh9Qp0R6AqBgb4sxajsI/iokMIJctiZbPSHtBLQFnI62MkK3xVRsx3T2AXnLjSRheqOig7NZpyUqJY4hQSqeBw3roilXIy4hjimlobYzW7E3vBW9KuKkyi6PAgOn6pRUqIvXi9m35x4JoUvHx2fzFDMoGdwi+1VkI3mvppy4o0KVioR6vivNYtT6ae/nEmK9cUJdO2FfoFEmYT5rXaX39bQBQwokvxd+X3zHdvjd7tizxhVZ9QS2jEmYhufuduBl2UbcPVEnZxzh6/3MICNUBwRFwe/ikUFCLhJSMxgtEt7rtQ3ckKSPCbkh7N0p5yb/EdH55tpN98VCX99H8/sZLNQURQSogKUW3xrEeH+M2sv8sbNOuk/Pc136ueHi6eNx+cbaA3Pq6RyOAPv7SCmjqGqbNvhOkSKG5IjguVIXLdszqdIU0hCUXP/+qpD/J21/mMzm+zNpaZcfTsIF/jCdA9949W1XXRicttNDo+JdOLkXS+b50L1Sc8NJDaekapqqGXIcFNTk3TR2dcdjWKK8AfSGLatjKdoZJrnYGIg0AH4cm8kAtW4yA4h5FQCdufoTjmxNHdq11dc+y6FvMZ7jRPLFSdSXnG/sHDJXQS6In1vRJZWEHatEoDylaca4uSmP6kbGeupbN7Uphh5FeU/Z4TR7lpUXSxqovWFCVSe+8YXa7upNVFScSRJt89XiutFeL0KCIJDQqgtp4RsgLeoORDq2s5Xz6+Fe/zNRmhtgfeXGV4VTYAACAASURBVFdvvsvpM9Oba8ntlKAgf+ofmmCxUvA5R019cvcSum999nxZTPf5hSojrHy0Fv0p7UAkJP70HVe3JlywORGPrqjvoR2rM6i9d5Qq6nqYTxItmhs7BlnxtNj1ErrWY1vz3GzMHavS6V/euCSTYcty4ujbz681ncTuNO3Zxad2jWMnL9s9J6dkhC0JijcJxa+wsHCvn5/fCj8/vxEiulJZWXnCCuPYda8TgXbl3FC58YsPK2l6ekYySgIC/GlpVjStK/Y8QctoDewkLKN32ckQC+1d3v42/j6nGNlofZ3gCRgkH5xppDahGjc1IYLu2yCvOjSam/g7d+Ly1jmeVhOKzmwI0OS4MGrpHKbl+fG0pzSTJSm+dbKWRMOFC1M+H0/blojfYye/Kg1AZWVbUVasKfRK5Th6jnM7569m3PkSP/Dv01qzTy61UEObCxE0OzWK3S4mmWD/CrPj6PCZevr9B5fRwMgk/frgXFBCC0FRraUz+OY+JIJtt54I5uSeO33uLua5+6KM0NKTfu/eYllLKSsyQu0ccSqw5TS9LvbxjWTofPbVF/mBr8e7n9XTZ1+0Ss4VOE1x7k9Nz7JzG3oJ11tau4YpLSmCOnpGKT89hsrru8jfL8CtFRSC5zxZREw+EZND5rsfRjJOOb6nQXknz3Enx/YWP99OepMdNLsQ99wMonnvwBjtXp/NWtjwa/e6LPL3J9bms6tvTFufzI6l7z5faqoQYCGuj9l99wWnsdq3zndPlAV6XK7wd8GeePbeZaSFbKJ3djMkg6tt9LN355IRMR4SvngCI5Ig0bZndmqKOZ15BT1v34aiwa0r01nFPexz2EXL8uJY8oAeshyfF39ebIGuh+ZiJcENa28HgqIWj893b414w1d5wow+IRa5dvYh+aRPWi4knQwMTzDkQ1ycXsTEFvADdCaO+sCLKXDPR2WN1NQ5zBLERT7iHSe05meF9vi4Iu0w9NxAf2poH2LFh5HhwfT2sbniRnyHHoKiHr2YWVNv6TVO2XG+yg/Kc0TtvPm8op0a21xIiECZQeHrO8fnaOexHQU0NTvj5guNDQ+iVw+rd1YBPSjRGfE38JdZncNpmvLGGesUvTq9Nr5mW6u1C/zgVC0dv9hMoUIbZ3w3EhH/6ivrmP9J6b+4b3MufXKugcYmZgitCyE/kKTY2j1MpcXJsqIO0a5++1Sd7Dx+ZEc+PbIl10hMu/1u9iy2PPDNB+7whPbKLVQZoYzzFGfH0uDIpNcQFPmKKeNG8O1CN+Lo6cqERf6cJzRt9IySbwHu0NA2QDnp0VTT2C+BOnzt4RLmExOTOZE8PDTq0gHB4119ox6DCjnNT0pqvRXv80Vf061c11uxh07qKd5aS5wJbx2toZ3rsqlvYIwiwoOprmVA6hI3PTNjSff0RIYuVBlh5VuM6E/006DoAsAiI2MTdPeaLHr3RC3r2gK/DWxgKUbRPUxZyVGseA/I/vziifOwm8VOHs/uK2I29qtC0d0dBEXjXTTaO+MRXHfYNY7TdoQtCYoFBQXJAQEB7/v5+S2ZnZ2t8vPzQz7Ucj8/v/MzMzMPVVdXD5hdODvucyIZSzmviIhgeumDClngAMhAT+1eQjOTM3Z8huoYdhKWmUl6833efJfdTGp2LX1J2YMge/lwNZ242ESFWXEMmWHH2kx6fk+hqaCYcs2UTlwIv8zkSGpqH2TVUGK1u5n15jDxXJjyZ+DMvW9jNv3gpTJWqcgv7rjoH56QBVmsvlecm1M0zdeKKxCoIsH89RAe1JyXQOvjASOlUgHj06n5Oy3YjOjDSRmhtmbBwQEsoV2sLoG8OPS5KykFF5xjtS39lJ0SRXHRoQxpMSw0kKobgA4yR//i+EA+Ue4fN8DhiOaOOKP18AbN8nc4TVNOGmNOzt0XeSIsLIh+dbDSTU96YX8xjY5OWiFLzXu9sSeLnaacmD8clFoyFM5/Oy5fcAgo12FscprePF4rc65gvUJDAlhABOc25IBSb4EzFa0V0EZwZnZWFiRHccX7J+tkbXeQfNLXN0yTDtgjZnnOLDqPco3Mju8JjTk5tjfsCl/kCafXbSHuuTIIg2AKTk0gqXK7BAiJOA9kdkpmLJUuS6KB4Uk3uSrqk3s3ZNNzJm2xhbg+Znn7Dj+4r5TSllajI4bQU5pJR881yewLjKaXUKXVzllEccHzQ2OTdLq8g9q6hmV2DK/Mx5xiIkIYCqgnSYZ4LjIs2C1RX88GNgp8igjEZtpfG9Go1vu8wW++5Gvi62wGjUdZ5CrSFs5EFAXy9oT7NmYzZNGTV1pp64o0hvRwvqKDISWiQPBStau9FXxA8JX89MA1au8ZVaU5zFHPl2JEe0paUt4P/8CN5n7mE1MLBH3n+bUUHx/JEFF58oweEqkRnytRrr1Bs07YKb5oV2v5UpRoW8/sLaKLVZ2MXhFoROF3eGiQTJ+4b3MO1TT1u/lC/+SpVfThmQYZSqeI5gba+vXhavroTINEuqLOYabA20macnJsp/VVb43vKzJCrV3ghYoOlpi0bZUrmM4vDkSg5b9Aku3E5AyxwsDECBl9A4H3+fuWsTMWgCSw2+3yg4xPzdA/v35RllBvBRnPSBfxFk05dYY7Pf+FaEdoxXn+6PEVN9HR5/QTvaIeO/37oxNTdLGmm+raBqmpY5ChSCNxhV9ikZAnhRlGz4SGBtLf/OyMm7xCG/cr17tZ0iEAGhBXWZ4XzzpIiYkw+P3EpRamA2LuO9dmmAL2UOMvp2WMN/1iWt/nKzJC73z05j56811On5ne4gnI2J+8e40GRyZofGKaUuLlPgPwdHxUKD22I8824Atf5Qez9McT41u6hql0aTKzi4HwzP0uda3uMQrYqB/dBFrA+kHXAhr7h583Uq2QTAqUa6UMQzHr9MSkrNuGGZ3GTtnmxFhm19vMt9o1ll3jOG1b25KgWFxc/NLs7OzQxMTEn9XV1Y1h0unp6eFRUVH/jJbjlZWVf2hm8e26x8nkEz5HHJh/+8sy5jDirQsLMmPo/3l8BUWGBNn1KW7j2ElYZibpzfd58123SnD7krIHQwJtztECBMlUCTGhzPn1wMZsjxIUsSdKR8Nz+4romf0uh4BVJCA4myFkz15tp+qmuUREbvS/cfQGvXdyzrB6YGsePb49z20OeqgMIg+pOYOdpOn5Orz5d2mNw5ML4OD0JEHU6HxZiA4Bozmb+V1tz9WcT3CErSxIpIvVXSy5tK51QKr8g8L9+dVWSowJIyQyblo2h8qrHF8NQREG+L2bgaCYZ2bKsnucpFmnz93FPHenlT0jQnBCb9LSk773oquC3Y7LF/Z8sTp1kWh3QJChqGT+kgdnjhYd+KKMUDuvkWgBwx5O0/u35tLZa+1uyRdwpq5fnkLVDa4WnWIAvXtgjC7XdEmIjE/tLqSxiWnXvUuTaW1h4i1tFWUUKFfuv5M87eTYTss3X5QRfO+d3Bcnx/Zkz8EP//jqBQLforgI89tVmkUflzVKAVVUKsMRu7owid4TEBShGyLhICIsyA0dbN2yFHZ24KxYkhFNa5YkmhKxC219TE365k2+KCM8oSk8I56zopxBYgrkirJjgDKpnSPBibY46BA+rl2lmbRnbaabfcwDgk/uKiT+PGzHQ2WN9MGpOrdEe95m90J1F7Mrz9xsj8j33Cgor5eAZmSrayXMi3/nrathQ60tTpLaO1qhSb4XWglrvA2lJ34NM/PwdZ7QQv1UK3LNA6pOUx/lpEZTWmI4XW8aoNNftNLS3DjKS4thSSxAlkOLZiRb6SFzHj7fxJDorCIoYs/E5Eq0HuRtQ5V8q0U7IvIP9OwPT9dJxY1KBMWhsSnTRbZm/Uh3ZIQZznO/xwm7Wk1nQrHqD18+56YTbFieSi9/WMEegRzYvylHVtjw4NZcmiU/N19ofFQQvXGkRio+f+yeJbR/XabsA9W6uADh6/jlVuroGaGk+DDasVK7Ta2TNOXk2J7KZysU5I35+0I8Qi2hCe0CkZiIFoViJ4Li3Di6e9UcPf72eK0b3T+yLY+OXmyio+ebWTwDQXl+wWf7Z8+uZfwj0vfRSy263ZiU+65mDxvJFiu0o+dPWay+Jqd5bqHqTEZI5spCAiM68fRc4a2euwbGaWx8iulAZoqEzOoX4rzVnoHOBLkyMDRB4WFBdPB0nRR7R6zj+IVGGhiZYrYvR0hUoroXZsfKEBZ5u3ezyZ3KtfV0LY326Fbxr9r3+YKMMFpvb+6jN9/l9Jmptq52fh/OnMvXXcnQ9W0DVJQVQzERoVTT3E9l5e1SoRnkMjqLbFya7HHugRGN8LVc7Pxgdn/EYifYDfs25tAHn9UxG2LHTeTZ8ckZqmrolZYOcWzoW2j9nJsWTc1dQ5SfESPTjeAvykyKoN1rXbaE2L1gvv4Qs99mdq/t0JVuhzk5xRO2JCgWFRWVV1VVlSAZUdz4rKyssLCwsDNVVVUrzBBEUVHR//Lz83todnZ2xs/P72eVlZU/KiwsvNvf3/9Hs7OzYUT0cVVV1R8p36Mc20mHAH8Xqjje+6yemjpcrRMykiJYZWteWjTl32zfaeabrd5jJ7Gbebc33+fNd90qwe0UIxvtpVM8IbatBQ+gde3OVelG09H8XRlAmG+rQox3+FyTWzscICi+e6qehkYnqaaxj5ZkxRKQHR7Zlkt/+1KZDBLeKGBiFPSwK8FP6dSwkkBoBhFDCdHviWFpZeMXqkPAyjeYVdDhfEJbBrHS8MndSygk0J8u1XTTxNQMQyDl187SLBa0RktotHe6f2MWhQUHsp+V5yTo4JMLzfTFjW4qzIyjkfEpQjUh6PmhLTmWE8GcPoedHN/Jsb0hM3yNJ4Ac+v7nDdQs6EkZyZF0/8ZsmpiYni+rqfKDLYMKg/gCTdlhaCnXFTIFe4tzjcvQqPAgtrdWnaZae+Zr/KAmh+FcAfLIwdMNrMXlzjWZdPDzegKwroi4+8CWPIoIC6SHt+ZKvIPxgGiFZJDy2l5mh/QOjlFuWgyrMOetMxGM379ev3WmFb6xyhNm0FTE91sd38m5Wxn7joywulpz999Oe84TuDjPAu2hs2+EJRdsviuVslKjqWdgjBpaB5htEhMVQmXX2ik9MYK1xIVTcOe6LNn5gLZyQEIqyIih6839dFd+gltCgd4564SM4O9zem99za62eo6o2aAYQ2y3jADfucpO4nYe0HoPn51rxwM59M2nVjObBJcyOLCmKJl2rEylf/3tFZl9DKf0PWsyaGVBgtSaGYkrn5xvZoFCLZRDvIPLLjFx0mySIexqJCEoke60go18jZDIv2VFmmy+akUDHIVFOR8ryfYfn2+StTbiYznJD5x2fJkn9JChla3NUXj6+dU2SogJo8SYUNauMz89hsJCAumto9cZrSPQHh0eLEOIQFIjv7gPCPQqBszAE9tWpEp0r4cYzfe8oaWXTlxuY3yohtTI6Ver8BBFLPAJ7FiVztoXcoTHyNBA4mf4obIm0y0gzaJce4NmnZJBvmZHqMlVJCiqIRo+uCWH+UAr6npZUm52SiR9cb1HiltsLEll6CZKX2hQkD+1dLriG+lJERTg708v7iuS2XY8aQUB5JzUKNpckkpnKzuovnVQGj8nLYruWanuE3aSppwc26p89kQr9sb8fUVGqCEoblqWTCevuM5Z6D44L4MCXLoNLtikajGA6MggBrqQEhdGX9T2ynRs2OmF2TF0VeAf0PfK/ARCkiLnMTEJUtx7rbOW+wXAw9xmR2L9o9tyJb+vJzSkfMYbNOXUGe40zy1UGaEnn636VeazhuCxT843sUKP7v4xVvSBZBU1hNJ96+Z8TWZQr5V0qvbNXK5Ab4MdDCRr2MFF2XGUEh9GZ8vbGYIikg5vNPXTyiWJUtc13rbUqB21VR5zmp+8zb9q7/MVGaG3t97cR2++az78bpUXnPD1wH5uEgrCSvLjaWlOPF253sU6CcEXVl7Xw/znw6OT9N8eKbEc77TynQtVRlj9BiMZrRan4DFpAEUhzlNR38OSwWE7YA9w7dmQTbMzMzQ2MUPBgf5U3dhLYQrEdqWfSYtGrfhZnKA9u/jUrnHs5GW75+SUjLAlQbG4uPhiZWXlajUmKS4uPl9ZWbnWiIGKioruJ6JvVVVV7czNzQ0NDg6+FhAQcO/09PSh2dnZ3dXV1deLi4t/QUQnKisr/11vPKeSscR3gnlQffXu8RvSnx/ank/piWG0tSTNsUPSTsIy2hM7GWKhvcvb38bf5xQjG62vEzwB4+iXh6pkBjwEFJxY80XHAn91DYyZMvqNvl3LwHvrZC199Hm9VCG8f3MOPbbVhaD4xpFqqToLaEQisoTyfVqJfHYl+JlxepupPDCaj6gQGMHsG625md99QdlT+07lGS06nxAIae4cotz0GHpkSw5r1fT5tTbqGZyQqtqB4LB/Yy69d2oO3ROICfescVX+KscHH/7m42qKigihAyeuU35GLEt25PRsZi/Ee5yWMU6O7+TY3pAZvsYTSFB8/ZPr9I6gJz28PZ+e2llwJ0HxJtMtZpqFTHnr6BzKxuM7l+jKSk/OIl/SmfD90DvEhAwg5B4938jO7/joUNq2Mo3q24dodGyS/Q1neX5GNLV2DlNuRjTTUcRLKdcfu7uAIScmxIbJkH6e3VfEELDsuMzSbM/QuEc6nNnxPfkWJ8e+IyM82RHXM07ui5NjezJ3Jc8+vC2PQkMC6fWPqykkyJ92rc9m6HP8enBbHoUHB9JvP62RqsYf31lAXf1jrBUdgjTDo1M0MzPDnLYIcnb1jdK3vrzGVLL4QlsfK1TkazoT/3Yre2IFZYXbeWoJUGhpuK90TkaojevvR/TrQ1XSFilbuuGHf3j1AiXFhrFWasoApjLhz2yClJ6NYsaZrbVGarauiMIiJqeJCZ9o+6uHvILvOsESJDpYUDc3NUpKirSyt1Z4QaQdX9Ob8G29w+N09GIrC4gg2UotEUSkJyQAIokPwfStK+dafbKExIhgCW0OgfZd67IYgqJa0F0tSRXzEQtx9BJgRRnxyoflLHlQD6kR94vfoUT+4fMR6Z7TFNAl//7l85aKbPE+Ix7yBs0aBc484QW+9r7ID8o9OXKpmRrb5kATslIjadeqDLZssMVRFAidXIlwiOQq0Rd635Zc9szbx+biGyiAeGxbnqo+wWnHqk/YSZpycmxPdD6rtOuN+fsKTyh1CLFdoN65powB7N2Yw7qiAf2nMDOaRsenWdI6ByEBOiiScQ99PtfWXIx5cB7T2ms9PY3HHYCajgtIQ3bZ657olFbpdbHzxEK3I8RkRE/9Kp7uEdeRUfS6Y3UGzczOSr4lIGahKA5I1CiQhf25ujBR8gOKesk0qm4tXGpyJTwkgHaWZsviIyhCQbvp5bnxJIKaaCFJG+k6Zqfo9BmtnMeteJ+vyAi9PfXmunrzXZ7yu1n6V7tvvt/HeRP//OmBaywRGfYbCm6zUqIYih+/IHunp2coPjqEJqdn6NEt1jvGWfnWhS4jzHyL2f1R8w+VlbfRrnXZMqAdnL0AqAA4FXxDKHpFER18KKPjk7R2abIs3gHbFWAJou0szskK+r/4vVYAm+xcJ6OxzK630Th28rLdc3JKRtiVoKiZhGg2QfHm5gQQ0fTy5ctzpqenjxHRc7Ozs/+jqqpqN34vKiraTkTf5/+ttaFOJGMp3wVl8e9+VUbXm+QtntcWJzMEGZ6gZZci5C0D41YqRHYyjTeZ3cy7+OHiFCMbzcEJnmDtO18qoxstAg9kxND3vmJP+05lIB+VUcrgvNF3i78reVHLyON/r6zrJWVLCOX7tBL5vvtCKf3wV+csO4nVvseuFsxq1c56ARajhEYra6+lyPoSP+id0VhLtHJGYIRV5yaE0d7SLIoKC2KPIdEXijYcYcvzXBDZYmsRKHsbSlJoz5oM1QRF8CEqeQMDApiyiIDGnnWZFBsebHmbnD6H5zO+kTydz9hmFsob4/sSTwBp+vs/P0MNbQNSInhuejR9//c30NjYlJklN7zHG3viVODMTqNDa6GcXB+7jUI1/dOX+AHn18sfVRGQEupbByg7LZqh+vQPjbOgB9pwou3mrnWZFBgYQNFhQeQf4E/nKzsIlYfKgLyW/rHprlQ6camVOXb4ZYQEbchowg1KmtI6lz3V4ZykWSfH9hY/+xJPeMO2XUh7rpUQ9dTuJVRW2UnAeKlrG2BoLCLvFmTG0sjoJGubwqvHa1v66IldRfTqoUopcRGBzbbuEdqxOp02L08xxdYLaX1MTVhxFt3O/OBpMdno5BS9dbyO6loGpMDi9MwMfff5UuY8VhsXMmhFQQJDfK9u6JPQ27AdQJY7eaWVVi1JZOjtJy63skRZf39/iggNZLKIo72p2Z1Gur1IF1bolaOnaLVbxrgHzzbKEOfAQ0iuhKOdJ4NZtYf17rcyf6v8wGWQL/KEnj6hpB++79hbIP+ISJ5iQiJf368/ehdDg8D/VxUm0MDwJNW1DtC6pckMiQe2uh4yuBF98D3/1o+PMb+QmfaImJvZYl2RpqwgKJqlL2/QLOwsrfbdZud5u/qaYFPAtsCZBR9TeEggBQT40WPb824mSney8xdn83+8d01WgA2EOREBbk9pJv2fN6+wZK3E2DDq7B2lgswYSTZo7QX3Ccva4mbFavqEnaQpJ8d2Qs9Xnl/emL8vyQh+3s/OzkpIskD70bsuXO+iG82DLiS2nDiamJyij864UKVROPjApmyGQs0RQoHC+E+/uShv+5wVS//92bVMxii7EInvNtLTrMQdPD0LvUFT8/GVGemATs5/oSafqBXwoGOGWORqJTbm6Rpy/WbvhixKigtniYjw60Km9A6OE5DJIScgf0Rfk5n3ae27mKCIGAfkioh2zfkAiNJ/+UIpi7s7rQfp2SFG9Osp33rDR3I76U3KbzVDo/Pdu1u5h/M5k61+t6drqXbOfXa1jdp6RunU5WZ6fGcR84OjQxA/Z9C9YVVhIoUEBdDa4kSKCw+xOl1L9y9UGWHlI8zuj7gfaNOMYo3YqGCqqO2h3qFx2R4A0TYmKpjeO1HHzn8U3z26o4BCgv1pTeFc545VhUkUHR4kQ/6HL0jrzMY4X31guSk/ppH9bWWN7NTvza63mfnZNZZd4zjta7IlQbGoqKhudnb2u+oCzu/vqqqqTKc1FxcX/2B2dvabfn5+r8/Ozh6CnVBVVfUixi4sLCzw8/N7r6qqaqneZjqRjKV8HxSRIxebZa0MEmND6YsbPUxR6h+ekLXXMaq2NkOcdjLNQnyfnUxj5vtuxft8ySGANf70covpdh5m9oTfA0fXD14qY20K+QVl5G++ut425C0tfjpY1kSvHZ5DiHh6T5FuqzQnERT1nBrKoIrZ1lh6ThRxj+4kn1ih2Ll71c4V3tKPOxVQdbgkK0YK8qH05I3DVcwZ3NM/Rvs358rQeVnQuWeEyRYkMioNjiMXW1iQOijQjyWCYeyHNrmq4K1eTp+LnoxvFmXFk7GtrI83xvclGYGK8k8utFBL17DUBhjGzM416bad497YEycN/Dvz1+ZAX3AIKL8ObStaukcYChAQE4E0BRQ0FEOEBQfSm5/W0O712XSpupM5AXCmf+3RFbQmP0F1odT0j8jwIGrqGJZVmwIJ+t71WVaOO817Oc3WN/dKbbSUySdaOtxfmShgcZInnBzbGzaaL/KE0+t2K/ZcL1ihtDFQCZ4aF8b8BkBMLcyOY8kBOCOgKwLRBbYQECpiI0OI/Iiu3uhhRSvnKzpkhVC8mAXJiXoFSCJz34r1seUguom86Us6E18XM3vCacwT5yySV175uEaSM3Aso1XSc3sKpUQsrTazmBscx1vvSpXaNPN25Qhcor0aOkVfqu6izTfbKRsleFmhBzNro7QZkJjz03euSq+BXY+Oj+cr5a124UTHvccvNUvIh2uLkuhf3rhkuuBQz27nbebQonp1UZLUhs7K9xvd64syYmqW6B9fOe/mE/rmU6sYIpzo18D6cLRLVxvlCeoeGJd1+/jawyWsrS1/Dsg7Zyo6WKEI9C5O42hdboScaZR8Iso3jqCo1R5RrQjXTFcPkSfMoFBYDaab4TkjutT73ZNWkGbf54v8oKYzKenkGZzlsyRLvsYZf/xiE8VGhTI6h1/128+tZWc+R+nCPw+cbqD27mEJPS4lIYIe3DQHviCuvUhLb5+qc0NefOQmIqNyv5ykKSfHtlNf1fJteWP+vqA3KddPRFDTS1DkZzaSG3avz6IPTtdTea2rVSEu8AW3VcenZuj45RZWhJGfHiPrCAJk0ciwQPr1QRcqLny4u0ozVdEP9fQ0q3EHs2ffYtDzF4J/d6HKCCXNfOOpVfT+Z/VuepAZv8p8zi0OcNE75Or2xGl9JxDXFTJGjEXpnWNa+67298Pnmphc0UK45qhc/H1OIUmr8ZOeH8wTPtV6xmmZoCaffUFGGO2BN9fVm++aD78brZndNKomG5E3U9XUxwoEABiE2ObI+FynEKD2dfSO0PjkNH3jiZUU5I/yXueuhSojrHyxVfqDnnT4XCNdqummQH8/Sk+KosqGObTcvPRoCgryo+0r0ulcZSd19o1SaHAgVTX2Mt9lYkwYnf6ilbasSGM29U/envPBcDmhdmbjWRS4InbIiwS5P1OtGFGrAFWvqFBv3ayuk938oDbeQp2TUzLClgTF4uLiT5EUqLVBaNtshYGysrLCwsLCDvj5+R0looLKysqv4PklS5YsCQgIeLuysrJEbzzMpbt7kIyqp6zMSXkvDPjXP70uq2KB4Q/G/NL2XFKrYN23bv7t1UCgCQlR5PT38e/15vu8+S4uuL29lomJ0bbwnFXadYon4Iz63dG5NiCP3p1PWs4oq3P+7bFaOnByrs2tEsbdbPDNSAiJNADB93e/Oie1/sGzQI1AYpiWoIMxdZK1cnJVKMNBgrnh758J1Zdmk5SVcA8WJgAAIABJREFUwlftLLl3Q5ZqG5/vPO9yNKpdnpxJTvKkS9j6Fj9onSvYU952Sa21E6p1A/z8qat/hKIiginA358hJyBYzdsmoIrliR15TMnjNItABGjvXGUHU97HJ6YJifLJsaG0ZkmiVZZj9zu5556Ob5Z2F+LcrWyCr/EE9KTXjlyXneNoV/70rgIJZdrK+mgp7U7KcV+gqcW6Pr7GD6BfBDuQ7DAwPMHaIBy90CyRNSrh+wbHKSQ4UEK26u4fo6iIIPpvD5eoynboGccvy1tJLs2JpYs13SwACYTr3NRoSo4Po91rXO3e5ntxnuDBdj4eHA6inaPU4cD7j+8wrldzkuecHNtT+WZlP3yRJ5xeN2/uOdfJlPaAuMcnr7YzBAogt6ClG3g8ISZUdhbctzmXoazmZcTQe4IdhPaLx262hEcwFAk0rwgtd3GGIFhjxT7y5vrY7Ze5HflBaXOuW5rEEu040o+RrQnbAi67U+WdVFnXIyWhFGXF0paSOdRNvAeFcEg+BPJ1c8cQVTf2siB8bFQIS65Hkr3YChTFVGgv/hfPraG4uEhHfFVm6BUBD5EvkEgAVDHOl8qExef2FdG+m62HEAz9+FyThBLw7L4i5k9Ea14tWac8w7VsFrO2jBWZoLzXF3ni8Pkm6hmYkBVd8D1V7ovYhhz29gNb8lggKzgogNH6stw42r9hroMBfCZYM/+gIDr4Wa2Mj2Bfm9l3o33lNNvQ3CuhcmWnRFFX/xhDbYSdHxToTy/sK5LpeaLvgO8zEIpEXw/nZ6Wer5aEqOWvMqI3MzxnNIbe70brN5+xfZEf1HQmpc8RiG8/el2eWA1/5tKceLpW28NoTjzzOb3gn/95rFZWJPvQ9nzmf1K2NVf6Pisb+uh6y4BUkFiQHk1rC9V9UU7SlJNj26mvatG9N+bvC/5X5fpB/31yVxHNTE4axgDx7BtHqik3NYqW5SXIWheKtuqHZ12gBZAlz9+3lDrQdrKxj5ZkxVJBRjQdKWtiicAIqEO+IGj/6PZcCg8OlI4t8BSKE9RiBZ7EHTw5D71BU574msye/U7OfyHKCDXZD8SwrOQoN5+qGb+KJ+eWqENo0ek3nlxJp67MIY2K9ofennG+4rSMoqF712eqxs+TYkOpptklV9YvT2EowSjgU6JybVuRStkZcczuOHi2yZTuhvd7oheZ9YN5wqu3wtd9O9gRt3pdnTzDbvW3eXK+4BnlOQc5u7Eklb7+0HL68Ix7d4OTl1to/8Zcau4cZMAty3LiKS0xXGorbxe/+SI/WKU/Hl+4XNNJeekxLDmdX8jJyEmLpPbuEQoODGC5Dx+VuRLJeQI79gbFnriAqvjuiRs0PjnD/pvbsfBFcb0BZzZ0sq0r02X+UMQWML6a/oSxzOoQZmnD6jppjWvXOJ7yltNngpN60y1JllJbsMLCwuWBgYH+5eXlX+D34uLi/2t2dvZxPz+/mcrKyr03/7aNiP66srJynx6R6SVLmiVOM/f92Y+PUlX9HMIbDH8w1Zd2FtKf//gYldfPtWhalhNH//DHO8wMe+ceH14BP/ThuAWXUzzxZz866tbu4H//yd22fOHL71+jgZFJyRHAUQ3QvgxOgqf3FM/rPb0DY3ToTD2du9ZOpctTaN+GHIqLDqUfv3aBPjrTII2NxOM/fnqN5Xdpja81kNb9Wn9/7XAl/eZQpdSC5cv7i3XXZCGeSb7GD3pEgv16+YMK1dZOzEm8Mo1OXWllSSv9QxOUmRTBsgWBtIHkRND/iw8sl72Cj4k/ouIECmRNYy9znD2zt5jRsy9cC5F2nVpXX+OJP/3RUbdq33+ySUY4tQd3xjW3AlZlnLlR5Xf5Gj80tg0wIx+Vhlg/sR0aDHY4X3/1QQUz8DeWpFFsZDDjnw13pUo6inId3/i4UkL+ARLWf/3SCroO9Gk/PxocnmCJGfj3P312rSdboPmM0bms1OHQ3uH5++UyzNYJ3SaD+RpP+NK2iToZvktpq4Dnf/lBOUtAXpIZQ82dQ5SXFkMVDT2ywijogcvz4qmirsfNxkKLLThpMTbsFjU7xpfW1Ohbbjd+UNLY1x9bQSNjk262rHLdlPJ6y11pdPpqK11v6qf8zBjau95lA4vXP/zq7E1ajWUyC7YIWtQWZMTQ4MgEayeO9s38At3u3pBFD27NN9o2R37HN5680kJHzjbK9E7Ma+/GLLp/i2teerJL7bfv/N4GS3ympRsZyUy7FsXXeALrlpkSSYEBAcwnVJgdS0hQ/NGrF9x8rfExoXTycitbStjR4aFB7AwNDfZnhXwIZiXHR7jxi9qe/f0vzpjy5ZrVhcX7OFJuV/8oS4bV8uFoyRSz7xRpykg+2UV/Vsdxmi98jR/U1leNHqAbwO/ELyQavn+ylrViw/Xs/mK6d1MufVxWT119Y5QQG0r71ufS//z5abdC7f/9DblvV80H2dkzQhNTM1Kbadgxf/yMvXaHVdpayPc7Tfd63+4LPKFcPyv6R0vnILPFgZyINrEoDj97tZ35T6PCg+iFm7bqn//rMdbGFuhtRdnxBMg43kYd9F2QHUvlN3pkAXWu95s9o+2KOyxkWtea263kAXFOC5EflPIavp2+/jFZbMwJv4qV+NgL9y2zpBvzNf/Wvx6jirq5ODli6JAxavRQkh/PULDBd9nJkTQ6Mc3avaJYqqqhjyUrKu1t/g0XKzpo65oM2roiXTMmwteZJ9bs3ZhNT+02F2NcKPTrBO8vRJ5w4jvvjHlrV4DzH0fOa+0epvu35jFdFfwt+heGRicoOiKYtq3OoPauITQUYUlv3tAzbzd+4LEF6D5hIUEyXw/i1jvWZLCiQRRm/Olza+jUpVYaHJmkxJhQ9jcUtiJ2jbMYaIhZKVHU0TNCsHnVzlgt/w1yqHaUZtK/vXlFogXRt2pWz7q1VO6bb3eKJ2xJlioqKvpSVVXVm1j6wsLC6Orq6gG+DUVFRd+vqqr6vtG2FBYWIhnxT9LT03c2NzcH+Pv7HyCinxDR/+vv77+3vLy8qqio6Gf+/v6XKyoq/kVvPKfQ4sR3onUhkIHeOT6HHvfw9nwKDPCnhzZnW87mNdtuw85sXKM9we/efJ833+Xtb+Pv84WKRU43LhTRG25Vtk/dk28LOhYy4t86WsMcykCSQ6uoE5damGMNgfy/fLFU9z1GCIZaGfenrrYzZzaEq7LC2AzP8HusZvQb3a88I3qGxunYpVZq7xlh6Eh3r0qneLR/07iMxld7zEmedDLz3mifnJQRWmvGK/Qu1XRRQWaMDH0XqDgRoQEMjXRqepYe2JLLnLxoxcPpH20AH9iczVA5a1sHKTctitp7Runw2UaWzKJWceIJaq9y/mZlk7jmoM1PL7Yw58PS3Di6Z/UcbXpCU2Zp15OxjWhF7sByFsHY13gCetKrh2vcqn2/vGeJrS2ePanaNrvvvkBTTq2PWb40u9bK+3yNH/B9b54AMkmtaquap/cW0ZWaLob8ADQGtH5OS4xgaGtwwCIgj+A82iWgPWFD+5wc+PR8k1SsgMSm7NRoGfIaqh2hmykRlp2sHFfqcE/uWiKhVOnRhJM85+TY3rArfJEnnF63+e65kQ7Ex+/tHaIf/uq8WytYoF0BPQUt4hqF1utwxiJJsbqpj7WOE6uTgeByAwiKaXI+BkJdSHAAJUSHSmjtWD+jOd4qfvPG3vqSXc33SYtm1dAGdpZmyYrqlEi2WjYpHLx71qQT6iYhF0Qa4nIB6OxpCRHs/3A8i+19UuPDaWZ21g0FGAiekaGBtnb7YDbFhRbGW2i/WJAVS0szotFdTqqqLy1OoqkZov88Uk3bVskr8ME3+Mb/8uAy9k893UXtN1Tv29URAQgBCKwiKe2p3YUy1GFPdSWlnbIYeULvDON7wpMMVy5JYG001fYKvMPRM+HDKSlIpOGRSQoO9KfGjiGWjHKjuV8KaoNf9q/PpMMXWmTJXPi7iMaINRZ5S83HFBMR7OaXElGukUADxEQeUAfi142mftYWnXffUNKAlo6m/HbOz1ootWbQGLXob74y1IiunbQlbhedSW0NwScnL7exc3tpbjxLZP/4bKO0HSV58bRrXaaEToXkrKKsaKppGtS1H0BLvzpUxfyxPFkrIMCPkuPD6ZWDldL4oO8vbVNHTXeSppwc206d5g6CotHJoP+7EilZRHCenp4lNT852jpDlkO/Dg0KZChMOI/vWZvBOhgAXXTvxhy63tRHG0tSqGdgnMrreikjOYIykiLd6PuBTTn0T69dlCVScHQgJQKUlm5mV9xhMer5Zs9+J3l6ocoINdkPFCkxNvb4ziWmdUiza2g2PlacHcvsAjWUaT53gCysvtldDPTJUbBQ7CTqQgADeX5voRtqGnhmeHyS3jlWqxrrAM+jYA+xEyQ5Atkd6NTQp3CdvuqKmeSkRhFshIr6Pjp5pZVW3dS5osKCWIcr2EGpCeFMnqEw+OFtchRUNf8kfKtGnUTmd8LNPW127+x832K0I6x+vzfX1ZvvslNPMbumZr9Paevxs6Kzf4wOn2lgfL59VYabfwG8jjwAdBipbe1naOChIQEUERZEm5cmm52mR/ctVBlh5WPM7g/GHJmYot8dr2NndFZyJEP4PySAN2EvYiKD6eDpesrPiKXM5EiqbxuggoxYqmt12bjYx8d3FdLvPq1hSaQuIB3YF320ujCJnbPHLrbQuuUptHlZsgtMgYiUeh26WMB/+sX1bulzlZ0ErHyb0ZrZNZZd49jJy3bPySkZYUuCYnFx8fnKykpWIif+u9p/6xFFcXHx3xLRY7Ozs1NE9FpVVdUPi4qKtvv5+SEhEWXdZ9LS0v7Lp59+it81LySfdHU52+IZgfdPLrSwjGAO9Z6eGEH+frO09a40Fow49cVc21etljs4lJX3QVnSatPqOiCjyOnv44vrzfd5812c2b29lk71ajc6bJ3gCSgYx6+0UUu3wAMJEbR9Raom/RrNU/yd8waMmyXZsVTTOOdQhtMLqA8wMLR467Nr7omGm5e72ldh7v/r1+6BxG8/5wokwqDh7bI2l7haNlu59MZX422r92Muet+nNle1s8bou5zkSYztS/xg9szEXg+PTTIjHIm32WnRFBMRRAEBAXTyUjNLjIWRvW5ZCkNSrG7opYLMWCrIjKa+oXFqbBuSkmezUiPpN4eqWLArMixYVt0C5Q30rCVLtIJBfM/rm3tlcNpGbeNEmnvrpCsJh1/g18e2upzUntAUnIxHL7VQZV0vFefGaSbjejK2Fb72xvi+xBPQk8qqupiOhABJcXYcq05fV5Roa4Kik3LcG3u+GOfvicyywmv8rPAlfkBRxw9eKpOQnWCsZ8CobwWaWizhPMf5jiCi2PqZO2CRxDQ+McWMeaCd8CKK7NQoauoYosb2IVZUsTQvjj451+SG8P69F9e5Bc/hCFA6l/eWZupuFQKR8fGRZCQjRJ1j+6p0VvV/qbqT1hQlaeptWjJiPglY4sf4Aj8vJp4wu29O7ounY5vVmcXx1QI70J0OlTWy1nAcNRWOu12lWZLDD2dBblo0XW/uo+LseAKP9Q+Os0pxzAOIi+BtJCtPTs3QrtIM2rRsrh2v1bPVV3jidrQjxDMbATXQiIgyoKb7q8lrVKV/+/m17FxW+qHw31wugFb3bcyl90/N6fSQSaiEL86Np+npGSbTxHPdU57TomOlTYEARXJMME1Mz7VeFteCIzG0dA6zgrCIsEC6cr2bSouTmezBpeajwzoNjU3S6fIOKrvWLn2TuB54FkFTyEmz5xv/Ltgyxy/PFRbuWKlfWOgJXy82nhDPWQSQt61Mp5BAf7eEWewBD3Zze1TtjEZS4YkrbYTk2lUFiTQ2Nc1sbSTZ8mIPMagNftm/MZve/6xehrqJv3/jyVV07FKL1BpctIOVPhjobxcqOlmyoXifUsdSvvu7L+gX23IaULZbVPqwOD8jMUfr8kTf89Rut0K7CIYpec7IP2V2/MXGD1a+i9uOSK5Q82muXZpMrx92+Yh6+sdY4tV7J+fO8RfvK6bewQlZe1ugKgIZF+c6tzECAvzpRUX78SOXmt38UZequtg5yy89P5TdMmIx6jRavi0n18aXbGuc/9Cty2t7Jf24dFky7V6dzgr91GgUrZfRipzTdmJsKGtLCPsaCNIJMaEsKF/d2OtW+I1C8U/PNbJkKFycvg+elbeidCW9Z2nGGbhflp/p+I75xh2Mzg1v0JQnvqyF4N9d6DJCWTxkJr6sRg9maMBKfGz7ynT6lzcuuRXlIfagxhPKgg/o8SgWge4ORC7E6JQ6Hdo2/+tvr7B34D5lrAO+M6CqQWbxBCYkzj+3r0hCz+a8jkSbs+UdbBzogttWprF4DNAZI8MCZX41Ph8tvuJrWVXXxQAZjOITanqcEc96U6Yp57LQecLK2unda4YnFsO71GxRb36bGTtBz6d2pqKdLlR3U1l5OyXFuWKaSIpDsT5ybVCYODY+TWGhgTQxOUUTky79FH9HC/hdN4sQ7dorX+QHK/SgtBVfuG8ptXaPyHyR0zMzNDI6yWLUYsxiZ2kmTU3PUKC/PzV1DjHkxPaeYUqMCXOLbXx+tZVio0JpV2kmKzrEJdIJuiWMjk2xfRfzQLgPhu+TlW8zohEe45hvrpWdc7JrLLvGcdqOsCtB8UJlZSXrgVpcXCz9u9p/GxGFHb87kYylnFdERDD99N1rzFDhldA712XRxpIkSo2NYI7PyzVdDOlkZUGCZoKTeAAwNIWsGKpukDt6b7WC4onB4ck+2sk0Zt5/K963mAKLRmsYFhZEB07VMcWBV9CmJ0XQg1tyaXR00uhx6Xc9B79ashSElZ6QwsAY89eHq91aNT+3p1BK2DJy1FoNPCg/2Gj8+dxv5vu0NsDKdznJI75q/JhZMySqvHy4mi5XdzIUDRjTcHxV1fdQQ/sQoZIwOBDi2Y/9D1UmqAr8oraXVRfxC/flpUWxAAraBAJqm19K5Y3zhVHyPJ+/WlWgUeIK3sGTcGpb+iXZiErJv/qKKznGzPooaffk1Xa60dIvnTMYb2uJPDgPup6dnXU0gd+TuZs+CG8mb/qSjICe9O7JWmZEchmBKvSHtubR8PCElaXRvNcbe+KkDrSY53+wrIleO1wl7c3Te4po/zr95DYrm+6LMkKZaAFDvqqhlzlXYUOEIXhS38POO25b5KXHMAfsXQWJ1NM/SvExYTI5ANlRXtvN+AzXg1tzKTI8mH7z0dzePHZ3AUsSFos6rCaZik4DVvG4PJnCggINkzTwHjVntZY8EXliaMy9iGs+gevFzG9OOwSMeNOKbW02uY+/08l98XRsszq8Hr0iuIJkGSR7oU0KR3bLSY2kkOBAWWLZ8tx42rwilWqa+mXB0+GxabpY1SHpigjCoN3un395jS3FYJ6ujxG9eGtvfUlnMrNmIm+tLU6i6RmSyWE13R/jKukZiGsI5Ksl1cJ/dbXW1TYNwbyo8GC3lslA6kUSS2ZyBG1eLi9M9JSm1OxTZWI/5lSYGUvrlifThcpOKTgK/tq1bg5NEomVz+wtps7eETr4+ZzdJK6PmCDAg77wMUxMTDMUFvjvUDSsTP7Zsz6L2WQXqtwT7pXfIP631cJCszwm3rfY9CZOl2J7L6AcIiiBNcYZCr1Ij6awxqJti0THDctT6PC5JlmxHE8OzE1z6VTQu1BAd/CzetalQwyyqNEJX2c1H4yoh4kJrKAdIEYo9Tm8W4tXzey7Fj9rIShiTKty2cx5ZGauRvfwve3pGSK9BEujcdR+X2z8YPYblfygpAegjpyr7GTJufwC2m5QoB/daHYVPBRlxdDRCy0yewMBXyR9fHi6TqJZnKui/1TLB5mTFkX//vZVUzahpzLCzPo4OTbXw+3wC2j5trwxf1/Rm3CmAV2Ho6LdtyWPpicmCUm1vzxU5WYro9PQ60eqJTLi5zZofnBkgvmqxGSoutY5WxzFDgPDLrmBi/s8tM5VLRtC7X6gToOmnDgD7aRZLf7zlGbN+Hednv9ilBFWYjlW5biR7QudHP58NbtCTM4V9R7IFST/nrzcKpEQwBjwdyBPK8FAxO/jvkbRhuaDIMnxenM/oVC3uWNIQqfevjqdQoMDZXFAUUeDLhgaEsgQwLavdnUmUMZXRJmnpHtO70AHM4pPzEf3srp3ZuSjmXsWI0+Y+S6tfZxvMpKZd3t6RuqNrafTO/E+vbkYvU/rXBkFWt+JOlasj65B8G/B9oM9xtuubyxJZYmIQD9WJrrduymHnt9XZBvwha/aEUb7w79bLTZQkh9PeWmxVFbRJvki0ZkJhdQdvSOs8yQu2PEMTfHmXvKiQNgQOJ8Rh+AXzn7cD9RqICs+ui2X2fr8gr/k5weusRg5LrHjgBI0x+y36dEv6BD+Wvh1EOPYBFRHYT5meFy8x4452X3+2z0np+wIuxIUbUFQtLrxWvdbCaJ4+s7Q0ED6/s/PsMoP7nSC4fLoPXlU3zJsylksHgBaLTqVATw7CcvMt3vzfd58F779VrzPKUY22ksneAIGiprxjypbbrh4qlRpHch4J5y9EGb80kKL+OHL52TBPxhC332+VAroOV2xKCJAAt7eCIHOiuMYZ4fR9xnRhJnfneQRXzV+jIIovJWa2v4lxISxNlSo6EW752f2FNLedVlsq/7jgwrW8pMrgfgbp+kLNV0EpJDe4QlqaB2gZXnxrOUDV/Q4bSHomK9oL61VhfKtHx9TrYrUQmQU6UmtannXqgx2i1WaAq0jmVN0HMDJ8PzNZGMl33DnpF6Qxgztq91jde5W3+NrPIEk9p+9V+62d3/wwDJLSex66+iNPbEjEKH1DYt5/nAswwHJq5Ph4FcmDlvlAaVx50s6E75NRAsAeq7oUEXF9sTUNN2zNpPqWwdZO0IEEVMSIqizZ4TiY0LozNV2CgsJlMuBrFhWBc4TFJflxtH2NZlUWdfjhhIB5AcY+fvWZbHCKSNHtLgfynuRIJ8cG0qbDFCmrSZCijyhljxjJlHeF/mNy8/FwBNW6MoTvcDKueLJGWuFZsXxkVALJJSxyWmanJ6h7r4x5mzlCHdwxq1YkkhDw+M0MT0rk42P7ihg6G3KIMmqwgSWtPjF9R4JJWZ1YSJDcLPj8mR9rLzXyfF9TWfSsn3xd63EN7O2o5quPDs1xdqbISAv2tRAvP3pO65EEwQF79+aK0v0QlCwuXOIySLYLNDpRNvA6p4bfYMagmJCTDBNCwiKmOvXHi6hodFJKXFwxypthBdxvlood0/uKmR8Jv4Of919W+TrATsKNr6IbIMkOSQI8SRGzOXNYzd0Cyet8JWejFsMMoLTNE/g27rSvS03WvchqQp6xua7UiknI06zgwzfIx7QenhbHmsfJdI2R9tZU5TMWoStKUxi5/Phs40sUMLROtYtdSFtQkdSSwRQ9cEIehj3S+Eb0WlE1JMRvAG6I95t5BfSowdPbF/+LVaTG6zys1U6dnL820VGqPk0gS4ndrN4cGsenbzcRCuXJNOZq230zWdWU03LILV3D0u2AuyNhOgQ5mflth0SD+9ZmS5tq5YP8v7NOXShqkt6Tg+Fyuk9X+h2u55vyxvFtotFRpg9S5RFykAVVfOzIvFBliSVFUs71mTQ2OQUXW8coIjwIKaDQ+959O58Gaoa+ABdDrhtDtTcjUtTJBASzAEX1y2sJC6iJa1TKLJO21iejm/k31X6g5ziaV+VEUreMXPm8oRfdBFDy07oSigSgS6kRs94hxqio1oxDvxUrxyaK5zlyYxGcQVxLNjD8GMh8R7FRIjDozV7UVYcfXK+Sfrkrz9SQp9eaJbHAQUdDbpgUlwofXaljdnVEaFBqvEVcW6i3sTX8l9eu6AZn9Dzn1ktTjGzd2bPSjP33eEJM6tk7R4n9lDP1+bE+/S+2Cj+qSz0Q4LarrUZ1Dc8KcubQYwvPTGMxsZn6GJ1JwGUBMWQ4MXUhAjmDwPSIk9cg575119dfydB0YAcrdCDkq7+4OEShiytRFYPDfInP39/OlfRzjrEbLpLXujHiwIBtLB+eQq9crBSmiX8SIc+r5f2UVkUqIYKr9VxwMq3KZeJ204dfWMy/4zVM9oTeWv2BJnP9zmlRzkpI+4kKJqlDMV9UFI+vtBMDW2DsjZr9W2D1NY9bNhuhw/HDwA12Gq1xCu7CNTsZ3vzfd58l6fGlNl1U7vPSUY2mpcTCYosSfdnZ9wC5d//gw00NqbbhZ1N10wAU0kT4Ds43JQGjlqgzgjdyWoCodEaa+25VYParOPY6Ps8ma+TwlVtbF9zkGmdK2pGPdp8vf7xXBXvIzvyWQueuJgQGhl1IUeIbaw+OtdIk1Oz9MGpOZREVO/etyGLfvZ+OatWQY0JFPioiGBKiA5lCCA8aAYEHy5nxIpgGAhiK2jOc54iKGINPjzbKPu2p3YX0r3rXYmWVs95JCX/7UtlbufM924iMnqCIuEpb1idu9X3+JqMQIvn//kfZ932zk5D0ht7YvUMt7Lvi3X+PEClLNIRiwCsrMPtoDPxb+R7/usPy2UohzjP23qGqbVzmDJTopgtgSDhg9vyWLuExOhQlvQ0NjHNWlLxC7LjwIlayciHI+HkpRYZag8cPKHBATcrFWNo59oM1XY6WgFztYQtHuzfuTbTMFnKjL6nXB8gSaglz4jyyiqNLVZ+E9dmoetNVpL7lHvuRBW7p3tulmbF8ZFQ+8aRaqk1nBLxAckz92/JozPX2ig+OpTpeSg8yUmLpvyMaFdr9gZXJTIuFKFAl0tOCKclGUDJrpehoFqlf7vsFCvv9XT9zbzD13QmNX4wiyJrxnbEPfg/nMxcr9FqS66WbIfEqszkKArwJ9ZiCbRbnBsnJbx7ys9GSEMIRADZCNX3sFkKsmKpOCOatXHUatXMA4tGfKwn22IjQ5h9JKLzIXkTqPUiMhn8dTtWp9NPBPQwFALAXuPtIFUDporCSTPrN0nCAAAgAElEQVQ0b3TPYuMJ7A8Cy1qt+/B3oB1Cz3j23mWqCYp8D5GUgiRDJFYVZcdQdESITMdC4As5JLnp0VSSE0dRoUFuyadffWC5Kd1I6YNBwcaxC02sTSiKTPCeS9VdrP3VO8fn9LWHt+fTfRuzWRtrOy7YyCI/qxXnGSUAG83DyTPcE7+A0XzF3xcbP5j9NuWeqO3x+OQ0Hb3UQhV1vbQ0N46QeHuuvJM6+kYo+aaP6dTVdjf6jAoPpJauEanzQVJ8ON2/IUuWhK7mg7xyvYshwnPgBqV/SbkvTtnWi4Fe9XxbRvxslka07vNFnlAmKOIcVPoi79+SS8FB/qwAnF/oLoAkCVxXbnTT8NgUNXUMMZREJEDBtuYXnj9S1sBaEqL7Dezqe9a4bGkRfWeNApRA1M24rBLR5aA/rCpMNBXb8HTvFyJPGPl3vXleLHS72tN9t7qGykIPsfWmni6ttD+4fOAFI9CJtiqKeMwUaGjxy188t5b6hyeY/l/XNkA5qdE0Oj7F9HLOf0DDEru8QEc7UtbIfGXQz5GUiE4jsNN3r8uiQ0KHKrEjjB7i6Z/96KhmfIKvvdo36MnGW2GnK9/pizLiVq+r3Wewka/N7vcZnUFG71MrBIQcjAgLcvN7ffOp1cxG4kn/J662UVffKENYB48DaZGj8z2yPZ8e2ZprNL15/e4L/GC0P+ICqZ15OGvh3+T6PTrCoMAvIymSJbOvKEgklw0w58MU4wQ47z+72kZl5R1UlBPHYt1HzjVKr1XmPRn5bvAglztWvk1JCFo+CLU8LCtENJ85qZ3HdthLds/JKb3JlgTFoqKiqpmZma8EBgb6zczM/MfMzMzv4d+xuPjvqqqqYisbOt97nUjGUs4JSvUbn16ndwXD5aFteRQVHkRd/WN0SKOdjHIcfgBcqoETK0ZW6aiWuWsnYZlZZ2++z5vvwrffivc5xchGe+kET2jxwJP3FBgiKBopVfx7+B7VN/fSyZuwu6sKkyg6PIiOX2qRjBC1ln/gLRdUbwczXHJTXe2a+L1mBJ/Ruhr97iSNLdQES6M1EffWl/hBSbNioF2N1qCoKelz9ZIEhnqoNPTVWmChqnH90iSqbOij2rZBhpyIIDcca7lp0cyJNj45w1pI8XZtahXBygp3NZ5TOtv09tiItz3hibdP1bkl5DyyJZetk7LCZllOHH37+bW2t4nyhszwBQNIpA3IiP88esMt+PHE3fmGMsLKOWKH0q71Pk/o1ezcvUVTTqwPeO/1T6/T+0LCNJz3T91TYEvbUb42viwjRL0GZ+zI+JTsnEN1YWP7IEtIHB13ISRy9EMxKQN6zamrbVIQ8p7V6XT0YquM7x7Yksfa0CB4D4Te8rpeWYtYM8ktas6lE5daWMKIUdKglQC5MuELyfX8WkgVjWp87o3zYjHwhFX92sl183RsjnbKg/t3r0ontIfTchzxhNq+oXFZsg1veQJe3rs+iyqgs7W4Wix2949RZHgQrVySSLXN/RQaGkTvCsksqD4Gj/GAyuPb8207X/V0VisyzOheT9ffaNzbQUbAjrADRVYNFQXtedAKUS8BUikXxqdm6PjlFkKluYj0qYXEbibhWM9mOHi2kbVHxxUa7E//9dEVtLYwkeLjI2WJanryy8gXgLG1ZBuKq8QCSP4eJaIjdB+gXtW1Dkot5iAX0TKSt4NES2w48MWAqRgENUPvZu5ZbHYE9gdBi04FegE/+xAE4XrGP/7xDk0ExY/PNzG6/EgIMr9wXzH1DU4wfQfn7cTkNEsE371mDn1Wy5diJMNEnQZ+KaA84mxHoAZnPoI0vYNjbomXoIu/ullgZ2Y/te6xgqBo9C1G83DyDHfaDlps/GC0F1pyW2+PeUtOZXeLpXlx9Om5Jqqsnwsoor16fHQInb3WLusQ9b0X18ns9va+UTr5RRsLFuMZlnxytU0Wx4C98tjWPNVPcpKmnBzbTnrV8m15Y/6LwY4wwwt65yD/DYUVaQmuhAZ/fyKg+UCvh0zA30REcp5o2Dc8Ttcb+91Q1cQWz7DRZ2ZmWLFRZ7++TiR+ixJdDu8/+HmDx11rzKyTN2jKE1+TFg9o2VlmdEoz6yHe46sywuoa6uniGEsN0UrN96NWMCK28DTjbxLnrtS3uVwBfwO0pLzWxctd/aO0bXUGbSpOYsVLIv/npkZTVEQQXarupmV5rqIqXPClIckmNTGcOrpHWbKjiBqpZh/A3kGXKtD7v799RTU+oVx7NURJJDabvZzmXzVa8RUZobfG3lxXJ961WBAUsQecH8sqOij9ZoIhClrQ/le025T+BDz3yYVmGhiRdxhhBWf+flSUGU3ripJt9435mozwhP7Es5qft5V1vYQOUG1dw5QQE8paceNCjHn/plx6/9RcUQcvCtxVmkWXqjtZPHpNcTIRzVJj+5D0LJ5X23e1AlSRlniHCiBQ63VY0DoDuKyqbuwj+Br4t6jNx+xZrWWjWX1eSX+e6FdWdQArc3RSb7IrQRGQTjPI+VL5sNmqqqp8Kx8833udSMZSzokhA/3irFvGN5xUqXFhLEmRM43ZChGxQlsrIcSTw2U+6+nN93nzXViTW/E+X1L2wAPHLreyVgc1jX20JCuWspIjacfKNFMwy2YcpnyPXj1Y7hEsPBzWH59rYpWOCPBx4WeURDUfnnFCoGjNx2kadnJ8JwWb0f45KSOUa6ZHax+VNarSpzh/5fOoRtxYkkpff2g5HTrbSE2dwzKFCq3HgNgxMTFFn11pZRW+vF0bnkW7LNEQUAbI1OZv1H5Bud52G0xiW1SgtYiJAncQFI2o3dzvTvAEZMTbJ+tYyz0uIyLDglil28TEtLmJGdzl5BnlDT1hsc4f59IvD1W5wf2/uK/INifB7SQjQGtK5y8qD5HUgCSHYxeamQ6Dij6gx4J/uOMAZ6BY1fj7Dy6nutYBmpiakRDe/f39qbyumyVL8NbMu9daaxGrFuwpr+txcyrosawZx7TIE2bRw8weJouV30SHx2KwI6wkpDp9znq650q+UiYrqTmhkEz25qc1tHVVBkPT4pXGz+wppL3rskhMuMLzSMKJiQihD0/XMX5FYguCpzVNvZSdKm8Bb1dii5MOKzU+9HT9zfC0r8sIPRRZrI9Z3fyTC03U3D3K0EP49fx9S2n36nQWyMNl5mzm9xkFKq3uuZrNsH99lmpA9DvPr3VLUDSiFS1fAH9OPK+AmoQuEOBdNf8d1unlj6poUkW+FmfHEdoSwwZDEPX9k3Wy9kUc0f5iVSetVqAsGX2D2d8XK0+ICFTYg+HRKaZfcpQM+G+0EBSxNkie/efXL7qhN9y/OZtGx6fp5JVWTfRZLbtdRLnSKsQQ9TCxmAJne21LPzvPxaCHXtKW2T3GfWZtXzv8XVb52cp3eEP+LwadaT5rBuRQozMZSYqw2T491yjpJbvXZ1FiTKibfxWtON85PhdkBIr7l7bJEw2RNAKEWK7j3L81l52Jo2NTkt0RFOhPz+9VtwmdpCknx7aTXrV8W96Yv6/whNE5iPPvjaPX6ZOyRoqODGFB9KjwYEIhEY8NqCHl4Dmlvo5CBNA3b/EcGBhAkWGB9PnVNrdEdD30HSX66DN7i1gA1c5ivMWi5+v5d8VvcJInFqvONB+ZoYa0rKZXiEkjZuJ2fE7QuZXxCU8KTNX0bS5X1Ozp7r5R+tazaySQAjz/0wPX6PQXbRQU6EeFWXGs29R/f3q1ZD/poUZq6U/cDqmq66JPL7YQknaU8Qlxf+bb9cxJ+tey231FRujxiTfX1Yl36fnanHifHWuJZN2fH7gm2cZfe7iExYm08mb0UPY3lqRQgN8s3bPamj/bk7NzsfPDfOkBZ+E/vnqB6U5FWXFUXt/jpvcgxhwRGsiKLXhRYHhoIIWHofhanrjIExwBviAmsCv3Rs03pSaL9PwDevutBgK0oSSVNi1LpvDgQKukIt0/3/V2Qv+xe05O8YQtCYrFxcVb+SL6+fkhzi2Ni/+uqKg45fHuevCgE4F25TTQ3vbn71fIKsgR9AMK4qr8BAZLyysWzTp9+Tv07reTsMwsrTff58132elgMLOO/H1OMbLRHJzgCdD3gdMNNDQywei+pr6boqLC6cFN2abQsYwCmGJVO9odtnQNMbQROBTgKOZBei2+MXLKWjG0tNbXiLc9oWmjMZ0QWFrf58n8jWhxTlYQ+RI/iN+lrHLQCr5B0esecNE0Tz5Rq0ZUPv/i/UsJwbv/73dXWcIJgij8AiJi6dIUKqtoZwpkSV4cSxxGFUpD+yCrFBTht5VONDsSFJ0ymCB3le3j8a7TV9HiYZByUqPo3s0uVBgt54tZ+tQy2O2oYNHjN1/iCa4nnb3WQnevyaYjZxto08p0+v37l7rto6f74uQZ5Q09YTHPHw63t4/VMIcfUDQeu2cJ7V9nn5PAV53GfM+RfIJ2Ffw6fL5JFihEgLu9Z4QZ7mjtiuQlpms19kno0VFhQSwwCRmQEh/OhkKLQSQ//OfHVdLebF6RJiGxLcuNo28+vYZcOPfWr4npGfrsWhvVNPazM3dzSaqETG19NPcn1HjCil6EEbXuX8z8thjtCLP75uS+eDK2kf2gpYd3D47T+eouhqY2NDpFFXU9rLUiiirQoh2B0o8+b2DJiLigr5UUJNBbn16XhkSSU0xkEKUnRtLvbrZyR3HJU3uKaM8aVys6Oy9P1sfK+50c39dlhBqCopozH3JAK1kRiV+fXGhh7WarBVsBaOPffbGUJidnDJMTRT5WC9wbISjiGVzKOfJxtWwGNduJI5eYRdIxw8t8fpgjeNdIz8e83jo6p/tw+Qr5nBIXzgoJirNj6Vxlp1vQxUl+WIwyQnmWcJrgaJ3nKzuZvqNESFDSJMb5zSc19OFn9dKQ0KFg8/75l9dIf+M0KD4v7gmSvXCPEvEG+7mlJFWVz9RoDGc7dLHM5AianJplyJpcFqgh8fIJaslMkYf4+8QESrxPq3vAfP1d3qBZI56zInOU8tmX7Gr+bco9Mdpj0IxaUdnjO/JudvNw8dm2Fan01vFa8vP3o7jIEOrtH6VZPz8p0RDj4P8/eKmMgDrCL/hl79+cQ//2uyuS3fH4ziUyBFotvcluf81io1elb8sb8/cFnlA7d8UuKmJRXUFGLOtGAOdgdGSwDPVM1F/4+Yt/IlH3Yk03S24HymFUZAi9dOCqRN9P7C6k8xUdjA/00HeUskotmfiPnlhBn5d30PUm79nVnp6pas/Nl2bV/LvePC98gR+M9tPMHnGfekPHEIGXVuTPdR4zituJ71crGNFKBFbTycSxlPo25IpaARN0oPu35dGq3DjiehzGwfMXq7tYBxEkw3AERXRUU9OllMUoZuwQPfo1Y4PYsXdGY1j53Vdta+UamOEJK+umd6+T71KzG6y+z6y/Tusbzb5P6xxRez9yDf7tnasM0Rt2Noq9eNv4DctTWOIbfNBRIZ4nkpnZX1/gB7P7o2WT87MUhRQl+fHM/z8xNSvLhQJiYmJ0CEWEB9PJy62UlhBO4aFBLEaBOBG/irJjGar12WttrHBkV2km7TEJmqB1nup1WNDbY5EeS4uTGKhPRmqMZrcGM/SCezxdbyf0Ky270ey3aM3JKb3Jw/CUfJrFxcUzs7OzPUQ0cPMXcVyfRFDEd356uYXaukepsX2ASvISKCw0gAUIL1Z1UVhoIKuywj+rG+aCiWqtaK0Qh53Ebua93nyfN99l98Fhdi2dYmSj9zuRoIh3VrcM0Bc3eqizb4SSYsPorvwEKkyPNpqO7HcthUiJXrJvYw7daO6n1IRwlnB1tqKDIODgML58vVu18kLPYTefFslmjTQrNG12THHx9Mafr6LpNI/4grJnVokQkSE4Oi6eRQCkrBytR8Ld2ozwsbGPQNfl7aDRemB03BX4XpYXzxIbD5yYq0pB27bDZ+ppbXEyhYYE0tjEFOWlRbsU+LAgt4pgpWOOB+eU7UfNIAHrKbX4zVOe02u1aKXNlaWDSeVmK/zsybt8kSeuNvZRVX2fJCOKcuKoJCvWk+VRfcYbe+JU4MzpM9bp8c22QPV0s32RH9TaTa5ekkAzs0RXaruppXOEVR5mp0ZRW/cwAUWRZmeourGfoVR/8NkcYskTuwpZQijkCFoJDoxO0eDQOKUkhNOO1Zl09EITXavtISQ8jU9O0UdnGlmS45KsGMt2iahPjExM0enyDiq71i4lSs7XtjGr1xjRkpEe5Qvnha/ZEU6fU57uuVHAH/MGX2B8tJyFznSmvIO1ah8bn6YDJ+f0sj/80gpq6hhivA0+npqaZvy4f1MOJUSH0KWabrp6o5uR9+M7C6irb4wCAvwpPCSQRsamCBXISC5b6wDqmqfrY8SL/Hcnx/dFGaHkBxFFFs5T5Lb+9pNqhlyF1oJIilPzM/EzG/LhpffLJec+35eHt+fT2PgkhYRo+6nEAqCslChmQxy/1MIcuGi3hJY9PKkl7GaluajnryxMoqjwILpa203R4cGUnRJFKwsS2BTE1j1IisHzYnIAgpZq53lsZDDFxkaYch7z8UReRnDjqw8sJ7RXw/jwH6DACa15YV9tX2ncKkjUfSCjp6Zd/AxE+gB/Ip5UB7tJmTzqJD9w2vElGcGLvfm6cdsUraL2rM+i9t5RAiIl6DAxNpRqmgZYwojYvpMjVwKhA51uosOD6NSVVtqyIo0lklY19lF96wAF3+QF8Nnk9Cy9/nE1o1WmN4HPhOIQUecBHR0+18SQtHjBIZIjEZRBESHQd43QHbR0FzWdETwEusW8EXDHtyLYEx0RJCUUiDqbnl5kxlfkDZp1ys66HWSE2M5SDYWG7/GbJ2rpQ8GGQMcNnINnyztpfGqKggP9af2yFOoZGKfqpn7Jbi/MjKW8tCipGDQ3LYpGxqbpraNzhRWP7MinTctT3No+p8SGed12Xyz0qmVDe2P+viIj9BAUlXGEu9dmUmfvCK0qTKT2nlFJ5kP/4DoJEtoRu0MyY1JMGLsHutbI2CQlxIRRYKAfnfminaGl3bM6ncoqOhnyIWQEEqBau5AAFU97Sl3FmmotCtX0kVVLEhasXW1G1/eUZs36kTwd3+zcfYUf9L7XzBqq6cTgD1HfMaMzYB5mYnCiTgbbgsdIRL1ZC2VTOT50LhSBDAxNyGKCmAv0s/dO1kqIv/Cf4bs+u9pG0zPE/G3Q1Ypz4ig1Pow2LXO1X+brAdRUxCDB29tXplFCVAgrZOIIimgZr1eAYsafMN+9M0PrZu/xVb1J+f1meMLsmhnd5813WfGrGflNjb7LU1+P8hxR2iwoDgCwCmQw7JvgIH+Kjgim/uFJau4YZLYcbO/oiBDaVuKS4U5dvsAPVulPjS6wvrA9cR6iuxPshZqmfqps6KWibNfZif9u7R6mgowYigwPpguVnaxo83pzPyvUw/Xg1jxmH6PLH+IdhRnRFBcRIiuW1ZMzIgon9+k8fPcSU34hLRrh77O6Tlrj2TWOFV42on+75+SU3mRLgmJRUdH/IKKnieiSv7//zysqKg6x5uK36HIqGUv8HDjMyqo7aWBwgsYmZ+hidQflp8dQcmwY1bUNMKSSrSvt7WVuJ4Ga3Ro7Cdnond58161aS6cY2WhtneAJHORQ+Ju7hl0BtJBA5iSFUW627ZSekNBqoQQDAo4wGBq47t2UKwsEiglXRkqXpzSnNDSe21fE2rcpv9vK+FaNF7VkLxh0ZlrFG9GLp8qm2XE5//kSP6itmTKwuG1lOkPXRWXhB2fq6doNFwQ2WlghaWTfuizJCcCNYt6WCoGHz6+2U0xUCB093ywtNQ9mI0iBdqAhQQHU1T9KSXHh1N49LAUvUFnIA3JKhxkGE/9235Y8OnDihhScwe8IsNy7Pkt6r55hwW9S3mOVxvk4aCUkQoOLLbKUbROe3V9Me9dm3EFQtMKMLtSYWbOINGaHhp50qKyR0aAkI5IjGJ1P3USQMjuWNwwAtXdYOcM9+ZbFPP58W5YYrZcvOASU36g8A3eWZlJqQgQFBhC9friafv/hEurpH2cBdySeoEKxrXOU+kbGyI/8aHpmrm0zEpjQUvvg2QYKCQ6k+tZBqfVUZnIkvXa4irWaxAWdqba5n3LSo2VnqV7LHZ4cr5QXSJbH2PxCUobdyJmeBquNZMxi5rfbRW9aKGg6evaDmDSCBKWxyWlKT4iggeEJmpyeptrmAZaMiCs02J/2bsihd4VCkoe25VFkaCBLgoGzD4gNaD8FRNWpmVnWOhFXZFgAPXp3Ib16qFLWKnbvzeCn0Rlq5vfFzBO+KCM4nyvPQJzHuF75uJolrHb2jjEkIE4r+A3nOU/GQqA9IiyIJamnJ7qc+xOTM9TSNcyKCasaeykxJkzWflYpD5QockgAe/vYDSZXvv5ICUG8nP6ilZblxFN8dAhLjoK84K0KEbTPTYuWEsbwfHhwAEuyFNsZogNJcmwoC06qoQ5Cl+zoG6Wjl1oIgUCMe/dqBAlDVVEZlXYwEs4wLk8+QEIn/obCAKyH2ILXqJUw1lkpZ5BonJsSyRyfP3n7qsR2yvX0tEjLDB/ze3yFJ5TnL0dQ/M3BcqprG2LJVM2dQ5SW6LKhEfiALhIbGUTd/eP0RW03rVqSROuXJjG6EW3IfRuyGarDwMgEhYUEUlVDLysGqWsdYOOgEBaBMHQbQPDDyJ8LPmFJrq0DlJ0WTSlxYczGwd/gGwsI8KNvPLNWCp6oBV60dBe1IHxmUoQsgZLpeNvzmcxZX5JMk5OzUvKwWFxoNmlRSW9mZITZpAVv21m+wg9m9yQ4OIAmgBR3M7mCd5goyYunmuYB1jadJ7XChkDBRHVDr2Sjw0ZAAYXSbne1bZtLiEWCFtpa8rEQjOwdHHdLWnxkS67q8WWGpqyce+K9To6tJZ89mauWb8sb8/cV/6tWkTIQ1NTiCEgihP0KvRzdH1YuSaDdazKZTH/jSDWLKfQPj1NcVAjTNXCex0QEse2F7gNZcPJyC9OB0PI5KzmCmrtG2L1ZKZFMx8pICqd712e76Qk8VsD1E1EfgQ2AwD7kD2TOVx5YTluXu5Kk7Li8QVOe2O16/l1v8bSvygizMkO8D3ygphMrbU4z8l6vmFXpP4QN8Mm5RsaTYhEt9PTjl1vdEE+BoAiE0/dON7CuIuDTuMhgGh6bovdv2s88cWXrXamq6MFIivnZgWsEYAfoehxhEYmGSD4G0jW3gXjyYnCQH4UEBrBYJ+j9J7+7rBmfENeVn1MorEFhDIpMrBT2Os2/arTiKzJC7/z05rp6811W9BQjv6lZ+ePp96n52s5ca6Pm7lE6UtYovR5JbeRHDGUYNhriSkmxoRQZEUL3rpt/7oERnSx2frC6P1p0wc9EdHi6Z20G0/sb2oaYX8rVyvmGtJRIGuf6EmK3N5r6KS8jhu0hT1Z8aHs+JcQE0fj4LEtIha2CJFReACvasCKtFGbHssJWgADBp7Nuecq82zJb4RsjvrC63kb054l+5YkOYPRd/Hcn9SZbEhT5RIuLi3fNzs5+lYg2+Pn5vTE9Pf2LmpqaGrMfatd9TgTalXOLjAymI+ebqbFtiGUN8yQTVBXWtgyw/uyRYcGy1ptq0NZWv9lOYjfzbm++z5vvsvMAMrOO/H2LXbiJ3xoeHkxvHrshS4JKSYigL+3Ip5GRCbPL4nYfhM/n19qoZ3BCMjJw032bc+lIWQONT84w5ERUTaCCNyo8WGozAofD7vXZ9OTdBbKghZYh5QnNKaGFEShBMkBj+6AMTchKIMIT+Hel4sAFfz5rATkn+PUSEIw2yZP1MRrTG4LNaA5OyghxzQ6VNcmCcLw127lKoCbOBVWgwHX1jdK3vryG0S2C3R+caaDy2jnZgjaffYPj7D6gJvALQZXR8UkWvE6KC6Os5Cim1C3LS5DBbsP4f25PocQXIk+oVSCfK2+n8jo5HPc3n1pNU9MzsmRGHvgTq/YxN2VSC29FyoP2uMeMTERgUq2V0F99ZR37lh++fI4a2gakliu56dH0ly+UylqnGtGD2d+d5AdflBHR0cH0+hF3GfHUrnwaGPBcRoj75Y09scMo0KKxxTp/nB/gPbFdPOTyd58vnXeBgq/KCDXdISM5kgW1EdyDHVHfPiQ7t1kAJCWKvrjeTTGRwTKdCL89uDmH3jlVx4x+MVCPNgvltd0seIgLe/PXv7ee/valMilxiv8d5zoS5/mldAAo9YmL1Z1U29IvO3Pt3ndPeM6MHrVY+c1XeUL8Lk/23IzstrLnaraCmWQSJLwkx4dRY/sQ4zkEG3myC9Ba0FFB1NvAj0C5BoI29x9kpUaxlorQ8T4uc6GdgqdhWyDBjCfhmNGbzKyLN9beaVvbSQeZ0Rp6y44QE3ZxNn9U1sQQ1EE/56s6ZDIYtAF0w/9475pbUhVsgJnZWYYEFAMUgqEJ6uwb0/RTge5/fbiaPjrTIC0FlytwTO8szWKooDyoB5rOTImiT8oamU2ultiF58OCA9jvoi0AO2ZodII2lqQSbI/W7hFm04jtrHGPsgIfcmjlkkSWlMntDgQAYQcri5qa2gZZEBNJBrjAdysLE6m6od9tDdRaBYnojmKLRtEHAFmNNeGOdzja/+K5tVJBjl2BID3a9BWeUFsrFM+9cqjCTd/hQRDQyLefWystD2/V/Mn5Ztkeg1ZxL5zg790MZuMhPg54bue6LKaLIRkwNMTVoopfeJ7rTSg4/O2xGzK97bn9xdQ9MMZ8MaCzrNRIenrPUoayC7RcXnjIAy+wc0FTSJQEWhdQGMHL33mh1E1nw7wLs10BHpn+nRVL4xNTlJseo5t0zL/BCi3qyVCjQmCjc/SOjDCzQu73KPdEDYmssqFPQtlEsROQ4cSOG0DRBcItziyeaAg0k8mpGYYEJ6FzJkbQ0MikrBgcZ3lVfQ9NTM0wekVBVUZiBIHXRD753ovrVAsSrehlVlfIybHtolc93xaSSJ3Sh4Z9FUkAACAASURBVPn8fSkegW+CfOYdYHixrTL5DTYzYnT+/kQp8RHU0DZI8K0+cXc+/fPrlyg5LvT/Z+89oOO6rnPhPcCg9957B3vvpMQuyZIoy+qS5ZLETrLiFCd5TvNK/BL7vXi9/z07WUlcYksWbVmS1TtFiWITewVBEh1E7x0YdPzr24Mzc+6dO3PvADOQMOJdKysW5+KWc88+Z5dvfx8FBQZwTC7H09gXwDQN4C8UbJo6Btk2sA/EhgdS/8gEF+kFey7+/b4tWfT6iVu2+oRWrUBu5sA7oNgPwDxY2Fs6h2ltcSL7Nu4AmZzZymfRJlzZgLqJ2ZvP7ys+k946qTeGsKHXP6mn8ll2ZnE9OeY0ut+L88oAyFueopCK1swfZkRTeGgA1/TkhiE018IvEvUI2BHyZk2zNbfAAH+6WNHB8qGxUcG2xhLBaAqw5ZriRDL7mejg+xW2IcJaMDY+RXWtfRQUYKbEmFDFfR+4I48ArteKgeBn/d49Jayc8Bf/76jNxnFxxP6oT2g14RsdO63vqPft9L69u7/ftgl3R0z//E/jG+r5ESL2QCOjlr3rv5X9DDRiwSbcJbuQ2fBwtT/50nLOAVyp6mLlEHFsWprM7N5L82JZZUT4p2gMuHtjFo2OTrrzuG6d6wv24M78c5ZP/4tHV9ErR2voVtsglebEMJCwoXWAslIiaWhknONeOS4VNWrhLyFOQHw9ODzBza3I84BA5/4deXS2vM0hf4qPJOMYtLAPaNIVZAzzwTyICeHOOLmaRJ66jpZv69bklU721DN5O47wKEDRtrAVF0dMT08/ajKZfo+IRisqKnbMdSDn8nfeTBqL50Hh/Zl3KhSBPgKYjt4RWleSTB+eb6AluXF06Iw9sWuEZUSvI8WTE8vI2C7k/RbyXsKw9DZuI2Nk9Bxf2Nzkd42ICKSfvH5dkZRFwuob95fS4ODcwSfYfI5cbFIAD4XTDzphdDHhPlOT03TscjPt35TNbIp71meQ2ezPnVSuaNbld5jrnBMbpKvOeneSv3gmd87XchxEgQfjA1YmdETDwUOwhIT9XFgt5zo+RmzC1+xB7dj09AzRDw5etBXhMFdQ0JOLfaIYkp0SReuXJNHqgnjuFETQ/N7pW3xJ/N3dm61U2HDiwLgj2EPxO64Bxl44eQ/emU9lNV00bJmgsOAAqm3ptxU74BQCRIJDngtiLuH6ojCCc+9YnU4/fe2a7VNCCmhVfhzVtQ4qQJcAxsrOITqEwUois6MIh9GdOS7PISRMRFER/46EBRIHePbjZW3c7Qm7BxMACvnblye7BCjq7bPO5q837cHbzp6eTXrDb4Kf9F+vOe4R3zxQehugOPtBFmJOecPP0QIvqEHQenNO73df3CNE17iW7/DFO/PpRm033ZhlXsP4YF9fU5JIp662UDAz/diTNSXZMSxJ+ZtD9qTrzrUZdPJKMycLsA8IgCL2kIfvyKV3zzYq2A/RkWo2E+1dm0nBAf78SbQYe4RUIfwJfGcwPchr7rZZiSzsLXNdX9V7qLtJLiN+lKfszZNNL3p2oPZZfaWwKI+hp76L1lgaubazwoEMShJ+EwAp//fFyw7gbLAiPPfuTRvTIYr/3f2jlJsaTp19Y+zTwe7hZ0EWBSwP8NtwgAl7YHiCi6eQZG/sGKCYiGBFwUT4iw/tLKDbDIrWL+2Le4R4L619W6zNKL4lx4aSv9lPEYPDNwb4r2dg1KFJFvEDGOMQI+JAgQ6svG9/Ypcil5O7mPv/+zcXHQrvANtOTE0zw5C6qLcLSgIzM3TkQhMzHKgbdfEMO9emMeOQDCDE3AabUGpCONW3DDCoCw1ZKQlh9N4payyEQ+7Gl2NePDcw9gBv+vuZ+L5gQRKAAZwbEuRPlrEpjqW4eBkbQgBa5qRE0bunrIylOLC/JceH0obiRAoNNDPj/fGrLSzbDEmppJhgZiKD/Wrt42IPzk2LVjDBQE7u314uo/pWO7gf8kZzjc+d7Ru+YBNagL1d6zIoONBMb2iwMyCGFgDX/bMgWOGLvP5JHY2OTSu+8Re2Iqbu5+bSZglQKs8prMn+/v40MDzGmkAiJhfzkBVDVqdTWX03vf3JLZb/w9reOzBK21alOzQIPnVXCUuzw/7AqtjWM8LgWsxbsHtCWhDz6UpVN60oiOOCC2wZPpcc/8IGQoP8acZkUtgG8mKQLx22TOo2xxtp5lD7Hc7iiLnG9Uav745/5Gz/9xWfydWYqcFY2AvAyPzWrNqMzAoqrrNtZSqzrwOIKw7MIzRKgE1OHCK3JOa4ACTKMQb+bklODP3ohSu2v8Me8/AdyoZx8aMRv2yu396b13a1P7v7vM5yWwvx/L5uE2BQlBsJ8G2wlm5dkUJt3RbFfvD43kIumncPjNGhM47+BvaXhJhg9hXqWvspLjKYapoHGNwYFuxPvUMTDjY0MzVN00TcrIA9YePSFIU/j+YLSNqqc6/L8uLp5SN2bhd1wX2u8fVCzKm55Jqc2YDalrz5/L7gMxlZe/TGEHPrtZN11Dsw5rTJweh+rwUkESpRYPl94Ui1soloaw77PDVNVlC9OBAzrC5OpN9+UKnpb2OPQcyA/H9d6wDHRWBiVLNe4zwAkq/VdvOlASK+Z3M2Xa7sYmAjwFDwzUUdBCyO//D0OvreM+dsvh3ve2moj6SxIhXm+89fL9OsT2h9D62xAxOkkfqc3rcz8v3dOee2TbgzWsbONfoN57rGu7Nm6jWiu5Njkq/lDoud+LvzNztsTbhVjb2EGPrDc420dYVViVTkzVYWxFNkaBD1Do05NE5+ZX+RjTnc2Ndw7yxfsAej80+MjHq9Ao7JbDbRxRsdlBwfxuuWDCbfsTqN44lDs/VrXEfgNRDvopm1q3+U4qOCuQFKNIGgOTsjIZQOvldBMZHBnLfBtxfMi/Db7liVRqsLE+hHL11RNLfit+BAf1YKQT7VSAO32r7U/+3uODmbSfO9jjN28PmoDM33mdQxqLfiCK8AFAsKCnb4+fk9TUT3ENGHFRUVj7u3DMzvbG8U2tVPhML73/7naYUTxYHP8hSWoUEQv6YkiRrbrF1WSGQh8bVliTZdu9GuCk9OLCOjvJD3W8h7eTLBYGQcxf28Zch6z+ANmwCD4nd/ftqhSPe939voFoOivDGIpCmSssIxEe8GBkWwJ6TEhXJSuaF1iDfK+JgQCjabqG94QiGhJkBMrsZmrnNOdCpjE0UhSAYNYHP826fW0Pefu6DYRPU2TaNrgHgfdTJSANUKM2O4u0wUeYS0r94c0fp9ruNj5F6+4OzpjZnMoAgWBlBfqztLUFQBEwqSXKMT03S1qpMCA8xcmLB1AHYOU0lOLEHmGQU1s78ViIuCRnxMMJ243GplaUgK5+6iD881sNQVOlzE/gOZtampKTp/s1PB9Il3UMu4Yf4gIAAbEP4P14bNTU9N06WqLgfnUACHca0ty1PYAUU3ozjwnH/zxGqb/DjkS1cWJhjuDD5+rY33VPEuKOptm2VMeeVEnaJRAIWnB7flaEo8u2tj7gR7Rua83jm+ZhPsJ/2X4x7x/W9uvA1QnJ0M3lxjve3nXKvvparGfursG6GE6BBO/i/NjtGb5oZ/9zV7EGttc9cw9Q6OUnffqAOrmmhwEsAK7OtoNAC4AlLQYMcVv339viV0EpKX0lpbkB7Ne0V0RCAX3m+1WddvIQd94lob7y1iLcVaj0RBQkwos+/sXJ1G//nqNSXLYkY0Jw2QBIA/0d47Qm8ct4NasObGhgdQS7eFGVogtQCpTsH84E6yzR3maa2JpLfGz9fevH19PePwBZvQGkPIHc+luKU3XkbXQK1EXKA/0eDoJCe95DldVtvN0p1yAyIAwDXNfRyfBAX4M/tJUjwYWgYIPjnkb1F8AQsi/g35AIARhZzbHWusbF3ieHJ/MZ0pt9qqOGDb65YkcWHEE4wq4rrztQm9b+DN6/uCPejFESIZKTcTieKbiBFEshcgPzQYvXOy3iGG3rsxi8pruhgghXFbV5pEgWYrKB37QUlODIkCImwU87ypc5hjFsHyiYI8WNSzkyNY3vmoipkO8zopNpTjB8Qq+G8BkMF9HtiRx4lmMAeh0x6d90hSA8gbF2UH5OK9AN4CM4psAzKATMS8eBfsQaPjU8xYl5sWyf7ImfJ223MjMX6qrJU2LUuhM+WtdMfqDBvgDPdCTIHCSFZypI0BERLWQ5YJQvEEzPSt3RiLXpZrBzsqrol7Yi+X4zr4QSvy4yk42J8OvmtvHkAzV3JMKI+pAPfnp0XSqvx4PRNy6/fFbBPy3iAD9rJSInguQe5Laz4szYtneT+oDyD2xHfMTIogfz+i2tZB9oVkps/I8CCamJik63W9/O+iEAKpPwBGUOTGnAT7Ldjl/Pz82P+xrvFWNluwdSHX8/apWxQdGUSVt/qosWOISnNi6eatHofc2N1bcujSzQ6b7wW5cxRVwLwlQMOY05ifG5bYwSxovgXDD9R6MLcArA3w82M5cdmXw/UA+sUcl4tGANxCBm3TkmSCkoEohhsFGrjaQ90FOjqbyLf3CLdMnE+Wxwz+vVppAr56XHQwnSpr4/MB3BasoOJuX7+vlI5fbnGYq1g/T15ttT0Umr43Lklmn0XOKQHwgTnP+afEcOrqGyHLuFJC+stoWp1txJDf0tvf3Fv+pFGf0sgXdZbb8ubYiOf3pXqEM19Wq9kO6/2lSiUYCfl5rLPvnLqlmaNFI2BibDA1tdtjauRE23stNDg0zo0I2CeEDCxytWByBksj2BjhX4BpVJarxD6xZVmKjeEUNpQYG8pAKfgZ4hC1A8v4lK1RQo6vjcwzT85ZT6/hrvK7C7leLDZ7cCevYjTWE8yG/n5+Nn8JPv+BrdkspYnff/j8JfbdRR5Kq7bljETjizty6UZDLzNgb1mZxjVy4QuDufflIxW0PD9JYSeo5Q2PTHBTFPvbqLlJcTGIH+CbiWYOAA9HLBP08aVmha+I/RBMjgffu8mxOGRFJycmaXp6mhJiw5hYAX6i2N9g3wBpHbncwv6+sO2YyEBalhNHcRFBnLN45UiV0/qEPH+1xgTPir0WvqoeU6q39wS1XS/mOMLomrgQ66I7a5heftGd99J7N2cqfEKRwJ0ckzuxhPwOWvsz8h1tPda8A2JzG0tf2wCVZsdRdloE5zfU6k3/9PUNZLFMuDtEhs/3BXtwdw1Rz8fwkABWMLh/Rz4z+CNGlpUFEKPvWpvORDb1LUpVJwDEwTytbrx+fF8Rr++DIxMUFOjP1wPRTFR4EF242c7rMeJisC1+48BSvvabJ5T1B8wF5F4Rl2P+7lubrvld1e+ztjiBa+KyAiDmvbvj5GmfSFxPS91w18pUzfq20YnsqXfzdhzhMYBiSUlJ4fT09NMzMzNPmEymlpmZmWcnJyd/W1tb22900Dx1njfAWOpng8Tzs+9WKJiskNiKjwqkZ9+pYEmQUCcMVlqButHF3ZMTy8h4L+T9FvJeehu3kbFx9xxf2NzkdwaDIlhEZTY32MBX7i4yxKDozBETtoBkQYDZGnSAUQTMCgBvQcY2PSmcPjjTyEmxouwYCg/yp7dO3nLouvp7JzTreI/5FMLxjK8eraaiLAABgrhII465ssXheU6Xt3HhE1IsSCY7cxAR6Bz8oJJlWGQ5ORRY1F1jRphbvbW5urIRX7MHrQTA0OgkF+JQNAwNMZNldMqh6yfQ38Tgj5T4ULrVOsTya2Ds+FijAxCFBhQHz11vpTXFyUyHDUnznsFRiosIppjIIC6mwenqHRznDmHRDQjnEOCWhvYhflS5K1eweol3wH1MfiaqqOvmZxHd8iKQltkRUXRDsCCYgL68v5B6BpVSQGDp+uK2HLY5o3NcPItImKg798EGid+QlIfMm3hPJAK/+5W1NDGB3mXlYXSf/TTswdvOnt5+5Q2/CQDFX77tuEd89Z6i2wDF2Q/ibb/Hm9f/6HKzTdJUAKR3rkzTm2qGf/e1PcLKOllJgWYzNzZgvQYLkzju3ZpD4xNTXASEFCUKKVizM5MjKRCVdrAx3Orh/06OC6GVefF0sbKTfnOo0nYNdJ6euNxM+2bBKFi/caBhqjA9gt44fkvJrJsWxXtOcU4cS0KDrTEsKEDBgCuz9D66p5AAMJdZH7DmhgWbOaEgF8a523KWHchoQWW+azSaR8BCDHAMCvnbl6dSbHiQbXzmaw96zzff6+sZhy/YhNYY7l2b/qkBFLUKB7Aj/DsOGTgIf6ehZYCWFSZwcQXszQAgwj8Rsq4AggX4+ylio/0bs8js76cAawmmcwBNwHgtF11QvFxZkODAjgqVhr98ZKUhxgW9uaTls86nM/fT8Jt8wR60xs3ZOiIUBmRmQoAB1xQn2WQHd6/L4KIX4g4bYLw4kYaGx1kmDQVHFNDLqrspNz2aIkLMHBdEhwfSfVushcgPLzYxkE5ez9EkGB5ipleP1hBYPFFQO3SuUZEsFvsPJBQfvLOQLlV28LPATgA4GxmdpNBgM9sLivAAYuG+iGGQ7EaiWbASghle3agoAGQA66JhEQeYwQDQke1UMC3i9y/tLOAiZFlND6UnhlFiTBidu96msDewERdkxLDNIpZZmhvHLMRyfgMxVP/QGHX0WFh2Cs8JMGZJTpzDvfHsYJMsr+vmwiauiTxGQWa0oqEKe/4DW3OMmqqh8xazTWgVrDAvANxo6x5mBiuZ8ROxKmK/sbFJBoDIYFjMARRD8A2E5DjOjQwLYlZEfA+s8bgu8jhRYUGUnRLB0mHX4AsVJTIARcwrfO/7t+fR2ett7PcihgYr5usn6qm+bYCBi/DfLtzsYNYI2beD34TC+vuSqg7OiY8IYtCJmCNqpk9hCwAtYn4CfLlvUxYDibFf1LYMUne/hQBOhLz6xxeaWOJ9YGSCbU+AKTFxAKKRgfb4N+Qn1MUZd9YjnKvnExmZtN70mxazPbgaO/WYqZnIAAafmJyit07aYwxIj/cPj/M8AuPU+pIEulTZrWAlBfMzPJ/XJabS+7bmksmPFExROM9s8qOWniFKjA4hyO+dvt7Oa6bIxwA4DrULd+eUkTnjztjM93rqv/fEfHWV21JLFXvj+RcbIMvIGKi/i5xzBFjXz2Ti5rslObHczM3+SJCZVhcn8B4xMjblwISIajD8FzCnyTlUrN+J0cEUFhLAvsLN+l7qAkFJSz+D1AEIfvlIje2xkQd977RdihBqMwjPXzhsj9/3bshkoJTsyyCOxnuhWUOs54g13JUy9MSc9bTNubIBda3Um8+/mPaI+YCY9MYQzNW/OlTJQD341bAPNDdAPhUKG7j3ofONdKOu19b8A1YzLbY1tV8A1kEAXLAfrS5KoNioEDpxucnm1xy4I5+GR8bZBtGQixgBeaM1RQmc08G+An8bPpKIS+Af7dtoVVETB3wtNBeq6xAs0x7oz0CYQLMfxwwFmVF0s66X8tOjqLNvVLEPwt9/dGc+vfRxDdu0kIQHIDM3LYJW5cVzzuLbPzqqZFicVavSqvU7IxZBfKBnz3rfzsj66M45i8km3Hkvb+zlRu+v9w094UvLz+Lsfs4ai9BwpSVN7ur93G1SklVJtBiOoSaHGBtqc2qFgqykcCrJjaPxCSXY//4dufTInfm3JZ51JqLe/HP25yIXCtwB8piYI8gtDQyPK3JEyM9MTk5SSFAgN3Sev9Fuqw0DjI3mbaFigXsFB/rRPVty6a0TtQ4M0/Cv4ENFhgVS3+Aog8qxZsvNhojhsTaL3CtyVBmJYbSxxEoGpwbxq+0LazwYs9Xy0HMdJ0+uLVp2VZIVQ995crVLhUC9tchT74b7eHOP8AhAsaio6DQRpRDRQX9//2euX79u1wXQGykv/O6NQrv6MVF4f+HDGhqxTHJyCJ3fYMdq6RzipGmA2Y/BS3KQ4Uz+zp3F3ZMTy8jQL+T9FvJewrC82WGptVD5UkKAbeBwDQcwNhsIDqBHducZAp8IkJ9IukJCBEGOSCh09I0yTbtIdG1fmcpArumZaXrtqDUYgfOyf2M2XanuJMgiyAlhWVpEq9Nsro6gGhwIKR5suCKYEl1Q7gIg3X0eefywSyCx3tM/ykUpNaPjXCWkvGmT3tzY9NY2b+4RWmMmy7IBdALHDUXt7j4Lnb1udeAQnCJwRoEFXUNgSoDTJbNFwMEDABXFDNF1GB4aQGkJoczCcO56BzN33Lk6nZ4/XMVFOdENCAaIngELd+fCbjYsSabf/0IpD5U6SEACAHImcAQFoBHdhgF+Jtq8LFkBANlUmkxXa7ptRQ5xb2hiieQf5udX7yqid880aEo/u/pewcFm+sU7NxmwKdYCsAB87e5ipnPH2KJzWe56BNgB0kby4c4+6+x51N92Lh2srt7V12xivnuEnh0vxD7uzTVwMT+/SGSq7RJsGe4mOFzZmy/5THjPt8802OSbmLkp1crcVJwdyxLOL0rFCsQMqQmhHGf0DY0rwO1ItqIRCqwmhy820Y3aHspLj+YOc6z7WO9LsqKpsqmfWapQjMQ+Udc65LCWApiIIsvo2CTLM/zhA0vp6OUWBvlBimFsAsD6Rv5MSM7i3ijyyGvuJ1dbWA5R7qbEfoUEhmAH0kvAulqj8ZuReaVOAANQ9sAWOwBkPvZsZA+Zz/WNrneL2SacjeHfPLmaYmPDaS6y3nrjZuSbyP43/KO9G7K4IKiWqIVftnNNBn18sYnZtGDDYxPTCsYT+FbqzmL8HUAkgs0Ifwf2UrCrIMkGBq6D7960SdnsXJPOTUqHLzRReW2PbjFIbwz0/A5PxcJaPpGR8Z/r8/uazyTGwdmYIa784HyjQyFdBpGLdVYuBLx8vNZBUlmwxsmyyfhbSI797K3r1N5jceiOR67rVtsARYcHsTTxoGXCBnLCHB8eneSkcmlONFU3DdCR840Mjk+ND6fffVRlS1YjkdzYbpVbAzjwzx9ZRUcuNnF8gMIowGKQaI6LCuE9CIykkAECTv8xAN8DzPT+qTpCnqCspsvBTjmGiQ6mwFk2U/wtiptgrL94s8MBVIi9Niclgn76ejnbIBhRwW6nZgcozY2laUk2FeeC7RTAYbA3ZqdGUWvnELNPYv8DQA7sLujsBwvZtRorWE4cGLN/cNFIORe7WKw24Yx1Z9OyZBujTmFmrC2uBeAuC6C8i828lgJcjZyROKxxbAjnZ9+SGBeEreSkRvFvOO96fTeV13SzPPlje4ppcnqaGz1CgswOLNeQNQdbHMCJJ8raFDEty1lNTXOsCvZNyBUC6Lh1eTL96KWrttwM5g2KOXhnAIUFQ6lg+tyxOp39PdhCSXacIpZHfvnL+4rouUOVCp9w7/pMempfITfn4bqw4dPX2riIoG5cVUu5Y8xcyQy6WsPnA5jQW+/mMv99PffqbMwuVHdR/SxgFfM6OzWSBkfGqKHNmh9JnWU5xLoOvxzArJ3rUunI+VaaknJFKAICwFXbPMB+DXJVuamR9P5ZJbscGKm++9V1PNdGRyf5/79zpoHnvS0/FRJAdwN0dZtB0WEqu8ptAXDtKZ9My4YW6x7hbD0Qvo56nVKvTVizAcoGMBDAdNgFlGdQBH/9WC2zKKKBsHvAwo0VIEY4cqGJ2XnkHCqeA/v7vVuzucFvXWESvXGqnl47Wmt7ROwFyI+I4jf2erBWw/8A8Gr7ilQHuULYVGluHI2NT3F8gb0DoK6fvVFuu67w17BvuZPb96YfPtdclisbwJoiH958/sVkD+7WitwZQ9jRqRvt1NQ+rGgEkYk3Xvqoin1pHGho3bMmQ5NMA7aH+BW+b1JMCCt0VDcPMKHA9lVoZDaxryRsEL6WqOHBP/rqPaWsFoBDtmPRgAGw8KqiRAbBqOsk2N8K0qMoKCjApiaG58A+h1zX1aou9r8iQvzp14eq2M9Sx/qw7+9+ZR398t0KBjSC8EEc92/LpS9uz+GcxY9euKRZn1DPX4ztu2cbaNgyyUBm5APUuTVX9uzN+f952COc7R0LOa6u7mUkv+iuP+zqfvNZR9TP4epaYm/WihOwFwvCE9j8175QSmeutzNgGI1iaPjixsXZmHn/pizeTxHrIS9wuaqTMpIiuHHykZ0FtxkUdSbIfOe6nF9fnh9HG5em8nqOPCaaNKDkAcKCutZ+SosPt6lU4LHAhIvaBBjWgY1CDhTqGcgDgUEW67JoEMX58G8sYxO0BQ13g2N0udqe58Fcwd8DqAplATnmT4oNocd3F3BsLjffQT3AARCbHk2DFnuNQrABO2sQcrfmO9/xvs2g6O6Kpzq/qKhoemZmZmr2n2VUAACQM5WVlYHzvIVbf+5N8Il4EBTeXz1apwBGIGGFwBwd6ugUj4sOotomuxwCAo8tS5M1A3UxCWF0SGyhOLF7tSNF6Xwnu1sDqZKQ8AazgjuOs7vPrnf+pzGWi7mwqB5P2MBrx+ocGJQObM/RBSiKRBYAWSKRFRFqT2RpOWoI7r+wJYve/sSeJENQEREayJJpD+0qUDwLJIHWFSVqdojP1xFUF8HRXYxiCpLMMvOh0Tk2l+cRMtPo2kThY8eKVIqPDKb3zzW6DQL7NBz3xZQQ0FtLXK1j6m8rwIHo5D1+pcX2p5BGlsGlQQF+BOmC907fsp1zYEcuA+9kemt0seNa1+u62TGELEFxZjQdudTiwG565HwDZaVEMTMXQJJIfgFQC0fu5SNVNgAgWFDCQsxkIhOV1ViLJygAodvF3+SnkCQREuKBgf4MGMTx0ZVmapxNijOzWnI47V6V7uAc6sme41oAQkGWtLlj2AaExrNsnd1LXz5WqxgPMJJ8aXac3AmijHxjYc+3mnvp1DVjbKdGrivO8TWbmM8eYXTcjK6xRq+nPu/29bVHDusaOq1FglGWEXZV6HTnO/iSPWC/vljVReeuK5OpACdtW5lGvQMjVFbrKAsIljXIqEFKWw2WQILzrg2ZVNvWT+MTxOBGwWR779ZcTsYqh/XF7AAAIABJREFUmzayKD0xgv0k4XclxYXQc+/cZIlMALJWFyUyGwoSQgKAiPug0A2gIdiokDQQEs/Yzx7eXcgSidnJkQ7SgpC0wjPJoHhX80MdkD+8q4BGJya5Y1/4OTIjojyfsFeoZe7UAJD52rNeUm++19ezD1+wiYVkUDTaKKQugBy93MwSJloMbgDyAvgE2Sez2cTyr+jCtTdTpdE0zdiY1TH3D2zPo/GJSXrjRL1DVzi+ORqqYiKCmLELgOKVhQkUFRZIn5S10orCBOruHWHGCT0ZKL35o/W7J+asK5CKJ67vKkbxpbha9gWdARQs45N0vrKLpTUF+BxxMBfsChMc5gj26h/8+iKzZolDlkqW/7fwycGSgvVfZlBEYRyxxrHLzQSA4R2r7Oy0p6630y/eus5rvZBMFuAWxOlaUtBgGXrnkzqOc57YXcBgxw/ONTFTF4oQeF74FV39FirJimV2E8jX4t8e21dCPT1D9IODF7k4KexU5NCW5MQx27z8/GAxRTIc4HrEUiiAiD0OcUxRZjQdvdJCXb0W6h0ao6SYUMXfw0ZRMAH7y7XaHgYRMICtwdpgEBsVTKfLWrkZAMVYAH0+OtfIzH5gTxocGWdlFbnQqQbQz8V+tXzWxWoTjgwHOVTb3MeM0mnxoQxU/fB8IyHuBTBczBEUn7NTIumDs3Y2BMxXMDuHhwby3Kpp7OOCCM5F8x9+BzAFwK3jl1oIzB0osAgGazScpyWEK0CAYLO6Y2UqnSxrod6hcZ57ckOosCUwmibHBVNbt4Ue2pHHctAfXGym37xfwfahxfqJAg4K+ZDWXVUMht4hflbE9TJDEGLcB7fn0vcPXnCQOfu7p9bYmvPEWGoV34WdywBjVyzXRtZwd4s3C5X/9QWfSW/fNpkAfmi0ga6wRibHhVFYqJk6e0ZpYmqKAvxNFBwUQMcvN9uahv7x6+voRFm7AmCB/A/YUd6RmBCx9vn7mxjoK7Mjwr4uVtj3nTOQZOsYtjWnpiWF0c4V2qz6RubUXNdDb14bz+SJ67vKbTHIOT7CKw074vkX6x4hzwm1Kgv846y0GNu4acUaG5ck0Zuf3LIRiGB9xD4AkgGswbJfgNgXwEX4IwA0IYcKhjccOBdKCFA8QmPfMQ1J2YERe/Eb+w3O/6vHVjGL6anyNm48lGMH2B5iZswvxNX712XQ95+7wD6L2ndDM7gWc50rX9nbc8rd67uyAXVDoidsbrHHEXOpFbmzz+L6hy400dnydkW+Cf4C2NV+9X4FRYUHUv/whC32uGdjJrOuqw/Y5uXqbrrVPsjnluTEUlJcKFXU9zr4NcIGnZFraKkvIV6GbQBILPv5sNMPztzie60tTqJT11ptctTCvhEnoI4ARvS3T9bTktw4BuGrVafgZx0638REEurmW/haACi+ebxGsz6hnr94B4CvELfJuTWxvug18Hpz/jvzL3xhj9DzIRZyXPXupZdf1HsXd+oXnmgsEveTr7W2NIk2liQyiFBmaFcD7THfsV8LlTmh9gD8zMDwBFU29FBmUiQFBvixfaP+uHVFGtsOapj4/8gJx0UG0cT0DN29PtNWg3R3nIyc7wtxhN78czUO8t6DGFbUkfPTogl+DnwbVsvoHGZlS6yxvQNj/J3QLJWdHEEjY5OEBj/UH0YnlGzVaBKFkgzUKcpru+nBO/PYFwN7NcCPiMcRv4PYp3tglNq7R2jPhixFbAwfC7EP4to3j9tZdcVcQ15L/nfkseB/ibqJWIPV4zRXW5nPeONbqO971+YcmhqfuC3xbMRgcU5paWmWq3OvX79uR1g4ObGoqOgvZmZmvoomTiI6l5qa+s329vbi6enpnxFR1MzMzDWLxfJ0Y2OjRe+5FgKgCInnn75x3YEKHg4JElG8cGbFcMGhuhna6GEUFxnMgBStJBBk2C5VdbK2OrrTVxUmcneuWuJ1vpNdb+zc2dzcvZbe+b78br6UEBDfMSwskH72pqMN/P69pTQ8PK73uemV43UsdyCSXdgoIAMrDi2GRTA7/PpwlS1hDKYGSBlC+lktqY7uJ0ikyXK0cgAwV0fQGXgSxQcU8OV7uDOn3X0enI9ONjF+KOQLBkqjsj16H8md59e7ltba4ovBj9aYaX3bYYA8jtkdqPu25rDDdkiSgBIOmnDEUbBGoNzYPmCTRUBRRp0EA1DkVHmrQ/FiaV4cs3HJoEfIjMRGBnNnowCtoKMYHYhnrrWSZXzKJvG8e30GVTX0Kwo2cCrRsYKEBpxSAGXP3Ginlz6stn3yh3bl013rMucsBXXsWhvVNffbgvqctCjavjSZO/b1ijTyvJurkymuIb7tG0erNUGa7tqAr9tEREQg/eR1xz3iG/eX0uCg/h5hZDy9uUaJfdvdpKuR51bPKW8wh3nz+WF7Lx2tdQBBP7QDXXJK9lJ3xkM+1xcSAuJ90NTwzsl6AjMOChDiQEANpkIUxxGMy4BCrK2IKYKC/IkLkJIc9I7VaeRHJmrtHmJm6e4+e5cprg3Woc7eUWrqsO8VYAyCvKe8/gM4YRmbpLjoEAo0m2hVQQK9d6ZBscaDCWLEMsESzrlpkfz8aMQSSQokEAA2YfmG8UmbjKBISMnJDAGKV8c2YjzUgDJ/s4kOvlthGy89QIeeXznf9UKrMcSTEtJ6tuILNqG1D4cHm71SkHXHr8aahgPr1/vnm1h6bUluLCdJAUSRWa4AyAUIWKx1E1PTfA4AKpDPRbIVMjVgV4ekLVhSs5Kt0rpNHcMs9ylLOgOojJhFbj6Rme2evKuYdq1MnVdiytncmq9N4LquxtkT13f17J+XOEIeA0gwf3ypmf8Jceejuwtoz9oMp3uvK2kxLfZF2CiY0evbrDkpzGvks1q6RrgLHsApzFchTyw601FE2Lw8TbHH8T42Nc1MROJAIb65c4jZQwHKAlMK4p/XT9ZzslhWHwE4BgAC7JOdvRYukH7n6fUMQvik3AqMBMvX8vx4TlyjGLq2NJnO32hTxkAZ0bS2JIll0wVIDGDjhNgQZoFB3IyYGklwKDLgvdW2D5lH5Ck6+i3c2KVm5hOslNhXAUwEUBEMEBFhAQzuLM6KpfbeEQbW6QHu9fYCX7QJzDsr80EHx7gAjeAQxRDMl9jIQOobmlDIzQo/anVxIp2/3s6ARsS1U1NTDB5B8wbkxMG0Udc6QJnJkczAAdZEyEcDKIEYUw1g7B1E0SWUGjsGOZ+0bXkK2wXW7tbuEcpLj1L6ZavSCPLeABVirpXNqntsWZZM0ZGh9N6pWmrvtbN+1rf223I4uNbfPrnGGtc+d4EL4iicwz+TC/ewO5wHQJosD/r4viLaszrNtkeIffZKdRc/p7pgg3yRszySVmy6WOMgX/CZtGxd3lcRHxw8XOVQkyjJiqKr1T223AmYZN8+WUPpCZG8Bj1wRy4FmP0Vzd1F2bHMfCvnmTCfwXolNzchT/SLN8sV8mg9g2P0vtRU60w5ypuxqbev7cnrO8ttedNnEs/vC34TGiPkZjo0Gty3I599A9gE/BKssUKpCYXunWvT6cj5Jpv/jTrCrnUZXBQvyYlzsCEoDCAHi3UXcW5r1wizjybEhjJ4HkV1rPnqZiawPfmbTFTRYI8dhByuWHfh17d3WxQNg2BSByBSrPNq0gHE49jHdq1O12Su86af78onmeucdWYDC7kHLaY9wp2Y1t0x5PrWby46NOeIutbrn9RT3+CYAhDoDFiHGKVJ1eSE5go0kcAeofYhmA9hg1BGkv1+I/W6Dy810+j4pA0wib0LDbRgkQbKF0yPnb0jNsA8bHZyYoqBiNgLN5Qk0fOHK+mBHXmcR1Psb8nhtLkkif7385e4aVfR7LQpix7bmc8ARZA7qOsTdyxPcYjFTt9op9rWQYf1BTFCekK4bvPhXO3r8xhHuPPOCzmueveab43KXXvH+fNpLBL3E9dAE4tQQgGwV66/wxcEw71gFJYJStRrGhrmATLeuDSFcw2lOTEUFRFMp660cLwm2yLOjYsKon3rMm9LPOtMfL35p2c3wm9RM/KDSAG5UHVD65nyVoqPCmEVDdQvtq5Mo8iQQFacPXu9TQn6zojmNRjs72A7RCwBFQFxoDkQJHBoCAXxAMh4BobGqaPPwiQO8Jciw4MoKjyAPjrXpGDVxVwD8+6Jq638d2B8RI4gPTGMweXI9ci1CfU4zXXPne94y/bljNVR75vNZU0wek1v+k0ekXg2+iLOzisqKlo3MzPz8/Hx8Q319fWjRUVFzxLRJSJ6moj+pKKi4kRhYeE/mUwmc0VFxd/p3W8hAIpgBvrb/zrtkDQCC9Yv37rBjwj08EO7CqkkM4qu3+qj335QaXt04XiJzehqdRflOkkgye/rqcmuN4bi94W830Ley5MJBnfG0hcSAuJ9ndnA97+5UZdBEclg0KarJWghAyu6jtr7LHSyrI3pe5GU3rI8mVJiQumTcvybnd1neV4cTUxOUXWL0vH/0p35LB8ldx7KDpFRZhWt76verOQCj3wPd+a0O44pnMGDH1jZkoSMLhzDJ/cU2oIiTzid7jy/UTuQ1xZfsgdXa6aWzMhHl5qpp3+Mu+lQ+IZ8CAAifv5+zPSQB2ctIoguQQ6kOInGxido2DLBhRWZTRBd8s+8bWUuwYEEHWQXOvtGFYEwd6eEmFkuUJZD2LYylYIDzQ6AFIAhT19r5cQcDiTFMpLC6OQVR+AjinwoxqF4+MS+Yjpd3sqFJQGeFYUXdLWcLnePeVBPAgQJE3QgiuP+Hbl0YHO2y0L+XG1D2MOPX7jkANIEA8x8gVnedPb07NMbftN89gi9510oH8Wba+BC+CHeen7Y5T/+91ml/F1GNP3j19d7LEngK/YAf+efnz3PY4UCB4BKAvAE8AI6RqMjAmhq2kTNHUPM4CPAUBOT0xywAzuFxAyYf7AHANQB0Af8GyRhweYkJwf2boA8dBizp3T3W/gaKDK+e+qWIilQkB7Nne1DIxMMorprUxYDXxQFcZbunOC9APtAbkoEg0LAfKVOIOxbm25LeImud8hwyucZ7RTv6xum7z1z3rAkJtb142WtzFpkZ+8KoW3L7Mni+dqDXkF/vtfXW/d8xSbwnvI+7I1xM8o2oeV74/kAWBqfnGKp197BMRsLA8Bao2MTnOBKiAyh8elpG0gFcf+XdhZSZ+8ws4qqwVqIFWpb+hmoJNvEo3sKmcFUi40LALSSrBj6zpOrbexYevPEnd/nO/Z64zzf67t6F1+yB3dyPXOJF7GXAEwOcF58TAh9MgukCgnypytV3QxeP7A1W8GGIkC7QUFm+p/PnOMuefj5AASCgaSpfZCbbqGAUF7Xy7LKHGM0WWWMYQ/rSpLI7O9Pfn7EewiSy0gIYz/C321ekswJaRTiIfOsllqDvYHJCIAzFDWbOgYZ/AWQO5p+CzKjCe9m9vezAQZR8Ny/KVvRQIEYSPjot9oGed8dGB6jweFx+usnVtNPXivn2AVJcgAUsa9CPq5vyG77iK/++MHldPp6O7Mhq1mNISENe8U7QtoZxRg0kUHqV4Df1hbF08N7S26zYzkxbBS2AQIEQyIAIGo/4xsPLFUATHAZzBE0ecCfgiz40YtgkxthJqr7t+fRWydq+XqCyRmFjpv1PbR+SQpFRwTRm8ftMaQAhmN+Yh5AnWBFARhtA2jb8lR6/UQdvfJxjYItFL4TGtFldkbcH+wfmAOQo65u6KNVRQl8Dljs7tueRx09IzbwGAonghFLgFLgB6pBMwL0pWY/BLvCzOSkwx4BG9ZiSoTNIY8E2xGMPpCPlvNIRuOsucbURq/vzn6mPvfzsEcEBPjT954551CTgOz3v//uqm1Ivn7vEgbWVjX0MtMr2OSu1fXQ6OiUjWURxcOoiCBqbrerVhRmR1NZdY9T8BZuwKQMkUF0qqzNdj8Bsrot8ew4g29LPM/Hqq3xg0xYgKthbfzWI6tse+uF6k6qbxlSqK8889Z1JjaQm4H++EvLuWno/I0Oh5yGiH3RKGEZnbTlbMGQjKY87O2I7ZeChS0timsWiKuHRycpPiqImZRR41uRH88gJCE1CFIDV4BIsL3dvzmbWXQOnbM2BYKtEYAsyFruXeOosqbnK3/WQOZ6+V13fOL5zKbFtEe44/tr7YV6cwA5dcShMksZyEEwb3/21nVq77E4sCuqpYlhm1rnYj9A7Iu8FZp9ZDbxJ/YVMcGPzMgLH99ZfPn3T6+l3xyuYgYsITkNGwTDNnyuR/cUUEfvqIPKC+oVaLZNjQ+jgEA/6ukdJVRPwJouAySR6/ry3kJ690wDXa7qso0HfPuMxDBuqsJYGpF4xjv8/O0b7O/JjYkYj7//8lpb3fPTtN/Pi980F5uYz9oylzVsvv70QvjVuId6LUIjFhiMhbqBXH/HXAfxCeIiHMgDY13BoZbehS+5tiSRhiyTFBlqpt6BCUJsHREWyPk4ddy9oiCeHtyR67Hag9b3Xkx7hLP5Ot9cHLPi1nQ7sEVvWppMXf2jilw9vjeAjGgsRb0D8S3WXTQN9gyMUaDZn/M94pBxFKgjn7veZlsrEbffsUYJYL9rczaZTX5U09zHsczIqBW8iFgWhFfnb7bbcraP7y3kNRy/Q7EKdRTksVA3h5+1f30mBZn9bM8ij5NodHGGJVmoNXu+384ba4I3beIzAVDMz8/P9/PzS6msrDyOASwsLPy2yWRaQkQ7Kioq8vBv+fn5Gf7+/h+L/3Y1IbxRaFffDwyKz71X4SAtCTrTE1dbFMwiSM529I7Q4XN21hQBYhJJqPSEMJZekBddLflLT01Qo5vtQt5vIe+F9/807udLgCyAT559x9EGnr67SBegiPEH081bJ+0McmAckBkU1YwPoG2/1dpPpTlxFB0eSOV1PRysry5MoIuVnTQ1DSaJYVuiFXJNkJB2xqA4nzkgO2UojlQ39vOGJ5wukWSeyxwz6phqyeg6k1Ixau8L6bh7c2PTe19v7hGuvrlcKLhQ0cEFK8gigxUR3bdwyHatzaL6tn7ubp+emWGZDwTCkAPBhg1nSZYIyEgMp98dqaLRcZAPE92zOYeZSdEljKIg9hRmKYkNZSAjmEvkwvjv3beEJdvUgJR1pUkcSKCQhyIJCoQouE1MztCLH1bZhvj+bbkcdAigJYAw6MiXbREgyrvWZ9iKJJcrO1nC0IhcIaSjf/HOTYckw9fuLuagXl1gCUSBZW+hVwv53/7RUU1GC2cARaM27Ws2Md89Qs+O57OGG7n27es7H6XbDIpGZ5D1vNdO1NPZG20cFAMgsiw/nju7sVZijQaYEIxKrZ0j3FkogmcE2mEh/gyAwt5Q12rdGwAIR8Hk+OUmun9bHpkD/JixDYkArPeJccE0NjZNTZKcDBhP8N8fX7Qyb+EQSQGAOQ6fvUV56dFcaJHXeNwHrCgI5pF0+KvHV9PFqk76+HwTJ3XFs2oVI0VyGe8oAOtI8KoT2vJoynvoG59YAZXinfUYFNV+o/r8ufhk4tn0gFgLtV74UhwhxnY+38WVJRrpfHV1zuGLTQ5StyiCoksXLF7DlnEGxcB/khlFUXyBfBQaRdTJVIAb796cQ5WNvcymmJkcQfGRQdQ9MMbFFbVtwu5uMyhqf2Vf85nctQejvqVQJEDTLLrNkcTFvIsDOOtkLUVHBNPONem0e7XzojfWVrAaoMAIAAtkm3Fg3qMJCcnftPhwZqNDjCEz52JfmZycovjoUC7STU5Ps/++riSRAVuIMzr7LLwfZiZFKAqX2KNyUsJpdGKGXvqwytaMJTOMfu3eUjp+uUWRIAewDYylAEzKUtGwy4ERMAIHUnJsKHfqY39h0GVCGDM9onhZmhNNLV0WBjniPIz1tlXp5O9HdPpaO6VAunqWxRLjsGttBn18sYmfD8nzoxcaaV1psgOrAIAQ//JHW28DFDVMWuyxQrYb4A+oY4iiLgoVAHOjwCGzTcNHGRubpGUFcXTmWjvH1GC/ReyJhg8AOiDfjDwN1u/osEDqGx7nopeafVqWaX7vlJXRE3MZ0t7tvRZm6AQTF3wpXK8kO4YBKShyA0QimksATAVQUj0HUBABQDIwwOrXiQOy1dFhZjp7o5PZHjBHy2q6OMclx/wAySInIPslQ6MTdPpGB7NHupJqVq8Xhy810wuzza64njP/ytn+PB+whDOfD9Jwnjw+L3uEQ7Pm9lyqbxugK5VdPJxgt925NlNhNwe251J4aAAD19HsDMl6rL9T09MKVsWSnBj6CKxzDVbgOQ74+2iaFU2sYDjBWMtkDPg3NC1pHd7y+RbKD9cD+ujNYVe5rYmJKa8wisv+xWKPI5wpqPyfP91h21vRCK7Ol8IfL82Lp+b2QWbTxdq+e006Xavrps6+MXrlY7v6C9ZqAaZCgf2nr12zfVYh+Yz1HT6MAHSh4W98YsrGJIprgGlazg+Cof3ElWZmX1QAljKiZ9UM/EiAxXHD3x6pprjIEELeGM2JzoDkruacN+1trjbnygaQG3e2RyAPPt+GcPW1F5s9GPX93dlnBfkFmhaQ/0cTD+LVx3dbyS+04mFnDadgDGzsGFb48rAZ2acCoBdxA3yujORwOnutjXNS+WlRCnZQrRgd4KZfHapU1AZA9HCjvpu6+izMvobmE5nlHPdHngvNKqg5osl3amqaIsMDqazayowt729gqu4aGKWjs7EF6haJ0cHs7wnVBwAUwaiKdQIxAQDJqE+o5y+ks1Erkf1WMDfeu8mlCCU/znwIVfT2IWe/+6rfpH5fb6+L7tjfXL+Vq284Xz/F1TNp2eXj+63Nd2oGRfiCiJ2vVHXRxmUpBDzYtdoeyk6JoMkpUrDB//59S6gFjTRNICiKJTQc9g+NU1xUII2MTtM7n9ixA8iRw1/6iobNeXI8fcEePDXXsQ/85pCddO0LW7J53ZPJYrCOg+jmjRN1tlyQv58fq8sIRRk0E16saJ8l3hHxdCyhVgHOHQEYT44LpcjQQAdfaf2SZLpS1cmNjI/tLaaPLjRSUICZJaXrW/ppaW48xcUE0ZLMWG4412qANYK10ssjO9uLPTXec/WvvB13edMmPhMARXkA8/LyEv39/c+YTKb/JKIvVFRUbJ/93b+oqGi4oqIiWG/B8Sb4RNwb8rZvnqxTBPAIXuDQHb3UxKhhOXEJp+j90/UKKQQ4V0CNw9FG8tPf7OeU3loOKr252dzeuPVm19x/96Yh6z2VN2wCIF1sPKBEF93X2FQgVTs05Fq+E4v5D359kYsC4kAg9DdPrOYgCAWO//msijknPZqCg/yprKabOy/u2mCVPxQbx571GRRoNlP3gIUSY0No+/JU7m7EpoTuxc3LUghsi7K04Hw3D2ed6eIe872+s++K+774cY1Dgv7hO/I8HrR7a73xNXswukYL6UBxPgorSDYh8QvgbVhoINVLDFroKBRgjtHJKXrlWJ1Dl19afCjdvNXHwXH/8ASDVrAHgcFHgEIgn3DichM9sa+EWrqHbZIieWmRLAUqS0WhgANJq7VFyVTd3MtSWDkpkczOKOSthM1j38PfCtp22L/Jz6RkNZztBNZz8rTmO9aCF47UOEjJPnJnns3+3zxRQ2uKk+lseRs9uKtAVwpxLokd2UH8yStXXYKrxXu4W7zxNZsAQPG1Y457xIHtOYZA7Hr7mied9k8rwPfWHmF0PTIyxlrnwIbePtPAzHtCGh6Frns22FmK5npt+dkXW9JY650he/z26QYeJ7CugYlncGSS132AH8Tx0K58TnQC1FTT1M/J4ZrmfkqLDyMwJE9MzSj2BiRXv7A5iyUUTpW3MzBdrPdP311MDR3DDntFcVY0+2vXaroZhCEYf1BshIwzkgoCECDWeIDTkXjAGo8i+gNbs8k/MIB++0EF71uiII+9QItJVkuGSy6wO4s7Kuu76ONLLZz4ZUmHpHAqTIsiWVJZ/ls9v9IT64UA+gjJsAfvzLexHnni+no242t7hLfXKb3Evgw6BfgF9hMdHsQAEQBDfvTSFU6WMZC4sY8KMmO4i7u1c4hjfEhwoqAP2Sp13A9bwvVlaVsAlyD7BnBiSVYs+0r9g2PU1mPtKocNNbYPMmNXZGgAM8QBcAJ2rKnxic+sxLMrX8ebe9xte9BbMay/4/uU1XY7lRjLTAynrYiZpS5y9ZVbekfo1LV26u6zUM+gFZQLm1HP+wfvzGMAGRLWMiMJpJhQZEAyGeAt+PatncPcqIXuexT4Ef/LxX7sS7Cv5q5hulnXw0B+sWcJIBnybsXZsZSbGqUoXEBOLi0hlEGGANIEB1kT42kJ4TQ+MU2XK9vpjjWZij0YxY4jFxq44QsFlZX5cby33rxlZS4GiyPmXE//KAPUBCgBz4l9EGC4sJAA7uZHrkLNBol9DM1fYMY32qRl7Avbz1rsNiH22B2r0lnau3donOeRkOUGU6Z67MHcGRwcQC3tw9TVP8JsoIiFZf8KjDgoRqOhAo10WL9R+FJLc+K8sGAzN7h+dL6R5zhYF7QkrBBj79+YTVERgXxtk8mPmXAxN8cnJmlkdIobUdSFb+SmLGNTSjbrjGgKDYbKQTfvQ7vXptPuNdbGPj3lAXdja7Fen7/ZofADtYo1rvwad+/7acRZi90ejIwZ6ggoGqrzsQB7/vr9Cr7Esrw4hawm/g0+CnwOuZEJjd9tvRY6JEk1g5E9IjSQXj5iB28d2JFL/YP25lTkh5BjRc71UmWnS6Cst31lb/ocnnp2V7ktrCXeyr2K5/eF2FqL6OAbX1zOAAmwPqO5Wc2Klp8eRYfPNvJ+DSAhwOZgI8RaBsb0rr5RW00Dse/pa21c2xM5VDRzYA9BUwZiZvw3mj1k4JHsR2itqRequ6i+dYCL8DJIHXYGeVqo1xzYkcexJdbq9882chwsnjkhNoQObM5xyzX4LNqEXn5XfkE8P/IO735SZ2h9cWdwfHWPcJZbgX04awSAHcg5dTEPRRyBGkB92yBbAafmAAAgAElEQVSzoK8qTKSty5I1pcZR60DtzQbczYas8yR9cNbehIfmDjTrorkE/jl8ewDlk+JCaM+aDNt1ncWXr56oUxAFwe7AsA4/HfkxND2pQfWwWUhPwxfH/neqrIVy06J5b5TJG5DrAmkKiIRe+qjKllt7eFcB26WYj6h/oJYp8mAAXT6xp8CBze1iTReBxEjea8G6ffdGay3T1eEpP+u2TTiOgLfXRfUa5s19fS72bmROaNXMnDVs//Bb23n/HRqddPAFcS/4hwDa583aXGxkIMfMrV0gRLFK7SLWekEiQrkXYOLpGQY7ryyIo/TESNt+iDUDe/Hjux1tzsi7GT3HF/YIT831kXGwOjcxm6VY96Agi0ZToQAF3wq+FEgVRD1anStC8wZ8rI5uC2Oq5HyS3OCamxJJYImXWa+x1kPaG4pJQYH+NlZ44D/QpAhZcOQAGmb3qXXFVjIrKDrJPiGa8h7clqvATqjHCfsP9r2TZa02JmzgPPRqvJ4ab0/FHJ68jrfjiM8UQLG4uDh7ZmbmLSI6aDKZjs3MzPygoqJix+ziAYDiQEVFRZjeYgIwVne3c+dL7++N/B4RYZV4VstYLs+LZ2YTdNXKMppwhNYWJzHlKFhSAE7E5D58oYkdJSTKZGPEAr11eTKFBpoVj4PJHhcXQd5+P3HThbzfQt5LGNZCj2V8fOSnYnPesAlnNgCJ58FB1wBFjL+6uwKgw71Sp+0rCDyOK7skPjzXwPaFYkBCdAiVZsdyAQ8dkeqNT1xPbCCCNh4U1DKA0FNzQMuB8+Sclq+P//0vz11wCLz+7qk1Hgcoemp8tB1n37EHI2ums+/2F4+s5HmslsJE8AwpgV2zrCboSDxysdlh31maE0tXa3q4KIPu2sPnGx0KY7AZSDTkZcRwwURIgyfEhtLG0kT68EIzVd6yyv5MTk1RYICZKm51U0hQAAffAGLsX59BPzh4ke1NAGEQjEOqRNC2b1qWzEG4mg777768hv7lVxcc/v1vnrSCkp0dDFZ+xiqPKg4kwv/hK1ZZhLY+C50qa6eOvhFKjA5hGvDYMLNm8gVrAWTjRfJcXguM7PvCnv+/31x0kKf/2t12eXpxLb01ztdtYr57hDvfxFs+kSfXcK33WczXf+1kPTfeCLAWwDcHtmQb+WyGzrEGd4t/j1CvA1jXAZIAy4/MroY1GiALdK9jRQTTFYJ/ABkBGnxDJUOIguFDd+TSiTJ0BjYrrgV/qLNvxGGvwJoH5re2nmEKDjAzMArxCpqo0BG+c00a/d8XrijWeLDBIeEL6cvwkAC6f2sWvXeuiQ6+e9P2HZEsAMAe30zNjItzXz5iT/B+aWcB7V/nnKlL2MTPXy9zALrrzS+134jkwxe32gs587U37Dcnr7axjBeYKrcsT6bk6BDbOMz3+nqG4Ss2obX3edPXdHVtzBmwoItCCoDBKBBnJoUzY1bf4Jit2QMMzZC2RVNH/WziDQlSxPg36uzStng/+CmluXFszwBGsVRtVDD9SrIbJOjAKAFGBxxP7C2kvesybD4RfEY0qXhrbDwdC3s7DvJ1n8lIHKG3Rjj73Vn88e1HVzIQXPaLESvIfjl85/fONHJjjgzqQme7liRzWIiZLGOTDjEqQFcADILxTU4SY08EY3x7txXMZQMLRwQxWBcsb+IQzInbV6XT0VnGQvwb9inIl4qGify0SAIgHwCDzgGrfBsUTcBcBza9pXlxDNSXYwswo4SGmFmWCDkGAJBlRjABOoYdo/iJ58U5ZJqhy5Xds7mJYGpoH+KYCNJTMuujzEaM9wEI0tVeOJdvvdj3CHmPRY4HBYzalgEGvF6r6bLNN3mO3Ls1m1o6R2zFX4BCILF55IK9GA7/atOyFKpq6OM1Ff6XYEfEmi4aAwE2GRgZI8vYNIO0MMezkiOZKRdrvhz7oijT0jnMzwfGxj1r0ykmIoh6B8fo1LU2Bt6i8C03rKMBEPMWzyL/O4CRwQF+XGyxSa5vy7blgRELaxWyuTHj4EW3YmstnxRgy4d2FijycK7Wo7nc19l89qbftNjtwciYAaCInKBWTQLrFJqNspLCGcQrg3b/8omVdLnKUbrZMjZBZ6612eY6CsBYuypu9c02akQz+9urR6sVzOh/9vAKzmUBwAKgoyuVDG9/88+6z+QqtwX/09vPv9hja4zfL96pcMjF/cXjq7lG5swmhEwz7Ar7OdjWvvPkavqv18tZvlZe43NSo5hlF3s51GdwiLgcwF6oz8C/V7P7wI+QCRXk2oa1ubOR87C4Bpo5wCKHeDI1IZyuVnVSQkwIbUZsGRXCwEmZrQj7BHyw+7ZkOdQI8Xyu2Hy8Pafcvb5eflde+7BeHL7Uosg7qOtGc/GXRAy02O3ByLsbWXPVOXXk9OUcB+4D5kv4Iq5Ug4RPIvtpIAr5xZvXFb78iSstnDeCWlSzpPgBFTR1I6u6DqauR8DHg6/23ulb3Fi4PD/BgdzganUnA/mhNtXQMUAF6VF0raaHslIirKpT3IgYzYD+0sxoB98K90DNBr6aej5iPQFD/N9/Za2CQRHPfbSsjU5caqbaFrsPiX0VcQaasJzVIzzpZxmZI7LP93m3ibmSWRjx2TzNFK51TyP27mpO6NXMtPKtf3BguQKjIo8h4g4Z7IvmMNHEK9aJXesy6Gx5uwJDs3FpMvUMWJsioTiKJmHEWLJ6zz//wUYaHtbHHrhjA+r9Z7Hbw3zngxgPECb8668vMbus+AaIubevTGXiKvwbjn0bs7hhDzki+FHqXBHW0tVFSVRW00lJsWHcSNo72/yKv8ecQEMnVJ1QB6lvHVSQIiBuDw8OoNeO1dhyRmuLE2lscprXXzm+Ri3g/q059PapeurpH7MxBKOZFLkqeQ2WxwlAW1E3hoqCHNM4q/GKOe+p8RY+irv+lTfWhIWyiU8FLKU1YIWFhStNJhPAid+vqKj4j1lJ5yMVFRX5OL+goCDdZDJ9VFlZWai3uACMpXeOJ37/8QuXFN0WcExgQOjGuHNNpoJhCYE9KGgTY8OorLqT5V1wgDnhe784bUviwhg3LEmmZQXxdPR8E60pTaK967O4MHj7WPwjYELE/Ckc3rKJ/3z5igOL3x8+uMLQG1Y19HJ3uij0IvgHO4k4GtsGOMhA8bwwI4bGJ+2dV7A1FPaxCUKaEJKI6o2vJCuG/vVb2+mFwxWKgBZSaY/sLjL0jJ+FkyAHdejsLbpwvV2xHoBWXt0Z+qePrPosPLLhZ/A1ezDy4v/2wiU6dLbBdiqKFd+a/W7f/vFRqryllBhARzqSyvs3ZNO/PneOuw2FHA/YtgBggcMvCtzodpyanCbLxBR9fKHRljzGHgSWCTWr1t6NWVyY/+2hCtu5ezdk0QRkD0ID6Gp1N98DhflvPbrawZ5kyQa8FKi+oyODNW1urrb409fK6E0JnHPvtlz6gwPLeAxfPFxhk6zDc6K49LAT+37+0E36zSybAP728X1FTAvu7vGz18ro0Bk7MAtr0O/PPo98rb/+8TG6IbHEijXJ1f18zSbms0e4+11un7+wI3Dwnes0YLEzKEaGBNCTd5d69CF8wR7U6wCASysK4mjIMqWQv8FeAGS12eyv+Hesd9UNvYq1BIH9gTvyaduKNPr3Fy6Sn78/s7iJ4vldG7NY3gbMUwKMnp4YRg0dQzZpTnwowSoE13RVYRzdsSbLYY0X/haKNAChPrq7SBG34Dp4p4SYUAZyqdfVH//2IjeWCEZGsZfoTZRv/7+jDsD0//NnomdN+6/nei+9ZxG/Y+2XgaLostda+41eby7n+YJNzOW9vfU3//7iJQa/yAwo+K4oPKJQD39LsDCgMIgE6tj4FMcuIu4ICvCjLSvSOKYRx971mVReZ5Wb2rcxmy5VdrCEoszogKTejjXpdOzC7Xh/rt/3tj0YHzktHxjJ5ufesYPNMfdrm/poZXGiLf/00YUGeutYHVU1WeMTNNQiOQy2EjAhqJnqkuNCaMQypZBLhJzZxOQUMwQjrpWBgQDvwtbWFCcp1tf9m7KotnmAC/jiwF5zx5p0ZilEIQMMjNyt3z9Kje0DtoYJyPyg+Le8IJ5BaQCjyayOsGUA6wG6FAdYHodHJlgWErm4czfaFPaK50QclTx7T4CXA83+LB0kjv0bs2h0fIL8/Px5fJC/wB4cGODHzI2QIbK9S2Y0QZLS08ditgn1HvvUXcUsQwvWKwCw1IyHiEEHhscoKNCsyImgAP3+GbtyDST9WruHKC0hgm7W9/C8EWyc+K17YJSCA/y5aQMAoTvXptPN+l4GvaKIDcAJwCTCn0pJCGM20ffP2ON5te/znX8/zixZAvyOOQlQyjNvXVc0pYNJRzyLLF2OfBVywCfLWri4vUqySXnOuBtbq31SAOx3rsugLctS3co3u3tfT89zo9dbzPZg9B21Ym0AqV/8sNK2Jn7lC6Xsh6MZFZL2d65OpZ++Xu7gZ+9cl85gRDHXM5LCqK3Hwv6NiDFQfDx05pZNPQNzFRnu59+355Ie21e0qPKtRsfaU+e5ym156h7OruMLNqGXi3vhg5s838U8VudLsZ9jn390bxG9+GEFNXcMK3x4EfvCh9+9Pkvh5yCnOjw6wQy0I2OT9PrRWttQY++pa+un1UV2H0r+DsjfIz+rVrpB7hV7HJii0Sh1z5Zc+qsfH1OAz7FWoykcNRM5f+msVuDteTTf67tjA3PJqRp9Pl+wB6Pv6uo8Vzl1uS6HGAC+bkZypObl1L4BbKk4J5ZBKKhnpSdFcEMJanywy5KcOIX/JtdGnD3vm8drmEBB5JZgGwANI8ZGg2FhZiyzUsvyywCuRIUHUVJsCNttZ/cIhYYGsg8pq07h3b754ArOh8n1EfifmSkR9PCuIlLPR6wnkB19bK9jjfHfXrzEeQMZNIMxAUATsYmresSn5Wd9Xm1isa6lnrB/d+IKd/Ot6vMhyY44/kx5mxQTx1BuqhVkLI77tuUw4zwYTgE8XpYXP2fswXzG6PNqD1pjprUmIVYVeAXgOWKjgqixbYhrEajhqpvykG8BIBzrM/BPSbGhVJoTp8RWrbZKRV+42cGNIL1DEjA1I5riokO4iVyOsdGMdfSSlbzKlmvhc4MJstK41+DwBDM+Igd7q3WAFUa08CHq90R+DCQLwGWp1/896zIoKT7MAa8xnzn3Wf9bb9nEpwKWUg92QUFBgslkumoymf6woqLiNfF7UVHR5ZmZmT+prKw8XlRU9N2ZmZmYysrKP9f7WN5gi1PfE8xAh881s/yaoDNFcgmU0svz42lweJwToWBRFPSnkLQBpfvW5Sm0eUmS7ZJqBC5Qvu+crGeHBYfcIeRJNK7eOOL3hbzfQt5rod9N3G+xo+/lOQMb+I9XyjmRK4IDzPk/+uISQwyK6LyAtIFIdt29JVvBdIN7oXBy5FILmfyJ2rosbE9IqiXEBNOJy61sW9jQAswm6ugdVWxqsBvB+KZmcxOsbd6cc6Lz5HJlJ0s5ucvWJsZaC6GP93rnTCO1dQ/bxj4ZVPEb7MwrRuxb7xxvjs/noatdDZXHnAALYnu3hanMs5MjrV3mS5K4iwhSxnKRHAmwspou7vZ7fG8hRYQGMCuEWsYHEoKwQRwI0CEttXlZKvUNj7Pzh0QXCuPDI2NUzcU+u9MmGA9lVkR0DYP5AzIj4rqCiUrdUYUEOKivxRrA4Jv8OE2mwrnYBDps3zvbqJBFQIEHNoDj2fcrHYC6X9lfyDIp8iHYY0D3LRjfUCxyh3VU2MO16g6XLFqubFfupFbbn6/ZxHz3CL31aSH2cW+ugYv9+Y3s4Ua+obNzfMUetNhqkJTcuTadAs1mlnsFcy0SLz19Fl5P1bI0AG48f8gq1YYDBfX9G6xM7PgOo2OTtu7vwqwYSogO4sKhvFeAvf3Dc02KoF0AQ5AcTokLpZ0rU1m2AB2DkOGArGVr1xCzBwlZq11r0uh6fZ8i0Xrn6nSW/QSLnHpd1WM11FoH0Smo1YTx1J4CBbucuoNf3aELOR55zZ2PPWMv+t4z5x3Y8b87y+a7UPbsS3GE+Pbz+S56a4zetZmZGgzSKpbmDcuSWYIWbNLvfGIFMSGx9eT+Yo57wK6IMF00CqFggzhfxP2yNLpsZ3JjkYjvXXXq6z2/3vvr/b6Yr+8re4SzNdCTzNBY169U2+XZ1pYk0dalSfTrD6qYZVDknGTpZBFH//C3lykjMUIBnMcedKWqkxC7gzGwuqGP8jOjqRSybdkx5BcQQO+dqiOoF6DzfMZkYvCKM1ndxOhgWlOUQOdvdtrYHBHzVDQo9xqA6v1MRDERwTQ2MWWTSAebuwyUBEigsWOQhxasKmBGQiOXDHa8c00GhYeaqaK+lxskYyOD6LlZhlM8J0A4ckzGDIomE0tSBQb68bWvVnU7JMIR878oSVQBTHC6rIXWlSYriqD49yelPU3PVo38vphtwtke+z+eXE1vnKhn8KpNbaZrmPIyopn5EMVlMLop2DfDgzhfJGSo0ECOmPxDCURuZS305+959FKTjQ3i7s05VJARQVerexjcsjQ3lpsswJ4lYl0w7pwrb3doHPnTh5bTiatWpn4w8YCdFwy6yHWVZMVSXHQQM/DiOmCGaO8dZqCtlv3thtpOSACV19qltFYWxNt8GuGrgSUPLNuY26sM5JvUPinyC5AtdOWLa7E34P7H+V072MaykyM4/hcqJUbmq7f9psVsD67GT9630WCEXIg6H3vPpixmVxeN4Jiz//3GNVsO5FsPL6OqpkEFUzmA5FgTG9qGbHMdsQPyTGqGRuwh565blaHuWJVK755q4MYOYSOwuaf2FmoybXnT7/DmtT01X13ltm4zKBpbObQY7ZfmJ9oYFME+6CpfigaFqakpemJPIQ1aJuhqLXKZIwx6QhMg2HDBtIv4+2JFuzIuz4imNSUJhO8Ipt8TV9DMYAX+hoeYOWf5B/eWOsx9sM/90y/P0cCwlVFIzdiImgbiDLA8ry1JJD9/Ex181x77Iy98/FITpSSEK/KXeootn0WbcGUDarbg2wyKxmzC6J6hReWD76GVU396XyEzJrqTy4EM6GvH6xU1cvAHof6GA9LJghkUYEJIPKvzXnr5eai4vH7MDgyGIsHE5AzH62C3BhCRwYrJEVwvA0MpCBwARNyzPovSE0Np85Jkaum10C/fuu6wv+H+XYOj9NGFFrZt1FcgIdrUPkRf3ldIhy40OyiJQHb0rg2ZCgZFYfP+fn4KIE1HzzD7pFhvXNUj5lI7me9s8VW/yUisrbeWao2tHtugp/wGd77rfNZ8I8ydWvnWx/eXOFX51FJGRHOhHJPduSad43DIAws/EvXt4EB/BqJ19VsoKMBMU9NK7ME3Dyy5zaCoMznmMx/kS+M6yO+8+0mdpiId5o5lfIpePFJjzZX2QE0igVUyUKvAepeZEkkxYYFcpwbwVBxP7iui/uFx2zmoS4DNHXgr5Evkc5GfCQv2p96BcUWTKHJTaB5BzCIOAQbHs6MRRM7rwA9sbB9kDBf2J6Fa09s7RN9/TqlOgPzYnavTuG4vrxPw2UDgICt/In/myh4WypbV384TTIxiPfNWPeIzAVAsKir655mZmT8zmUzQcMEzAZn39vT09PN+fn4/JyK0Z9SZTKbHb968ac02ujgAUOzq8q7Ec2RkIB270kp1zYPU0TtCYLJC1y0SpH6mGTp3o4OiwoKof9iO9IVjA6rSLUuSOJEmCmtqDXMkmg6fs3dYA937nSesDh2MJj4+grz9fmJ4rQ7KwtxvIe9lN6yFeTdxv4SET0+u0NNzBjbw6tE6BZsbuv4e2JFDAwOuaZaZ1v9Zx0LvPzxtlW2V59+RKy10q3VQkdRHBxMCDBTgAZx6YEsOWcYnWepQyFQJGl4kKJ6X5KGwYYhErDfnnKv76q1h4nds8v/r147SPVgPLlR2Um3LIHX3WyguKpg7Tlblxxu9tKHzvDk+uLYv2YORNRNz4nJVF0tGoegBOWZQYseGBzFA8VeHVAlmPz+qaOhhJx37wJ8/vIJeOlrrAMiraeylulbr1gg2icNnb9HGpUr5KHR9BAWaaHR8RsFGeN/2XEqKDuHCjggGwIyCYsnvPqyyFU3EPiT2LVFQZ9BleZtN0mfTEruEujO5P3f2lOBgM/3jL846JA7+8WvrOQHw/YPaUudTU0oiZTzL8bI2pvUWNoOgZ9uyZMOy6MIefvPeDadrimxY6r3dldzR7T3C0JLkcJI316iF8BMW6/OLvUkGNsPHxd7kSrLdna/sK3uEvA7IBWskU2VGHvhPCKp7B8YU4L8DO3K52w/Bs1z4e3KPlVD+h89f4uK33Jn95N5CausbVewVezdk8reR4wtmUJyc5k7Ha7U9XPCAD4bve6G6i1l92rrsjRBJcWFk9ie6XNnF7FR4HiRWc5IjGUwPX0ReV135MM7mibCJ1z6uZuCHeGckBhA/uVpX9dbc+drbqyfrFAkI4X8a2f/dmfvOzvUVm1C/33y/ix7AT8vnEH8DOZCXjyn9KrA3QKYWYEMk1iAnMzY2xSxamJMAY6DzG4fZ34/joKyUSLYVJFAB5pXl4URy7LG9hczOBqYW2M3dYDoNDXA5NYyOzVzliIxef67z15vXv20Pxr+KiEmFlNL9O/JoYHCMgehqBjfB6iH8fhQTMa+FBBpA8GAmgZwZQCh5aZHU1DlM0eGBtLE0mcKDzbbckRCOkH11wcCIhiGs65C1vX9ztgP4HOs5APvodK9vG3B4Tsx5qJag6QgMvjJAB+wM6LyPCAtgFjwA2eCjoFEYrC04YJdoxHrqrhLavjyFvv/cBQVb0c41GdzcBYAZEupRYQF0va6XiyPY/wBWjAwPUgAj79+Wy9cAKEgceMeQIH8ukAJYCUAX8oX5XorbF3Ns/fon9cyoIaSjAMhITwqnoZEJ9kcwZwD0Cw8Fq0I7jzXApFizMU8EkwIa83Aucqq4FlgPIDeFNV3+LmDSSYgNoanJGS6K5KVHE+TBwYx16lo7dQ1YKBdre6/FIfaOCQ9iBQNxoGASGxGkiA/hI6BRMDEmlJ8fR25qFNtTUkwwWcanHdR4hOyhuuAhJEn/6rFVbCtyngl2/dV7Sh1kEbVWCD0/yej+jOscvtDEcbXIgwNA6QrsqPU8t/cI4+u4M1/z/fNN9PKRKlvTN+a7vx85yMOCuQ25UxxP7S+ikOAA9kkwR0WjFKTUIG8uDsQOyFshFyv8cTSK/u6jKmYSgX2hGYiZ5CTAiNo/lt/S29/cnTyTu6PviWd3ldsaG5v0au3FV/wmrTw7CsKod8DvOHi4ymHNTo4JodPl7TbQ0op8+3qF2sQPDl5gkhH4FIIZWYttGcoGcVGBdLa8g4lHqpr6bUyNiKcBfN+12hH0DZ/l5eN19M7JOkJsLwMx0NQE+UGZkRn7HyQIAbQEKQP8muTYEAaki/ylkTjbE3PWlZ3M5fqubGB0dFJxO1zfP1AJitDLqRq1a1+xB7331ftGmEdaOfW/fXIN54SM1O3kZ/jwYhN9eMHe+CHX32QfZE1JIufCQFoiDsz7h+/Ic5pPdFZHvHtTDnX3D1O7irQEIBQAh1/5uIbrGgAg//nDKynI7EevfVJHAf5+ClvE/gY/BrGPXEOEDwZGsANbsnk+/urdGxxbCBAk8nT/9PUNZLFY8wM4hM2DRQx+2pLcOFpXkkStXcbqEa7qLHrffK6/f15twshaqjWmRmq+evY312/l7O/mez+9d1LHESDiyUqL0cSoaI0rCE02L09hnxJkX7DJ/qFxBrTJwP38jChalhNL7X2jvB6kJ0Yw9kYwI2elRtK+dRkKm/PGWC7muBrjMd/5oBV7wM9ylstHvhwNeiImRz4JAG6oDoj4/sE783jdbekcpozkCG7MQL7kUkU7521wQKUOzae25sTuYWa+Rl4WwHEQKTTPsvHifOR5tq5M5bi0pgkAdfvviGMiQgMd8gClObEUEWJmn00eJy2CCeQU/vqxVdzU8sk1K+5k24pUOn6lRZE/wvv+8Fvb3cZseaJ2rjX/cV1P4si8uUd8JgCKnl5EFgqg+Iu3brK8gWCAgwGBtWRwZIIDDH+znyIwApUpkMAoIoI5qygzmmXRRKepmJDqDeGR3YWcZEAXOjpj79qcQ1PjE9x14e3DU4uZkedcyHt5cqE28m7ifot9c5PfNTw8kA6+X8mdSsIGAI56cl8hDQ25BijiOti41AyKABrKB+ZEQFCgg5ygkDjA5uMMOCWu4yoR6605N1cH1x2nF8nIFw4D0209sE7sW+u8A97oPFWPv7eSfN7c2PTe1Zt7hLM5hTmhBSSRA3Z1ghndIpDUAUPoNw4so3XFifS9X55zYPqBpAAYUHJSI6kkJ4bqWwaZyUrIsWE84Pij0AZwL5LPotM3JzWC2RzkxPbdW3IoPjqIfvnmDdtQys/pzPExAkyai829erLeQeL5gS3Z/Bjvnmuglz6sttvBLjCnpmvujx9daqamTisrAMBAGQnhtHNVmt50sf0unl0tuaJeg9QXNAoc8DWbAIj9V+867hFfvqtQF8Ru9KPMZT4ZvfZC+AmL+flPXW9XAJvhz24qtbODuzPOWuf6mj1gHRABLdYhtSQhwIJj45McrCOgRwC/YUkS9Y+MUXefUn4GxUBRBMZ3AEuKLGeAZCwCczUr3L5NWVzouF7XzdKTKLwgoTo+OcVMcY/tymfgt5XRt5qZ4N87ZWe6ho8H6arYiGDq7hvlIjsSBSjooMipta7qJbnU317YBJhqT5W1U0ffCCVGh9CmpckMpnd1Pb1E7nztrb3PwuySgpEGCTk8kzjme309m/E1m5jvuBkBWqi/idbfXK62sqCJ4vvSvDg6dqmZ2VAAYOobHKWNS1MVnd5CihPvgI5dJFblwiJssLalnwrSozmRCiYUFBbRqVvd1M+sKwkxIbR7dTrbmx5g11mTmZExcDWvFmLO3gTMpA0AACAASURBVI4j9Cxb+bunv4k6JkWRDOyBcjc6AF4AHYJxRAD4ngCz2toM275VXttNG5el0JnrbdTePWIDpmAvQsFQNBhqPb86ZoXNJMYGU1XDAEFCFHaAQ8sWcO2fvFHuwPQINQWABMFEDzZTAGZEPgKxzuT0DMc9Mmspd8u3DVBuejR35eOdkFNAV3z/8IQirkaRNMDPRAFBZjp1tYUT3ihu3rs1h+0V7I5oPB6xTPCYAeADEOPAyKQCtAigGQCK4+PTnMAWyirL8uJo/zorG7ynjsW8R/QMjdGp8nZudgAIHH4QmCrbukbo3VO3uLiL74viLhg1AgL86YUPKvmbYCxRiJBZNDHH6lr6KTc9ioGpidGhDms45tCQZYputfbTsvx4igkPpOW5cfTeuUZuRkBBA2BzyDkr/KnMaGbpgQS52DcAzkPxRa3a8e3HVtGxqy3MBAEwMBip4Tvt2wjVCxPPK6gqlOTEUnCAmQGs21am0UlVwUOwN8DPlm06ONCPATVIC//lIysNNwm5E5tqreFqX0wNoDQ6pz293sn3Xcz24M6+rfYDti5Lpn97uUwxF5EHAoMJmKUAxn36nmKqax1iuVmxbt65NoMsoxN08mqr7fYlWTFUkhtHbxyrcSrxbC0+Biv+zlVuxNvf3Fs+hyfzAs5yW94cG/H8i70e4SzPLgrCiF3/+dnzjjHwxkzqHRxnsDrAiWqQG2oTYAUFu6EcUyMfGx4SQDfrezguQAPTyNgUxUcGcXOG7Eshln/4znwym0jhFwn/5lxlJzOUTk5P0wdSHRE+GIAacnMDbBb+BXwZ5ARgn2jESIsPU+Qv9eLshZhTc7E5V/ld9Touru8KFGF0z/k87BHOciuuCEvUOfWHduXTXesy+VJ6DZrq+4FF8fSNDjp/vZ3r11qAUpEXO3OznZkJRX6+MN11PhGshM9/WK1kTd+SQ+uXJFF2Qhj94KCS3AN2tDwvjn53pIYf86l9hbRnXSb7Uf/y7HmWnD4i7YNoIL5vc7YDSQh8MDS1gB01Njacfv76NTpT3moD3AC4/NCOXAXZCu4Bmxe1l2W58RQa7G+4HqFn23OZ83p/46t+kxGbUI831uWE6GCSCTjk6xit+Xp7DTbybnrfXf7daG4J749DC/wkxxjqcQUuBo0wYNaD/7lnQwZ1dFuVSdT7KYDEURFBNGyZpNHxSVZvECA3NMI8tCNPYXPuvKeRc33BHjw1/4xcx1nNe/+mLM7HiCYpoS6DPApknAFURPPm4Mg4x8U49qzP4PoEGkWhOoD9H+oZb52wKtvgQOyJdTg6IpjWFSdRXesA5aVFUc/gGEWGBtDbs+B3LWUM5IQmJqfowR15FBLor5jHQ6OTdOh8I92os+dt1E14zvBbgkFRNMzIOV6t2NtbeBX1dT2FI/OmTdwGKBpZlTTOgWP032/fZLJHgeAG5LYoK5o6e0do0DJJoUH+NDVNHMxkJkVwIeK3EpMbApiwYDNLdYQEmm2sIEDmhgSbqaqhjx06BEQ/e6Pc9hTQSN+1MvU2QHGO3078mZEFdp63UPy5Nw1Z7zm9AciCfOd/vlZOM9N2GzD5m+gPDxiTeNYr9OKdxDf66WtXFaw12Ew+Ot/Ack16wClXBWtvzgFPBRRaG1ZESIBTZkUjIDG9+bIQNuJr9mBkzLSAJHICV/7WYO2BUwWqa+wxSFhBRic1Ppx+8mqZ7ROiUDY6NsEFMRRzNpQm0c1bPdQ1MEbvnbJ3wGO/OXaxiRlHB0YmCMwPvf0WKs2No/K6Hi7wyHtZSnwYDY+M832dJRaMziP5PHdtDk7c1foeqrzVZwNVFmZF0/LsWC7CXKruouqWAVv3PwqEq3NjHfZH7NkvfFRNb0oOLcbukZ1WQI6RQzz7wXdveAUc7Gs2AYDif7zquEf80QNLbgMUZyecu/ZgZJ7Ox97cub4WY4cnQfK+Zg/yHqHVeIEEKoL0izc7GYzX1mPhgLxothiCYB3JW4DQ9661yjvjwL6BAFqWFrhrYyYFBJhZElEcYNGdGBunmOhQDu5fO1prY8iFHCZk3e5ab2VZxHGpppv3BiSdxN6AxMD1+m5OHGD9BKNWVmo4/dsLV2zXUq+rRpNc6j0Ufp+6ieXBbbkufR/4XWA0EsVWGcgp+5RzZRTH9d88UUNripPpbHkbHdiRp2ALWgh7XuyFRa01Zq7jZsTPVl9b629QOJGZoFcXJtDxq63c6AHmNDQXoglEZt8CIDsuOpgZ0SD/mZcaSe19I1Re08PsWwCg9A+O0dL8eLpcaU+mAjSTnhhG7cgVDE8wE5ua+d2dNdzIGLha1+c69kb3Cm9e35f3iLkUe119E3meAHQVGRaokFRDLPKnD62gY1dabB3hiBVQCBAxAGJPuWsc/w5Z5gsVdllm2JLMoCiaaeV9ABLIsJEyZkccoFWFibSu2PE6slSsFhgKQD/shdizxD4oJ5KX5MbS1eouxXsCaADpxitVXTagIGInsNZ97QulzIxa3zbIOTuonaAREIC4wAB/7u4HMx9Yx16UGgTv3ZJL92/LpguVHdTQNkwhQX5kGZticAS6/iHT2zswSu9JrGRIqIMF4n887jnWabHHLcY9At/vg/NNCp8FvkRnzzD1DI0rviEKFiFBARzrFqTHUEAA5Jtn+L8rbtkZEvGtwAqNOBpMB8iv4lsATAowI8CIfUNKiSnEyJASAwAX3w8Fje0r0xhoIhfN4FuAMfRW+xBLTANQuWVpMt9HrdqBPC/submtn+0LDedgXMBzdfWPUmhQAHUPjPA1wIolVHbUcx7PJvt+AAwAcCYzm965yqrK4MlDaw3XKsrKAEp37n97j3BntKznqsdMK9cJVRm5kfmPv7SM6luHbLmUPevT6T9eLnOQ1lxfmkwH30ONw3o8sa+YWrshRynFAn4mbnQSRUTMzajQAG5cF4er/Ky3v7mn9093fDIjX9NVbsuTLCfO/O3FuEeo30WrUf/Ju6wMivA7wMarZPTMpagwM20oSSb4Mlr5coDkASYfGZ1SNDZAerC5a1jBklhe20N/+fgq+tdfX3SwoR0r05gBSORud6ywr8vIBfcOjTFrnNqm4Ju8fERqut5dyEDGsuouBYO0u3G2N+1trrG1Xn7X0zbnzC59NY5Qv6+ROeCQU5dYvmEbR9E0UW+tR8hz2lVc39MzRGpVI/X5uDZibrCnQUZ5+3LXfgzmzttnGphZW7D/hocG0P3b8jjPpcV8FRURSDWN/bRzTTr7+GgkQWNHYWYUXanqVtT0/f1NBJUSLQZFxB1oysIec+RCg9P6hPyOAGrWtQ1w7QXM2fVtQ4bqEUbBb0b2HHfO+TzbhIhV1eoCav9bHk8jeRgj9ufON9I711P3c9XI5Az8BGAXYiHE35uXpdDK/DgGHgrGOeBi0DzYNzRmU4kDI97AyBgVZ8Vy7kxWTUAufP/GbI7DhiwT1Ng2yLE4mgwBLvv7LysVGPXGxt3ffcEePDUfjF5Hq+aNOsfAsB18iNo0WK3bey3cnIG1Fey1wEuhLo38yaqiBI6TB4fGKDE2lHJSIhlwiHysaFpcmhPHcwNN4UKxAv5ZUqxVuUCwOOL+mC/jE9Ocz4FiIP53bmoEgyZFLlaA+DCPy2q72Ve7VtdNK/ITCM1fcm5KzCUtRtHIiBCFFLZWvkxcy1uKn+rregpH5k2buA1QdHeFmj0fizU+eBOkmjqH2aAyEsPpUlUndyWCUSQ40EzNnUP/P3vvASXHdV2Lnsk555wwMxiARBgMMkAQIALBIJKSRVFMkp8tP//1v9P3si3Jsvwsy7KX9e1n6a31v58l2pIIkSIVKEZkIhF5kMNgEibnnEP3zPy17+D2VFVXV92q7hqgG11raUlC19yquveEe849Z28CbCjrNFd030KBRiem6dGiZEqND2dw7bwQkVN1INmlpHhFJ+PXXy3X3ezxTxPtkNXaXJo9zDMyvaIGz8iYWvfej+f5QkKAz2lUVCh98FmDTAfgVD63pYDGxvQRFI1s5n7wi8tksy/QG6IzEkhD2ODoQfxbZfD15JA7KhxM4jBG7z31xlPqscj86Y2p97uVOmKlY9P7LisKdvkzteZMrZBELYErXWunjsUtBRQUGEi3gICVm8B8z3/89qbjk9H1B6q0SdsMC/b5Zgtj/vxgNdvs4XASHUjY5KEjDJ2LLZ0LvgwbtivVPbRpRTptfSRDGI1Bb97NJLFAAfKjD6soMGA+MY6AZo4C6GvPlrHCwneP18uQjEGx9aXtRU7+Ed/virpCtKiXr+0HJ+osQY7zNZ1w10dYIU8iY0rvsdIGmtGHB+X9oU/7DtfI/DKoHpHQE9UnvW/xNX2Q+ohPr7UzVCDpgTdQkIdGJykkKJgdSOw/u0B3g6Kmtu4RqihLY13gyuBYLUnU0z9Kx6+2Ux2anZamUmhwANnsc6zp6WhlqwwdAvHI1tUZtHV5hmNZ4BdGJ+yyPR58w2dX21jcsw3IbwFEzZ0jhIJ2JAFw8I8EACiBlHIgGotwnfu//+2ErCAMKFd/8XI5fXhGnWZZRCbd0Werx9fTB24vfCmOENk3uZoX0cS9dM1RYAsk677hSUf3tbRJxFUnLIqJgKjy8ZmFjt2nNhVQelI4DY3aWMEvDm3yMmIoJy2G3vykiiXXWCFYZKgDxUVKbYv9W0JMKL25v9qRZMPBCUeSE5kb0Tm4n7GwOzqnpxO+7CM8XWAh9RHlpSmswuWtg9WOKZbGIpAr5cGcMlbR6hrnBVlquSO1v0POS0lnq3we3h8FN9fremh5QRIlxobRo4VyX8gpoU/f6GDoSEC9qGoadPhZ9pyN+bKDQYao2IXDyn4CogOoaivvdFNO6jwqI1BVcOFvUaiIQ5EzNzqcChL+/Eur6HpDP/v3po5h5hPRbIwmzmt1vU6ITPC5FWWpDEHRU3smb/YR56vmkaBRFOg4dMBeJzyE7TM/uYeAAASF/IxY+khK+dQ7j4qfmhglKxx1JbOQwTO3OtkhBwodpUhZHNEB/w3GG1yw2zhYwB4Hh2YoqOWHFBw9hK+hWkMGL9jlB/U4SDlwoZnePVpLm1dkOp6DZ7miQVQ2CuK5vwDKdUCgzC9p0erq2VNXv7uy4XoFlKLP8/sI0ZlauE85Z2rNOTGRIQzlFft17E2QP5GijnzusQKy2+ccuoXRgRqLPRH+jjNtLMmJZYjpQF+XUjzPI3+OsDwU4j8gkPACd73GVqvX3NP+09N5Aa3clp/iWUwf1FgcPrdtiaNAkRdUVTcOUGl+Am0HPWtkqNDgwxM2AkUt9vXwOdjjcx+EAXCwnpYQwQqVkIeU/obYADnLj04vxPBSuwwfcbGqk2bmApziaxRewLajIHhN6byfudnUS1dr+unCrS5HI6DRONtKfTOby9LSATWKZ6t02lfjCKWg68kA5E4tp66kWkbDv15jP8YyUmht5kwLaI+gTUaRIc7en9tWSK8/tZzp//iUnX77WaOj6AV7N7zPN19bQ788US9r6H1uayGhuFF2pp8eTTtWZrHGJ8QdQLVGA0l+egzLwfE93b++dVn1fEIpv+z852Ira0oqzIimSzXyxilX+ow1NDM3QkZO46aHXScgvz/66LYTaj+Q9tWYgkQasfX0z90109N30RwsH0fkflfFTygQvlrbKysMy06JYjE7mgPQVP/WoRoW6z2BJsM5YrqKPC/Q7sNCAlkdzcWqeZ+HXFp8VBilJckLznA/UPB3rMryaBytNpfennv1lPyJjqN25v3SrnlW2Et35htfweJ3q2FA3kiypYAmpmeotXOEsVIATZHH4liX3etyKCoilBWY88JDADmgOJGzf+xen8sQ3QH4MDQ2xRpEE2LDKTYqjDUU9g5OEPZpYxM2FsPA/kL++N/zIj5e6M5zEmo5WqWscL3BPB292k779s83e2nlufRyuaJzrvYu7taRaeUFrNIJf4GiSW8QGRlKP/7otqy7CsFKVnIkKwJRJpzQ6QSEhYOK7ml0bIM6hBcqIhHKYU/5oYkySSxa+SriLPU+36xC6I2r9vtiPstsMGXmu/jf+NpmD+hY//5bZx34w+eX6aJj6Rli6ZwhIH3rQJUTKs7e9bm6cM56z7Fa5qwc39MFkIutk76mD0qZdVXUzbsEbzf063Yg4hDj739a6VSk8a9/uo1GRiboxNU2Olopp/bEZv2pjXmMZgoHKltWZLJXu1jdTV19EyzhjO6k/MwYWlOczH77+ZFaJzj1zKRIRimt1iXirh00kmRCIuQXR+vYYRS/UKzz0hNLmP6rFR0CMUPZrYm5/NmhGief/fruEl07olxbUDw3dgw5kiKAI//6K+6joPiaTrjjI0RlzEobuxj7BG9+/9+canDSy89vLRBdOt37fE0f+AejM/uf9l1mBSI8uC7IjKXnt+QTqGZBlVzfOkS1rQtIQLDroNtMig3XtMnKpDC6/87e6mSIPSisABpQQmwYdQ9MssQuv1DYvnNNtmNsjPPGJ1WqNNQI6EGviEJHKSItp7x9fE0OGbGraokg+Igfv39DlrRA8QhirPq2YZeFsXoURO7qm9Xj6ymFr+qE2XURSdxLxxal61AmdFCsAgpR28wsO7DkFK1ImqIwRZo8Q7zPOry7RikvPZpio8PoveP1LDmlzA0gb9DZO8YSaTj453YArAqie0qROdCSK7Nzryerou8vOo6rGMWqBJnee92vRie999L7nfuIoNAQWWe3tIlOL3bmz5DexxO4ibHh9Fcvr2b0Z67iIOX40KOYyFBZrKNGD4q4F/4MDVRajX88QcwLFpGARmGZK9pcdNmHhgQSmh+VdNCHLzQ58nJAGkZyOzEuXOabGCNKWDDNzM3JCoBw8NLeC8SyQQLltNROoDAyOT6Mnlid7dGDFW/0EWy/8XEVhYUFU1v3KNsXofgJhxOX7nRRWX4Szc7Osn/DuoMKCjGY0p4CJRrMNFqItFx2uSwBQVFaXAI6t08rW+YbAFOjqbljnnoZSLdAw0KTuLIwVqlzykLZiqUpdKWuj9l6zpCDQvbR8WnqGZyUFUiqyb2rg8Jrd/vokzNNTnvFv/mKZ9FEXPkIT+SZrY6zvFEf9Gy4cs7QeKHWMDYxZWf6gwKO4KB55BkpCjTiClCuXa/tdRQeopDxwm3QbQ47kMLLy1IZyqeSdq+2qZ+m7LOs2UOKVo58C/Iz92vf4Q17Gq3cls02w9C5rAKH8AWd4HsIZS6OUzxz5GbIoH2O6MTVVsehuBHAAKyTq1wjGqKX5SbQ5ZoeWdNyaV4iHats0bTLeH+13GtVQx9DkQNVLOgGEbvD56GAQ4rajD2HkTj7QdQJLR1QFsBZ+f6+oA9GfYZUP6T7ea1GfhF/7wpRTe15anEE/ze1fZDaPgvFg1drUTwYR3lp0bR1dTbNTNsYgipi42OXWx3NiGgCfnpDrtO5yqYVGQwkSLr3xz7wlZ3Fjr059BX/4X6Ny+P//s111fMJpfzibz+72UFjEzM0Mj5Fk7ZZ4fOIxTjvU8vD+WJs7SrfqOZr1VD7ATb1l19e7TJm0yrqs9KGucqPYB/R1DZAp1mR7QIbgtbZnoie43lqeQLER998fQ3LcYPJRhrzgr0gIzGCnijPdrCGAmGxKDuOPjglp+u9eLuTtpXnOBr1kbv+4hPFLPZHvkA67vPbCun5zQUejaN9UR88JX9GxpHKUnFuPE1M2lksjcYL5DmnZ2bpX9+56tTwiXseKUqi5q4Rqm8dZmfX/EI+duMjadQ3PCWL3fkZBOqoUHCIZr/KO/PAcTxni8ZRgCyAVnzXujwZEIT07xEboRj5bvswHbk436SKS8Qv8Xv5WU9V0/y7u8pzoWgefsVVLtdd++9HUBTZHS3CPVYmjfU2cS9sK6D61hHWLS2jgsqNp80rMqite8wBWTttm2FJACQtUagIAy2FPeVdtGY2e3hPdw8trE4aGdkkWCE2RgysJ57vawFQREQI/e2PzzuQQTBHoDz7u99fTxMTNt0p0zvolcqfdHPFqW9PXWsXop69XwiKi6E/VsuwleP7mj5wgdebMz0KSqXiqCEoJsSF0YWbXbRtdSa19Yw7BceHzjexgnhc8CMhQUQ9Q6CxanJQXz61OZ9e2FzAAgynhMS9pPWqwiRdPTZ6g978KMdDAus7P7notHn99lfXsg2dMsGHpMKru4pVEYY/vdLGin+kqMc7VmcJfwJ/dz+CotiUsbX7r4tOPuLbv7tWt/tW7AnONFeifyd6n1F5FR1X1F4YHW+x9lU4gPruTyud1vZbHjwY9WUfwbvqlF152O8fudxC09NzssD56c0FjMqiOCdORvGnJh9SmXWiuSnPotiIMIqKCGYIDdwWIuDfvDxNNtz1hj765GyT3PbmxNPYpI11tCopQouz49lBfmxkCBmxq65k9rfHa6mudUiG2IJkFtAs3jtR5ygQ/8L2JQzFQqSoxh195uMDbYlTSCOJIS1Od2d8EV33ZZ0wcyCrl0iVJnbWLE0h2wzJKA9dUfaoJaZDgwOptWeMBkYW0BfBltA3JC8wQWJsRVEyK6KdpTmWkAsLDaa+oQnqH5p0splL8xNltKZK1C89mdKbAz250htf7+/1frdyfL8+6M2++u/SNUFxixqCn2gOCfdJkRLKChJoz9ocystK0CywkI6PwwfEJB9KDinU0OVF30n51VKUO+UYaHgCesrxy61OKIew70iS37rbxwr861rmO/Q3gsY6MtSBlAh0FtgFKVoq3gF+dVVxMv3qWB1D4UPhHWiF8jPjqKNnlKbsM6pow+ZWdf6vvFUnjlxuZTYTqM1Aj0YyH6i1De1D9NjqLKptHqCk+AhGnZ2RFMmKBfG7FP0Q67UDCCfL04UPq5QoXMnxC8WnoPze8mgGQzsE2ge/tKhrcY8asuDh8020fnmG7GANByKQzWOXWh1jI4YF8ie+Qa9BELb/4IUWWQ5gMREU+UuLIK1oybTfRxjXeOWcqeVU0Wh6p+kegmJaNKOmVzZ7JieEUVPHqIO6Njc9hjr6x+mQBFDhd3YsYVR9KLTmF/Y5j6/OopNXF3Kx+I1T+PkRFLXXVCu35S9QFNMHPQRFPoqZfYN0X40C85EJuxPKD80RxUWH0Ppl6XTuViejjU2KD6eG9hHKTomWxfBKu+wq94r4GgWKu9fnyQ7fUXwPJCE0PnHWNiNxtpU2lu87jMZwWjrgL1AU0wEjd+nJgFrRrLRQT0SPzBZDiIyt9q1AOT16aaEIUQric/pWF9sfKvNcSl/5yp5ShtSm9G+cCUQLFfvPf3BC9XxCDWESz91/ppE1vgA8QsnCqKXPemtnRA5E7vXWOELk26T3aM0rR4CralgocEI8h3yjkQt6NTJhY3sjT7Hqiey9+bcB5Oftw+bjF8Q7iOlF8gRc/87cmkfEV6LTpyVG0NeeWeYYyzY7R//yiysyHVpgGE2i0JBgFvsV5yaw5jOcPQBJWBn3ebopS7m+vqAPnrIhZsbBXu0/P7rtQIDmMTTGkqIMYt4RF6MQGEWKOKcoyppH1XSgI67LZciLjHFBEpNwuUEjIxqvEmPCZHE7zlGAhI0LhbQHz8vPN6R/j3dAbRbyUrDZHDxOL/ZX2hbpt6nlubAvBCAFGD9c0T+b9Y38XczWkenZOCt1wo+gqDf7Ln5HcdYvjtTS+1IEkq2F1Nw9QoWZsTQ2YacDkuAenU6N7YO04ZFMWl2cTJdre6iyqpsKM+PIPjNDhy+0EDo7AHuKbim1wB4ODsKg1ZUudVhKBAgjVb98HDNGSDplRpJW7j7L6FLej+f5UjcK6Dv3HayWIegAOeTVPaW6FM+QCxF6SOUa4e84LDRfbz1noXV4Z7UM+Md3rZVWOjY9W2BlEbvWmosUUCjfnVOUALVnaX4C5afF0P/61XXHbX/0xRXU3DVKHJERHSmgjeIX7D6K32ubBxn8NS+sADLFN+6h/h2sbJUd2iMh0dI9Ql9/2X1UQLVNvpEklh7y4aXaHrrbPkJ1LYMMbaMwK4YqilNY96TSF5260UHd/ZPUMzjONr6piRG09VFxCmu+tvv2V8nmC757T4XrgFXUD/qaTkRHh9KbB5x9xGtPltLo6LSemgr97rex2tNk5fy8f6ZRlrDn9PJCCydwk6/pg3RfrYVehT0LaA7r24dZoxOQfKZtdhYn4NLb8/A1B53gP+67zGgQ+IUDfBwsKv0BfISSlhkFA8PjNhkiFFAMcdCOYP2Jdbl0vbbH0Z3+5IY8QhFXSoKYXXVlF/n7I/F7t23BZxVlxbGORnzDqesd7BAHNvyxFZmUGB3GPlEvkHdXHz672ckKRXnCG++05ZF0x/y6O76eWviyThjZFyjnyZUsSeWB0S1HhcoSWsq4mCNfAW0NxS+3GvooNz2WFRah0BDIodhfoUAXF2hEQoOD5If+WwqosX2YCrLiGEId9lygF3lh+xIaVqB1QZ+wd5HqqPKd9GSKf7voPsPdPZmejC7m+H59MLoa8/fryRTuES18VaPxgY96+ckyzQJF5fiukrP8C83ET2qzo3bolJ0aTSevtNKGR+QFZKA7beocpk2PZjAdfu/EXab7ywuTaOWSJIbmW3mPggrJZ6VPRO4vMSaUAgOD6EZ9D21dmckKmq/V9bEiu7SkKHpmgz4bhJFV9ladGBy3sT0P9hfY/2A+UZg4bZul6Ihgau4coeVFSTQ1PcMaF9ITIykoWI54yQ82tBBOlHEhcqXSpgPshYCWiya/u61DtHNtDh2+2MJibH5p5VPV5BR7FvgOFFdKD9awF+PPAspDRlIUo5HGQYzePo+/izJHsG3lwn7IiNxo3StiL9x5lpXje6s+6M2ndM5QZK6W89+8MpPe+OCWY6g/eP4RVuDE8yU56dF0/FIrNXeCWm+eJjM/M5Y+t6WA0a7x+3AY2Dc0pZr3kO479Pbf0m+yes3d2U8amXstZDCtcbRyWzMzs34ERb1FICJl7hK5lhpqvQAAIABJREFUuFf3yvcdZvcNUlkGNWVJXiJhXXjsFxQYSFM2O3tLXnAhLUTBPmF80s4K6ZG7VbPLyvcHamJN0wBDTASlrLJgqmJpOt1tG3Qrf2klKqdRndPL77qyF66aagRERvUWX/URZmIxp5w6Y1tKcTSAajVoukJU+/qr5aqgAdL3E4031PZv0vgZhSd4HuwywBdkOaR7ea7e4Uk6cbWdxd3YmwE1uL5liA5daHYML83rq/m13RXZzEb/r19eleXBXCGbYm7+8eeXqb51kDUrrS1Lo54B8fMIK/2lmlI8bDqBfKmSeYvHwdfr++j0jQ5WRGQEfZfLNJo7CrPjdBvwjNgvEX3hMgPWL60ck55OIU7BmRnozVFYGxYc6PgTV8VPoFg/cLGFFXfxc0cAcqG4fuc9BEUU9fcOTdLk9Aydvt7uuG/3hjzWmJabGkPLihLYud07h2tY7L2yOJmyU2PoYwmrGuJ0JQ29kbkUudcX9MFTNsToOFp7sLm5OQoJC6VPztxl9U9gFkATJ1hlpCiZWOOGtiHKTouhjOQI2rhsvnHw/ZMLTFBgpUB+fkl2HBVlxTImQVcFjK/sKaFp+xz95lidI5+LAsbJKTvZZ2YdcThifcRRp662UV56LNOBFUVJus2DkCnMk/KsB3975lYnY+IBLTX2kMqzHWlMZXb/qibTGAvzbXSf5ko/rNQJf4GiiFVSuQeLfAYUCN2j7AARhRE5qdH0k49usw7ZjJQo6pKgkyD5CVq02439VJKTwLjVUQkORcpMjqLU+HDacK9bVu2QQdbJtSyNNoBuQUIBpfYZRhIFWsJnRpBFHKeZjbPJ5XIZkJj5NrPvYKUi672TFQVZ4eHBdLaqi+7eg97FIXphdixtLEujycn5oF3rQjV9XduQo2sXDmXjMjmCj9IJumOo1fTKqJPV+6bFlmlvfn9f0we+9nprYtYuI5GD7iVXheeQbw4R/ctPax0bfdDuoMN3ZNxO7b1jDn3LSo2iHavm0QMnpu308bkWBqHNYbDhs6T0BkZl31M+Bd+NomQkBZHsiwwLJrz77ooc9r3vnW50FAGAZuipzQX0+S35TgWKeB90Lx6rbHbQFu1cn8tQJEUvo8GeUT/oazqBRo4ztzudfMSmZelCKLsi66KnbyJjaN3jH9/17By/3k5NHSMyarDH71HKuzvv+Htf0wc1H6GVaIdNr24dpPdONtCdRrHDcT5vfG+rRFBE8fmS7FiqbR3WpbP50Ue3WfcqqBX5oUxgYCBVNfZRQkw4K3TEQToarWIiQxhlwienG0nPrmrZRf4bYqv4mDCnBpinNuQ50WkBuZvvHfVsrrv6DH8jpcbGgdILm/Md4u7u+Hp68zDohNkDX+XcKeMFFLxsr8iRyb20CERauJSdGkXzRUtt9MTaHBods9HA2DSj+yzNT6SxcRuj6hwZm2LJLexTkFTDIT8OREADu3ZZOg2NTDHUZuyrcKC5tCCebtX3O/SpMCuWHVJIUY2UqI6uZEpP1vVkSXTPKjqOp/Z8Rp7n1wcjs7VwrxE7pVf46iouV6NaVHtb5fhazzMbP0mfi/G///YV6hteQEKFLwODCfwaQznsG3MgJuJv+b+hgAxIifkZcdTQMSxDScKhI4rbUGCQmxFLoLoOCwkkBCOglrfbZqm6RV6EBlSk5yX+w9xqyv/K23SC27GugQmKDg9m+VFQyWI+kVdFsTgOBmKjQuhabR89Xp5FAyNTrGBwwyPp7ICrqqFfFruKIhBi5pRFIi/t4s3ivWzdsffBIQXytRzBQa94UCqnQMl+cWcJvXesjtYtT5cdusDWP7U+j1F5Yr917man47DESFO5EX02I2PePL636YPo+ijXRM02gs1JWlgLO2e3zVBOeixduNVJX3l6KfWP2GTnFSiaDgkOpHcOV0sYNwoIBRla6IhG87NWypSVYytjLLP7Va3clr9AUV8LjOw7jDLXKMfG/r2sIImOX2px6ARiiSVZsezAd/1S+dkF3p7vY7TozqV7eJwjoigDDQxAWgeCohLt9NTVFlpVksZ0Vy/OVs7gg6gTevld6TeoHfYbKRbSy/P5EoCIO7GYWk6d5zjUEEuV53ZmERT5O+vFG8pvU+r2l/eU0hOrMgm5NTWGJem5BuQP1/fevMTu5/u9gsxYen5LPqMgdWVnvvFqOQUEB9OvPq1l+bnCrDiKiQihsLAgx/mE8l0/vdrG9pNoukF+68Rl8fMIq/VXzV74uk4sNKSOsEa01SWpjHpWDbncqFxiPjm6J3JPEWEhsuYkI/t7NX0WiYW5zLiLoIjGL8RZyXHhLDZeU5rqVKjJi5+kBVm71uVQY8eIoxC4KDOWMS1ifvH+oF9HIzAaYIKDglhDDGiAw0MDqat/gh5bmUnHr7Yzfzg0NsWa4VFrUF6awvwkcm1gIMnLjKHVBZ5nfFP6H2/XB0/ZEDPjqMkr/LcUVRS6d/pmJ316yZnNAuiGYH4Cy0JWSjS1dI0QGDWBKo2iefwO5PG46DCKCAuixPgwqmseoY/PyKnDgYoIGUJ+t7lrmIqzE2jsXvM5AOMiw0PowNlGmrLNsxDuXpdLkRHBLDaH/CHfqxf/q+VW+VmP0l+haBfFuQB9cGUTlOiTr+wuoV0V6oimWvscf4Giflxh6R1WFGOpvfBH55rpg1P1jmAFSAio6Eaw+sK2QsaNzgoqwoMJnOdvHaxmwyDplp8Rywob0bkBhXhlZ4kMOlfpCEUckfIdPXF4YcYI4T3MvK/ZZ5kVpvvxPG93btK5BjrWzw/VMJnn3RHQARhOEXQstc5HJQqZ2hqZkS13gjWz8uWpJJZeUG1lka2VOvKwJI09bZf15F8NTQFoFNiASekEsDkDTD2HbD9X1UWd/RMskACyh7Towx0dcDdJxpsBcMjv6PpPjaZNy9IoLCyYvv3j88yX8gs+9TsqNPMYRwS1VUTfRIM9vbXy9YRAZGQovX3E2Ud8eWcJjY/7ERS92Ucgsff3P61kCXXu/5Gg8yTNwsPqI6R2Afb8+JV22UGFXnAs9dsojEAC4FJ1N0PnmZudZcUTAIBrk9Ddq9l7ICj2DE7SMcmhzN5N+YyOADEMaBj5xToPp2fIbp9hh5uv7pLHNNJv0jos4jYzNiqYnt1SpOqz9JLOeJarZKI7exoUXOv5G3fGF/Gzfp0QmaX5exhd+qVWWYftF7YX0fCYjSW3pEwFavcCCeGzq620rTyHddVKu3ml9CEoQElLjGRoimdvdLKDDtDYoCFEioiF7t45mps/5IyLYDKK5Gpbzyjlps3nBHiDiJRGyJVMGd1f+GIc5NcHcX2Q3ulpO6Umi3oIimbeXErZDpQhswfUyveVMpgAyXHvpkL63k8vsKatzSsyZboPX4ciRRSVIRk+NDZN7d2jjLZZ6hNxqINDFCACADUFeUCOjoffkJTGnunbX11LanRwZuaH7ym9KdfE9wN8npEjBdptUJAzOiLmExSaKAbPSY2hxLgwau8ZY9TPKAyFHTaKQMgP3XmBOZA/YNNREPnrY/WOZUAxIRAVVwigqHA5BU0VCtmB4gC0BBycgGEHcbbS1rtjzz2tz+7G7UZl18r3f1h8hFrOH3t/KbUfGlYnbXYCZSFQ3XZVZNPhyjZZ081zWwuptnVQVtgozat4qoDc6jV/0HOjWrktT6KcqOmir+iE6L7DDMqsdGwUmHx5Twm1dI46motA0xoYQKxpekOZc4GiERuIXNnfvnGeIZjya/uaHMpIjqTLd7pZrIKDcbAG8GZBvTjbG2y4lg4o6UQhs0oqSL1ciOga+Io+6H2vns3Vy3GInNtZRSfp6tuUur13Qz5FBAMpikikoBLjcl3Hvg/5zB1rshnKG79cISgq5RGxAZobAdSilF/IOsbBOQxyZVERITJEVj191ls7vbU3+vvDoBMoIGztGZPFd0ZsitZeCMAfx660E9AXs5KjWBOrNJeKvZhRqmi+hqLNIFxmmtoG6PSNTrpSo87QqZQNqQ4jfm3vHWU5K2kOTG2epDYauqSMnfnf8PdHzgso+dAV6dgozk+ND6NVxSmEJhvU0yCGykmLpuCgQNbAxnW1YmkqBQYE0ucfK1CloDYq91p5Mm+Kq13t+zyxLzZji0TiE8gHcjpnb3WyswesM7+QMzl3s8OJ5QJ5WoBiNXUNs/UHvfPyAhStxlJdy5Cj6Bzxd2PnENtjYW8lHRvsT9BNMGh0D4wzwDi8A3IMo+PT7F2kzAdqhYRSW8D/t3Ke1PRWSiut1CnpnKFwF9+JsxcwW12rFdNlnguXNpft3VRAM9M2VSAfI/pipY/wIygaWQnJvXA03/1ZpQw6GonG8tJUunSnmyEu4PCvd3CC0SUgwAC9JpJnEEapIZbS4qkpMDoy3KFrNlP1zz/VjBESdZyLHTw9CM/zducmncPY2FD65v93TkYbC7q77/0fG2h4WLv4RFRG1OTPE4W37si3EZNhRn8elvGtdGx6c2hlEbvompu1y+PTdjpX1U2Vt7tkB+xagfTU9CwNT0w7df++vruEoRDyDQzg1hs7RxgU/fql+ii9evPsiQ0yqOR/9OFtGeoRNqRfe3YZo5L/9akGGdQ7EgS/81iB6sbLXUpaI8Eet3FadBhqPsnvI4xJlai+GRt14W7/+K5nDoikH55a6E7DAa4RRFK9NXnYfQTmBwnNq7ULSD5lBQmsO1utw9fVvga2iKPzrC5NofgYHPCPUkZyNI2MTRPQhoBMGB4SJFsS7LVuNPZTW9cY9Q1NMMqFlMQIulLdww7ZGzsWilMLMuNoWUEifXKmgWCDn9u0gCooHVSrUBz38fdEVyEKBhA38QJY7C+/+ZUK+t7PKp2or5T01FpJJncSNGr+5gtbF1B4F8Ne+JKP0JJZZYJfz14of0fyualrlOKiQqm6eaH4DyhCL2yRJzNxkHHscpucfjMnnsJCg1hHLQpjlNSc6UlRrJljdpZYAjcuOpQSYsOpu3/CKbGGYiToSHJ8ONEcUWhIEDtoRH5gbHya+oenHB3iOIhEQcDjq7MYlQhQxZQyKxpDiczZYsisOzqn9Q1+HyGyws73eHrNlXH55kfTKS8rQZPi2dybi9FT643tKo8g7TD/4EQdfXK20Qn5AsX8iXHhDG0RdMMoOl6zNJU+OHmXURPzC7k++MQPTi1QEG1fk021zQMUHRlKSXERrHjt1Z3FHj1Y8Sad4HYMc9EzMO6YP1BqRoSHsKJtfhAVGxXGEAak8/nUpvliUdA9A9nj4u0uQwiEfG8E+u29GwsZGg7sLy7EmSgmB7IBLjz7m6+tccTMejLG92/SArGXd5fQzfo+6h6ccKAx8MOOkQmbJkKdnh20ysbiuZ62F2qxr1Xv7036ICJTrvZM/N+luSWlnYuOCKEfSSif//CF5fTppTYnGsw1S9Po7UPzoAq4sKf/4rZCXTtlJD9rpUxZOban9EErt4UGTqv0gb+/L8QRovsOM8XfyrHXlqUyXUHRORgD0ICUmRJN0eEhDG3N3XjFVWzJ9dlT+csHieJZL78rtYdBQQH0T/sus+JpnhNAnPT1V8rdnntf9RFm/KyWHBo5i/Y0WpMr36iF2Agd5ucaeekxtPEeU6FyLD2/pfZ7bGSIkzwixgcF7Ys7lrDzCenF6cyxpwRzItC/PvxsIX8qrQVQ+1arfZqarPiCj3AlN3zvD6Q+aS5TxKaIyAuYv9AIwhuR1j+SRr0Dk1TdPN8csm1lJiVGhxnZ8snuFfFpagVSIn6K+xz8N75DDdFOrUhremaW/vWdqyw/iyazmMhQGYCI9G/4+6OIsX9oggZG5xESef4LhYtBAUQNHSOOfBrGTIgOk92LeBzI9ED45ueZpidV4w99wUd4yoa4M45UtrT8CQp8QREOHQKiLRoG0YyIXKw0z4J87oqiZPrVsTqWK1hblkYFWXHsjBz38fwBEGtReFjbMkQ9g+PymCcrjsYnbRQeFsJyOSjkBXsD2Pp+dbSWseG4Ks6V2gLYdPiFU9fa2fm8Wh5Mqbc4NwPow+riZCf6dDXfNjczy8DB+CVSUK0swN+1Ppd2rMwUKlDUqlWwUif8BYomrRgW7MCFFpYQ491MoEWICA2gkJBgau4cpUPnm9jooHj56jPLqKZpkNCZOzDsrFzby7PokYIklpySJrN4NTEchPQgWCmQZotd9D7frBEScZxmNs5672vkd7PfZuQZ0nutVGS9d7KiIAuB5a9P3HWiBvnCtkKnjbna+4nIiNYaeULmrZYB//iuJdPX9IF/6WKteX//KM3cOzjhz3Z1aP357YV07ma3g6oz8x7d4FefLHXa0CMJlJgYbcnBopnELm8GQMDDL2xIv/V6BUtKnbzRQT39k2zDmRIfwQpotq3IUJ2b7+27ZLqwRe3d9WyQaPemVHZ8KSHgro/Q82tm5ElkTKXftvqgwFvHN4NKYGT+H3YfIbXnPMgGbeRffnm1ZkJezQfx/Ra6TWOjw5gvQKdhSV4CjU/Y6PU9zr4Az99/oYV1FDI0+LBgSkmMpLM32uc7DSVoDii8ulHfz6htY6NCyVXBIGQGXcVHLzYxOlx0M+7ZmMeKLpFIvtsxTOEhwTQxZWfPUtIpp8QF09gk0TtHFgJ0oF8p0bddyZk7/hnzoeZvHns0w7Ee7owvohu+rhNGO71dzRmSW7/9rJEa2oepMDOW0pIi6cKtLuKoJ1KET+wx/vntK5SZFEWHJB27L2wropnZWYZ2gEIkaYLq6U357JDMPjNLoCYF9XNeRiyhiPbTSy2yfQbvkEUHLwppUIjyyZkF9FF0BkO2jl1qdXwO/g1UJOiyR+JVzUeIxFCiMuWtPsjX9eFBOkwWkSVXneMifyt6jydtrNoeXtoEVpIXT3b7nJO+QjdxkMKREJ+oyKHQ0CBZng4oq43twwwtDxeQAWF/8G84BEuMDWNowzvXZD+UCIpI7IPOqX9kimz3Cj2PX25jcwXEKo7WzGn3EPfBFn9a2bIQC+bEs6Lw8NAghq6x78BCUZXevgB7kZPX2tn64GAZDRqg1OQFipz2G/skXEYbcFzF41tXZsqKxDyRz/WkTqjpoTeP7/cR84jiuJQHgjvKsyk5MVKWx0XRVWR4EHX3yfMq0n2unq3Wy41YHbt7g7xq5bb8FM96Eib/XWvf4W4zDx87JCSQfnqwhqLCg5nPYCi/gYG0qjiRHslzj15SL7bE757OXxqbYf27zeiclg4oi00w/tk7PVSNpsmeMVb44ymmH1/1EcpV01sjPTk0GnPqPU9fqrTvUNPtsrwE+vqr5bIzABF/hCfp3Sf9XU0ekQe71dDP8l9K+YWs/+RANcu94eymCw05inMNrUZbq+dSTVZ86TxCTZLAEjNtm2EIaUZsip4eKH9HYxpH/uPvYZamlf894qfPGCpiN+Wlx1J+egxraJU2r4vKDJdrtcJLPE8N0U6tMArziXwYcsON7UO0ZVW2jFVAGkPxZ/UOTVBoSDDLBfNiTsR8iLGRg0ODPm8ORsMfEOSgN9J7UXz2hccK/QWKOgZVVB707LKnxtHTI07BfvpGB2OiGJ+wU2AgORULghr6al0fNXePsvj91JVW2lGR68TyBCaL5YWJFBQU5FS7cu5GO60sSWGU5DfqetkUoEkxNDiQ0pIiaGTURjcb+mjlkhQZDTy+4b0TdbQ0L5H6hiephJ1r9FNH3zjL3yqZRNR0DOHZvC4voCKqgdPBt6E59vT1DscS6VHFcx8JZh+eS0HB5/Nb8ykiJNjlUusVYfMYziof4S9Q1NNCjd8/Pt9Mvz5W57jjmc0FNDZlYwqEjt67bUOskhcIDJzqqXdokpLjwuVUURvy2CFHWX4CXa7uYTznPEEGwUMy67PrHQ7BgoHevTabIkODGYWVFLbTLN2Nq880a4TMvJfZZ5ldwvvxPKsUWW8OrChQjIkJpTcP1Mi62T+3tZBee7KERkb06TtFZMTqNfKPry05Vs6PryYErJwzkaSu2obvsZWZdOBCs4zqEN16ShQhkfH1bI3e70bnB9Qnbx12tjMv75qnCf70apuDqhSFl9lpMfTEKufOEN69eERSgIDNpxRF0tPvLkKHIX2mr+mEuz5Cbz0eRHkVeWflmntrcQh8+IXbndQ/Ok3x0aG0YVm6JrKfmbnxpT0T/34jNlAvgFebU7Xx+X4L9IfRkSFCvgCB7ScXWpwCeRQsAi3u/RMLyFC71uWy5C7s6/aKHJd29ciVNrLZZml0wkZ1LYO0JCee4qJCWKctuh15knDDo+nU0D7i9GyAPJaXpNCpax0swZuSEEGPrRDvRDYy92pz6+RvUqNpx6osx63ujq+nI77mI5Q68daBKqcmPTM0OEq9QSEREM+A8PmF7UsYtY40BkHxUFREMLV0LVC4ZaZGU1V9H4FaAyhpg6M2VoiIe0NDAmls0k5jEzYnRgQcPqDQhV/YZ0SGBlFMVCjVtw1Rv7IDOCeelhcl0bRtlqGrFWXHk31mhg5faGGoXd94tVy1aUQkhtKTJ2/3ob6uD95WoGjGx4nI6GLumZx87p5SVsRf1dhPuemxLN7A/0bTAJDGWrtHGF3bUxvzmQ+DXyvOTWAoS0ABRmGzGt0V7MKSrFhaV5pqdAo07/cWnZAiaABRBgUg2J8wG8sOomIY2oG0mBt51gPnGh2ohth3oGAROdNntxYyOibYcJHiBSUi1VOb8lljBAoSsb7s/0/aqaV7fjw9Cj61RVHbvyFP6+m87WLsO7w1TvEWfTBqBMysuVIe/+yllVTXOixDcoIeJUSHOPZCLK+i2OcafVfROMUT43rLnkYrtzUx4UdQNCMLrnTCTBytfD6at39zqsEpdn5yXS6FBQeaeV3Z32jFlvcjf2n0g8zYI738rnLfd/hyG711ULwJQfQbfNVHKL9fZI205NBozCnyPNE1cnWfFoKiu2Nr/T2+TSmP2I9GhYfQSzuL2fmE9EJ+7L3P5u0HUBZTEiKdmKG0ziMWYy6V+uaL+VfpNwLJ/MytLtk5tl5jk17Bu9rv65ens7oQXpCKHBL2VC1dI6pMaKJyC5aQo5daHciDyqJBPZmR6vOa0hQCoZq0+Vs6Hpp+lUVU0mJIli8+38xyu0C+RwN6emIEy3nxvK5aDKXU370b89m83Lzbx5AmM5OjWYynFkPze6ftMwy0xI+gqC05evIgKneeGofL39WaHlpVksLondXYoSBbAGp761ANy7+i0A4AcWtKUx1/Azk6drmVoiNCaXRimsrykxygPGg2RLM64vqo8CDasTbPCfwgOyWSapqHWD0W8hC4F83lYL5NiA2jmqYBAlNuSmI4rStNY++Jfdnxa+2sIBcsPeuWpTH5v93Qz1ByIe9/8lK5E+CPtPBy5ZJkBl4Hv8Avrndqvm12ZpbNg/JerbUzQ2Uvsme2ct/kL1AU1UbFfardTDnxNAyu8oEJen5bIaNsCgoKlG1AcEiCanFQqzV1DFNJbgKr3gcXOpJhDe3gS490KAeE9FpdLxN2jqCSBASVl1ezDgwRATL5iezP3DVCet0oys2QlQkwMxt1d+ZO7Xm+tNlD8clf/+9zTh1A//DfNwgVKPL50ZIRd+VPb/384y/OZkbtKVY6Nr11t6Jglz/zfsuUWgIBFIffVaHFVNvQ3+/3V65dREQIvXeqwalQ5YWtBTQ1Zad3j9fLDrDgR7+0vcgJQRHjfnqljR028WAJEN47Vi8Ul+jJjZG50QtiHwad8JSP0EsSWblvMLLmevLjas299f0XY//pS3smMz7CaEJYb98OlKfv/OSi075NzRfAhu07UuuURP3dvaX03Z9UUtU9ZCg8E0gGW1ZnUUPbEGUlR6naVQTz33/7CuWmxdLHZxYKuF7dU8pQlD6tbHagKqIA/QwQFdskFM/ZcbR7XRYFUBDVtQ87ChyXZMbS6iXJQurnjj5jPtT8zYuPF/kRFIVm3/VNfF3+4ocnHYhjuFuvO1RtRDXfiwTVo0VJFBocJEtoccYCoKHERobKKcWz42h1aSpdqupmBSpIXKUlAjVxjvqGpljyC533MurnnHh28IB4HfsMIKXlpMdQZ+8ofXCqgSGDgb5cisb4eHkWxUWH0YGzjQwNDDkE3ANa6C/ucI2gKBJDiSyLOzpxv8f3xxEiK+B8j7evuVV7JjXbgST1I4VJdLGqk/33wfPNC0ny3jHKSI6iUiTAO0bo2KUWhqyKrvvwsGCWoIa/6x+eVGVPyUiKoq89u+yhQ1CUzjMODB4vz2V7AthN2FoUftpsM1TdMui0VwFSAXKiuA+INUjswybD1k5M2sg+O8dsqBZVG0Nu+mmlnCoqJ57RPC0tSGLNFqnx4QzRAJRSGA9oCEaL5aX7t4plabShLJU1l+Mykh/V03Jv1me9Pavet+v97vcRCzOkjCceX51F//KLK046Vl6aSr84vHAIhryKdJ+rN+civ1sps1aO7Sl51cptTU7a/BTPIkKkuMfVupuJo5WPRwH938NnqLC5uFsYIRJbLmb+0sTUmzov1NKBiQmb7DU4xbM072AmPnwYcq+u1k/PLorIoZG9i97zzMiZ8m+Uur13UwHNTNuE6Cvdeb6aPPI8GPaJSvmVooVGhgXRC48voVYD5xGLMZfS+fDVfZP0G9EwDWYNWQ4nN57+7MVVmkXnerlv5e9g3LDZZxlDh1qhnQhNq1JWRc6Y9GRG+p4sBxYVKvNvavZVK25BAb+0OffpzQV04nIzRUeGqcZQruJtFJihUezZLQUsjh4Zm6ahsal5el+J/+XsJAAD+9KOJR6No5Xz7Qv6oCcPovbQU+MY2Usri2m3rMh06CiXIxTGIncK9E38N+QFtMuVd7oYQicu5IHBiCOjic6JZ8WHaFBEcSIKIJF/3bY6m+BIUATML9RxofgQDaiNnaOMHh55HDwrSQFAByCg33/uUacCRSe9uwfQwJ/B9Q5sO9JmRvi24ZEJOq1AW1Qr6pSu5ZR9lv7nu/N/lGsvAAAgAElEQVTU68pnqFG+i9gWvnZWndH5CxRFtVFxHxbv50dqHclIJK+AGnKssoVt0revyaEb9b2sklfq+LgxrViaxipygZgIREUoQn5GHEWEBVFN8wA9u6WQwkMDaf2y+U5bKe3z608tpSdWZ7HNlxZ/u8lPk/2ZJ42Q3vss5rOMGEW99xb93Recm/RbY2ND6d9/e5uO30vIcx34w+eX0fCwPoKiyLxZLRP+8bVXwcr58TV94DNp5ZwZsVvSIMJI963o+5s9XBEdn89ndHQofes/zlFzJ2jR5ilB8zNj6bt/sIEmJ+2qh0x/89UKhtIlvVixzeEahrTB6UqRYJBSPerZJKPvrhfE+mIA5PcRelIk/92oTBkb3f0mE1fPEw1gjL6v9H6/j1iYDSP2VkumjPgC3AtaqTuN84E9LhR6/fVra1jn+L79dxz/vq08iyWUQEGADkJXdvV6Yz/tP9vkSBZgACQSUOQxOr6AqlicG0f1rcP0sQSJDsmuz28rpF+rFKWLHp66o2+uihq+9ZWFzl13xhfRFV/XCSAo/vLTWlbkY7YoBPOo1nm6qzzL0bggtV9IGKNLdnlhEh063+xYBhzKHzzX5GA0QLc2ZLtnYJwlpHDNzs05ENLwziuWJNPRi/N5APz/+OgwhohY2zIg654H1SuaFJHo4hRD0lxBcXY8Q1nYvjqTUatbVZBlZE8pIp9q91ipE76uD34ERWeJMitPoj4UtkNqg7aVZ7ODROTm0L3PqB0VzccvoZm4toeq7vlKFCIjJ3izvpfiosJoYsrG4pejEnpiJK9RRPdIXoKjwN2sjnnjvonb6FXFyewQ6uLtLta0XVGWyhq8bfYZdpAgLeYGQs2dpn42X9hvgJoZc4u4DmgKByT2WuvQz1XzRVVDH0WEhbAxUWAOSrK7rUPMrrvDUINYMzEx2umgwhPr7e023Or3f9h8hIid4/egYemtI7WyJk8w4cDWcWp6tu/PiSfpPtcTcmvWjos828qxPSWvWrmtsTE/gqLIOivv0Vt3Ed3AmGr3cYpnd1hYXH2TXmx5P/KXRudfb+7VxtPSgdFR+TkSxj96tV2WdzBT2OMqRrHqoF1vHq0ETDCqH3pyqPctRp9ndDyt+6Ejc3NzlsbKyn22Uh6RB+vqH6fv/P56Usovz73hzHQeBSyS5Q9EzyPM6Jc78+ur+yY+J1iPf3jzEqUnRspiDBQgoflpZ3m2y+nTQxPkxVSVd7oZNW1n3xir2QBqIoA1OhX03mYLrfXOmLRkRpnDR8y6oyKHAWbxy4h9xXyigB9FYvxCfPvUxjzW1LfaBUKeMt7evT6PoS7inA+xYeXtLhbrrSpNYewFPB5E3u65x4pocHiSMlKj6cm1Of4CRR2F95QNMTqOJ4GoXI3F5Wj98gzWIBoUHEhhwUGMcQE5HKBw4sJvu9bnyc4WkNs9erGZpu2zBP2HDQeiY1f/BCF256wZ+HuGqpgUQWEhwY4x8e+Im9A4Kc3jQq/3bs6novQYWWOitHaL54qk+0qp3uF7cSl9m+helouEnq1Qio7I/Vb6CH+Bohve+0pdL9W3D9+Dso1njufU1XYG44vCRKAhKpESQOkCKPi0pEi2yYYy8KLF1SWpNGWbobCQIAJP+pql89CluHgFLeie4fgu3+lmxj46IoR+9MEtU85E5NONGiGRMV3ds5jPwjvcj+f5UgCEzrcztzvpbsswS2YhsVyYE0ublqU7dQ6ZlQur18g/vvbKWDk/Vjo2PXmzMiFg5ZyZtVvYyGCzIe3Wg79Cl5+ye0Lv/d3tRNYbX7l24eHB9Mm5Jhn1Yk5aND21IY8VKH54toneO1Hv+LMXthXR5zblqXZPKgMho4gYRt/d6Fz5mk74fYSeJbJ+H2JUZvXfeOEOkQDGyHjKe31NH/j3Wbkmej5CxBdI7RYSTHWtQ4zuABds5t51ORQUGkK/PlZLVQ39lJsRy2iaAwMD6f0T9Q4KXel68jEv1/SwmAfIiHzMrzxVSr1D07KEwSt7Sqmjb5xmZmYdiLcoCvlvTy2l7/zXRafuR9HDU3fnXs3fPLsxz/Gp7o6vpy++rhM1jb10/Go7K4oFvcu2leL03dK56x+dohPXFsbZuyGfIoJxgCG3X1dre1m3LIpRyvITWKHMtZoeKsyOo+npWfr00nxSCxfkFoUrW1dlUWVVN6XEh1NOeiz7DQhpoCYtzUuQ6QuSXWdvdNBj5dkyJFI0IWanRdJ/vDcfvytzBUgUZyRF0BOrsy2PVRdDZq0qsPR1ffAXKDpbRKPyanQfPjA2RSeudjgofkC3Dvp1fjCSnRJFkREhTt3om1dm0huSfByQgXsGJyguJpwhwMM/hocGUX3bILMl6HoPCwuiHavEUdz1/AP3/96Qa8K6XK3ro+auEWrqHGZF37DFoF1DIxryqECgRKzKGGfyEghsAOdvdbEDRCAdlJemsP/G70ty4lmT9/W6Pqq4lz/VQhY4fQ85hSPqA43xtyfuOhAYUPSIA4ZvvrbGbeowozIrss7Se/zju56xh8VHGLVzmDHEA0ARaukcceyz8zJiaGTM5pRXke5zjcqn2v1WyqyVY+vFWKJzo5XbQhGDVXsmb/IRonPpqdhaS4dwUH2oUiyPavS9cb9ebLnY+Uuj32BG5/Tyu0ofh7zD/jMNDNnYVcGL0ff2ZX1QzoXIGunJoZH5FXmekfH07l3M5+FZkMdffVpLdxoX8mARYcGO8wnp+8LXnrndxc4yUMRSkpNAjZ1Dwgjdi/ltD4tOvHe6gXoHJigqMpQa24cdcQWKgb7+SrnT+ZgWipuabJ693UX/+dFtR5PrHzy3nCZsM9TZO266EFD6HL09n57MKHP4X/vcctaEa9a+Yj4/PLXAjoMGrxc2F2iixUtzdYiLEW+jWR1sInUtg6x5HQj5KBpDPIgYEbE0Yj3+e1BgIH11b6nbcZqWffGFOEJPHvTsq9F9lp58emovjXGkeZtlBYkUExlK5252MluL/5+XHsvqtZA7QJPp6ISd1a7gjAPNkIcvzOd6IYOgaoZdR40WLuRjT19roynbfAEjZPBKTa8CeTWBCjNjWZMkLhShF2TGsjxRWUEC7a7IcdBXK/XuC9uLqHdwcj4Pfe9ejCFFT9z8aDrlZSWYbnLUYnNQW3fRtbMq1/RAFSgWFxfHBgQEfGa325+5e/duc3Fx8bbAwMB/m5ubiyCiozU1NX8EwAI9BbKy+ET67IOVrfTOkQUKBAgtFAKV30VZcQzm1sGV3jvGkmvZKdHU1j1CdW3zXOi40BEMhARQnKFQVtotrKyiPXixRYam+KWdJRQcSHSp2nObdWlVrqeMmd6aedJIiTzrfj3PKkXW+2YrdAKdt784WieDc35mcwG99ITnYJatlj//+NqSY+X8+MJmT232rJwzd+wWCurvto9Q39AEg6HGRkqNFlPv/d0tStIbXzmnsDPvHqunD07ddfyETpUXtxexbinlIRMKBDaWpaoWKIpsuPQCFDNJY9FOF1/TCb+P0PPM3l2gyPXpak0P6zZzB2HGlS31pT2T0eBeX3rU79CzsXq+QGnj0V2IgkIE9UBS2bQ8jR2eAe3u2OVWhnSHw3wgziVEh9KG5emOQJy/oXLMZ7YUsKIudC+jw/ZffnGVFTvyCwmF4tx4+vizBgeaHuw+DkmVNCLYd35+a4HQdOnNjd4gSn+DZMbm5WmOP3N3fL3n+5qPUOoEZErKGGCkg1s6d8rDvC/vKaUnVmXK9gWwX4cqW2QJVcTjYDcYGZ2i8Sln9C5QuT1alEhNXaNUWdVFS/MTieZIhowGpM+7rYOUmhjJimcQ67+0s4SGxqeptnk+QYZ/ByoXj9/RfDg0Nk1Xa3tYIi0/PYZWFCUxPVoMmTKzr9GT1cWwd76uD/4CRWcpM6oPRmIW7NVhE946tJDbg00oyIihoTEbQ0lEUdzMLMnyf7BT2P8goXypupuKsuLni+6SoygkKNCRtAbqw4s7S+hmfR9dr+slNC2/vrvEowcr3qQTyrV5ckMeNbQPs8Q/p7lHQXgtO0hIYPsNfsHvA33gfUlsiDws6LY3lC34ZFd2Cvb/3K1OauwcoaT4cJqYsBMKJupaFponzPof5TONyqyobV0MG+tO3kH0O6ycH2/SB9H5UlsTI3ZO+pybjQNU2zpEPYPjlBIfwfb4g6PTTAd58a5yn2vkPV3da/WaP+h7Gq3cFujtrX5/f2ztLJlaOgR5vXy3n+62oKhIO49qRj/0Ysv7lb8U/RYz+qyX35U+Wzp+QEDAQ4k6LboW7thcPTk08g5mZMLI+Iu9z1KTxzfev0nnbnU48mDS8wnl+ymLP5EHa2gTQ+i+H3Ppiz5CuiYojjt5tZ0m7bN0vbbHsYbY9+9Zm+NkY4zusaQ2e+3SFAKx1y8O1yzUhvSNMeR3d3Pnrs6Y9GTGVcGl6JmVUr6lRWKiDcbKOUW8HRocRB+fWSh03F6e7WArAbvophVZMvQ65J5f2rHEo3G0mm3xdn3QkwdR2ys6joi+iI6l925HLrfK8jaf21pAQ6PTjpqqRwqTGEsOim+RI9i2KpNae0ZZM+T+c3LmHDA3SNkuUMS4pjSF1XjhfXFVNw/K6rV2b8ij1LhwaukeZYifoIzef7bR8drSXIJU70BBHRsZQmdudNCmRzMceV+1uXv5yTLTBYr8RYyyOeihX1qlEw9MgWJxcfGGgICA/wgICCix2WwlERERnTabrWZubu6J2tra+tLS0p8Q0WfV1dU/1hNSK4qxlM9Uo7dDAI/Cj/FJGzuwyEmPYZWzS7LjqCg7jgkyunonp2eod2gebaGsMJEhREA5hsemaWB4Uo4MkhtPf/biKoa6qHwmEp3rl6fT155Z5ng9oGGZdSxqwU90uLXUUq6CDynKhd56m/3drFE0O7++liSLipqnXlXCOYN6FfQUnrjMrpHos/3ja8+UlfPja/rAZ9LKOcMzzI4P+37hdif1j05TPIpIljkXkeiN7wlaV6PvDxS+v33jvAytBDSjf/d76xlUPqCykUjnlJBIrn/91XIHlaOahLtjw/1JY1HrSuT3EfpzZVQf9EeU3+HN4/t9hNHVnr9fb821fIGr2AbdqqAvQKD+jVfLGV3hX/zwpIwGzhVNidqYsOEbH0mnvqEpqr6HwD1tszu6GEGZCXqFubl5BMXMlPlCj9f3lNJPD1azRBQ/PAW1yGu7SoQOLPTmRmvG+XdI/Q3mQ9pp7c74Iqvt6zohKlNqMTlHg1aTN1CPK/cFWrKOBBUQOzm6Iuhm0hIiGM1GeUkKVVb30OXqboameOpqm2x/ApkAovz4hI0lq9BFi2TtoXPNNDQ25UiC474d5Vm0qjiFxfi4OJ2HFNnaaEJJRI4WM/a2Uid8XR/8BYrO0mxEnkRjFvjEz250UnPXMPUNyvNwUr/GYwdXxQL4fXp2jv717SvMN25ekcko4WsktFecNQVJbPjBb766Rsh3ieq1t+iEq33BI0VJ9MHJu7S2LI2WFSbRqSttNDw+zRAVpfRJGx/F/mHSKTbkOVPR+ZJSAza1DdDpG52mEURcPdOIzIq+t6/YcJE9q5k5keZkrDpE0XsvK88jlAU7UtowvJcobSBsWWVVJ03PEgUFEm1+JJN+8MtrsryKcp+r990iv1upE1aO7Sl51cptTU7a/AWKIkKkuMedddfbK2BsIKYdPtegm0c1+uoisSUf80HOXxrNj2rpwMSETTaN7qyt3np4y55J7zv0ftebQyNyqPcsT9lJkedIfb1RGTQyvtqe689/cEL1fEIpv67siyhCt97amf0OrT2rL+6bpN+LNfn+21coNiqUQkOCWE4RMVlWchSdutYuQ2nV8w9a8w9KaKDFH7/S5jgzl9ZwSPM9Zu272vNFZUaPslpUtvjzBgfHyIZqTJ1LNQbMi6fEmHCGfscvxMxgLElOiKD+oUnGTID6Gn5hzb71eoW/QFFnvkXlQW/dRMYR1ReRsbTeB/HL9Xq5buF+xD+71uZQbdsQ1bcOUWZyFMsX9A5NUGJsOP3ll1ezvAuXfTSWZqfGUE//OCXGhcuKDznCYUffGIHtFsXGyO3Wtg5SbcsQazovzo5nf3O3fYgVIE9MzTjRPUvPCpS5Xq73/N/V4rnv//FjbhcoujvfSh9olY94YAoUS0pK3ggICPjPubm5N+12++MhISG5c3Nzf1dTU/MEJqOkpGQrEf0P/v+1hNXKhID0ucrqVnTuBgYE0MmrbQxNBFC+mGB05x48v1Cdu31NNkNXAB3M4MgkxUWHM8QIdAIraZ4wJgQf0KBQJP5MBzLjPWVB9W1DxzBFhAczhAYz0Odq1bq7K7ItDZLVNntWJeSVMmNUST3RvWaVIus5Eyt0AofC7xyrl9HyATnkS9uLPLZJMLpGevPgrgz4xzc6A67v99WEwIMus3rBj977i3TEaEmJ3vjKv9WzM8r3eXXvUiekJE9JrdF3N/pcX9MJvbUzOj/uBOBmn7UYa25lQs2b39/X9IHL4IOyJq58gVpsg8IAFFSA4pnHBUbQ7pRjPrE2h8JCguiTMwsdhkBEamgfotz0WJqdnaHJ6Vk6fb3dUXyOZ+9ak03vfdbAOhN5UTq6Z1/YsjgIinr+bzHW1pfiCKVOGJEp/K2ruEwEQRF/r2RCQPf2icutDkpmJJEhZzvWZLM4fGTCJkNdRNz+1OZ8GQoj4qADZxvnC4XjI2hdWRo9tiqTjl9plyHOI77/7Fo70ynItfIySsnxMPo4v48wt+qLYaes2tcYfXc9m40Z5Peo5eFcoejxxPjpGx30aFEypcaH053mQWrpHqElWfFM113l9aD3yBM+v62Qnt9c8FAWKErnnUsxEGWSYsOod2iKGtuHGG3z4MgUs5PK/ChQNaKjQmS21yzioVKm9OJko1pnVGb94xudAX+uScTOac2qVObdHUtk9azUCSvHxrd5Ynyt/MjMzKylZy/+fZO6hOohKPI9jacR/NR8oVlf5kr3PCGznsztYiwjOUIr399X9UG5XiJz6EnbL/I8EV8hes9iPo8/699/c134HNSduV3Mb+M+zhdzTUpZ4muCXA8YXcrLUumDkwvofVI7bHb98HfvHq11imFcoaqZqeFw53zE7HeZsS+u5p//O+YEsq5kMUCBIpqDURQGNrjDF+Sod34ERX0r6SkbIjqOiFyJjuXq6/R0C3HN6ZudMqp1UI9LKZcx9pR9lk5db6fL1T0ERhvkdy7e7qLs1GgKDgp0yBvqr5bkxDlqrZLjwuk/3r9Jmx7NdKB8auWRXOWslf8eHRFCP/rgluOzoRccQdGd/ae78y1dByv3TQ9MgSL/4JKSkga73b4tJCRk49zc3NM1NTWv47fi4uKigICAj2tqapbqqaAVxVhqz+Qd11dquhklU25aDKNollbdx0SEMIQndFLza2luAj22OovO3+qk7Wuy6JOzTY5KcAh+Vmo0NXcOszFbu0dpZnaW0S5g/IqlKXStvo86esdlxpkVRwYG0LFLC/QnRoIbV5XOHCllMYoGPak0ejJiJsEgYmj1gjdf2uyBCufIpVbq6kMnwwBDDElLiqCda7JpctIusgS691gtE/7xtZfAyvmx0rHpCZaVPsLKOTNjt/TmwmiA4YlCbSMHl7Az751qoNFxG9W1DLIDq+jIEHphawGzM8r32bupgGambaoUz0bnwujceGJ8v48wNou+rm/GZsP5bm+eH7+PMLf67q651KaChjY0NJDO3wSdbQJDfE+KCWOHZ0bQhqRjZqfFUGRoMFU19bOCRF5oCEqELz5RTP/29mWKjQ5jXY6FmXGsC5En7BBT/exQDeEAjyMoAukONJnSLmRXM+fJuVFLIro7vt6K+7pOGJEpzJWruAzUPSeutdOdxgEmt3s35FNUaKATsvLZ210M3YzLUnJ8OL1/8i4991ghDY5MU1PnCJUVJDiSWadvd9GJy22yztida3MoPTmKKm93MfpXm32OugfGHWMGBgbSl3cWk81mp9M3uxg1NKhfOf2zK6Qjd2NOPVnivy+GzBrZ84m+N98P+9KeyRfWxMo4hfuRqzU9tKokRYgaSy9mUea/HHm4jmFas9Q1/ZZUP3G4tWtdnoPSZz6JHU93GvtpxZIkGh6zMepiILFmJEXS2RudVJqXQNlpUbS+JNWIyOve600+gq/N5ZoehkDQ2DHMkA4OXWimlcXJNDFpdyDZwo4CyRn7AeRH89NjGFXTpeoetxEPvdkGWqlvvmCPvEkfdJVbcoNSZvXsnJGxzdhZI+NbLbPeoM9auS2wg1i1Z/Lvm1xLqpYOWS1T49N2OlfVzeIITxWoSL/U6vc3M75efnex3t9XfYSZHLYn/YgZmTDqRxZLRlzN5c8+ue3yfEL5N+7M7f2YS1+MrZVrIrW7KExCDQev2UBct3ZZGr2+ZyljudBCzneVf5TGlxxcqr13jDFqSqmdrcj3iMiMKNKdiF6KPE9EJ3APGA1QX5OfHsviPLCjnbnZyQC9HCBdvfPsOlkp0azJVyQHLPIdavf4go8wsz6u5kJkfypi79x5J1e6tawgkcYmbKx2CjqG61BlC1U1DDDQN+Rey0uSadc98DfpN0oZFT48WUcfn2mkiLAQlneAPQArBpAS+fWlnSUUEowzkk7WcMFZd5A7wrddk+SqcH5x8GILk2F+8Votpf5jXBDrIL+B/eDmR9MpNiaC9p9pcCvf4c58q/lAq3zEA1ugGBQUtCUwMHBPdXX1VzAhS5YsWRIUFPR+dXX1cj3jguKTvr4RSwoU1BYnKSmGBgZGHQcfys7bQ5WtDmGEUS3KimMFXWUFiRQbFULNnaNOPOaRoUEUHBxAvz1xlykD77bmFbRKGixOL42iR37h0AMFhqIGW/qeGAPP2rM2m/B9izGfUJrFehYP0EWfhzX9x32KQlOD8ztvFGLvi85ZoRNhYcH0n5/coXM32mjN0nS6cKuTNq/Kov/21FJGveqJy2qZ8I+vvUpWzo+v6QOfSSvnzKjdMqODou9vFmFCdHz+7tzOfHa1lYpzEqi6aYChGyntDN9Uitp0K+fGzNh8bf0+wtjsGZUnY6PPIyV4u0x56/v7fYRRaZ2/31MyC5uKYFrayaoWFxjxBQjg3zxUQ1WN/fTYqizWhMWLw9CpiAKxmuYhRzE6kgnbVmY4ULnxrH2Ha+nYpRZHYeOOihx6dVexUKzjyblRi608Nb6rlX9YdEJEprTisgMXFpJAiLtBUYi4myd6osKCWVMf4jopZTeKZNFACMLlMzc6aNOjGbRySRI57v/5ZUpLiJTF7C/vLqEv7ylz5AF+A4TPMwsIn1/aVUIj49Os2CYqIoQVL4aHBFNn/zjTA+gUUEmVSTJ3Y05R67EYMmuVD3pY9EF0LUXv89Y1V8tTKXXH1Rxo2RTluGA6Kc6Oo43L0lSHU9qe9KRIiokIZegO/FpemEgVS9No34E7DjRV0BZPTs9QRFgw1bcNsULl1wR9l5G19bY4orp1iN47eZfGxqcpMjyEFY3npEVTaV4iHbnQzA4G0MiAotS89BgKCwmk1UXJjikR8Rda8+et+vCw5R1EdUB638PmI9zVBV+QKW/QZ63c1vS03fK8g7f5CBHd99S6q+mQp8bWiu2U54ki3yx6z2K9v5HzQtH8rifzGmrz5as+QvmtRmTAE37EyPNE5fh+7uOU+wro6w/euUJ65xPKdzYzt/djLn3RR7jSCV7HwWNBaRFcaX4C7Vmbw/JAuPj6oQDrNCukWygi4vdInyONLxHL/O7Ty2jT8oXY0hM1Bq7smkjuxZ24Wk0njPgA/vdKnQAA0tFLrdQzMMHYBr72ueVOxaOIr9H0h98/tynPY+yNvuojPGVDjI6jZe+MjqVcG6VuvbizhH51tJam7fMU48ivPrkuh/75rSvUNzzJ5AmAWjhvaOkakeWElbFPc9sAHaxsofHJGZaHQJ4nOiLUibr5T19cSfvPN7Pmdp6rWLc8jfZU5FBuVgJhHBTcNneNONGTo1brr19fQ//ws0tyMLt7NUZ4J5w1YJ6OXGmnffvvOKZALXes50fdne/Fiq3vS7GU1uRxBMXg4OA8Ivrbmpqanbi/tLR0CxF9u7q6erfe5KMYS++exfx9YHiSDl1ooqt3uqkwO54+OHXX8fid63Kpo3eUkuMiqKN3jCUrwY8OnnQgl8RHhdGNu33sEAPXIwWJ9I//11Z650i1TEg5vfSxywsIiqC6/NLOUuFP5e956XYXrVmWRrvX5VFCbLjw3/v6jco5Nzq/mJ8A4LLeh8sqnfjFoTtOB8wv7dYFOb0PM+B/5IM4A76mDw/iHPvCOz1MdsbXdOJhWjtf0LUH7Rt8TR8etPnVe5+//OFJqpIgwJflJdA///Fjen+m+fu+/VXUOzjBkHAR0PPrhW1FlBAbSvv2VzuSC4iR/uRLq2XjvXukmpo7RxyFjbnpMfSigVjHrZd/AP7YrxMLi+AqLuNyq9bxKo3djMZ1P3znCot5eJdsSW48vbSrVBYrt3QO08mrbXSluofQPDhHc3TofJNT5y3opDOSI2nnWvVY2+i7PQCieV9ewa8P92Xa78tDrfBH+BDkvw6ca2TopkDnK8iKoy0rMjVzYFL9BKXP7g15rDCZX8jLpcZHUPfgBPNVKJJu6xmh0txERl98ra6X8jNi6V/+dJvH59LbdOKb/+9nlJ0aQ9freqisIIkdBmBOgaiM3KgU4RaN209U5NAfKfYFHp9E/4A+MwPepg8+M/H+D9GcgfuZH/HrhF84H4QZuJ86IP1+vz48CNLgfe/woMivFTP3MOoEYsGfH7zDit4Qh/BL7cxfNEcjUl8hOpYV6yzyflY8V2tMZay/vCCRVi9Ndap9AYDX3k359N9fWGH5Kz6M+mD5pLr5AKXsdvWO0eGLLY5R+ZkF1y+9nLDydYZGpuhiVSfdbuhnBY1oYv9EkufhdgHv8atPa9l9HKVxTVkqq4e48sMAACAASURBVMPiz+bUz6evtzsAFr68p5Td8+7Ranrzk4XiQzV7Y1X+y50lsEon7kuxlNZE8ALFiIiITrvdXhsYGLirqqqqpqSk5I3AwMDrd+7c+YHeRFqBFufqmaKVqKiyr20dYnTOtS0LHdaArB0en2aJOCRFgwIDWfVtS/coqwpfVhBPP3znOns85z2vax6kLSszaXjcRtdqe2hlcQrFRoZQY+cw6zwGwpQUJUJvvpS/Syud8X2BISEySFHAjKp1CBh9jvJ+0bnUe45oR4PR54mOqyUrvtSNEhoaRL891cjQAGwzMxQSFEDhoSH0/NZ8mp6e0Vsmod+NrpHQoJKb/ONrz5iV8+OrHYtWzhlW62Ebn9uZ8Sk79Q1NUFJcOEWGqduZB3VuRLslfU0n/D5C3yM9qDKr/+bzd1j5/r6mD3xOrZwzT6+JHrI6em5EUdr595+51UU9QxMskK9plsRDufGM1hmNUXb7DB2+0EIoAPvr19awP8VzYEs/PtdMY5ML/iAqPISe3pAr9B7eNPdqOvgw6oRW7OXqNy63yo5XxNfrl6fTHzy7jMmL9O9Bz8zpQJRd8VgL0MvMzBJ19o1RZ984o2hNjA2ju+3DlJcRQxuWphK6I/G3l6q7WfHR+KSNOvsmaHRiWrXz1hXLAeR8ZMLm6M6vWJZGG8tSKfJeB7+ofRa5z5t14mHUB5E11bvHW9fcU0gPrvJe0DvMTUJCtBNziNLWVCxNoTtNg3T6Rgc9UphE6cmRdLthgBrbhx0Japt9liambOywC75t78Y8lqOrbh5kBYsorl9fmqK3XIZ+90adwLrOzs3R+ISdcjNiqLFjhMYn7VScG0+9/RM0MW0j9J4DgRZzPDM7y/YFRvceWvk5EaQRQwvhzzUJT5eV9sgb9UFk4jw9Z8o8hafHV36TleNbObanYiyt3JbNNuNHUBRRAsU9Vq67lWN7Sqa0puxBfH+z+V0zeQe9ufGl87n7tc9ZTBvvKj9i5T5O+kyuT/s+uU2BQYHU1DFMCbFhLs8nTJgz2Z9Yrb9qa/ew6IS0zgExB6hhT15pd0JKk+ZrwAajRD1DEd3XXy13ieQXFBSgGlti7t2tMfCEPoieVbl63+jwYNV9izKfJVKjohbro/7k6KU2unW3j/IyYhmi3eXqHrLPzNI3DTCGmtFFX4gjPGVDPDWOJ/c9XLfeOlDlRKEMlg2uX65QDLlu475rdX2spio8LJhqmwdZTVVKfDj9+ng9xUWHMfvQ0TdGa0pTacuKdIoMnWfkkaI0IucDdMTv//FjJGW93bUuh0KCg1gtGH7PT49hBZW8lgsU82r6ge87WNlKPz9Q7RBf0EA/uVbOvuNKtrlue3rtrPIRD2KB4l273f743bt3m0tKSrYGBASgIBEwfhcyMjJ+//jx47rcsShQ7O21nuKZc6tflfCLuyrcA7f4u0drWWGhlLv8qU35hEXglC+goAKKIvjRgZr47NYCykiMpNPXO6gwO44+PNXgkL1Xdpc4+NP5u1yv62WUVCuK5imp3L0gyEevOkOK7lojphBGnj9v/GPI3bVT8rhzfnf1zZfx5xlx4MrNrFVc7XrzbJVOnLvTzYpp61oGaUlOPOWkRrNDOk9dnpIJrWDNEzLnH9/4imNtfU0f+GbLL1Ou5cGMTh+90kbtvWPswAoH9JkpUfTE6iynh5gZ24jkGh2f+2UO/4/iBy2/7Is64fcR2hJmVKaMyKu32yNf1AdvWxM1G4YkVFCovHFJz7ZJ5RZjoiNxYMxOH0oQ5Z/ZUkCHzzfRlG2W8L+PXGgi0DXYbLMOChU85/ydLmrrXvAHWWlRtGOlsz9wlbDzdv/8sO2bRGI6ZVzG5RYoZUX3YmcHZc+9xBKXWdx7vb6PFRqtLk4mMIO8c6TGIT6IIQMDiH5+qIY1CiIpOjltpyVZcdQ7PEX1LYMsWVqQEUMj4zZZcgwoiZHhwfTRZw1O8b9abKqmb2hATEyMdjs29sU4xe8jjO4I5u/31n2HkbybyMy48m9qPkJqh3jDME9ex0SG0Bsf3mb08MjdcVoqoCgC4QGUQrBDLMeXJMnxbSmgF7YUiLyq8D3eqBNYh0OVLXSsspkeW51Ln1Y20ct7ltLU9AzLhzZ1DlN+eizLNwG9NjM5ijyZh/RWfeBC4X9/7ZzDw7ZnEjYW9w7G0XyhzFN4s0x5y7u7ym0txvv7dcKIlnjvnulB9xFG8rvu5B20Vtsb90zGpHdx9v3Kd7Lajt3P5+HbII+//LSWqhv7GbJWTEQIoehW7XzCzHpJ/+Z+zKUv+gg1mTl8uY3eOrhQ+DNfmxFAH59ZqLng+Rq13BLGVMaEajlRkTU0W2Ow2PlOtbwcCsGksbM0vkbhZ13LkIMR1FVtBv8OV+dneG5z1yiFBgeyeBCNfjmpUbShbIEy211dczWX3q4PIvInMneeGseTuSj+Tk1tAzLadaUeQr8OXmxxKmJEPoHnIWqaBpk93392gREDxYDBgUSXqntoTWkKrVuWRudvd7ECWRQU4jmIo94+vJA7Rg3XF3eUMJA3/LsaeiNyREBUtM/MMTpqUMlLGy+legCq+eDAALpW28eaYAFyt3GZttwr9QhFvnlZCR7JJ1u5b3rgChRFFEPvHquKsZTPFTk0wd9AGf7p55cZtzg/IEGxxZqlqRQaEkjvHqmhTSuy6NPKBUhSLrD5GXG0vTyLtq3KpO+9eYkhjvALlfp/9cp8pb7ou+jNnfJ3VOz+077LMoo3VPx+/ZVyj3UuezJ4ks41H9fV+3rSwIrMq5WKrPd8K3QiIiKE3jxYLYO6xabutT2lNDFh03slod+tXiP/+NrLYOX8+Jo+eNKO6SVSvL3Awsj7w8688XGVDGoftJ+/93SZk52xUl7NbKSN+mVf0wm/j9B3cw+azOq/sfwOK9/f1/TBm32EElnd3cYljLf/QgtDo+P0jWlJUXT6Whv7/yzwfjSDegYnZHvMP3huOTV0jNBhCfUKisBe2VksFJNYKa9mfIQZffP2JJmRRKqRmE5tXPz96KSNLtzppo7ecZnc8ASp1E+j+DA2KlSG7IkYEsjNaBTEFR4aSM9vK2LjSRsOn9yYRy2dI3RLEqfjb//kiyvp5LV2JssR4QsduWoJbJGkr1GZ0bvfm3XC7yP0Vlf9d29fcyMxhNYMieqb1A6pJZmh+7fv9lF0ZCjrrkeOD/m+kOAAulk/f3gpTXbzHF9BZhz9zVcqXCJumFldb9QJPr/hoUEMHXlq2k4rlqTQyPi0zMZi3roHxumPf2clheG0wEOXN+vDYu07PKVzRvy/J5bXG/VB5Ls9JbOu8hSeGt/Vt1g5vpVje0rftHJbk5M2jwA2aM39wxRHiOiT3j3eIFPeljs2mt91N+/wsOmD8nutluGH6XmYS6U8Yn8aFhZMv7t3qcfOQRcrb6i2dr7oI5TfiTqHf3jzkpzNJSeeAWEAQQ2I+LwACQATao1qd1uHnECk1ArwfEX/XOXlgEInbaZV7i2lxViitSTS3DP+9/ffvsLocaW5t5d2ldBuC4CzpLLiC3GEp+TPU+N4ai+tNo5Woa9W8SsKCZXMOxifyyv+NwoI1eIm5HTRaFnVMCCjed5Qlkpnb3bS4Ng0Q06UMkctyY5nDDtg5VHqhFoxJXSosX2I7LNzDM3xL7+82sEupcYoofaeLz9Z5i9Q1NvwW/G7FcVYyvc0emgiFRAkN//PL6ygiSk7HbvcxhJw0RGhMihhLrCluQnUNTBOSbHhlBgX7qg+l1bqb12ZSYAERQEkv0QNv978q23AlE7XU9X+njJ4okUhnnqe3hxKN5e+tNlDYPntH5+XUZajk+E7v7/eYxtzq9fIP7629Fo5P76w2VvsRLsnN3P3I2ls5v3Dw4Ppf7xxgWpaJFSgOfH0P35vHU1OygGVrZRXo+9udI/Ax/f7CFGPOn/fg7Tmxt7c//568+X3EXozpP671TrhicYl2Mfv7btEd9uGWLIJiFNAmIoIC6ab9X20vSKHijJjWIwkDeaBQo8CBSU19DdfFaN7tHpuFmN8X/IRIsl3VzGdSOzJE1Ft3aPUqZAbxMl71ufSJ2ebWByD2DwtMZLRtR483+xQLsS8WNe3Ds13xiJ5VZAZSz0Dk7K4HXTk21Zl0Y8+uOX4W3TdBgUSXavtpZ1rc1iRYlPnCOWlx9DG5XJE5Sn7LP3Pd686FUcqk77mrILrv1oMmbWquMXvI8xJg7evuSfkSfSQhc8wt0NqyWsU1KOIGQWKHb1j9MzmfHrv5F2qbx1khYoTUzOqOb61ZWl+BMV7E3z2dhcNjk3StG2OGjuG2V6gd1BuY5EbXVWcTM9szBNqSBDVDm/WB38cpJ/Hetj2TKJyr5WnAKW6J+zs/cg1eYM+a+W2pqbsls+9XydEtcSfqxGZKTM6ZyS/64m8g5Yt8kV9UH6vmTUSWfv7YePVnrmY36cmj9ifggr0j35nhdP5hDvzuBh7PDVZeRh0Auu473CtrHkVIBhVDX20vCiZ4iJDKCEmjB4tTGIImRxwis8XwKK+8doa+u5PK13WYUjpVa3cUy2mvus19wUELIBz8feSFmPxWhKRPJ70uxAnHr/SJqs9KM2Lp2+8IpYDNquHvpBr8pR99NQ4nrRrZt5JWfzKdTsoMECT8cZV3PTN19bQ//P2FZojouqmAZq2z1IZmtRfXEknrraTlNGHyyFn2QAltBKlVY2OGnU2yCkBsK6sIIG2rcxkqI5qTH2u3hO001pstaI6aaVO+BEUzVoqIsYFLqWBwkHEngp16mNptS6gQUEh9atP5ymfQf+ipH6Gc5yxz1Jn/zijM8E9EF7AhTa3D1NuZqyD7hmK9NTmfBn9sx50ruhnQ/hcQaobpa/Ue6YZ46I2puh7eep5et/Ff7dSkfXewaqi3d+ebqQPJBR9n9taSM9vztd7HeHfrV4j//j6iV2rNtO+qA+e3Gzdr4D/QdQJUTvzoL27kT0Clx1fSwiIrp2wU1Dc+KCtudHv8L+/6xnz+wij0jR//2LIlJISRSv+cfUVStvw7NZCamwbouy0GMpJi6Z9+6toR0UufXR6gWbl5d0lNKOg4DXy7MWYG6v2TL7qI/RkVhnTIYZ2lZBRyhpPoqolnBBPHzzbxJA6QSOKWBvoncsLEyk1PoI1/vHOeYzLaRDLS1Nodo5YIZK0ixtyuOXReZoPniyKjghhBYtqqGvKOP3I5Vb2fOmYuEdJm2POKmjbWatl1qrx/T7CnDR4sx305LvrHbLMIdN873JF7YWfpUlm2JXdFTmsk/7DUw0E27OjIkd2ALZ3Uz4B/y8nPYbWlaSYW0QXf+WtOoG1QM4zPTGSQkICaG6WqHdoSoY8iXnLSfE8nZcnZUptWfzj+3NNHlVyD+7zXeUpvFlmveXdXeVHFuP9fS3XpBdHuKt/i7EmVu2TrZ4bd8YXzRFi/j2Rd3Dln31RH5TfarUMP0zPU5NHsHlEhgfTc5s8dw7K5/R+rN3DohNn7/Qwmm4pm0tP/ziLR6oa+1l8l50SRU+UZ7tkrHSFqCbNB3mSXlXEn1kpM2q1FtHhwbLGCuWcIDaubx2ilUuSqWJpClXeUS+s0vo2PPfAhRb6WJIXfnpzAX1ha4HIlJi+x1vjaukHe0oePDWOO/sGK3yNEh01PyOWFcKiEBA5HSCo8ssIguLszKyjwV0KMLeyOIViI0NkuWYpSqta3vqZLQW0/0wjqwlDXhk5EeSZ+KXMKxtBUBStn5L6JKt8hL9A0bSpIkIVN1CduEMT4QJHVerE9IwDJYFTPgcGBrJu4dqWASrIiKW0pEi6cLuLctJiCMgPcJC4gPiAyte/+OFJWaU+kBlAK6NWQevGJ8oOOlENL4UPFUUqFH2+Jw0enqlXAezp5+l9py84N+k3AkFx/7kmhgbCdQCoIHs35PkRFO9NlNUy5s3j+5o+LFYQ6c1rbmYzCjtz+GILdQ1MUE3zAJXkJlBaQgTtWpvzwFM8G90j+JpO+H2E3q5gcYrJvDXp7Wv64Es+QpnQE4l/pNoQHBxI/7W/mmZnZx37R8RBvYPjdKO+jwXd12t7qCQ3kTKSIuhydY9qsZiUekVf23xD36xKCOjNn1WNTqL7Ah7Ticaeyu5RxNvZqdHU0jXCZAlohkcutjDERMTaUgpWJHn2rM1xQunCmCMTNrpe30fD4zbqG56k5s5hqihLo03L0ygydD6Bhftw8Y5cLcoQxNX8XRFn80JJoDQ+vyWfIsPkSV+9dTL6uzfvKf0+wuhqz9/v7WvuqT2NNCFbnBtPE5N2lkvbu6mAZqZtJC1Q5DPNbQAOni7d6abcjFinPN3XXymn3uFJOnGtnWqbB2nN0lRq7R51+LqM5Cj64GQ9ZafG0Lf8FM/M/v3oo9uUkhDJDgofLUqmiWk71bUOOexhaV4CJUSH0sZH0igiZOGgwJwGyP/Km/XB2/XZ6vf3+whtDXGVp/BmnfCGd9fKbfkpns1ZdSvX3cqxrbaBD+r4RvO77uYdXEmVr/oI5fdaLcMP0/Mwl0p5RH4hPDSIdlY4n0+Ys2gLf3U/1s4Xc01qMgogpoNnG6jxHrvF+JSdFf2gCAgXkP/SEiPoa88sY/kfadEhaF1RVKRW3IP7QBnLL+SVPEWvKiJPiyEz0loL5fPU5iQ4KJBO32inroFJWdOeKLBWaGgQvfHxHafc8e89vZSmp2dEpsXUPb7gIzwlD54ax5P7Ek+8E5fXyjvdlJkcRX1Dk9Q7NEGJseEOKmUuPCL6joLcL+4ooe/95IKsZguoq3/1SjnZgVanqFdylbdu6hymvPRY9i7X63pZXRjyyjGRoTI0USWDrvI9tYqkRXPrfA6s1Al/gaIpMzV/+ICDh7rWQQc9GWA3kZRU4wCXPkaJkoAK2N99ehlNTtvo8MVWRnWGRX9mcwENjU7TscutTs7trQNVTk5v15pswqEfF3iTnyb7M1cKb4a+Uu99PGFc9J4h/f1+PM+XNnuQte/+rNKJou9br1d4TAatXiP/+NoaY+X8WOnY9OzA/T5o13s/rd+tXBNPbha1EkFGDhfha949Xk8nr7TQmqXpdOFWJ6P/fPHxIidf+yDNjZk9gq/phN9H6Gv6gySz+m/rfIeV7+9r+iAN6ozYQKPrYuWa4F04tU2tifhH+i3vnW5gnYCc4nn3+jw6erGZ0SKg4HFy2k4rS1Lohc0Fqg1Hek1IavNm9dwsxvi+FEcY1Qmjsacy4fLK7hLaVTFfeKhF2apM8khlif8dp4QGneszW5eoUmZoITi66nTFuNCJHWuyaWd5tlcXk1m9p/T7CKPeYf7+xbBTVvk4K94dRTr/+dFtx4HUq3uX0hOrMlULFKUzfq6qi2pbhpzydMjH8QsHKt/5yUVZrqQgM45GJ6bpkaJkenVnsW7e0Mgqe6tOfHqllQZGpikoKJAVj/cNTrAmcG4P42PCaHtFNq0rTtFdFyPz5e364H9//TzWw7xn0podrTyFn+LZ9cx5wgdp5bYWY+79OmHMS3hizf25XfkMGMnveirv4Cov4Iv6oPxWq2X4YXqemjxiX19RlkpPqjQ3GrM2i5tr9etEDMvfcCAmZd4ICIpZKVEsH8MvV/lH/u9m6VXdlRPp3z8o+i6dK8wt6lqiI0JZDQ2/tHJuyjn5zakGOnBuIXe8d2M+fd6PoKgrOp6SB0+N48nY1ZPvpMwHaRXPiui7q5otVzZEaX+ee6yQKqu6qLNvnOWoYI9OX29neRBRBl09mnmjuXW+dlbtm/wFirrq7PoGo5WmGEkLJQGF+rwqn8N+NnQMU0R4MOvABuIDr3xtahug0zcWaKSMUF6JfLKeIGMMM9/vyeDMzOHk/XbcVimy3ppaUZCF+ccB8/sn7joe/9y2QnaYrFekq/e+/HdPOhxXG3CrDlE86XhdzZc3z4+3HqLoya43r8mDKLOwM2equqilc5TqWgZpSU485aRH06aytAe6QNGMj/Q1nfD7CD1r4d2FAlbbC1/TB1/a1xy92k779t9xCLho96tUI/pHpxjC1J3GeWTcaZudDl9oYbc8u6WAYqNDafWSZEqMDtNXJME7fME/+1IcYUYnjMSevHv0as3/396ZwMlVVPv/1O3uSUJInoAiCQRCMl3VYURkUVYhCPgE9D0Vd0BUeCrijvuG+/5c/w8XcIXn7lMEBREFBcEFBMTJdFUPQ2RJ2AQhMZDp7lv/zxnuDTc33XPv7b7VM93zu5+PH8n0vbV865yqU1WnTt1DT5KPo/C0O+c73ZWtreQ5HhWR0wijMt5+14Zt0o/mwbcbPHWfpVNRF2+sPRoNNHplSLvrNQZBZl3NszBGpOz4Yq/1s0zlXfZWC7Or9tiB3nHSftRsRu54boGadZajqXLkDT7hvq/ceeqa96he82fxa1SPfsru1Gz4tGLXxXToyC6dNWKbr/pVJzY3fPrCj26kJ6zYkR6e9OnhyeZWETZ4kf6EI8ttI1t2AzFvmYqXBelP3zou+fSrPiTJc17M2tlTeaU/E+uX/VD26da24KCYJP2tf3fZ7i7Tdr2WMlvTz7q+m8e6QyvJGdQxotd2yFzKj2UmLo/HH7In7bbLQjq4su3+RGc92qNfue5/WrXdIK41pZFRntddNeVjcfdU1LLluyyiJ67caZt5XVKbZrleNSmtTn6fCZmZbq0nnGvztbmH7bOUfnv9HVuqlWYNOfT7WHffJrpm9K4tt6pxVP2lO2zXCaLU3wzCGJGXPOSVTp52SZ5l2jTZoD+M3U3Xrrlry81N8TWdqOCEctlO37P6bMXXgsPbfsI85e6PoZ132I6W7bw9ZfX/mo5TlrX1sO1cjRFwUEzdNW374nQbH9MlG42+EI2SEH4TdbyLeuay01dcsKZTiugJ7rTVzBIKNOtd5UllSNu55JVv2vySyp3290EY3OJ1vf6Wf9Attz+4xUjYc7fFtO+eO6VFkvie6zZC+tM3gUs+g6gPeRpb7VrGZZvM1vL/Qd9N6+/eRPVmk0oFQUt23p4OUjtvg2i2sck6Vg2iTmCMmLk+drbqc+LAH7wwiPrQ720Slp+vRLn46luIHa+yXrMcb3+OtHr12J3093VRJ/RFdHAFkZLirKATjzoWppW9JLuA59F8bU+7Ben4OL79ghKd87PRqchehz4x3SJrq3l9u34wfvguqfxp+9NBtCmhD521fj/LlIuyxxdm00ZQjK7b8X+3O5wZ9iHX6bupvGwHKnqCGk2fli9dTPsPP7azRmzzVb/qBDO69NrbSK+9n/Ye3omGSkW6958PTTl+7qcecfzcY9cdWkaq7RagC5mKlgnpz9w8qF/1IUmm85KpQTwYkRcb1zZTu7WtXpTf1cZikty6CJgQ5umSm8u0B2VdoJODSFnWd/Ncd4iPz4OoD63WDzppoySddt1Pps3ftY7GZYbl8cdX1GjslvtoeLcdaMdFQ7TddqWW+xNp6zCbWM51nQgPpXYadCeLT0W38tHq+17qQ9oxLJxr8+HenXdYQOv/8S/aX+281eHheF3iHLebX6Jv/WLNltt3nve0Mv37AY9Gt3TFst/1IS95yCudtDKTpj1dlOm++zZOe0g1LpdxZ8H4dcpZfbbavX/MU3anxz1mPh088uhh2LRB26bjNJv2rOGgmEbqp3mnE4XIKgBJi1ydhOVsV6VOvP3TKkUS6rQss3r4wtgjcrEgwO1+/mU1uuqG26cW3PXf76fD99st1+uK0spEkmzNlAyg/O1bBovGnUntXJOpsJ+54rrbtkxG+IrnVteizVY2acfIQdMJjBHJOj5bZTa55I+84bL8g6YPvdhEcd0m8fTDK1HSykur99r18ScfU06MYJU1X5fy2iv2/b5IltdCapZxNc2mzK//cjv9+rrb6Z77H5q6RiM80R2fc77waElFj6aipvHJVnNrZ9fUpJXdQZDZNPzT8oiviUAfspPrZ5lyUfb4utyxh+yZe6Q+7q8uvObvdNFVE7TD4vlT/Uy7uUz2Fn30i361m+L97JH770YTt/+Tlu2ymE47fhWvY5HLfsRV2r2yC1D+1lrTr/qQ1Afk3Q8O0sGIvNnE2yKP9Kdb23LZ14X9EeymJA3b+vc82ny6HOdi+p2u7+ax7jAX5hEu+q0sWuNapmeyfmHdvvjDG2jNzfcSx1rnKzhd2PS9sCFbsRzEMWImZCa0rQZZH9LKaHSuzQ5dhz1xKc3jBbVpnvjckG8g4D3BRnDDAUeUe9dJ++d2e2O7Ncp+14e85C+vdNLKTJoxZybK1M4faTp978RnK3rAdclOC+nu+x+isbX3bVmjTsMnfCcNpyxr6650Ag6KWVq1xbtpGrpdFmkFIG5Et1qEysNpr53SfOr1hzs5sdyJkdCJYrfj303bdSI2g7ZIxlFvPvyta8nc9ujmnFz2GHrPKQdQo+F3gmibb1y3EdKfvplc8hk0fcgy+HejHC7bJE9jMa9+N0s/MwhsXBl7STLnwok9S9sllS8vecqazyDIVL9uXGKMyCqtj7zfbzLbrp9478sOoHo9H1tykMbnQRojetEuafSh3dzyXSfvTx897zqq/v3+LcpY4etfT9xv6t+//PNt9N1fmS2/pbmmJqtWpyl/1jTTrCt0k2av0scY0Vkr9bNMuSw79wOunEN6YQ+H43+/jRGt+t/h3R5DGx+apCP32434RhiX7e4y7X60yTpZn+2sJ3Jvs2KM6Kxl+lkn+qHs040HzabvzBm7X8eINFLsst1dpj1Xx4gsNpFL/oM6RvR6HJ9L+YXyeObnfut0H7QXaySt+lboRJoRJ9s7Lvuwdm3ocv2/G31P6wPTam7IvgYPbpqccgjmhyPKnXh0GQ6KCeKYl/zllU6edk+vy5TGH6ldmTrx2SoUBH31wjX0h7/dOXWAnp9wLTpLhNe8Oblaa4KDYraxZZu382zoNEVpl183URmj+XYSQTFNudO8k5ZlJ4o9WwZuV4qcxNeF8wnnecHVa+mCKtTsYQAAIABJREFU301syf4/D19B/3nI8qTipP49rUykTjD2ItKfnpxLPoM6+XHJLE9jrl3Lz8byp+1nZmPZs/RNg6gTadsuC6fou4PQ5i4XEPqZzyDqw1ztw5P0e5t+4ogV9OxDlpN9ZB6e29PP+hDKzqDNI1zrRNo2bze3nG7OGc69bzD30JPk46a9pqZTIU5b/rmYPsaIzlq9n2Wqn8vu2h7u5zGiVZSM7eYX6Jj9l9HCeUU4KE6j6v2sE70Y/2EzZR8n+lmm+qXs7caDXpQfOpFNJ3rRJnNxLSitTeSS/6DOI+IS7pJhK20a5PzCup17wU1O90FDrjPBchDHiJnUiZloQ5djSq9YxueG7Gvw4MZJuu3ujbTr4xYSOywevNfjsw3oGd8ehDEiL/nLK508534zUaYkf6R2ZerEZ4vT+vUN6+j8i6tbJLeTA/F5c3I1RsBBMWMH1avOuF2xkgQrrUd6u/TjShO/P71LXNN+nlS38ONOFHu2GM6uFDmpXVw5KN63cTP99sZ1pNfeT2r5DnTEPktpx+3nJRUn9e9pZSJ1grEXkf705FzyGQRjbyb6FZdtkqex2OkY1uq7tP3MILDBGJGtNx+ENne5gNDPfDBGZNOFXi1kupCpeB9/7EHLaUGRo1l1xiDP8SdLCVywieYPncjSGo+8m7ZN2s0tk+acadPPXvJs5Z+L6UMfOmv1fpbZfi572rlMZ636aH/Rj/MI7mevuulOut7cTct3WUxq98dMbTyxc2KWfrwTdv0sU67Z9Hv6GCM60Yj0dlNnqbtNv1/0ud140Ivy9+MYkSRrLrm5TLvf+9huyp/WJnLJf1DHiLi+uGQ4E/shM1m/kKVZey9dcYO7fdBereu1YjmIY8RskJl7792Q+9rmIOtffA2Or4a+3txDa+/cQCt2+zc6sLIzbTf0yDzR1TMIY0Re/X9e6XRjN7jU47T163ZtOIvPFpepMFSii6++ZUr29+3wQHzauqXRI5c6AQfFNC0wzTt5NnSaovQqv+nuT09Tzk7eyVq3LIo9WwbuQTT2srZbFtlwmXaeA2O7OqH87Vvb5cCWJGOuHHYhU0nku1uU5utAprs+fhD0DWNEsgxF3xiENoeDYus2xxiRTRd6tZDpUue4j3d5vZnLsvdq/McYkU0vsrZ5u7llu79nTT9b6buzmdLk1c/lxxiRpoW3faff2xw20+DOrbmf5Sd+bZFLmXWZdq/sAugE5hGdjQbtufWrTPWbPsfXtnpRfswjsmlLL9qkX/UtjzFuJtd3B3UeEZdw1zI8l/KLs0yS32y9Te/nbK3abhDHiJmUUehfd1oQX4Pja2933HF76oXD5yCMEXnJX17p5GE3uNj3yFq/XqwNR8skhOj4OvOsdZtOY13qBBwUu+srU0dm6DKbLZ/nKVhpytTL/HqZV56dYhqOYX6DaOy5bDeXafdCBlD+wd1EaVcztPn0PaJLPi7T7lV/gTEi7Yj6yHuD0OZzeVF6piY/SVIGJ/bpx+5+ldlB6C8wRiRp79a/D0Kb96u+uR6jXS6QJUkZxoiZGSOgz8lzLIwRSdqLMSILoX7WOYwRWVr60Xf7vc1hM2H9tTPJb/1VP+uDazu839Mf1DEiLsmuZXgu5TcXWA7iPGImZXQuyIxLu2um267f9SEv+csrnTztBpQpnbWbNydXOgEHxXTt2fatPBs6TVEGOb9BrlvYCbtS5CTZ6deNFNcygfSTNzpcGZuDuiAAmZpZmXIlr3ka0u0IQSeSRrJtf4e+zZy+udYJ6EN2fXDdJv2e/iD0F5hHZNOLQWjzfrdrXJUfY0Q2XQjf7med6Oey92r8xBiRTS8gU5hHZJOYdG/369prr/opl3aBq7T7nQ32I9Lpbq+dITAGzdwYNKjziF7L8FzKz7W+zgaWgziPmEmuc0FmXNpdM912/a4PeclfXunkaUujTOns2rw5udKJvnBQVEo9n4jOstaWhBDna60/NF0zuFwQmMnOMU9FTifG7qMTRcuRp9Kkqd9M5OdKkZPq61InXHJ0mXYv9Anlby+Zg7oggDaf2UUml5OjXrQtxoik0Wzr33vRJv0uU/1afowR2XRhEJxPXNtlg9BfYIzIpheD0Ob92of3Qp+hD9n0wXWbuE4f+pw8x4JOZNMJyFSyTPXrGIR5RDZdGIR5BPQ5WZ8xRmTTC8hUskxhjMgmU/y2y/057Flnb4+0X7juD2ZD2w3iGDGTXOeCzLgcA2a67fpdH/KSv7zSyXOtCGVKN3LlzcmVTsx6B8UVK1Y8vlgs/rFUKu03Ojr6gFLqEmvtJ4wxl7VrChh76YQ0zVt5CnJSfr3MK89OMale0cUeV4qcVAaXOuGy3Vym3QsZQPnbSyYWjZO0tvXvkKnpZcrl5KgX7DFGZNOLXrRJv8tUv5YfY0Q2XRiEjUXXdtkg9BcYI7LpxSC0eb/24b3QZ+hDNn1w3Sau04c+T9/esJvmlj641rd+Tx/6kF0fBqHNYTNh/bUzycfaayfc+tkuG9QxIt6OrttoLuU3F1gO4tx6JmV0LsiMS7trptuu3/UhL/nLK5085xkoUzqrLW9OrnRi1jsoKqVOstYeaYw5ldErpU621h5hjDmtXVO4dMaayc4xT0VOJ8aIoJiWU5r3BnUClGdn12v9cln2XuhrP5cf+pCm19j2nX5uc9c6MQhsXBl7SdLm0m5y2S4u03Ytr0gfG+3WJmlm9t+hE9NvzLlcQOsFe4wR2XSiF23S7zLVr+XHPCKbLoRv97NO9HPZe2XzYYzIpheQqWRbHGNENpnit/t1Xt2rfsqVTEGfk/UZY0Q2fYZMJcuUK3123R8N6jyi13tqcyk/1/3BbGA5iGPETHKdCzLjcgyY6bbrd33IS/7ySifPcR1lSmfP5s3JlU70g4Pi2621C40x72P0SqmjrLVvNcY8o11TuFwQmMnOMU9FTifGcFBMyynNe4M6Acqzs+u1frksey/0tZ/LD31I02ts+04/t7lrnRgENq6MvSRpc2k3uWwXl2m7llekn7zgDX1I0lyMEVkIDUJ/AZ3I0uLu57GDIFMuF5Vd8sE8IpsuhG+7bBPXdk0/l901mzB9jBHZ9AIylWyLY4zIJlP8dr/Oq3vVT7mSKehzsj5jjMimz5CpZJlypc+u+6NBnUf0ek9tLuXnuj+YDSwHcYyYSa5zQWZcjgEz3Xb9rg95yV9e6eQ5rqNM6ezZvDm50olZ76AopXwXEc0zxpzF6KWURwsh3qS1Pr5dU/CCwD/+sYFcRCZp1TnutNMiQn7pFGO6t1hpBp3lYx+7eEZ0zqVOuGw3l2mHA6NLmUP522v8I4Mk9CFrzwmZml6m+l2foRPZNAL6kLxo3K86gTEimy5EnU/6tc1d22WD0F9gjMimF4PQ5tDn1m2OMSKbLgzCGAF9Trb5MEZk0wvIVLJM9esYhDEimy5gjEjmNQj9BcaI5HaOvjEIbd6vfXgv1gUGUR+wZ51Nx7O87bo/mA1tB53IIhHJ784FmXE5xsykTgzCPCIv+csrnTzHdZQpuf/Jk3eYlqsxYkacpdIhfOSt+JXOfOUzER2utX5llnTwLgiAAAiAAAiAAAiAAAiAAAiAAAiAAAiAAAiAAAiAAAiAAAiAAAiAAAiAAAiAAAiAAAiAAAiAAAiAQO8IzHoHxVWrVi1pNpu/t9YeuOuuu96/fv36nxPR2VrrC3qHCTmBAAiAAAiAAAiAAAiAAAiAAAiAAAiAAAiAAAiAAAiAAAiAAAiAAAiAAAiAAAiAAAiAAAiAAAiAAAhkITDrHRS5MuVy+QQhBF/xPEREPzXGvCNLJfEuCIAACIAACIAACIAACIAACIAACIAACIAACIAACIAACIAACIAACIAACIAACIAACIAACIAACIAACIBAbwn0hYNib5EgNxAAARAAARAAARAAARAAARAAARAAARAAARAAARAAARAAARAAARAAARAAARAAARAAARAAARAAARAAgW4JwEGxW4L4HgRAAARAAARAAARAAARAAARAAARAAARAAARAAARAAARAAARAAARAAARAAARAAARAAARAAARAAARAYBsCcFCEUIAACIAACIAACIAACIAACIAACIAACIAACIAACIAACIAACIAACIAACIAACIAACIAACIAACIAACIAACOROAA6KuSNFgiAAAiAAAiAAAiAAAiAAAiAAAiAAAiAAAiAAAiAAAiAAAiAAAiAAAiAAAiAAAiAAAiAAAiAAAiAAAnBQhAyAAAiAAAiAAAiAAAiAAAiAAAiAAAiAAAiAAAiAAAiAAAiAAAiAAAiAAAiAAAiAAAiAAAiAAAiAAAjkTmBgHBQrlcpy3/fPFUI81lrb8DzvrdVq9XImppT6iLX2ufzf1tq31mq1i/IgqZR6PhGdZa0tCSHO11p/KI90o2kopd5srX05EflE9OelS5e++q677qr4vn8OEf2btfZvDz300Cm33XbbQ3nmrZT6NBHtqLV+xapVq57gKr9yufwsIcT7hBDbWWt/ZYx5Y7lcPsLzvM9ZaxcQ0a+NMa8L6t9VFZVSJxHRO6y1Vghxsdb6bS7qVi6XFwshrmo0Gs+cmJi4tV19KpXKUt/3zxdCPN5au14I8SKt9b1dVTLycS90woUO9ELmXcm3a3l2IcOu5bVF+i8RQrxdCGGJ6OZ6vf6KiYmJB1zrQ1yvVq1aJX3f/zOXIRgb7jLGHNut/rnQibBMSqnvWmv3FUJsCv72Aa31Bd2WOa0MdJJPPG2l1EettS8WQtwfpHeO1vpLnaTtuq+Ip7948eLTH3zwQR6PzxJC3BWU+eda6/d2Un4p5ceFEM+y1vpCiK9prT/navyLlq9SqSzyff88IUSZiDb6vv+SWq02pQcx++OTRHQcj5lEdJEx5p3T1TNJ9rvV8aT0h4eH9/M874uBPbFJCHG61vqvadsmKf0wnXK5vK/neddoreenTTuwRae1GUdGRnZpNBrnEtGu1tqNxWLxpDVr1vw9TR5JZd9rr732aDab3yaixdbaf/q+/9Lx8fHb0qQdqfdWtk302+Hh4ZFCocBl79gujfcV0fTL5fIxQoiPCSE8IvpHs9l8Rdbyt6prEjel1NOI6FPW2iIR3dJoNE7h8Sott6T0XctUuVx+uhDif4UQU21trb3eGHNqmvInlb0beU3Sh1WrVi3xff8XXOSgrIuJaOmmTZt2SjvfSSp/tzqRlL6U8ilE9P+EEENEdGuj0Tjt5ptvvjsNe35nOn3IQ9/SliM2Tn1da/3ZtN9meS9ql2f5LuldV3ZTRHe3mccmlSnN71LKVwkhXh3ogLDW7iGEuFBrfUqa79O802pOkea7tO8opXjO/TIhxMPW2u8bYz6W9tt277m0V5PK1ot5dVLfmFTGNuNcT9aSMLd+lH5aOe3ULp5Nc+uksbATmY1+02qud8UVVzS6TTeWx5Z1zzzTDcZyJ2NE0Fdss7aZR/nTym+neaWV307Sb2c7SSlfS0QnGGOO7CTdTr5xsdbUA33DWlOksbHWlE3y0/YdnYx9Wdoi7VpXtHZZ1uU6KX/QZyfusXVS9lZznWazOd5qbaaT9LPscWRl026+02w2P5lH+bPsn3TCJq2GuBz3WpWh12NhPL/h4eGDC4XCZ6y12wsh/rpkyZJT8rTdWvDkNa9PEZEQQly/ZMmSU/PIL0u/k1YWpnuv1f7DAw88sNrFOmjQJ20zRwy5SSmPJ6IvGmNW5FG3eBqVSuUV1tqnaq15f4VWr15dXLdu3ZeFEAfz/ggRnWqM+RP/JqV8Ha/tW2sLRPRpYwz7Q3T0uLKjXI5/8Ypmkcs8+rVejI8t6uhkvGyRzzZ2b57jZ0dCGnzU7TwiT1nvdk01rX4k8cprfzmLDmXtszvdM86iZ0mcWqUlpeS12Bd1shfvap0vWo+BcVBUSl0khPhutVr9X6VUhYiu0FovUUr9JxHxJvUzRkZGHt9oNK6q1+v7Z9lgbNXwK1aseHyxWPxjqVTab3R09AGl1CXW2k8YYy5LEpS0vyulnmytPXdycvLAtWvXPqyU+hYRXU9EvDnxOq31VVLKDwghilrrd6dNN+k9pdRRRPRddkhgB0WlFOeZe35KqT2J6ErP8548NjZ2t1LqN0KI//Z9/wvW2qPYYUIp9U0iukprzRvfHT/Lli1bsGDBgtsLhYIcGxu7Xyl1NRExMx70cqtbuVw+SAjxVSGErNfrcsGCBXfW63XTqj5Syp8IIX6stT6/XC6/3PO8o7XWJ3ZcydiHrnXChQ70QuZdybdreXYhw67lNZ7+0NBQw1r7h2Kx+KTR0dH7lFIfttYuNMa8ybU+tDBET7LW7s9556VzLnQiWjYppZmcnHzK2rVr/5lXmbPIQNY842mzw7aUksfIM40xN2ZNL/q+676iXfrW2icETgJdOYZKKY8jorfyRsny5cvnDw0NrSkUCs9oNpuX5j3+xTlLKT8rhLiPD1VUKpUjfd//sDHm0Oh7lUrleb7v86LAcatXry6sW7fuUiHE59s5xKaR/W50PE36Sqm/EdGrtNa/l1IeLYT4tNb6SWnkLE36nE7QDzOLQ7TWvECS6kmTvlLqV9baH/CCi5TylUR0lDHmhUkZpElbSvlta+3VtVrty8Em3YHGmJOT0g5/b6XLMX3syk6cLv0DDjig9OCDD95qrT0ssAtPs9Y+0xjz7LTl79CO95RSa5vN5tPGx8fHeUInhGhqrd+TJt807eJapqSU7/E8b0O1Wv18mjKH76Qpe6fyynmkST829l0ihPih1vpraeqRJv1udCJN+kqpvwshXsaH5XhxyFp7kjGG56SJj2t9SyxA8EKrcapYLP77mjVramnTSPNe3C5P803ad1zYTWHerex+Ivq41vritOVL895ee+1VbjablxSLxUNHR0fvTPNN0jtt5hTv0lr/JunbNL9zm1prP1sqlQ4ZHR39l5Typ0KIb2itf5rm+1bvuLRX05TJ9by6k74xqdyubeWILjhZO8LcetsWnk1z6zRjYZKMTvd7XH553PY877qsNk1CHlvJbjfljX/rcoxw1Ye77mdTyu/2fGg9a1u0s53K5fJenuf90lpbM8bwwaOePOwYk+dak2t9YygubCaXMoW1pvai3Ou1piztnHVNKKstk2atK0ouK6us5ee80u5BZC17O71tt4eXNf2sdlgnbMK2COc7nucdFhxU3GafLkv5s+6fZEk7yyDictxLM1/iNXh+z9VY2KJ+9/u+r33fP2Z8fHxUKfW/wZ5uR0EJ4nVs1e8rpW4VQhxTrVa1lPKHnuddXK1Wv56lnVrYcD3dj2/Tz41aa9/Ijnx5roMGfdJW9Yva2GxvlEqly6218/N2UCyXy/OEEB9kPw0hxI/Y54DLU6lU3uD7/t7GmNOklKuI6KfGmFXlcnkfIcQ32S9i4cKFxXq9fnWhUHje2NiYydq+ruwol+Nft3LZbb/Wi/GxRR1TrSt0WzfX42dW+WzBoeN5RN6y3s38IIt+TMcsL5s/q03Zrkx57hln1bPpOE2T1tmd7MWntV+7lfdBclB84ebNmy9gRz4i8qSU93qet4fv+7wR/1ut9XlB58NRFtl58fxu4AULDkeGkUiUUidba4/gwbSbdKPfDg8PD3uet8QYc2VQ9jOFECNEdITWeiX/bXh4eFmhUOD6TP2722dkZGTHRqPxcyHE96y1+/i+/z7P85hf7vmxxzJHRNFav4XLzdFY2KmPo1MZY3hA4kWSpxLR+8N/d1q/kZGR7ev1+q2+7+/TaDTuGRoaYqbMkzdLcqublPJrQoivW2vPazQaq0ul0u7W2g/E6nPW0qVLn7F+/fp7tdY7EVGTiApKKXYY2TH4d6dV3fKdUsqpTrjQAdcy71K+XcuzCxl2La/x9BcsWDDZaDT2DTdvy+XyCZ7nvWTJkiUvdK0PLYw9dtjY11q7HZ8g8H3/DbVabU03iudCJ8Ly7L333jtMTk5O8OTeWrt74NzME7uunpQy0FEfHE87cFD8B4/B1tphIrq8VCq9bXR0dDJrJVz3Fa3S58h27DQmhOBFnmVEdGO9Xn99Fwce2MGtGUTy+h0RndhivOiI/XQ8lVLjzWbzyDACHf/b9/3VtVrt9vA7KeWUY58x5gb+f6XUF621xhjzxVZpJ8k+n4jsRseT0ufTslLKU4wxfKiBVq1atVOz2eTy8hib+KRIfyoNKSUb9ZcFzlKpHRST0ufy+r6/Rmv9+MAeGpqcnFzWKrJli76MJ67T2qNSSrZ5bzTGfEpK+VYhxLDW+lWJYIIXWuly+G25XN6tWztxuvR57Gs0GsdqrX/IeVYqlf2ttV/VWu+ftvydyGzwzZSOjoyMDNXrdT4owwz/O02+SW0e0TUnMhXI6wVCCI5GztHlORrna40xdySVP6ns3chr0J8kymxYxkqlwv3iy7TWxySVO/w9qfwBm451Iil9pdRjiWg01Odgg+Sfixcv3v7aa6+tJ9XDtb4l5R/7fatxik+1V6vVdRnTaPt63C4PF6nzSN+V3RSRs23msZ7nbb7pppvCCNF5VIPHX3aK/xYfwswlwUfm3PF58VW+779ufHz8mjzykFLy3P5xxpi3Bzp/OhEdqLV+Wafpu7RX05TJ9bw6a9+YpsyubWUuA+bWW7dESjnteC1oNs2tk8bCNDI63Ttt5mJLjTFndpt2K9nNc/wJ9NnZGOGqD08pvx3PTdPKr9b6hKxt3Mp2Yvu90WhcZq1lR4WX9thBMde1Jtf65spmcilTWGtK1JKerTWlbOeOxr4MtszlWuvhNGtdLcilYdVR+VPaSR2VvZXe+r7/9RZrMx2ln2GPoyM20XYI5zvNZvO3eZQ/w/5JR2wStS94weW416oMvR4L4/kVi8UDhBAv0Vo/j8vH60abN28uTkxMhDcQpUXX8r1W9VNK8Tr2c7TWf1FK/cRa+11jDAfd6fjJ0O/ksh/fzuYVQvwh73VQhjKdja2U+hkRnW+t/XjeDopKqWdYa1fz7TRCCF4bmHJQDAJZ8N556P/Aa+7v53c5LGZ4Y6VS6r18w5Mx5sNZG9eVHeVy/IvXMYNc5tmvORsf4/VzOV7G83I9fmaVz/j7SqmO5xF5ynq384OU+pE4t8zL5s+gQ9P27Q72jNPoWSKnQI62SstaewgR/TXrXnxKfcxlDBwYB8WYYctXCh1tjDlaSnkxh3oOIwIopfga5n9prT/eTWehlHp7EPnrfcECFEcK4GhIz+gm3Xbfrly5cudCofBHIQSfOnmm1vrwUOiUUlyfTFcNtstHSvkDz/PO9n2fr5I6wlr7lYBf7vkFG/2beb9ZCLGEiC601o7ylZLGmJdyGcvl8kohxM+NMRwVs6uHowYJIT5prf0XO636vv9pz/M+6YKllJKvAjyiVCpxeOrj4/UJfvuz1nr3sFJ86qdYLD4lr+gYrnXCtQ64kHmX8t0LeXYlw67lNUw/PL3Hsrl06dLttt9++98JIT5Xr9d/VSqVeqYPQZ/NVw1XjTHfVkrx1c5f0FpzP8MOwx09LnUiOEX2/snJyVc1m83NCxYsuIiIzgsdsjoqcOSjJBnopg8O0543b96/fN//RrPZPGN8fPwOPqVHROPGmPd3U34XfUW0PGH6nue93Fp7prX2PRwBMoioxk72HV+5yDaJtfZNQogfWGsvdTX+xcaDh7TWC4mIr07gxYAr2X6p1Wp/aNUOlUpFWWt5zDy0ncNckuwHpzA71vGk9FtM5r7M1/KmPTSSJn2+3sbzPF744sjSvtaarxtO9SSlH1wH+z9ExH0iH9C4NdCTxGuYk9IO2niFEIIjR/O1eEWeoBhj2OE509OqL5dSHpiXndgq/VgBOarhBdbaP3ayKBXTg1R2vJSST+2ybm621h6cxsEvGGMS03cpU0EZvuH7/ndqtdqvyuXyqz3Pe7HW+oikRk+SqW7kNS2boIzseFy11r6oVqtxlM5UT1L5u9WJlOmzfr2SI+sHV9icUywWd81i47vWt1QwH3FQ57kzO1p8P28Hjrhdnmf6PbCb2Ll4q3ms1vq9abmmeY8P6gkhvpg2GnCaNMN34nOKcCMpSxrt3lVKcZSqzwwNDR25YcOGh4aGhn7CBwnyWCdxaa+mrXtwfXXua01p+pa0ZYy/58pWxty6dYskyWm3a0GzYW7tUl7byW/gZDa1ednt43L8CewMp2OEyz48SX67WRcI2EytlbZbG+ommEBUN6SUfKjoRj6kI4TgQ/C9jKCY61qTa33rgc007fp4NzKFtab2vWGv15qS+o5ux740toxSKtNaV0gvDatOyp/FTspa9jZ6y449fLhzmz28DtLfZhxrt2fXCZvInGTLfGe6taUOyp96DzBr2lltkCS7rZtxr1VZej0WRnT/RUS0FxFtb60t8615pVLpzZ0EJZiOcbR+wc2JfFXrA0KIWxYtWnREmkOhadswTb+TNq0074X58e2JxhgOZMBPbuug09jYvK/Ba587FAqFbzUajcvzdlCM6Pwp7HMQcVAcIyLeO59ao5ZScpApDp50hBDiz2FETKXUqUT0ZK31q9OwjL7TAzuqp34AaeQyr37N1fgYb0OX42WLvDhSZ3yPNbfxM6t8xt9XSnU8j8hT1vOaHyTZh2nnAXna/Gl0KE075rVnnEbP0nKKruET0duI6OtZ9+Kz6GMaTtO903cOinztIF8ZREQ2qJiw1t4aXk/ISkhEp3med/jY2Nj64BTOx/iKLX4/uFL0AY4i0w08KeW7iGieMeasYPDk6wTfpLU+vpt0W31bqVSWW2vZGeV8IcTvrLUfi2wwcuS9BwNng66yVkpx9McKRzTkSESBIXCuw/y+SkSHeZ731EajsdHzPHZQvEIIoUKHD/ZILhQKF2itOXJkx0+lUtnbWvtNz/OevnDhwgcffPBBZsnOkEe5YBl2mIVCgev37/H6cPhxvuo25qB4u+/7+9ZqtXuyVHSmdMKlDriQedfyrZRyKs8uZdiCFjEMAAAgAElEQVS1vMYn40H0Jd6s5Ihhr65UKkuttddorfcIZZ9PwXWiD3HdSdKPSH7Xe5538tjYGF8T29HjUidaGKt8velJeW0oJ8lAN31wO6ejIErfucaYAzoC/kg0NafjYzT9+MGG5cuXP2ZoaOjmtFH62tUxiK51ETvOE9HKvMa/FrLPReDTpftprbeLOCheFdgvf46XsVwu7+t5Hl/N+K7pojclyX63Op6UfqTcvHDzeWvtgZ7nHVWtVjekka2k9AMHy58Vi8WjRkdHNyql+Krf1BEUk9KvVCqHWGs5gtV/1Gq1i3jhJbgS9sik8ielHdio7IT6CU5bSvncIDL1E5PSjv/eSpeDsudil07noMhXoc+bN48jiM3TWvNVuR07kwdMMtnx7OAnhDg5fh16O4ZJ7eJaplqVSyl1vxBi9yS9SCp7N/KahX25XD5GCPHOrBvKSeXvVifSpB/0nTxfXcSHCYjoXcVisTI6OnpfWr1zrW9py8HvRcap72qtOZpo108ruzxPB0XXdlMbu/98PvjSNZwgAb4Wy1r7yzzT5KRbzCm4b2XH71QRYtPUTynFV1K9nIj+EUQePkhr/R9pvp3uHZf2asBmxtaa0vQtnfBzZStjbt2+NZLktNu1oJmcW4e1diWvcarTzcU60Qf+phfjj8sxwnUfniS/3awLBDbYVg6K8bWhTts1mnahUFBCCD4o8vxKpbKabwbKak+mKUev1pp6pW9hnZVSWGvCWlMaFdjqnaS+o5uxL60tI6XcbIzhGwTCw7ht17riFUxal8ta/qx2UjdlD8a2Z1trXy+EKLTa58qafpY9jqxsouyj853p1paylD/r/kmWtDMrxiMOV87GvVbliehiT8bCML9isXiSEOINHB2vWq3+XSnFEYxv0Vp3fftTtJ5hfnxYsFgsXuF53rHVanUtX/tKRCVjzGs7aafpbFCX+/Fhvq1s3rzXQaN1jObXbDYvLBQK/6O1flqlUtnd9/3fdOqgmGQbhT4HEQdFI4TgvfNbAluO9+wvIKJjfN+/plarfSO03621+xpjzsjavq7tKJfjX6dymWe/lvf4GK9Tr8fLFvnnOn6mlc8kXYnY5an3rF3KeqfzgyT9SDu3zGt/Oa1NmdSOee8ZJ+lZWk5c7nZr+Gn24rPqYxKnpN/7zkFxugpxBDMhxEGNRuMZN998893BoPY1z/N+E26sSynZ4e43tVrtO0lwpvs9fqUzh08losO11q/sJt34tyw0Qgh2Tvyo1vrs4ErnqVC9/C5frSeEYKOBr0bu6mFnTmvtLkII3vTdkSNEEhE7JvCpBj75kmt+UsoP8skMrfXrAkPjdGvt84QQHJlo6io3pdRhRPQ+rfXTu6kcXzUlhNhZa81ewzw5OI6I+G/LHNVtavJRLBbZ4YpP6x4drc+SJUuOW79+/T+01jsEE2d2NOUrn/lauK423aOcXOqEKx1wJfOu5du1PLuU4chk0om8Rg0Ivs620WhcIoT4idaaHUQocv0rX3HOC0lO9CGmG29ZsGDBl2688cZ/BX0Chzt+gda62mlf40onuDx8rWmz2VzCDkZBednJ6AXGGD6h2PWTJAPd9MFh2p7nDRWLRV6omLqmcHh4eL9CoXC21vqgTirgqq8IyxJPv1wuP87zvOfzWMzvBJspfI3nLlnLXy6X9yoWi17oEKuUeo219gQX41+8bHztjbX2iDASHP9bCHF4/NpOKSUfvOBrUF+ttf5pNzZRtzqeRreCa3i/L4TYbv78+c8NdTtN2ySlH5zUfAcRscMj2877ENENwdXYDyblkZS+lHIFp2eMWcxpBROJe4wx23ebNl83a60dM8Y8LkxLKXW353mrxsbG2HEk9dNqMpinXdpushk4A/MJ2vFgEatrOympTTjK78KFC58W9rlB1N87wzZKgpaUvmuZKpfL8zzP44NTWyLGs4Pipk2blt52220PdaPP3chrYAufHPRBfDCKbf2Wcygp5f8IIa7P6hCXgn1XOpGUfjBm712tVm/i/+ZrMTZv3szRglNdOR8Zg7aJMJSnviXJcKtxKjjI9vqkb9P83sYuZwe/N6b5PumdHthNreaxI3ltiATj5h3z589fkWU8S+LCv7eaUwghTtdaPyvN90nv8LVq1tqd1qxZw1fLs46/yVq7uzHmTUnfJv3u0l5NkbfTtaY0fUtSGeO/u7SVMbdu3xpJctrtWtBsmFu7kNck+c0q/+3edz3+BP2sszHCdR+eJL/drAsEbLbYN63WhrppZynlRKPRWF0sFs/ivYEg0vEia+3jiegSY8wLukk/7bfcRnmuNbnWtx7YTNOuj3cjU1hr2lYqZ2qtKanv6HTsy2LLKKVuttYenrTWFVLLwipr+bPaSVnL3kZvz+ADia32ubKmn2WPIyubkH98vjPdXDdL+bPun2RJO+04EH0vyW7rJM3pvun1WBjmNzQ0dLS1lm+dmZpTBrdVnaG1fmaedQx5Dg0NPcX3fd4XmRrbWZ+FEN83xuzdbX5Z+p1u8wpso632//lvLtZBw7LG6yel5JutXiSE2MSHwq217HfwZ2MM78vn+rRwUOTIdWdprX8fsLjM87z3WWv5tkrfGPOR4O/v4T1DY8xHsxbItR3lavxLmhvl1We24ulyfIzn53q8jOfnevzMKp8t2rnjeUSesp7X/CBJP9LOA/Kw+fPq2/PaM86iZ0mc2qzhHyuE+F6Wvfis+titvA+Mg6KU8gNCiNXz588/LrqIH0SK4ZOTx69YseKxxWLxmmazeVDowNgpwFWrVi1pNpu/5yg9u+666/3r16//ORGxowV7+OfysDOEEIKdZnjDYItzgFLqBmvt64wxVyqleMDeIY8F/5jxvCXcsqv8givivt1oNA6cmJjYKKX8cRDC+T2e5x0zNjZm+I55z/P+Wq1WP98N1CAKy6cXLFhwyI033rhJKXW2tfYuIQR7yOfOMuwwFyxYcGej0ahF68PXjBhjviClvEAI8SOt9XlsnBHRs40xz+mmnrE2dKoTLnSgVzIfNYbzkm/X8uxShl3LazT9er3+V+4rWQdi8upUH1oYe+wkeaHW+n+Cq+j4iucndKN/LnQiLM/w8PDBhULh28VicV8immw0Guyo+DWt9fe7KXNkcjq1aNyqz+q2D46cbiS+ylsIsW+1WuUIx3yasqq1/kTWOrjuK1qlzw5KixYt4hN9x2it/8oTeCHE47XWp3dQfnZGfOPSpUuPvOOOOwqe53F7chTWT+c9/rWY+PF4yg7xH+KIEhyVWmvNcrXlCcK4/44j+o2Pj1+TVL80st/NmJcmfaXUt6y1HNn6xKyO/mnSjzLIesVzmvSllOzM9A5jzM+DU3Svj1zN07YJ0qStlLo1iMj4O6XUoUT0ba31yqR2bdFvbuMwxe/kOI62TF9KyVHQ/2KMOTNrmdu9n8TtgAMOKG3YsOG2ZrN51Pj4+GjgUMiLrakWV5PSb6GXma4NT5M+X49MRGeyTJXL5ZezE74x5tgkhinT7kheOe806fN7Usobfd8/YXx8fDypzNHf06TfjU6kSV9Kea219rW1Wu0PfD0HH/zKehVNO4fdvPQtiWm5XN5mnBJCfKVarf4o6dusv8cXqbN+3+r9HthNT+G+NDqP9TzvZ+EVRN3WgaNw8vXOLjYF2s0pjDG8MdH1s2rVqic0m83vLF26dL9bb711YalUurrZbJ6Wxp5Iyny6OUu39up0efdirSlN35LEJ/q7a1s5ZjfmvnaEuXX71p4Nc+u85TVe23bym0UH0rzrYvwJbBhnY4TrPtx1P5tGftO0Xat3WtlO5XKZrwjs6RXPUspc15pc61sPbCasNUUEdlDXmlysK2e1Zfg2jaS1rpitlGpdrtt9nDR7EFnL3k5vieidrfa5sqaf1g7rhk2r+U67uW6W8mfdP8mSdifjk8txbzaMhZHoWL7neX9oNpsHj4+P36aU+qK19n5jzPs64dbumzC/UqnENwNdWq/XnzwxMXGXlPKdwa18L+smv6z9Tjd58bft8nOxDjpdfmE9gsMjPbviWSn1ZmvtXsaY05RSFWvtxYsXL5YbN258orX23A0bNhy6ww47ePV6nR0Y+errG7Iyd21HuRj/0s6N8ugzW/FstR7Yat+qmzGgTf+VuK7QbZ/tevzMKp/x97uZR+Qp63nND/KaW3a7v5xX356nHZ9Wz9KsdbZJi2/4+ZQQYr9O9uLT2K/dyvtAOCjus88+Cx9++OF7iegOIuJINlwva619Fp+aCjaG+Eohj4g+kJdDR9DofMXzEEcaNMZwdJ3cnuA66jcKIUxYJ3bg833/u57n8fVaHGnnFiHES5Kua8taqKjwDQ8PjxQKhXNc5CelZKORN5yLQojLtNavl1IeJoTgSeV8IvrTkiVLTrviiisaWevQonN/KxGdGpyivXZycvKMYrG40kXdwtNDExMTt0opn9qqPhz90vM8DlO9hK+/8n3/xFqtxtdvdv30Sify1oFeybwr+XYtz1JKJzLsWl7D9Eul0tOttRx9hK9RDvvp640xp7rUh1YKFUy4WP/YEfxfzWbzVHZC6Vb58taJaHk4Ag0R/Ze1tiCE+KHWmk+P5fKkkYFOM4ql/WIhxLuttUUiunLp0qWnd9K/u+4r2qVPRFewEyGfKGTnSiHEKZ2Ov5wHET3HWsvjG5/y/Gi78aJT9q2+W7Fixb+VSqWvWWsVET1cKBRezpEc+WSUtZZtpGdKKTly4nFCiLUR++McrfWX2pWllexLKc+x1l7AUei61fHp0rfWVguFgiYi/t/moIxWa70/24Np+CWVP6aLma545m+T0l+1apVsNptfISKOpPyg7/unpHXMSkq7UqkcYK39f9Zavu6Io0C+tpNFnaguK6V+3mw23zs+Pv6XvOzEVul7nrejEOKXRMQOcVNtaa3lSIaJjnZJ7Z7EjTc0Pc/7TKADtxeLxVeOjo7emZRu+HtS+q5lKjjR9+UgIvpdwWIez5USn6SydyOvafSB35FSbiiVSjuNjo5OJhY49kJS+bvViaT0OUKw53lf5Yiu1tq/Lliw4NSsUfBc61sapq3GqTTfZX3HlYOIS7spkNFt5rFpx5wkRoGj+nO11i9JereT31vNKdauXftwJ2m1+kYp9XYieqm1ltdfPmOM4bWErh+X9mq7wvVqXt2ub+wUmmtbOVouzK23bqU0ctqNXTxb5taO570fttZusxaqtX5vpzrR6jtX44/rMcJlH55GfrtpgzTy22n60bKHacyEg6KLtSaX+sasXNpMLmUKa02ttWUm1prStHPWsS+rLRNf6/I87xVhVPt2/UoWVlnLH+aZxk7qsOzbrBG3W5vpJP0sexydsGk13+EIQK32PLOWP8v+Sda0s45RLse9NrbNVDRh3pPsxVgYW7fgdbqP8V45r4M89NBDL0+6waNTnlw/jhbGB72JqE5EE57n/VfWm2Li+Wftd7KWP01+1tpNQoiDXayDtqtfaGP32kExuA2Jb085mCMmep73hmq1yofU2TY5w1r7ar662/O8L3UTwMilHeVi/EsjJ9P5ieTRr/VifIzX09V42YKn0/Gzm36h23lEnrKex/wgjX6k4dWtzZ9X3573nnEWPUvi1Catjvfi0+hjUpmSfh8IB8WkSuJ3EAABEAABEAABEAABEAABEAABEAABEAABEAABEAABEAABEAABEAABEAABEAABEAABEAABEAABEACB3hKAg2JveSM3EAABEAABEAABEAABEAABEAABEAABEAABEAABEAABEAABEAABEAABEAABEAABEAABEAABEAABEJgTBOCgOCeaGZUEARAAARAAARAAARAAARAAARAAARAAARAAARAAARAAARAAARAAARAAARAAARAAARAAARAAARAAgd4SgINib3kjNxAAARAAARAAARAAARAAARAAARAAARAAARAAARAAARAAARAAARAAARAAARAAARAAARAAARAAARCYEwTgoDgnmhmVBAEQAAEQAAEQAAEQAAEQAAEQAAEQAAEQAAEQAAEQAAEQAAEQAAEQAAEQAAEQAAEQAAEQAAEQAIHeEoCDYm95IzcQAAEQAAEQAAEQAAEQAAEQAAEQAAEQAAEQAAEQAAEQAAEQAAEQAAEQAAEQAAEQAAEQAAEQAAEQmBME4KA4J5oZlQQBEAABEAABEAABEAABEAABEAABEAABEAABEAABEAABEAABEAABEAABEAABEAABEAABEAABEACB3hKAg2JveSM3EAABEAABEAABEAABEAABEAABEAABEAABEAABEAABEAABEAABEAABEAABEAABEAABEAABEAABEJgTBOCgOCea+dFKSilfJYR4BRGVrLVFIcRf6vX62+fPnz+/2WzeQkQ3EFEoF4uI6B4hxGur1ep1e+211x6NRmPcGFPiFJVSPhGt01ovIyIb5lIul1/ued7XfN8/qVarfWeOIUZ1+5yAlHIfIcQ3ozJNRI8lol2J6CdEtG+xWNxndHR0Y1hVpVTNWnuqMeZ3fV59FH8OEZBS3uJ53om+739ECDFPa30YEXG/PvVIKeuNRmPlxMTErVLKtUS0WQjxLyLyiGiIiH49f/78d9x44438t6kxQQixW7VaXRfRjUOttecbY/YM3nmGtfa9QoiF1lpOZ6JQKLxtbGzMzCH0qGofEJjOXoraQhF9OUUIcZLW+pjwb6HdRERfNMa8OVptpRR0oQ/kAEXcmgDLdDBfeK3W+uzw10qlwmPJacaYI5ctW7ZgwYIF7yOi5xDRZDCv+FWj0fjAxMTEA5VKZZHv+38mom8ZYz4WGS++aK3dzRjD3+EBgb4kwLaQtXZUCNHgClhrtxNCPOT7/ttqtdql5XL5CM/zLrfW/sAY86LYuPAtIjo5bkv1JQgUGgQemRvUiGiD1nq/KBAp5XFExHbRMiFE01q7SQjxOa31+cEc5BS2nYQQ48EYwmtNvEZ1j9b66YALAv1IIDI+1K21BSFEgdeXtNbvJ6JmfD69cuXKnYvF4mettU8M5uiTQogvaK3P68f6o8wgEMr4dHZSSGmfffZZ+PDDD99ORJdrrZ8bs5dCW6utLoE2CPQLAaXU14noSWznWGv3IqK1QohNj0wj7LOMMXcopXhufZa1dj9jzI2R+fN3rLU7GGOODf9WLpdP8Dzv48Vi8cDR0dH7+oUDyjlYBKI2T1Cz+UR0pe/7r/c871Qi+q9grrx7sNdwV7AP9wFr7WNi8wDWDf7b9fPmzXvFTTfddH9IS0r5Ut7DE0I8u1qt/oz/Xi6Xd/M878IgPd7b5n3rNYGO/cUYc2q4H1KtVq8O5h77ENEHhBBP4LkLET1MRGfD5hosuRzE2kTWaKd8OnivTQjB+3MfqVarPxrEOqNOg08g7ocUmwecZK19gxCiGPg43VAqld4yOjp6p5TyEiHEzsHa0T6ROYfVWu8f+nsEtteLfd/fvVar3RPMUZ7NtlZgfy3htIUQtwZ5n6O1/tLgk+99DeGg2HvmM5ajlPKzQoj9G43G826++ea7A8XjCc6LisXifzQajVFjDDudbHmUUl+w1u5vjDk06Bhq4TuBsbnWWvtq3nCJTJB+a60tW2vfAgfFGWtuZJwTgRUrVjy+VCr9noi+SkSriOiFwULyiRGZh4NiTryRTO8ISCknPM87KXBQPJCIeGPwXZGJ/mSj0RgOHBRv8X3/JePj49fw78uXL58/NDT0XTb4jDFswPEmZFMIsayFg+J5xpgVIyMju9TrdV4UOMAYMxF8c6q19t38e+9qjpxAYHoCndhLUkp2UDwxunEupfyEEOLxRPSfvu/vUavVHuScoQuQwH4lECx+cf+9QQjx1Gq1ehPXJXBQ5IMax0gpfyeE0EKIN1Sr1Q3lcnme53kfIaJjN2zY8OR169ZtKpfLe3me93shxHOq1eoV7BBMRGds3LjxIP69X/mg3CDAtpDnebuNjY2tj9hTZxLRmcaYpYGD4vettXxYcM/IuLB9o9G4nohWxG0pUAWBfiSglDrWWvseItrR87zXVKvVy7kewWHWDzabzReE84pgnemXQoj3aq1/2Mqm6kcGKDMIRAnEx4e99957h8nJyZ9ba/9kjHljfD6tlOKN9qu11h/n34aHh5cVCoVrhBAnh/oEwiDQbwSS7KSwPkqp04noKGvt06y1T67VajdHftvK1mqlS/3GBeUFASbAa7S+758Y2kcBlYJSig+M/4oDjRhjXhrSWrp06Xbbb789jws/1lp/sFwu7yuE+IW19qharcZrr3hAYEYIxPv61atXF9evX/87a+2Vxpi3R/rzb1hrea/5o5G58zZrqyMjI0P1ep3Xjy7VWr878v0fiWiUzSSt9eHxyvLcWwhxjjFGRn+LOihWKpX9fd9np5YztNY/CHSR9yg4SMlPjTHssIIHBGYlgbi/BheSZdpa+/tisfjYaICdWVkBFAoEWhBoJdf82vDw8H6FQuECz/OeNDY29o+gv/6gEOIIrfUR0aRazTn492DewPsabC/dbIzhQyBbPUop7vd31Vq/Eg3klgAcFN3ynTWpB4tZt1hrZegYEjH8Xux53t98378u6qDIEVC2226784IJ0LPbOCh+SAjBRuCUs5aUkjdV+ATXJmvtuXBQnDUigIJ0QCBwwuKoiDcaY/5LKfUNIrrXWvs8a+0Ha7Ua/3sqOgQiKHYAGJ/MKIFoBEUiuowjmQghnq+1/k3Qn0cjKE5FWwxPFwa/78onSTzPW8UREKeJoDjloFipVPb2fZ8Xzw7RWv81qLxXLpePr9VqvwgjR8woFGQ+5wl0Yi8F+rDVIho7ZQkhOOrDM4UQH7LWXmqM+TS/C12Y82LWtwDCU4xCiLcS0Ss3b96839q1ax8OHRSFEF+x1n4iiJq7Jbp6YCux89W3tdafDf79Amvt54noNUT0P57nHVKtVnnzBQ8I9C2BFrYQbyp+hoh4wexJgYPiuUT0J2vtFcaYc4Jx4RW+7yshxFvgoNi3zY+CRwgopS7iSClBpLhDtdbHH3DAAaUNGzbczgdcjTG86bflUUpx1PV/M8b8Ag6KEKVBJNBqrjw8PHyw53lXlEqlnXgDMfqOUuo6a+2FxpgPhrccVCqVAzzPu2fNmjV/H0RGqNPgE2hnJ1lrVxtjOILV1COlvEkI8eHASbFujDkj/C2NLg0+SdRwEAnEo7oFc+bn8/6DtfYYz/NqQoiV0UPhw8PDw57n/UEI8Rqehwsh3qi1vmAQ+aBO/UOgVT8dHOBepbX+j0h/nspBUUrJt5pdLoTgqIafC+bPB1hrf1Wv15eXSqVbhRBHVavVa6OU0jgoSikvFkJcq7V+b/RbKSVHNv1Ts9ncLQz00z8tgJLOFQJtHBRX+77/v4sXL15+7bXX1ucKC9RzcAi0c1Asl8vP8jzv7EKhcFg4H+Zbmqy1vN50SWx9aZub/oI5Bu9nPM3zvA/5vn/B5OTkMt7XiH0LB8UeiRMcFHsEeqazkVI+RwjxJa31Lq3KEgsH7FlrOeLPA0KInw0NDX2Mw2e3cFDk63g49PWVCxYs2IOv+VRK8SY8b8i/yFp7DhwUZ7rlkX83BKSUPxRCPEZr/Qx2nmIHRT7Z5fv+5YVC4eJCofDkNWvW1OCg2A1lfDtTBKIOitxfe57XsNZ+tlAoPJFPocSueN7GQTFYLLvb9/3Ta7Xaj5McFAMj8BNExBEibhFCXMOb89ba79Vqtc0zxQH5gkBsESqLvRR+yvb0jkSkwwiKHCFICPF2Y0yFnbestR/TWvNV51NXuPHiHHQBstdvBKJzAaUUR/1Zxwc4wiuehRA38RzCGMPRprd6lFLsoLsiek2bUuqLHDmRiI6LLyb0GxuUFwQCuyi8dpD7+sdaa3lB+Be+7398fHz8tnCTxFp7hhDifcaYpwZjwpWe551mrR3DFc+QpX4nwIdWiWjM87w9G41GwfO8m4UQT7TW8uGNv8yfP38xrx21qyc7KEauduPX2M5ip/fvaa0/2e98UP65SaDVXJmjXy1atGijEOLJ1Wr1uug7gUP7+dba7YJ5M9/q8f34gfO5SRO17lcCkWs/W9pJXK9KpXKktfb/fN/fxfM8dkD55bx585aF13qm0aV+5YNyz20CbRwUryCiSziarlLqUmstBxd5Z5RUcK3zD621nzTGvGNuU0TtZwOBeD8dOBj+mg+mGmN4DWjqCffZ4hEUI/MAvhr6sUQ0znsHwbdTB2GVUt/kq5i11q9WSvGtZ4u01i+O6UZiBEUp5YNCiBdqrS+Os5NS3ut53ivC66NnA1uUAQSiBGI+HcTXoQsh9rDWnm6MYb3AAwJ9R6CdgyJH4123bt3XiYj7+jU8RxZCXFatVv8vPNAXGV9aOSgKpRSPJ3yb3/eklJqIPmOM+UoUEiIo9k5k4KDYO9YzmpNSiq/g/KrWmu9g3+aJK32lUlltrf2+7/sn1Wq1X/EHrRwUOcKDtfZTQWSgb0spq3z9ghDiAjgozmiTI/MuCSil+DrC59Tr9YMnJiYeiE+cpJTv4asJi8XiwXw9OiIodgkcn/ecQNxBkR3KpZTnCiF20Vo/M6WD4l1EdAo7lrS64llK+VQhxNe11uWwgitWrPi3Uqm0mogOs9b+pxCiXiwWD0TY+Z6LADJsQSCrvRQmEY/2I6X8c3DVzseDiNTrfd9/TfTgBnQBIthvBKJzgXK5/DghxA1CiDcJIUq+758mhODouMuiToiRxQFeiF6qtT6B/xZEqb4quAb957yw3G88UF4QiBPgzRjP83blK56Hh4dHCoXCJXzNrTHmW/xuNIqDUoojPRzeaDSKnud9yxhzaKtNd1AGgX4jwA7pfJDVGMOH/HgD8VIiWmutPVsIcV3UQVFK+T0hhCKiIWvtP1kPEEGx31oc5U1DoFX/HswR2Fl3L611tcU7Qkr5FCI6XAhxDM+fiei5ONSRhjjemY0EkuwkLnNwUPwf4dwg2DxkO2nqCm6sZroAAA2SSURBVNDpdMlaO2KMGZuNdUeZQCCJQNxBcdWqVU/wff8Ga+0expg7goOv/2/Dhg27rlu3blNknv1lIjqeiO7xff9gHABPIo3fXROIOKPXg2jqHOTm/4wxvNe25aaNdg6KQogTw8PfUsq3CiFe6fv+kbVajYPi0MjIyI6NRuN23/efVqvV/hBEYr+i0WisnJiYuDWsX8oIig96nndSKydEdl601p5Yq9UudM0M6YNAJwRaOXJxhPZCoXBZs9k8enx8/JpO0sU3IDCTBNo5KIZlWrly5c7FYpH3lvnA93PYiV1rfWRsfNnGQbFcLj/T87zz+BAU20pSyncR0Us5uEi0vnBQ7F3rw0Gxd6xnNKeRkZFd6vX6bYVCYYSv4owWhif/RMQG4p+iVzxLKV9PRGeVSqWR0dHRO9s5KPLV7b7vv52jAwkhTjHGnCSlvBwOijPa5Mi8CwJKqZOJ6NNCiAOj1w3GJk68WMynv3gz/jgiOs0Yw9dB4wGBviAgpZzgSbjv+x8J++sgisOfiegcPn3baDSGeXLf6iRvcErrZt/3l/MigVLqTt44qVarN4UAKpUKX4f+Fq31QZVK5T+stY/TWn8t/J1Pvqxfv15ba99qjOHTLnhAYEYJdGIvcYGjm+nlcvkgz/M4yskd1toGR/4RQuxARDdrrfeHLsxoEyPzLgi0mAscZa39ARHxtc18RcLZHInX9/3h2MYIn1IMr3jm6255c/G71lqei54phLjeWvs2YwyfgscDAn1LIL5pHvT3P+AIQGNjY3+LOSjyRjtfJTKPI0trrc+Fg2LfNj0KHhAInM9vF0JwZPapzXMhxHZEtLher1eKxeJfrLUvj2/0RXUDDooQp0Ek0Kp/D+T+ouCK58nwnWazWfc874Na69eG0dcD2+lDRLRP9HrEQWSFOg0ugSQ7qVKpLPV9f60Q4m5r7WQQQXcREU0uXrx4D76qMI0uDS5B1GyQCcTXXZVSX7bWnkREdwf19vjAH8+fwyh0UspXEdGbS6USB0/4aTCn4EjUeEBgxghEndGnK0QaB8XA/vm/4KaOQ4N/c6TQ9/ONHmH6Qoil1lqO0Hhm+Lc0DorBzSDV6Hf8faVS2d/3/asbjcbuExMTHJwBDwjMOgLtHLmUUn+01v7IGPOpWVdoFAgEEghMc8Xzyz3Pu19rzfbO1FMulxcLIe7wff+I8fHxv4R/bzVfkFJeIoQ4yFp7H78nhCiyXeX7/nOi61NwUOydiMJBsXesZzwnpdTnrbX7FQqFF3BUByIqSCn5PvXne573bN/3/2aMKUUKyg5YfyKiCb6qLegYxsN3Ikq+Xin1d2stX93zYa31r+GgOOPNjQJ0SEApxafSL2w2m8fFT5nEJ068eGatvYHDyFtr/x0Oih1Cx2czQqBVBMVgov9EIrqSiBbW6/UVrRwUly9f/pihoaFvCiEe0FpPLX4ppTjEdiM46e6PjIxsX6/X2WC8whjz4eCqnu8T0dFaa3bsZSNyped5V/i+v7pWq908IyCQKQjECHRgL23loCilPI8nOdHrRVjWhRB83eHTeQ7EUaqhCxC9fiMQnwsEfT87Wb3JWnuNMeYoPrwhhOCIoafXarUHR0ZGhhqNBi+KHVMsFp/C0XKVUu/gk+gbN248kKM/KKXY0fEC3/cPjy4o9BsflBcEWi2CKaX4AMYSrfXB0U2SSqWirLUXEVE9OBS1AQ6KkKF+J6CUOpWI3qe13jNyzQ6vO3FEK3ZMX+t53vubzeaLwrl2pVLhufRZ1trjjTGrAgfFk7TWHDEODwgMBIEWjlm8lvTj4DYaXpfdEhlul112uXvdunWjQohvaK0/wdEgAnuKD3JUtdYfHAgoqMScI5BgJx2ilGLZ5vWig0M4wa0DHIX3TXyYKY0uzTmwqPBAEIg6KIYb7tbaE2q1GkeinnqklO8Pov2slFLy/sVPrbVPrdVqa4LDtn8J9ubOHggoqERfEkg7p03roBg4r/OtfW+r1Wpf4YALRPSx6BW2UsqXEdEX+DaDarW6gcGlcVCsVCoceIevUn+tMea7/N2qVatks9n8Ed8QqLV+b182Ago9Jwi0WqMN5Pdaa+2zarXab+cECFRyoAi0kuvABuI96HcXi8Vj1qxZ83f+W6VSOcD3/QuttYr3IEIQ8XFoeHh4uFAoVIUQI9Vqla92nnqUUjy/3lNrfUTkbzw331Vr/cqBAjsLKwMHxVnYKA6LxNFL3sanr/hKzSBawx/r9fo758+fP7/RaNSiERQDpX+KEOJq3/ePK5VKOvpO9DpPKeXH+O53Y8zy4LvfWGvPjV5l6LBeSBoEciMgpbyMiPYTQqwNTutuCT1vreXoo38NrxYJJjvP8jyPFwSOhINibs2AhHpAIBJB8cPx/lpK+VohxOfr9fqegYMiT/55A52voCJrbVEIcdGiRYvO4lPsgUHIm4ufDq6e4tPupeC0Fkd6aAZG37OJiB1TduRxiE+sCCHO0lr/pgdVRhYgkJZAJ/bSKXwNCRG9hIhutdYeYoxhB/YtT+DEuzNfoR5cJQ1dSNsieG9WEGhzirGglLrSWvsQOyjyBnq9Xn+3EIIj6HLfPySEuHRoaOism2666X6l1LHW2vN93z9wfHx8PKxYcLXCafPmzduf35sVFUYhQCAjgej8OPx0xYoVuxeLxVGOdmKt1UKIc4wxMrCLriaiWuSwR1MIsaxarW6JBpGxCHgdBGaUgFLqOiI6T2v9uWhBAqfDT/m+v8zzvMM4wjov+goh+Mq3AhH9yvf9z42Pj98WvPsFjjwdSYPXLm2xWDyOb/eY0UoicxDogACPD9baNcFaLKfAB5a+E41sEh1DeOwolUqfsNYeSET/4nDswdz6A9HrqzooCj4BgRkjMJ2dJITguTHPIV4TjYwS2EvsxH6CMeaJaXRpxiqIjEGgCwLhGm21Wr1aSvk6IcSpWusnRZNkh91isXiLEOINfOuNEOL1Wmu+GW3qkVIeTkS/IKKjjDF/7KI4+BQEOibQqq9vlRivkVprORgOH3oNZXhqbTW84jnyd547vItln4h4TrFH7NaO8EDUV40xvDcxnYPi1I1SrGvBGFOx1vLeBQdsmBRCbLLWfgk3fHQsAviwRwSC2814z+7GIEvPWss3dHzOGPOVHhUD2YBArgRCubbWTu1Dhz4a1trnCSH2EEKcYa2dL4Twieg23/ffUavV+NamLU98HJJS/jcRrTTG8N70licSUOSQarV6bTAmwEEx1xZtnxgcFHsEGtmAAAiAAAiAAAiAAAiAAAiAAAiAAAiAAAiAAAiAAAiAAAiAAAiAAAiAAAiAAAiAAAiAAAiAAAiAwFwiAAfFudTaqCsIgAAIgAAIgAAIgAAIgAAIgAAIgAAIgAAIgAAIgAAIgAAIgAAIgAAIgAAIgAAIgAAIgAAIgAAI9IgAHBR7BBrZgAAIgAAIgAAIgAAIgAAIgAAIgAAIgAAIgAAIgAAIgAAIgAAIgAAIgAAIgAAIgAAIgAAIgAAIgMBcIgAHxbnU2qgrCIAACIAACIAACIAACIAACIAACIAACIAACIAACIAACIAACIAACIAACIAACIAACIAACIAACIAACPSIABwUewQa2YAACIAACIAACIAACIAACIAACIAACIAACIAACIAACIAACIAACIAACIAACIAACIAACIAACIAACIDAXCIAB8W51NqoKwiAAAiAAAiAAAiAAAiAAAiAAAiAAAiAAAiAAAiAAAiAAAiAAAiAAAiAAAiAAAiAAAiAAAiAAAj0iAAcFHsEGtmAAAiAAAiAAAiAAAiAAAiAAAiAAAiAAAiAAAiAAAiAAAiAAAiAAAiAAAiAAAiAAAiAAAiAAAiAwFwiAAfFudTaqCsIgAAIgAAIgAAIgAAIgAAIgAAIgAAIgAAIgAAIgAAIgAAIgAAIgAAIgAAIgAAIgAAIgAAIgAAI9IgAHBR7BBrZgAAIgAAIgAAIgAAIgAAIgAAIgAAIgAAIgAAIgAAIgAAIgAAIgAAIgAAIgAAIgAAIgAAIgAAIgMBcIgAHxbnU2qgrCIAACIAACIAACIAACIAACIAACIAACIAACIAACIAACIAACIAACIAACIAACIAACIAACIAACIAACPSIABwUewQa2YAACIAACIAACIAACIAACIAACIAACIAACIAACIAACIAACIAACIAACIAACIAACIAACIAACIAACIDAXCIAB8W51NqoKwiAAAiAAAiAAAiAAAiAAAiAAAiAAAiAAAiAAAiAAAiAAAiAAAiAAAiAAAiAAAiAAAiAAAiAAAj0iAAcFHsEGtmAAAiAAAiAAAiAAAiAAAiAAAiAAAiAAAiAAAiAAAiAAAiAAAiAAAiAAAiAAAiAAAiAAAiAAAiAwFwiAAfFudTaqCsIgAAIgAAIgAAIgAAIgAAIgAAIgAAIgAAIgAAIgAAIgAAIgAAIgAAIgAAIgAAIgAAIgAAIgAAI9IgAHBR7BBrZgAAIgAAIgAAIgAAIgAAIgAAIgAAIgAAIgAAIgAAIgAAIgAAIgAAIgAAIgAAIgAAIgAAIgAAIgMBcIgAHxbnU2qgrCIAACIAACIAACIAACIAACIAACIAACIAACIAACIAACIAACIAACIAACIAACIAACIAACIAACIAACPSIwP8HjMJ5E6OpC/UAAAAASUVORK5CYII=\">"
      ],
      "text/plain": [
       "<IPython.core.display.HTML object>"
      ]
     },
     "metadata": {},
     "output_type": "display_data"
    },
    {
     "data": {
      "text/plain": [
       "<seaborn.axisgrid.PairGrid at 0x7fd3780feba8>"
      ]
     },
     "execution_count": 22,
     "metadata": {},
     "output_type": "execute_result"
    }
   ],
   "source": [
    "sns.pairplot(data=df_with_target, x_vars=df.columns, y_vars=['MEDV'])"
   ]
  },
  {
   "cell_type": "markdown",
   "metadata": {},
   "source": [
    "I will choose 'RM', 'AGE' and 'LSTAT' attributes, because their values look spread out across 'x' axis and they seem to be easily described with a linear model. Also, it is a common sense that number of rooms and age are  relevant to housing price."
   ]
  },
  {
   "cell_type": "code",
   "execution_count": 12,
   "metadata": {
    "collapsed": true
   },
   "outputs": [],
   "source": [
    "df_chosen = df[['RM', 'AGE', 'LSTAT']]"
   ]
  },
  {
   "cell_type": "markdown",
   "metadata": {},
   "source": [
    "# 5. What are the statistics for the chosen variables"
   ]
  },
  {
   "cell_type": "code",
   "execution_count": 20,
   "metadata": {
    "collapsed": false
   },
   "outputs": [
    {
     "data": {
      "text/html": [
       "<div>\n",
       "<table border=\"1\" class=\"dataframe\">\n",
       "  <thead>\n",
       "    <tr style=\"text-align: right;\">\n",
       "      <th></th>\n",
       "      <th>RM</th>\n",
       "      <th>AGE</th>\n",
       "      <th>LSTAT</th>\n",
       "    </tr>\n",
       "  </thead>\n",
       "  <tbody>\n",
       "    <tr>\n",
       "      <th>count</th>\n",
       "      <td>506.000000</td>\n",
       "      <td>506.000000</td>\n",
       "      <td>506.000000</td>\n",
       "    </tr>\n",
       "    <tr>\n",
       "      <th>mean</th>\n",
       "      <td>6.284634</td>\n",
       "      <td>68.574901</td>\n",
       "      <td>12.653063</td>\n",
       "    </tr>\n",
       "    <tr>\n",
       "      <th>std</th>\n",
       "      <td>0.702617</td>\n",
       "      <td>28.148861</td>\n",
       "      <td>7.141062</td>\n",
       "    </tr>\n",
       "    <tr>\n",
       "      <th>min</th>\n",
       "      <td>3.561000</td>\n",
       "      <td>2.900000</td>\n",
       "      <td>1.730000</td>\n",
       "    </tr>\n",
       "    <tr>\n",
       "      <th>25%</th>\n",
       "      <td>5.885500</td>\n",
       "      <td>45.025000</td>\n",
       "      <td>6.950000</td>\n",
       "    </tr>\n",
       "    <tr>\n",
       "      <th>50%</th>\n",
       "      <td>6.208500</td>\n",
       "      <td>77.500000</td>\n",
       "      <td>11.360000</td>\n",
       "    </tr>\n",
       "    <tr>\n",
       "      <th>75%</th>\n",
       "      <td>6.623500</td>\n",
       "      <td>94.075000</td>\n",
       "      <td>16.955000</td>\n",
       "    </tr>\n",
       "    <tr>\n",
       "      <th>max</th>\n",
       "      <td>8.780000</td>\n",
       "      <td>100.000000</td>\n",
       "      <td>37.970000</td>\n",
       "    </tr>\n",
       "  </tbody>\n",
       "</table>\n",
       "</div>"
      ],
      "text/plain": [
       "               RM         AGE       LSTAT\n",
       "count  506.000000  506.000000  506.000000\n",
       "mean     6.284634   68.574901   12.653063\n",
       "std      0.702617   28.148861    7.141062\n",
       "min      3.561000    2.900000    1.730000\n",
       "25%      5.885500   45.025000    6.950000\n",
       "50%      6.208500   77.500000   11.360000\n",
       "75%      6.623500   94.075000   16.955000\n",
       "max      8.780000  100.000000   37.970000"
      ]
     },
     "execution_count": 20,
     "metadata": {},
     "output_type": "execute_result"
    }
   ],
   "source": [
    "df_chosen.describe()"
   ]
  },
  {
   "cell_type": "markdown",
   "metadata": {},
   "source": [
    "# 6. Split the data into the training and testing sets with train_test_split (testing set should contain 10% of all data)"
   ]
  },
  {
   "cell_type": "code",
   "execution_count": 7,
   "metadata": {
    "collapsed": false
   },
   "outputs": [
    {
     "name": "stdout",
     "output_type": "stream",
     "text": [
      "455 51\n"
     ]
    }
   ],
   "source": [
    "ss = ShuffleSplit(n_splits=1, test_size=0.1, random_state=42)\n",
    "train_idx, test_idx = next(ss.split(df))\n",
    "print(len(train_idx), len(test_idx))"
   ]
  },
  {
   "cell_type": "code",
   "execution_count": 6,
   "metadata": {
    "collapsed": true
   },
   "outputs": [],
   "source": [
    "def get_linear_regression_quality_metrics(clf, data, target):\n",
    "    return mean_squared_error(target, clf.predict(data)), clf.score(data, target)"
   ]
  },
  {
   "cell_type": "code",
   "execution_count": 88,
   "metadata": {
    "collapsed": true
   },
   "outputs": [],
   "source": [
    "def fit_linear_regression_and_report_quality_metrics(data, target, polynomial_features_degree=1, normalize=True):\n",
    "    mses_train, mses_val, r2s_train, r2s_val = [], [], [], []\n",
    "    # Prepare splits for cross-validation.\n",
    "    ss = ShuffleSplit(n_splits=3, test_size=0.1, random_state=42)\n",
    "    # Evaluate each train-val split.\n",
    "    for train_idx, val_idx in ss.split(data):\n",
    "        X_train, X_val, y_train, y_val = data[train_idx], data[val_idx], target[train_idx], target[val_idx]\n",
    "\n",
    "        feat = PolynomialFeatures(degree=polynomial_features_degree)\n",
    "\n",
    "        X_train = feat.fit_transform(X_train)\n",
    "        X_val = feat.fit_transform(X_val)\n",
    "\n",
    "        if normalize:\n",
    "            scaler = StandardScaler()\n",
    "            X_train = scaler.fit_transform(X_train)\n",
    "            X_val = scaler.transform(X_val)\n",
    "\n",
    "        clf = LinearRegression()\n",
    "        clf.fit(X_train, y_train)\n",
    "        \n",
    "        mse_train_, r2_train_ = get_linear_regression_quality_metrics(clf, X_train, y_train)\n",
    "        mse_val_, r2_val_ = get_linear_regression_quality_metrics(clf, X_val, y_val)\n",
    "        \n",
    "        mses_train.append(mse_train_)\n",
    "        mses_val.append(mse_val_)\n",
    "        r2s_train.append(r2_train_)\n",
    "        r2s_val.append(r2_val_)\n",
    "    \n",
    "    print('MSE train: {:.2f} (+/- {:.2f})'.format(np.mean(mses_train), np.std(mses_train) * 2))\n",
    "    print('MSE val: {:.2f} (+/- {:.2f})'.format(np.mean(mses_val), np.std(mses_val) * 2))\n",
    "    print('R^2 train: {:.2f} (+/- {:.2f})'.format(np.mean(r2s_train), np.std(r2s_train) * 2))\n",
    "    print('R^2 val: {:.2f} (+/- {:.2f})'.format(np.mean(r2s_val), np.std(r2s_val) * 2))\n",
    "    \n",
    "    # Fit classifier on all training data.\n",
    "    feat = PolynomialFeatures(degree=polynomial_features_degree)\n",
    "    X = feat.fit_transform(data)\n",
    "    \n",
    "    scaler = None\n",
    "    if normalize:\n",
    "        scaler = StandardScaler()\n",
    "        X = scaler.fit_transform(X)\n",
    "        \n",
    "    clf = LinearRegression()\n",
    "    clf.fit(X, target)\n",
    "    \n",
    "    return clf, scaler, feat"
   ]
  },
  {
   "cell_type": "markdown",
   "metadata": {},
   "source": [
    "# 8. Fit the linear regression model on the training set. Report mean squared error and coefficient of determination R^2 on the training and testing sets"
   ]
  },
  {
   "cell_type": "code",
   "execution_count": 38,
   "metadata": {
    "collapsed": false
   },
   "outputs": [],
   "source": [
    "# Split dataframe and target to train-test using idx.\n",
    "def train_test_split_df_and_target(df, target, train_idx, test_idx):\n",
    "    return df.ix[train_idx], df.ix[test_idx], target[train_idx], target[test_idx]"
   ]
  },
  {
   "cell_type": "code",
   "execution_count": 90,
   "metadata": {
    "collapsed": false
   },
   "outputs": [],
   "source": [
    "def evaluate_df_features(df, train_idx, test_idx, polynomial_features_degree=1, normalize=True):\n",
    "    print('features:', list(df.columns))\n",
    "    df_train, df_test, target_train, target_test = \\\n",
    "      train_test_split_df_and_target(df, boston_data['target'], train_idx, test_idx)\n",
    "\n",
    "    clf, scaler, feat = fit_linear_regression_and_report_quality_metrics(df_train.values, target_train, polynomial_features_degree, normalize)\n",
    "    \n",
    "    df_test = feat.fit_transform(df_test)\n",
    "    print('Num input features:', df_test.shape[1])\n",
    "    \n",
    "    if normalize:\n",
    "        df_test = scaler.transform(df_test)\n",
    "    mse, r2 = get_linear_regression_quality_metrics(clf, df_test, target_test)\n",
    "    print('MSE test: {:.2f}, R^2 test: {:.2f}'.format(mse, r2)) "
   ]
  },
  {
   "cell_type": "code",
   "execution_count": 78,
   "metadata": {
    "collapsed": false
   },
   "outputs": [
    {
     "name": "stdout",
     "output_type": "stream",
     "text": [
      "features: ['RM', 'AGE', 'LSTAT']\n",
      "MSE train: 32.57 (+/- 0.47)\n",
      "MSE val: 23.04 (+/- 4.20)\n",
      "R^2 train: 0.63 (+/- 0.01)\n",
      "R^2 val: 0.68 (+/- 0.14)\n",
      "Num input features: 4\n",
      "MSE test: 20.88, R^2 test: 0.67\n"
     ]
    }
   ],
   "source": [
    "evaluate_df_features(df[['RM', 'AGE', 'LSTAT']], train_idx, test_idx)"
   ]
  },
  {
   "cell_type": "markdown",
   "metadata": {},
   "source": [
    "# 9. Try to add more features, report which features you added and what influence it had on the model performance.\n"
   ]
  },
  {
   "cell_type": "code",
   "execution_count": 91,
   "metadata": {
    "collapsed": false
   },
   "outputs": [
    {
     "name": "stdout",
     "output_type": "stream",
     "text": [
      "features: ['RM', 'AGE', 'LSTAT', 'PTRATIO']\n",
      "MSE train: 28.79 (+/- 0.86)\n",
      "MSE val: 22.93 (+/- 8.52)\n",
      "R^2 train: 0.67 (+/- 0.01)\n",
      "R^2 val: 0.69 (+/- 0.14)\n",
      "Num input features: 5\n",
      "MSE test: 17.12, R^2 test: 0.73\n"
     ]
    }
   ],
   "source": [
    "evaluate_df_features(df[['RM', 'AGE', 'LSTAT', 'PTRATIO']], train_idx, test_idx)"
   ]
  },
  {
   "cell_type": "markdown",
   "metadata": {},
   "source": [
    "Adding PTRATIO increases model performance."
   ]
  },
  {
   "cell_type": "code",
   "execution_count": 92,
   "metadata": {
    "collapsed": false
   },
   "outputs": [
    {
     "name": "stdout",
     "output_type": "stream",
     "text": [
      "features: ['RM', 'AGE', 'LSTAT', 'PTRATIO', 'NOX']\n",
      "MSE train: 28.53 (+/- 0.87)\n",
      "MSE val: 22.48 (+/- 8.51)\n",
      "R^2 train: 0.68 (+/- 0.01)\n",
      "R^2 val: 0.69 (+/- 0.14)\n",
      "Num input features: 6\n",
      "MSE test: 16.79, R^2 test: 0.73\n"
     ]
    }
   ],
   "source": [
    "evaluate_df_features(df[['RM', 'AGE', 'LSTAT', 'PTRATIO', 'NOX']], train_idx, test_idx)"
   ]
  },
  {
   "cell_type": "markdown",
   "metadata": {},
   "source": [
    "Adding NOX doesn't affect performance."
   ]
  },
  {
   "cell_type": "markdown",
   "metadata": {},
   "source": [
    "# 10. Polynomial features with normalization."
   ]
  },
  {
   "cell_type": "code",
   "execution_count": 93,
   "metadata": {
    "collapsed": false
   },
   "outputs": [
    {
     "name": "stdout",
     "output_type": "stream",
     "text": [
      "features: ['RM', 'AGE', 'LSTAT']\n",
      "MSE train: 19.16 (+/- 0.16)\n",
      "MSE val: 13.75 (+/- 1.35)\n",
      "R^2 train: 0.78 (+/- 0.00)\n",
      "R^2 val: 0.81 (+/- 0.03)\n",
      "Num input features: 10\n",
      "MSE test: 10.88, R^2 test: 0.83\n"
     ]
    }
   ],
   "source": [
    "evaluate_df_features(df_chosen, train_idx, test_idx, polynomial_features_degree=2)"
   ]
  },
  {
   "cell_type": "code",
   "execution_count": 94,
   "metadata": {
    "collapsed": false
   },
   "outputs": [
    {
     "name": "stdout",
     "output_type": "stream",
     "text": [
      "features: ['RM', 'AGE', 'LSTAT']\n",
      "MSE train: 17.22 (+/- 0.32)\n",
      "MSE val: 12.63 (+/- 2.94)\n",
      "R^2 train: 0.80 (+/- 0.00)\n",
      "R^2 val: 0.83 (+/- 0.03)\n",
      "Num input features: 20\n",
      "MSE test: 8.87, R^2 test: 0.86\n"
     ]
    }
   ],
   "source": [
    "evaluate_df_features(df_chosen, train_idx, test_idx, polynomial_features_degree=3)"
   ]
  },
  {
   "cell_type": "code",
   "execution_count": 95,
   "metadata": {
    "collapsed": false
   },
   "outputs": [
    {
     "name": "stdout",
     "output_type": "stream",
     "text": [
      "features: ['RM', 'AGE', 'LSTAT']\n",
      "MSE train: 16.85 (+/- 8.01)\n",
      "MSE val: 25.92 (+/- 31.48)\n",
      "R^2 train: 0.81 (+/- 0.09)\n",
      "R^2 val: 0.62 (+/- 0.57)\n",
      "Num input features: 56\n",
      "MSE test: 10.97, R^2 test: 0.82\n"
     ]
    }
   ],
   "source": [
    "evaluate_df_features(df_chosen, train_idx, test_idx, polynomial_features_degree=5)"
   ]
  },
  {
   "cell_type": "code",
   "execution_count": 96,
   "metadata": {
    "collapsed": false
   },
   "outputs": [
    {
     "name": "stdout",
     "output_type": "stream",
     "text": [
      "features: ['RM', 'AGE', 'LSTAT']\n",
      "MSE train: 15.33 (+/- 9.85)\n",
      "MSE val: 219.26 (+/- 485.68)\n",
      "R^2 train: 0.83 (+/- 0.11)\n",
      "R^2 val: -2.43 (+/- 8.07)\n",
      "Num input features: 120\n",
      "MSE test: 82.35, R^2 test: -0.32\n"
     ]
    }
   ],
   "source": [
    "evaluate_df_features(df_chosen, train_idx, test_idx, polynomial_features_degree=7)"
   ]
  },
  {
   "cell_type": "markdown",
   "metadata": {},
   "source": [
    "Increasing polynomial features degree impoves model perfomance on the training set. For degree=3 performance on the validation set is the best."
   ]
  },
  {
   "cell_type": "markdown",
   "metadata": {},
   "source": [
    "# 11. Polynomial features without normalization."
   ]
  },
  {
   "cell_type": "code",
   "execution_count": 97,
   "metadata": {
    "collapsed": false
   },
   "outputs": [
    {
     "name": "stdout",
     "output_type": "stream",
     "text": [
      "features: ['RM', 'AGE', 'LSTAT']\n",
      "MSE train: 19.16 (+/- 0.16)\n",
      "MSE val: 13.75 (+/- 1.35)\n",
      "R^2 train: 0.78 (+/- 0.00)\n",
      "R^2 val: 0.81 (+/- 0.03)\n",
      "Num input features: 10\n",
      "MSE test: 10.88, R^2 test: 0.83\n"
     ]
    }
   ],
   "source": [
    "evaluate_df_features(df_chosen, train_idx, test_idx, polynomial_features_degree=2, normalize=False)"
   ]
  },
  {
   "cell_type": "code",
   "execution_count": 98,
   "metadata": {
    "collapsed": false
   },
   "outputs": [
    {
     "name": "stdout",
     "output_type": "stream",
     "text": [
      "features: ['RM', 'AGE', 'LSTAT']\n",
      "MSE train: 14.15 (+/- 0.54)\n",
      "MSE val: 18.97 (+/- 11.82)\n",
      "R^2 train: 0.84 (+/- 0.00)\n",
      "R^2 val: 0.73 (+/- 0.24)\n",
      "Num input features: 56\n",
      "MSE test: 10.99, R^2 test: 0.82\n"
     ]
    }
   ],
   "source": [
    "evaluate_df_features(df_chosen, train_idx, test_idx, polynomial_features_degree=5, normalize=False)"
   ]
  },
  {
   "cell_type": "code",
   "execution_count": 99,
   "metadata": {
    "collapsed": false
   },
   "outputs": [
    {
     "name": "stdout",
     "output_type": "stream",
     "text": [
      "features: ['RM', 'AGE', 'LSTAT']\n",
      "MSE train: 12.81 (+/- 1.67)\n",
      "MSE val: 124.46 (+/- 276.47)\n",
      "R^2 train: 0.85 (+/- 0.01)\n",
      "R^2 val: -0.95 (+/- 4.59)\n",
      "Num input features: 120\n",
      "MSE test: 11.09, R^2 test: 0.82\n"
     ]
    }
   ],
   "source": [
    "evaluate_df_features(df_chosen, train_idx, test_idx, polynomial_features_degree=7, normalize=False)"
   ]
  },
  {
   "cell_type": "markdown",
   "metadata": {},
   "source": [
    "# 12. Make some more features from existing features"
   ]
  },
  {
   "cell_type": "code",
   "execution_count": 100,
   "metadata": {
    "collapsed": false
   },
   "outputs": [],
   "source": [
    "df['LSTAT_SQ'] = df['LSTAT'] * df['LSTAT']\n",
    "df['DIS_LOG'] = np.log(df['DIS'])\n",
    "df['CRIM_LOG'] = np.log(df['CRIM'])"
   ]
  },
  {
   "cell_type": "code",
   "execution_count": 82,
   "metadata": {
    "collapsed": false
   },
   "outputs": [
    {
     "name": "stdout",
     "output_type": "stream",
     "text": [
      "features: ['RM', 'AGE', 'LSTAT', 'LSTAT_SQ']\n",
      "MSE train: 25.94 (+/- 0.39)\n",
      "MSE val: 16.29 (+/- 3.44)\n",
      "R^2 train: 0.70 (+/- 0.00)\n",
      "R^2 val: 0.78 (+/- 0.02)\n",
      "Num input features: 5\n",
      "MSE test: 17.51, R^2 test: 0.72\n"
     ]
    }
   ],
   "source": [
    "evaluate_df_features(df[['RM', 'AGE', 'LSTAT', 'LSTAT_SQ']], train_idx, test_idx)"
   ]
  },
  {
   "cell_type": "code",
   "execution_count": 84,
   "metadata": {
    "collapsed": false
   },
   "outputs": [
    {
     "name": "stdout",
     "output_type": "stream",
     "text": [
      "features: ['RM', 'AGE', 'LSTAT', 'LSTAT_SQ', 'DIS']\n",
      "MSE train: 25.09 (+/- 0.27)\n",
      "MSE val: 15.74 (+/- 2.28)\n",
      "R^2 train: 0.71 (+/- 0.00)\n",
      "R^2 val: 0.79 (+/- 0.03)\n",
      "Num input features: 6\n",
      "MSE test: 18.74, R^2 test: 0.70\n"
     ]
    }
   ],
   "source": [
    "evaluate_df_features(df[['RM', 'AGE', 'LSTAT', 'LSTAT_SQ', 'DIS']], train_idx, test_idx)"
   ]
  },
  {
   "cell_type": "code",
   "execution_count": 86,
   "metadata": {
    "collapsed": false
   },
   "outputs": [
    {
     "name": "stdout",
     "output_type": "stream",
     "text": [
      "features: ['RM', 'AGE', 'LSTAT', 'LSTAT_SQ', 'DIS', 'DIS_LOG']\n",
      "MSE train: 25.03 (+/- 0.23)\n",
      "MSE val: 15.92 (+/- 1.83)\n",
      "R^2 train: 0.71 (+/- 0.01)\n",
      "R^2 val: 0.79 (+/- 0.04)\n",
      "Num input features: 7\n",
      "MSE test: 19.19, R^2 test: 0.69\n"
     ]
    }
   ],
   "source": [
    "evaluate_df_features(df[['RM', 'AGE', 'LSTAT', 'LSTAT_SQ', 'DIS', 'DIS_LOG']], train_idx, test_idx)"
   ]
  },
  {
   "cell_type": "code",
   "execution_count": 88,
   "metadata": {
    "collapsed": false
   },
   "outputs": [
    {
     "name": "stdout",
     "output_type": "stream",
     "text": [
      "features: ['RM', 'AGE', 'LSTAT', 'LSTAT_SQ', 'DIS', 'DIS_LOG', 'CRIM']\n",
      "MSE train: 23.19 (+/- 0.14)\n",
      "MSE val: 14.94 (+/- 1.07)\n",
      "R^2 train: 0.74 (+/- 0.01)\n",
      "R^2 val: 0.80 (+/- 0.06)\n",
      "Num input features: 8\n",
      "MSE test: 17.59, R^2 test: 0.72\n"
     ]
    }
   ],
   "source": [
    "evaluate_df_features(df[['RM', 'AGE', 'LSTAT', 'LSTAT_SQ', 'DIS', 'DIS_LOG', 'CRIM']], train_idx, test_idx)"
   ]
  },
  {
   "cell_type": "code",
   "execution_count": 89,
   "metadata": {
    "collapsed": false
   },
   "outputs": [
    {
     "name": "stdout",
     "output_type": "stream",
     "text": [
      "features: ['RM', 'AGE', 'LSTAT', 'LSTAT_SQ', 'DIS', 'DIS_LOG', 'CRIM', 'CRIM_LOG']\n",
      "MSE train: 23.13 (+/- 0.19)\n",
      "MSE val: 15.16 (+/- 1.65)\n",
      "R^2 train: 0.74 (+/- 0.01)\n",
      "R^2 val: 0.79 (+/- 0.07)\n",
      "Num input features: 9\n",
      "MSE test: 17.61, R^2 test: 0.72\n"
     ]
    }
   ],
   "source": [
    "evaluate_df_features(df[['RM', 'AGE', 'LSTAT', 'LSTAT_SQ', 'DIS', 'DIS_LOG', 'CRIM_LOG']], train_idx, test_idx)"
   ]
  }
 ],
 "metadata": {
  "kernelspec": {
   "display_name": "Python 3",
   "language": "python",
   "name": "python3"
  },
  "language_info": {
   "codemirror_mode": {
    "name": "ipython",
    "version": 3
   },
   "file_extension": ".py",
   "mimetype": "text/x-python",
   "name": "python",
   "nbconvert_exporter": "python",
   "pygments_lexer": "ipython3",
   "version": "3.5.2"
  }
 },
 "nbformat": 4,
 "nbformat_minor": 0
}
